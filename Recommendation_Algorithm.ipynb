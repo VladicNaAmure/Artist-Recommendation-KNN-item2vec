{
  "nbformat": 4,
  "nbformat_minor": 0,
  "metadata": {
    "colab": {
      "name": "RecommendationAlgorithm.ipynb",
      "provenance": [],
      "collapsed_sections": [
        "f_1VILaWhmou",
        "RPZVVg3Ph0ne"
      ],
      "toc_visible": true
    },
    "kernelspec": {
      "name": "python3",
      "display_name": "Python 3"
    },
    "accelerator": "GPU"
  },
  "cells": [
    {
      "cell_type": "markdown",
      "metadata": {
        "id": "qhBcCw7ehhQ_",
        "colab_type": "text"
      },
      "source": [
        "# Настройка\n",
        "\n",
        "\n",
        "---\n",
        "**Содержание:**\n",
        "\n",
        "\n",
        "> Протокол оценки качества\n",
        "\n",
        ">> Применение дополнительной информации из данных\n",
        "\n",
        ">>> Baseline модель для дополнительных данных (Модель Ensemble + OneVsRestClassifier)\n",
        "\n",
        ">>>> Модель для положительных вариантов\n",
        "\n",
        ">>>>> Анализ данных\n",
        "\n",
        ">>>> Модель для отрицательных вариантов\n",
        "\n",
        ">>>>> Анализ данных\n",
        "\n",
        ">>>> Результат\n",
        "\n",
        "> Методы для построения векторных представлений\n",
        "\n",
        ">> Подготовка тренировочных и тестовых данных\n",
        "\n",
        ">> Тренировочные и тестовые данные\n",
        "\n",
        ">> Baseline модель KNN\n",
        "\n",
        ">>> Подготовка данных\n",
        "\n",
        ">>> Обучение модели KNN\n",
        "\n",
        ">>> Экспериментальная часть\n",
        "\n",
        ">>>> Подготовка строки данных\n",
        "\n",
        ">>>> Предсказание\n",
        "\n",
        ">> Сложная модель item2vec\n",
        "\n",
        ">>> Обучение модели по гиперпараметрам\n",
        "\n",
        ">> Экспериментальная часть\n",
        "\n",
        ">>> Тренировочные и тестовые данные\n",
        "\n",
        ">>> Обучение модели по гиперпараметрам\n",
        "\n",
        "> Оценка модели\n",
        "\n",
        ">> Статистическая оценка\n",
        "\n",
        ">> Результативная оценка\n",
        "---\n",
        "\n",
        "**Примечание:** \n",
        "\n",
        "Данные. 30Music Dataset.\n",
        "\n",
        "Часть 1. Подготовка данных. Конвертация idomaar. \n",
        "\n",
        "Часть 2. Recomdendation Artist. "
      ]
    },
    {
      "cell_type": "code",
      "metadata": {
        "id": "UDDZqHzz-iQa",
        "colab_type": "code",
        "colab": {
          "base_uri": "https://localhost:8080/",
          "height": 204
        },
        "outputId": "a9c890db-ccb1-4203-9762-c8d1f19ef9ac"
      },
      "source": [
        "!unzip /content/data_set.zip"
      ],
      "execution_count": 9,
      "outputs": [
        {
          "output_type": "stream",
          "text": [
            "Archive:  /content/data_set.zip\n",
            "  inflating: id_recomended.csv       \n",
            "  inflating: __MACOSX/._id_recomended.csv  \n",
            "  inflating: persons.csv             \n",
            "  inflating: __MACOSX/._persons.csv  \n",
            "  inflating: artist_user.csv         \n",
            "  inflating: __MACOSX/._artist_user.csv  \n",
            "  inflating: users.csv               \n",
            "  inflating: __MACOSX/._users.csv    \n",
            "  inflating: id_non_recomended.csv   \n",
            "  inflating: __MACOSX/._id_non_recomended.csv  \n"
          ],
          "name": "stdout"
        }
      ]
    },
    {
      "cell_type": "code",
      "metadata": {
        "id": "2VRRWUS9zGu-",
        "colab_type": "code",
        "colab": {
          "base_uri": "https://localhost:8080/",
          "height": 173
        },
        "outputId": "c9b5bfd6-d2d9-48b9-c209-9559692cc69c"
      },
      "source": [
        "!unzip /content/item2vec_advance_rating_size300.zip"
      ],
      "execution_count": 10,
      "outputs": [
        {
          "output_type": "stream",
          "text": [
            "Archive:  /content/item2vec_advance_rating_size300.zip\n",
            "   creating: item2vec_advance_rating_size300/\n",
            "  inflating: item2vec_advance_rating_size300/item2vec_202006_3.wv.vectors.npy  \n",
            "  inflating: __MACOSX/item2vec_advance_rating_size300/._item2vec_202006_3.wv.vectors.npy  \n",
            "  inflating: item2vec_advance_rating_size300/item2vec_202006_3  \n",
            "  inflating: __MACOSX/item2vec_advance_rating_size300/._item2vec_202006_3  \n",
            "  inflating: item2vec_advance_rating_size300/item2vec_202006_3.trainables.syn1neg.npy  \n",
            "  inflating: __MACOSX/item2vec_advance_rating_size300/._item2vec_202006_3.trainables.syn1neg.npy  \n"
          ],
          "name": "stdout"
        }
      ]
    },
    {
      "cell_type": "code",
      "metadata": {
        "id": "kunZb9V0W1VR",
        "colab_type": "code",
        "colab": {
          "base_uri": "https://localhost:8080/",
          "height": 34
        },
        "outputId": "e5da2b7a-d91f-4b84-9906-ce7ce1dabd3a"
      },
      "source": [
        "#Проверим подключение gpu\n",
        "import tensorflow as tf\n",
        "print(tf.test.gpu_device_name())"
      ],
      "execution_count": 1,
      "outputs": [
        {
          "output_type": "stream",
          "text": [
            "/device:GPU:0\n"
          ],
          "name": "stdout"
        }
      ]
    },
    {
      "cell_type": "code",
      "metadata": {
        "id": "W5lyREgEdpcZ",
        "colab_type": "code",
        "colab": {
          "base_uri": "https://localhost:8080/",
          "height": 34
        },
        "outputId": "a449c31c-103a-4b1c-8d97-8fa284592116"
      },
      "source": [
        "#Проверим тип процессора\n",
        "import torch\n",
        "print(torch.cuda.get_device_name(0))"
      ],
      "execution_count": null,
      "outputs": [
        {
          "output_type": "stream",
          "text": [
            "Tesla T4\n"
          ],
          "name": "stdout"
        }
      ]
    },
    {
      "cell_type": "code",
      "metadata": {
        "id": "uExdB9KTZZLl",
        "colab_type": "code",
        "colab": {
          "base_uri": "https://localhost:8080/",
          "height": 816
        },
        "outputId": "05740dc2-c713-4e3f-9d2f-d7d214cda786"
      },
      "source": [
        "#Колличество оперативки\n",
        "!cat /proc/meminfo"
      ],
      "execution_count": 2,
      "outputs": [
        {
          "output_type": "stream",
          "text": [
            "MemTotal:       13333556 kB\n",
            "MemFree:        10259968 kB\n",
            "MemAvailable:   12392944 kB\n",
            "Buffers:           71536 kB\n",
            "Cached:          2172192 kB\n",
            "SwapCached:            0 kB\n",
            "Active:           810116 kB\n",
            "Inactive:        1988312 kB\n",
            "Active(anon):     490096 kB\n",
            "Inactive(anon):      312 kB\n",
            "Active(file):     320020 kB\n",
            "Inactive(file):  1988000 kB\n",
            "Unevictable:           0 kB\n",
            "Mlocked:               0 kB\n",
            "SwapTotal:             0 kB\n",
            "SwapFree:              0 kB\n",
            "Dirty:              5468 kB\n",
            "Writeback:             0 kB\n",
            "AnonPages:        554712 kB\n",
            "Mapped:           339632 kB\n",
            "Shmem:               904 kB\n",
            "Slab:             168028 kB\n",
            "SReclaimable:     131708 kB\n",
            "SUnreclaim:        36320 kB\n",
            "KernelStack:        3520 kB\n",
            "PageTables:         6324 kB\n",
            "NFS_Unstable:          0 kB\n",
            "Bounce:                0 kB\n",
            "WritebackTmp:          0 kB\n",
            "CommitLimit:     6666776 kB\n",
            "Committed_AS:    2709004 kB\n",
            "VmallocTotal:   34359738367 kB\n",
            "VmallocUsed:           0 kB\n",
            "VmallocChunk:          0 kB\n",
            "Percpu:              920 kB\n",
            "AnonHugePages:         0 kB\n",
            "ShmemHugePages:        0 kB\n",
            "ShmemPmdMapped:        0 kB\n",
            "HugePages_Total:       0\n",
            "HugePages_Free:        0\n",
            "HugePages_Rsvd:        0\n",
            "HugePages_Surp:        0\n",
            "Hugepagesize:       2048 kB\n",
            "Hugetlb:               0 kB\n",
            "DirectMap4k:       72892 kB\n",
            "DirectMap2M:     6217728 kB\n",
            "DirectMap1G:     9437184 kB\n"
          ],
          "name": "stdout"
        }
      ]
    },
    {
      "cell_type": "code",
      "metadata": {
        "id": "Ab4P6qRpQ9hM",
        "colab_type": "code",
        "colab": {}
      },
      "source": [
        "#Для работы с данными\n",
        "import numpy as np\n",
        "import pandas as pd\n",
        "import matplotlib.pyplot as plt\n",
        "import ast, urllib\n",
        "from sklearn.model_selection import train_test_split\n",
        "\n",
        "%matplotlib inline"
      ],
      "execution_count": 3,
      "outputs": []
    },
    {
      "cell_type": "code",
      "metadata": {
        "id": "hLs6Yz0QhdZ3",
        "colab_type": "code",
        "colab": {}
      },
      "source": [
        "#Вaseline модели дополнительных данных\n",
        "#from sklearn.preprocessing import StandardScaler\n",
        "#from sklearn.decomposition import PCA\n",
        "#from sklearn.datasets import make_classification\n",
        "\n",
        "from sklearn.ensemble import ExtraTreesClassifier\n",
        "from sklearn.multiclass import OneVsRestClassifier\n",
        "from sklearn.ensemble import RandomForestClassifier\n",
        "from sklearn.metrics import confusion_matrix\n",
        "from sklearn.metrics import accuracy_score"
      ],
      "execution_count": 4,
      "outputs": []
    },
    {
      "cell_type": "code",
      "metadata": {
        "id": "1kSe6Qap8e7Q",
        "colab_type": "code",
        "colab": {
          "base_uri": "https://localhost:8080/",
          "height": 54
        },
        "outputId": "c56c59c9-7699-4848-b340-f96b5d87b17c"
      },
      "source": [
        "!pip install joblib"
      ],
      "execution_count": 5,
      "outputs": [
        {
          "output_type": "stream",
          "text": [
            "Requirement already satisfied: joblib in /usr/local/lib/python3.6/dist-packages (0.15.1)\n"
          ],
          "name": "stdout"
        }
      ]
    },
    {
      "cell_type": "code",
      "metadata": {
        "id": "C90ajkGr8kOL",
        "colab_type": "code",
        "colab": {}
      },
      "source": [
        "#KNN модели\n",
        "import joblib\n",
        "from scipy.sparse import csr_matrix\n",
        "from sklearn.neighbors import NearestNeighbors"
      ],
      "execution_count": 6,
      "outputs": []
    },
    {
      "cell_type": "code",
      "metadata": {
        "id": "0-vlD0OP31OK",
        "colab_type": "code",
        "colab": {}
      },
      "source": [
        "#item2vec модели\n",
        "import warnings\n",
        "import gensim\n",
        "import random\n",
        "from gensim.models import Word2Vec\n",
        "import datetime"
      ],
      "execution_count": 7,
      "outputs": []
    },
    {
      "cell_type": "markdown",
      "metadata": {
        "id": "f_1VILaWhmou",
        "colab_type": "text"
      },
      "source": [
        "# Протокол оценки качества"
      ]
    },
    {
      "cell_type": "markdown",
      "metadata": {
        "id": "n2SuVlLTntz6",
        "colab_type": "text"
      },
      "source": [
        "**Основная задача** - векторизовать музыкальных исполнителей, чтобы похожие авторы оказались ближе к другу в векторном пространстве, чем непохожие. \n",
        "\n",
        "Оценить реализованные модели, можно *количеством пересечений*, результатов по схожему запросу – результативный для решения задачи **Artist Recommendation** и преобладанию жанра большинства исполнителей. Жанр сравнивается, через данные об исполнителях из интернета.\n",
        "\n",
        "Статически оценим модели, при помощи *recall, precision, f1 score*.\n",
        "\n",
        "В классификации информации точность (*recall*) — это доля релевантных экземпляров среди найденных экземпляров, в то время как чувствительность (*precision*) — это доля общего количества соответствующих экземпляров. которые были фактически восстановлены. Поэтому точность и чувствительность основаны на понимании и степени релевантности.\n",
        "\n",
        "![alt text](https://upload.wikimedia.org/wikipedia/commons/2/26/Precisionrecall.svg)\n",
        "\n",
        "Предположим, что наш алгоритм Artist Recommendation идентифицирует 8 авторов как ближайшее похожие, содержащей 12 похожих авторов и несколько не похожих. Из 8 идентифицированных как похожие 5 фактически являются похожими (истинные положительные результаты), в то время как остальные являются не похожими (ложные положительные результаты). Точность программы составляет 5/8, а ее чувствительность - 5/12. Когда рекомендательная система возвращает 30 рекомендаций, только 20 из которых были релевантными, но не возвращает 40 дополнительных релевантных рекомендаций, ее точность равна 20/30 = 2/3, а ее чувствительность - 20/60 = 1/3. Таким образом, в данном случае точность - это «насколько полезны результаты поиска», а чувствительность - «насколько полны результаты».\n",
        "\n",
        "*Оценка F1* — это среднее точности и чувствительности, где оценка F1 достигает своего лучшего значения в 1 (идеальная точность и чувствительность). \n",
        "![alt text](https://wikimedia.org/api/rest_v1/media/math/render/svg/3607c634303f2fd8b69ca4f9d97a491c45083cc5)\n"
      ]
    },
    {
      "cell_type": "markdown",
      "metadata": {
        "id": "RPZVVg3Ph0ne",
        "colab_type": "text"
      },
      "source": [
        "## Применение дополнительной информации из датасета."
      ]
    },
    {
      "cell_type": "code",
      "metadata": {
        "id": "gylZZWB9RQ12",
        "colab_type": "code",
        "colab": {}
      },
      "source": [
        "#import users data\n",
        "users = pd.read_csv('/content/users.csv')\n",
        "#drop column lastfm_username\n",
        "users = users.dropna().drop('lastfm_username', axis = 1)\n",
        "#age values from string to int\n",
        "users['age'] = users['age'].astype(int)\n",
        "#delete gender n - none\n",
        "users = users[users['gender'] != '\"n\"']"
      ],
      "execution_count": null,
      "outputs": []
    },
    {
      "cell_type": "code",
      "metadata": {
        "id": "snHQQo0xTGIt",
        "colab_type": "code",
        "colab": {
          "base_uri": "https://localhost:8080/",
          "height": 333
        },
        "outputId": "e3be449d-5158-45ff-a2d3-e97fe206aa78"
      },
      "source": [
        "#visualization gender - age\n",
        "users.groupby('gender').age.plot(kind='kde')"
      ],
      "execution_count": null,
      "outputs": [
        {
          "output_type": "execute_result",
          "data": {
            "text/plain": [
              "gender\n",
              "\"f\"    AxesSubplot(0.125,0.125;0.775x0.755)\n",
              "\"m\"    AxesSubplot(0.125,0.125;0.775x0.755)\n",
              "Name: age, dtype: object"
            ]
          },
          "metadata": {
            "tags": []
          },
          "execution_count": 5
        },
        {
          "output_type": "display_data",
          "data": {
            "image/png": "[encoded data removed]",
            "text/plain": [
              "<Figure size 432x288 with 1 Axes>"
            ]
          },
          "metadata": {
            "tags": [],
            "needs_background": "light"
          }
        }
      ]
    },
    {
      "cell_type": "code",
      "metadata": {
        "id": "5GbYt1AUaIkh",
        "colab_type": "code",
        "colab": {
          "base_uri": "https://localhost:8080/",
          "height": 34
        },
        "outputId": "16557f99-199a-442b-8883-e26793371115"
      },
      "source": [
        "print(\"female median \" + str(users[(users['gender'] == '\"f\"')]['age'].median()),\",male median \" + str(users[(users['gender'] == '\"m\"')]['age'].median()))"
      ],
      "execution_count": null,
      "outputs": [
        {
          "output_type": "stream",
          "text": [
            "female median 26.0 ,male median 29.0\n"
          ],
          "name": "stdout"
        }
      ]
    },
    {
      "cell_type": "code",
      "metadata": {
        "id": "3KPCIzJkbDnc",
        "colab_type": "code",
        "colab": {
          "base_uri": "https://localhost:8080/",
          "height": 221
        },
        "outputId": "d0847b6d-9568-46ed-af9c-b000b3e44664"
      },
      "source": [
        "#people from countries\n",
        "pd.get_dummies(users[['country']]).sum().sort_values(ascending=False)"
      ],
      "execution_count": null,
      "outputs": [
        {
          "output_type": "execute_result",
          "data": {
            "text/plain": [
              "country_\"US\"    6909\n",
              "country_\"UK\"    3046\n",
              "country_\"DE\"    2788\n",
              "country_\"BR\"    2151\n",
              "country_\"RU\"    1995\n",
              "                ... \n",
              "country_\"DJ\"       1\n",
              "country_\"ST\"       1\n",
              "country_\"TF\"       1\n",
              "country_\"TG\"       1\n",
              "country_\"RW\"       1\n",
              "Length: 193, dtype: int64"
            ]
          },
          "metadata": {
            "tags": []
          },
          "execution_count": 7
        }
      ]
    },
    {
      "cell_type": "code",
      "metadata": {
        "id": "LN6BDBHFe190",
        "colab_type": "code",
        "colab": {}
      },
      "source": [
        "#transfer gender to value\n",
        "users.loc[users['gender']=='\"f\"','gender'] = 1\n",
        "users.loc[users['gender']=='\"m\"','gender'] = 0"
      ],
      "execution_count": null,
      "outputs": []
    },
    {
      "cell_type": "code",
      "metadata": {
        "id": "VZr9htXjfOVB",
        "colab_type": "code",
        "colab": {}
      },
      "source": [
        "#transfer subscribertype to value\n",
        "users.loc[users['subscribertype'] == '\"base\"', 'subscribertype'] = 1\n",
        "users.loc[users['subscribertype'] == '\"premium\"', 'subscribertype'] = 0"
      ],
      "execution_count": null,
      "outputs": []
    },
    {
      "cell_type": "code",
      "metadata": {
        "id": "IBkzrcWXgCna",
        "colab_type": "code",
        "colab": {
          "base_uri": "https://localhost:8080/",
          "height": 34
        },
        "outputId": "43929b67-296f-4d32-b0ac-0847e9b7ddf1"
      },
      "source": [
        "#maybe drop country values or change to value\n",
        "users = pd.get_dummies(users).drop('gender_0',axis = 1).rename(columns = {'gender_1':'gender'}).drop('subscribertype_0',axis = 1).rename(columns = {'subscribertype_1':'subscribertype'})\n",
        "len(users)"
      ],
      "execution_count": null,
      "outputs": [
        {
          "output_type": "execute_result",
          "data": {
            "text/plain": [
              "31031"
            ]
          },
          "metadata": {
            "tags": []
          },
          "execution_count": 6
        }
      ]
    },
    {
      "cell_type": "code",
      "metadata": {
        "id": "l_I_i3XRgteK",
        "colab_type": "code",
        "colab": {
          "base_uri": "https://localhost:8080/",
          "height": 253
        },
        "outputId": "3734ea09-38bc-49ee-cf86-9a7f95c4a77e"
      },
      "source": [
        "users.head()"
      ],
      "execution_count": null,
      "outputs": [
        {
          "output_type": "execute_result",
          "data": {
            "text/html": [
              "<div>\n",
              "<style scoped>\n",
              "    .dataframe tbody tr th:only-of-type {\n",
              "        vertical-align: middle;\n",
              "    }\n",
              "\n",
              "    .dataframe tbody tr th {\n",
              "        vertical-align: top;\n",
              "    }\n",
              "\n",
              "    .dataframe thead th {\n",
              "        text-align: right;\n",
              "    }\n",
              "</style>\n",
              "<table border=\"1\" class=\"dataframe\">\n",
              "  <thead>\n",
              "    <tr style=\"text-align: right;\">\n",
              "      <th></th>\n",
              "      <th>age</th>\n",
              "      <th>playcount</th>\n",
              "      <th>playlists</th>\n",
              "      <th>ID</th>\n",
              "      <th>gender</th>\n",
              "      <th>country_\"AD\"</th>\n",
              "      <th>country_\"AE\"</th>\n",
              "      <th>country_\"AF\"</th>\n",
              "      <th>country_\"AL\"</th>\n",
              "      <th>country_\"AM\"</th>\n",
              "      <th>country_\"AN\"</th>\n",
              "      <th>country_\"AO\"</th>\n",
              "      <th>country_\"AQ\"</th>\n",
              "      <th>country_\"AR\"</th>\n",
              "      <th>country_\"AT\"</th>\n",
              "      <th>country_\"AU\"</th>\n",
              "      <th>country_\"AW\"</th>\n",
              "      <th>country_\"AZ\"</th>\n",
              "      <th>country_\"BA\"</th>\n",
              "      <th>country_\"BB\"</th>\n",
              "      <th>country_\"BD\"</th>\n",
              "      <th>country_\"BE\"</th>\n",
              "      <th>country_\"BF\"</th>\n",
              "      <th>country_\"BG\"</th>\n",
              "      <th>country_\"BH\"</th>\n",
              "      <th>country_\"BI\"</th>\n",
              "      <th>country_\"BM\"</th>\n",
              "      <th>country_\"BN\"</th>\n",
              "      <th>country_\"BO\"</th>\n",
              "      <th>country_\"BR\"</th>\n",
              "      <th>country_\"BS\"</th>\n",
              "      <th>country_\"BT\"</th>\n",
              "      <th>country_\"BV\"</th>\n",
              "      <th>country_\"BY\"</th>\n",
              "      <th>country_\"CA\"</th>\n",
              "      <th>country_\"CC\"</th>\n",
              "      <th>country_\"CD\"</th>\n",
              "      <th>country_\"CG\"</th>\n",
              "      <th>country_\"CH\"</th>\n",
              "      <th>country_\"CI\"</th>\n",
              "      <th>...</th>\n",
              "      <th>country_\"SC\"</th>\n",
              "      <th>country_\"SE\"</th>\n",
              "      <th>country_\"SG\"</th>\n",
              "      <th>country_\"SH\"</th>\n",
              "      <th>country_\"SI\"</th>\n",
              "      <th>country_\"SJ\"</th>\n",
              "      <th>country_\"SK\"</th>\n",
              "      <th>country_\"SL\"</th>\n",
              "      <th>country_\"SN\"</th>\n",
              "      <th>country_\"ST\"</th>\n",
              "      <th>country_\"SV\"</th>\n",
              "      <th>country_\"SY\"</th>\n",
              "      <th>country_\"SZ\"</th>\n",
              "      <th>country_\"TF\"</th>\n",
              "      <th>country_\"TG\"</th>\n",
              "      <th>country_\"TH\"</th>\n",
              "      <th>country_\"TK\"</th>\n",
              "      <th>country_\"TN\"</th>\n",
              "      <th>country_\"TR\"</th>\n",
              "      <th>country_\"TT\"</th>\n",
              "      <th>country_\"TV\"</th>\n",
              "      <th>country_\"TW\"</th>\n",
              "      <th>country_\"UA\"</th>\n",
              "      <th>country_\"UG\"</th>\n",
              "      <th>country_\"UK\"</th>\n",
              "      <th>country_\"UM\"</th>\n",
              "      <th>country_\"US\"</th>\n",
              "      <th>country_\"UY\"</th>\n",
              "      <th>country_\"UZ\"</th>\n",
              "      <th>country_\"VA\"</th>\n",
              "      <th>country_\"VE\"</th>\n",
              "      <th>country_\"VG\"</th>\n",
              "      <th>country_\"VI\"</th>\n",
              "      <th>country_\"VN\"</th>\n",
              "      <th>country_\"VU\"</th>\n",
              "      <th>country_\"WF\"</th>\n",
              "      <th>country_\"YE\"</th>\n",
              "      <th>country_\"ZA\"</th>\n",
              "      <th>country_\"ZW\"</th>\n",
              "      <th>subscribertype</th>\n",
              "    </tr>\n",
              "  </thead>\n",
              "  <tbody>\n",
              "    <tr>\n",
              "      <th>0</th>\n",
              "      <td>24</td>\n",
              "      <td>221012</td>\n",
              "      <td>2</td>\n",
              "      <td>1</td>\n",
              "      <td>1</td>\n",
              "      <td>0</td>\n",
              "      <td>0</td>\n",
              "      <td>0</td>\n",
              "      <td>0</td>\n",
              "      <td>0</td>\n",
              "      <td>0</td>\n",
              "      <td>0</td>\n",
              "      <td>0</td>\n",
              "      <td>0</td>\n",
              "      <td>0</td>\n",
              "      <td>0</td>\n",
              "      <td>0</td>\n",
              "      <td>0</td>\n",
              "      <td>0</td>\n",
              "      <td>0</td>\n",
              "      <td>0</td>\n",
              "      <td>0</td>\n",
              "      <td>0</td>\n",
              "      <td>0</td>\n",
              "      <td>0</td>\n",
              "      <td>0</td>\n",
              "      <td>0</td>\n",
              "      <td>0</td>\n",
              "      <td>0</td>\n",
              "      <td>0</td>\n",
              "      <td>0</td>\n",
              "      <td>0</td>\n",
              "      <td>0</td>\n",
              "      <td>0</td>\n",
              "      <td>0</td>\n",
              "      <td>0</td>\n",
              "      <td>0</td>\n",
              "      <td>0</td>\n",
              "      <td>0</td>\n",
              "      <td>0</td>\n",
              "      <td>...</td>\n",
              "      <td>0</td>\n",
              "      <td>0</td>\n",
              "      <td>0</td>\n",
              "      <td>0</td>\n",
              "      <td>0</td>\n",
              "      <td>0</td>\n",
              "      <td>0</td>\n",
              "      <td>0</td>\n",
              "      <td>0</td>\n",
              "      <td>0</td>\n",
              "      <td>0</td>\n",
              "      <td>0</td>\n",
              "      <td>0</td>\n",
              "      <td>0</td>\n",
              "      <td>0</td>\n",
              "      <td>0</td>\n",
              "      <td>0</td>\n",
              "      <td>0</td>\n",
              "      <td>0</td>\n",
              "      <td>0</td>\n",
              "      <td>0</td>\n",
              "      <td>0</td>\n",
              "      <td>0</td>\n",
              "      <td>0</td>\n",
              "      <td>0</td>\n",
              "      <td>0</td>\n",
              "      <td>1</td>\n",
              "      <td>0</td>\n",
              "      <td>0</td>\n",
              "      <td>0</td>\n",
              "      <td>0</td>\n",
              "      <td>0</td>\n",
              "      <td>0</td>\n",
              "      <td>0</td>\n",
              "      <td>0</td>\n",
              "      <td>0</td>\n",
              "      <td>0</td>\n",
              "      <td>0</td>\n",
              "      <td>0</td>\n",
              "      <td>1</td>\n",
              "    </tr>\n",
              "    <tr>\n",
              "      <th>1</th>\n",
              "      <td>39</td>\n",
              "      <td>217535</td>\n",
              "      <td>9</td>\n",
              "      <td>2</td>\n",
              "      <td>0</td>\n",
              "      <td>0</td>\n",
              "      <td>0</td>\n",
              "      <td>0</td>\n",
              "      <td>0</td>\n",
              "      <td>0</td>\n",
              "      <td>0</td>\n",
              "      <td>0</td>\n",
              "      <td>0</td>\n",
              "      <td>0</td>\n",
              "      <td>0</td>\n",
              "      <td>0</td>\n",
              "      <td>0</td>\n",
              "      <td>0</td>\n",
              "      <td>0</td>\n",
              "      <td>0</td>\n",
              "      <td>0</td>\n",
              "      <td>0</td>\n",
              "      <td>0</td>\n",
              "      <td>0</td>\n",
              "      <td>0</td>\n",
              "      <td>0</td>\n",
              "      <td>0</td>\n",
              "      <td>0</td>\n",
              "      <td>0</td>\n",
              "      <td>0</td>\n",
              "      <td>0</td>\n",
              "      <td>0</td>\n",
              "      <td>0</td>\n",
              "      <td>0</td>\n",
              "      <td>0</td>\n",
              "      <td>0</td>\n",
              "      <td>0</td>\n",
              "      <td>0</td>\n",
              "      <td>0</td>\n",
              "      <td>0</td>\n",
              "      <td>...</td>\n",
              "      <td>0</td>\n",
              "      <td>0</td>\n",
              "      <td>0</td>\n",
              "      <td>0</td>\n",
              "      <td>0</td>\n",
              "      <td>0</td>\n",
              "      <td>0</td>\n",
              "      <td>0</td>\n",
              "      <td>0</td>\n",
              "      <td>0</td>\n",
              "      <td>0</td>\n",
              "      <td>0</td>\n",
              "      <td>0</td>\n",
              "      <td>0</td>\n",
              "      <td>0</td>\n",
              "      <td>0</td>\n",
              "      <td>0</td>\n",
              "      <td>0</td>\n",
              "      <td>0</td>\n",
              "      <td>0</td>\n",
              "      <td>0</td>\n",
              "      <td>0</td>\n",
              "      <td>0</td>\n",
              "      <td>0</td>\n",
              "      <td>0</td>\n",
              "      <td>0</td>\n",
              "      <td>0</td>\n",
              "      <td>0</td>\n",
              "      <td>0</td>\n",
              "      <td>0</td>\n",
              "      <td>0</td>\n",
              "      <td>0</td>\n",
              "      <td>0</td>\n",
              "      <td>0</td>\n",
              "      <td>0</td>\n",
              "      <td>0</td>\n",
              "      <td>0</td>\n",
              "      <td>0</td>\n",
              "      <td>0</td>\n",
              "      <td>1</td>\n",
              "    </tr>\n",
              "    <tr>\n",
              "      <th>3</th>\n",
              "      <td>32</td>\n",
              "      <td>168054</td>\n",
              "      <td>2</td>\n",
              "      <td>4</td>\n",
              "      <td>0</td>\n",
              "      <td>0</td>\n",
              "      <td>0</td>\n",
              "      <td>0</td>\n",
              "      <td>0</td>\n",
              "      <td>0</td>\n",
              "      <td>0</td>\n",
              "      <td>0</td>\n",
              "      <td>0</td>\n",
              "      <td>0</td>\n",
              "      <td>0</td>\n",
              "      <td>0</td>\n",
              "      <td>0</td>\n",
              "      <td>0</td>\n",
              "      <td>0</td>\n",
              "      <td>0</td>\n",
              "      <td>0</td>\n",
              "      <td>0</td>\n",
              "      <td>0</td>\n",
              "      <td>0</td>\n",
              "      <td>0</td>\n",
              "      <td>0</td>\n",
              "      <td>0</td>\n",
              "      <td>0</td>\n",
              "      <td>0</td>\n",
              "      <td>0</td>\n",
              "      <td>0</td>\n",
              "      <td>0</td>\n",
              "      <td>0</td>\n",
              "      <td>0</td>\n",
              "      <td>0</td>\n",
              "      <td>0</td>\n",
              "      <td>0</td>\n",
              "      <td>0</td>\n",
              "      <td>0</td>\n",
              "      <td>0</td>\n",
              "      <td>...</td>\n",
              "      <td>0</td>\n",
              "      <td>0</td>\n",
              "      <td>0</td>\n",
              "      <td>0</td>\n",
              "      <td>0</td>\n",
              "      <td>0</td>\n",
              "      <td>0</td>\n",
              "      <td>0</td>\n",
              "      <td>0</td>\n",
              "      <td>0</td>\n",
              "      <td>0</td>\n",
              "      <td>0</td>\n",
              "      <td>0</td>\n",
              "      <td>0</td>\n",
              "      <td>0</td>\n",
              "      <td>0</td>\n",
              "      <td>0</td>\n",
              "      <td>0</td>\n",
              "      <td>0</td>\n",
              "      <td>0</td>\n",
              "      <td>0</td>\n",
              "      <td>0</td>\n",
              "      <td>0</td>\n",
              "      <td>0</td>\n",
              "      <td>0</td>\n",
              "      <td>0</td>\n",
              "      <td>0</td>\n",
              "      <td>0</td>\n",
              "      <td>0</td>\n",
              "      <td>0</td>\n",
              "      <td>0</td>\n",
              "      <td>0</td>\n",
              "      <td>0</td>\n",
              "      <td>0</td>\n",
              "      <td>0</td>\n",
              "      <td>0</td>\n",
              "      <td>0</td>\n",
              "      <td>0</td>\n",
              "      <td>0</td>\n",
              "      <td>1</td>\n",
              "    </tr>\n",
              "    <tr>\n",
              "      <th>4</th>\n",
              "      <td>23</td>\n",
              "      <td>45700</td>\n",
              "      <td>2</td>\n",
              "      <td>5</td>\n",
              "      <td>0</td>\n",
              "      <td>0</td>\n",
              "      <td>0</td>\n",
              "      <td>0</td>\n",
              "      <td>0</td>\n",
              "      <td>0</td>\n",
              "      <td>0</td>\n",
              "      <td>0</td>\n",
              "      <td>0</td>\n",
              "      <td>0</td>\n",
              "      <td>0</td>\n",
              "      <td>0</td>\n",
              "      <td>0</td>\n",
              "      <td>0</td>\n",
              "      <td>0</td>\n",
              "      <td>0</td>\n",
              "      <td>0</td>\n",
              "      <td>0</td>\n",
              "      <td>0</td>\n",
              "      <td>0</td>\n",
              "      <td>0</td>\n",
              "      <td>0</td>\n",
              "      <td>0</td>\n",
              "      <td>0</td>\n",
              "      <td>0</td>\n",
              "      <td>0</td>\n",
              "      <td>0</td>\n",
              "      <td>0</td>\n",
              "      <td>0</td>\n",
              "      <td>0</td>\n",
              "      <td>0</td>\n",
              "      <td>0</td>\n",
              "      <td>0</td>\n",
              "      <td>0</td>\n",
              "      <td>0</td>\n",
              "      <td>0</td>\n",
              "      <td>...</td>\n",
              "      <td>0</td>\n",
              "      <td>0</td>\n",
              "      <td>0</td>\n",
              "      <td>0</td>\n",
              "      <td>0</td>\n",
              "      <td>0</td>\n",
              "      <td>0</td>\n",
              "      <td>0</td>\n",
              "      <td>0</td>\n",
              "      <td>0</td>\n",
              "      <td>0</td>\n",
              "      <td>0</td>\n",
              "      <td>0</td>\n",
              "      <td>0</td>\n",
              "      <td>0</td>\n",
              "      <td>0</td>\n",
              "      <td>0</td>\n",
              "      <td>0</td>\n",
              "      <td>0</td>\n",
              "      <td>0</td>\n",
              "      <td>0</td>\n",
              "      <td>0</td>\n",
              "      <td>0</td>\n",
              "      <td>0</td>\n",
              "      <td>1</td>\n",
              "      <td>0</td>\n",
              "      <td>0</td>\n",
              "      <td>0</td>\n",
              "      <td>0</td>\n",
              "      <td>0</td>\n",
              "      <td>0</td>\n",
              "      <td>0</td>\n",
              "      <td>0</td>\n",
              "      <td>0</td>\n",
              "      <td>0</td>\n",
              "      <td>0</td>\n",
              "      <td>0</td>\n",
              "      <td>0</td>\n",
              "      <td>0</td>\n",
              "      <td>1</td>\n",
              "    </tr>\n",
              "    <tr>\n",
              "      <th>6</th>\n",
              "      <td>48</td>\n",
              "      <td>3869</td>\n",
              "      <td>7</td>\n",
              "      <td>7</td>\n",
              "      <td>0</td>\n",
              "      <td>0</td>\n",
              "      <td>0</td>\n",
              "      <td>0</td>\n",
              "      <td>0</td>\n",
              "      <td>0</td>\n",
              "      <td>0</td>\n",
              "      <td>0</td>\n",
              "      <td>0</td>\n",
              "      <td>0</td>\n",
              "      <td>0</td>\n",
              "      <td>0</td>\n",
              "      <td>0</td>\n",
              "      <td>0</td>\n",
              "      <td>0</td>\n",
              "      <td>0</td>\n",
              "      <td>0</td>\n",
              "      <td>0</td>\n",
              "      <td>0</td>\n",
              "      <td>0</td>\n",
              "      <td>0</td>\n",
              "      <td>0</td>\n",
              "      <td>0</td>\n",
              "      <td>0</td>\n",
              "      <td>0</td>\n",
              "      <td>0</td>\n",
              "      <td>0</td>\n",
              "      <td>0</td>\n",
              "      <td>0</td>\n",
              "      <td>0</td>\n",
              "      <td>0</td>\n",
              "      <td>0</td>\n",
              "      <td>0</td>\n",
              "      <td>0</td>\n",
              "      <td>0</td>\n",
              "      <td>0</td>\n",
              "      <td>...</td>\n",
              "      <td>0</td>\n",
              "      <td>0</td>\n",
              "      <td>0</td>\n",
              "      <td>0</td>\n",
              "      <td>0</td>\n",
              "      <td>0</td>\n",
              "      <td>0</td>\n",
              "      <td>0</td>\n",
              "      <td>0</td>\n",
              "      <td>0</td>\n",
              "      <td>0</td>\n",
              "      <td>0</td>\n",
              "      <td>0</td>\n",
              "      <td>0</td>\n",
              "      <td>0</td>\n",
              "      <td>0</td>\n",
              "      <td>0</td>\n",
              "      <td>0</td>\n",
              "      <td>0</td>\n",
              "      <td>0</td>\n",
              "      <td>0</td>\n",
              "      <td>0</td>\n",
              "      <td>0</td>\n",
              "      <td>0</td>\n",
              "      <td>1</td>\n",
              "      <td>0</td>\n",
              "      <td>0</td>\n",
              "      <td>0</td>\n",
              "      <td>0</td>\n",
              "      <td>0</td>\n",
              "      <td>0</td>\n",
              "      <td>0</td>\n",
              "      <td>0</td>\n",
              "      <td>0</td>\n",
              "      <td>0</td>\n",
              "      <td>0</td>\n",
              "      <td>0</td>\n",
              "      <td>0</td>\n",
              "      <td>0</td>\n",
              "      <td>1</td>\n",
              "    </tr>\n",
              "  </tbody>\n",
              "</table>\n",
              "<p>5 rows × 199 columns</p>\n",
              "</div>"
            ],
            "text/plain": [
              "   age  playcount  playlists  ...  country_\"ZA\"  country_\"ZW\"  subscribertype\n",
              "0   24     221012          2  ...             0             0               1\n",
              "1   39     217535          9  ...             0             0               1\n",
              "3   32     168054          2  ...             0             0               1\n",
              "4   23      45700          2  ...             0             0               1\n",
              "6   48       3869          7  ...             0             0               1\n",
              "\n",
              "[5 rows x 199 columns]"
            ]
          },
          "metadata": {
            "tags": []
          },
          "execution_count": 7
        }
      ]
    },
    {
      "cell_type": "code",
      "metadata": {
        "id": "Nhrv0597T8tP",
        "colab_type": "code",
        "colab": {
          "base_uri": "https://localhost:8080/",
          "height": 102
        },
        "outputId": "8b56d593-7d70-4b48-ffc3-520c106b07c2"
      },
      "source": [
        "!unzip /content/authors_p_n.zip"
      ],
      "execution_count": null,
      "outputs": [
        {
          "output_type": "stream",
          "text": [
            "Archive:  /content/authors_p_n.zip\n",
            "  inflating: id_recomended.csv       \n",
            "  inflating: __MACOSX/._id_recomended.csv  \n",
            "  inflating: id_non_recomended.csv   \n",
            "  inflating: __MACOSX/._id_non_recomended.csv  \n"
          ],
          "name": "stdout"
        }
      ]
    },
    {
      "cell_type": "code",
      "metadata": {
        "id": "5IjeZ92_TYV3",
        "colab_type": "code",
        "colab": {}
      },
      "source": [
        "#import artist set full\n",
        "authors_positive = pd.read_csv('/content/id_recomended.csv')\n",
        "authors_negative = pd.read_csv('/content/id_non_recomended.csv')"
      ],
      "execution_count": null,
      "outputs": []
    },
    {
      "cell_type": "code",
      "metadata": {
        "id": "B28q0bPBiHQQ",
        "colab_type": "code",
        "colab": {}
      },
      "source": [
        "#combine information from users to artist \n",
        "users_positive = pd.merge(users,authors_positive, left_on='ID', right_on='User_ID')"
      ],
      "execution_count": null,
      "outputs": []
    },
    {
      "cell_type": "code",
      "metadata": {
        "id": "nA7HSNdylQ3_",
        "colab_type": "code",
        "colab": {}
      },
      "source": [
        "#split dublicate rows by User_ID and Author_ID\n",
        "users_positive = users_positive.drop_duplicates(subset=['User_ID', 'Author_ID_Recommended'])"
      ],
      "execution_count": null,
      "outputs": []
    },
    {
      "cell_type": "code",
      "metadata": {
        "id": "IGE-WPLdi4tT",
        "colab_type": "code",
        "colab": {
          "base_uri": "https://localhost:8080/",
          "height": 34
        },
        "outputId": "fd6b10ac-3d88-48df-80f9-241376f3eb63"
      },
      "source": [
        "#number rows\n",
        "len(users_positive)"
      ],
      "execution_count": null,
      "outputs": [
        {
          "output_type": "execute_result",
          "data": {
            "text/plain": [
              "2904846"
            ]
          },
          "metadata": {
            "tags": []
          },
          "execution_count": 12
        }
      ]
    },
    {
      "cell_type": "code",
      "metadata": {
        "id": "GHdKiHfEnFre",
        "colab_type": "code",
        "colab": {}
      },
      "source": [
        "#drop id\n",
        "users_positive = users_positive.drop('ID', axis = 1)"
      ],
      "execution_count": null,
      "outputs": []
    },
    {
      "cell_type": "code",
      "metadata": {
        "id": "XoQwgdZvcEj3",
        "colab_type": "code",
        "colab": {
          "base_uri": "https://localhost:8080/",
          "height": 253
        },
        "outputId": "3270c87e-eadd-4860-b851-d88cd78759cc"
      },
      "source": [
        "#result\n",
        "users_positive.head()"
      ],
      "execution_count": null,
      "outputs": [
        {
          "output_type": "execute_result",
          "data": {
            "text/html": [
              "<div>\n",
              "<style scoped>\n",
              "    .dataframe tbody tr th:only-of-type {\n",
              "        vertical-align: middle;\n",
              "    }\n",
              "\n",
              "    .dataframe tbody tr th {\n",
              "        vertical-align: top;\n",
              "    }\n",
              "\n",
              "    .dataframe thead th {\n",
              "        text-align: right;\n",
              "    }\n",
              "</style>\n",
              "<table border=\"1\" class=\"dataframe\">\n",
              "  <thead>\n",
              "    <tr style=\"text-align: right;\">\n",
              "      <th></th>\n",
              "      <th>age</th>\n",
              "      <th>playcount</th>\n",
              "      <th>playlists</th>\n",
              "      <th>gender</th>\n",
              "      <th>country_\"AD\"</th>\n",
              "      <th>country_\"AE\"</th>\n",
              "      <th>country_\"AF\"</th>\n",
              "      <th>country_\"AL\"</th>\n",
              "      <th>country_\"AM\"</th>\n",
              "      <th>country_\"AN\"</th>\n",
              "      <th>country_\"AO\"</th>\n",
              "      <th>country_\"AQ\"</th>\n",
              "      <th>country_\"AR\"</th>\n",
              "      <th>country_\"AT\"</th>\n",
              "      <th>country_\"AU\"</th>\n",
              "      <th>country_\"AW\"</th>\n",
              "      <th>country_\"AZ\"</th>\n",
              "      <th>country_\"BA\"</th>\n",
              "      <th>country_\"BB\"</th>\n",
              "      <th>country_\"BD\"</th>\n",
              "      <th>country_\"BE\"</th>\n",
              "      <th>country_\"BF\"</th>\n",
              "      <th>country_\"BG\"</th>\n",
              "      <th>country_\"BH\"</th>\n",
              "      <th>country_\"BI\"</th>\n",
              "      <th>country_\"BM\"</th>\n",
              "      <th>country_\"BN\"</th>\n",
              "      <th>country_\"BO\"</th>\n",
              "      <th>country_\"BR\"</th>\n",
              "      <th>country_\"BS\"</th>\n",
              "      <th>country_\"BT\"</th>\n",
              "      <th>country_\"BV\"</th>\n",
              "      <th>country_\"BY\"</th>\n",
              "      <th>country_\"CA\"</th>\n",
              "      <th>country_\"CC\"</th>\n",
              "      <th>country_\"CD\"</th>\n",
              "      <th>country_\"CG\"</th>\n",
              "      <th>country_\"CH\"</th>\n",
              "      <th>country_\"CI\"</th>\n",
              "      <th>country_\"CK\"</th>\n",
              "      <th>...</th>\n",
              "      <th>country_\"SG\"</th>\n",
              "      <th>country_\"SH\"</th>\n",
              "      <th>country_\"SI\"</th>\n",
              "      <th>country_\"SJ\"</th>\n",
              "      <th>country_\"SK\"</th>\n",
              "      <th>country_\"SL\"</th>\n",
              "      <th>country_\"SN\"</th>\n",
              "      <th>country_\"ST\"</th>\n",
              "      <th>country_\"SV\"</th>\n",
              "      <th>country_\"SY\"</th>\n",
              "      <th>country_\"SZ\"</th>\n",
              "      <th>country_\"TF\"</th>\n",
              "      <th>country_\"TG\"</th>\n",
              "      <th>country_\"TH\"</th>\n",
              "      <th>country_\"TK\"</th>\n",
              "      <th>country_\"TN\"</th>\n",
              "      <th>country_\"TR\"</th>\n",
              "      <th>country_\"TT\"</th>\n",
              "      <th>country_\"TV\"</th>\n",
              "      <th>country_\"TW\"</th>\n",
              "      <th>country_\"UA\"</th>\n",
              "      <th>country_\"UG\"</th>\n",
              "      <th>country_\"UK\"</th>\n",
              "      <th>country_\"UM\"</th>\n",
              "      <th>country_\"US\"</th>\n",
              "      <th>country_\"UY\"</th>\n",
              "      <th>country_\"UZ\"</th>\n",
              "      <th>country_\"VA\"</th>\n",
              "      <th>country_\"VE\"</th>\n",
              "      <th>country_\"VG\"</th>\n",
              "      <th>country_\"VI\"</th>\n",
              "      <th>country_\"VN\"</th>\n",
              "      <th>country_\"VU\"</th>\n",
              "      <th>country_\"WF\"</th>\n",
              "      <th>country_\"YE\"</th>\n",
              "      <th>country_\"ZA\"</th>\n",
              "      <th>country_\"ZW\"</th>\n",
              "      <th>subscribertype</th>\n",
              "      <th>User_ID</th>\n",
              "      <th>Author_ID_Recommended</th>\n",
              "    </tr>\n",
              "  </thead>\n",
              "  <tbody>\n",
              "    <tr>\n",
              "      <th>0</th>\n",
              "      <td>24</td>\n",
              "      <td>221012</td>\n",
              "      <td>2</td>\n",
              "      <td>1</td>\n",
              "      <td>0</td>\n",
              "      <td>0</td>\n",
              "      <td>0</td>\n",
              "      <td>0</td>\n",
              "      <td>0</td>\n",
              "      <td>0</td>\n",
              "      <td>0</td>\n",
              "      <td>0</td>\n",
              "      <td>0</td>\n",
              "      <td>0</td>\n",
              "      <td>0</td>\n",
              "      <td>0</td>\n",
              "      <td>0</td>\n",
              "      <td>0</td>\n",
              "      <td>0</td>\n",
              "      <td>0</td>\n",
              "      <td>0</td>\n",
              "      <td>0</td>\n",
              "      <td>0</td>\n",
              "      <td>0</td>\n",
              "      <td>0</td>\n",
              "      <td>0</td>\n",
              "      <td>0</td>\n",
              "      <td>0</td>\n",
              "      <td>0</td>\n",
              "      <td>0</td>\n",
              "      <td>0</td>\n",
              "      <td>0</td>\n",
              "      <td>0</td>\n",
              "      <td>0</td>\n",
              "      <td>0</td>\n",
              "      <td>0</td>\n",
              "      <td>0</td>\n",
              "      <td>0</td>\n",
              "      <td>0</td>\n",
              "      <td>0</td>\n",
              "      <td>...</td>\n",
              "      <td>0</td>\n",
              "      <td>0</td>\n",
              "      <td>0</td>\n",
              "      <td>0</td>\n",
              "      <td>0</td>\n",
              "      <td>0</td>\n",
              "      <td>0</td>\n",
              "      <td>0</td>\n",
              "      <td>0</td>\n",
              "      <td>0</td>\n",
              "      <td>0</td>\n",
              "      <td>0</td>\n",
              "      <td>0</td>\n",
              "      <td>0</td>\n",
              "      <td>0</td>\n",
              "      <td>0</td>\n",
              "      <td>0</td>\n",
              "      <td>0</td>\n",
              "      <td>0</td>\n",
              "      <td>0</td>\n",
              "      <td>0</td>\n",
              "      <td>0</td>\n",
              "      <td>0</td>\n",
              "      <td>0</td>\n",
              "      <td>1</td>\n",
              "      <td>0</td>\n",
              "      <td>0</td>\n",
              "      <td>0</td>\n",
              "      <td>0</td>\n",
              "      <td>0</td>\n",
              "      <td>0</td>\n",
              "      <td>0</td>\n",
              "      <td>0</td>\n",
              "      <td>0</td>\n",
              "      <td>0</td>\n",
              "      <td>0</td>\n",
              "      <td>0</td>\n",
              "      <td>1</td>\n",
              "      <td>1</td>\n",
              "      <td>303270</td>\n",
              "    </tr>\n",
              "    <tr>\n",
              "      <th>2</th>\n",
              "      <td>24</td>\n",
              "      <td>221012</td>\n",
              "      <td>2</td>\n",
              "      <td>1</td>\n",
              "      <td>0</td>\n",
              "      <td>0</td>\n",
              "      <td>0</td>\n",
              "      <td>0</td>\n",
              "      <td>0</td>\n",
              "      <td>0</td>\n",
              "      <td>0</td>\n",
              "      <td>0</td>\n",
              "      <td>0</td>\n",
              "      <td>0</td>\n",
              "      <td>0</td>\n",
              "      <td>0</td>\n",
              "      <td>0</td>\n",
              "      <td>0</td>\n",
              "      <td>0</td>\n",
              "      <td>0</td>\n",
              "      <td>0</td>\n",
              "      <td>0</td>\n",
              "      <td>0</td>\n",
              "      <td>0</td>\n",
              "      <td>0</td>\n",
              "      <td>0</td>\n",
              "      <td>0</td>\n",
              "      <td>0</td>\n",
              "      <td>0</td>\n",
              "      <td>0</td>\n",
              "      <td>0</td>\n",
              "      <td>0</td>\n",
              "      <td>0</td>\n",
              "      <td>0</td>\n",
              "      <td>0</td>\n",
              "      <td>0</td>\n",
              "      <td>0</td>\n",
              "      <td>0</td>\n",
              "      <td>0</td>\n",
              "      <td>0</td>\n",
              "      <td>...</td>\n",
              "      <td>0</td>\n",
              "      <td>0</td>\n",
              "      <td>0</td>\n",
              "      <td>0</td>\n",
              "      <td>0</td>\n",
              "      <td>0</td>\n",
              "      <td>0</td>\n",
              "      <td>0</td>\n",
              "      <td>0</td>\n",
              "      <td>0</td>\n",
              "      <td>0</td>\n",
              "      <td>0</td>\n",
              "      <td>0</td>\n",
              "      <td>0</td>\n",
              "      <td>0</td>\n",
              "      <td>0</td>\n",
              "      <td>0</td>\n",
              "      <td>0</td>\n",
              "      <td>0</td>\n",
              "      <td>0</td>\n",
              "      <td>0</td>\n",
              "      <td>0</td>\n",
              "      <td>0</td>\n",
              "      <td>0</td>\n",
              "      <td>1</td>\n",
              "      <td>0</td>\n",
              "      <td>0</td>\n",
              "      <td>0</td>\n",
              "      <td>0</td>\n",
              "      <td>0</td>\n",
              "      <td>0</td>\n",
              "      <td>0</td>\n",
              "      <td>0</td>\n",
              "      <td>0</td>\n",
              "      <td>0</td>\n",
              "      <td>0</td>\n",
              "      <td>0</td>\n",
              "      <td>1</td>\n",
              "      <td>1</td>\n",
              "      <td>448432</td>\n",
              "    </tr>\n",
              "    <tr>\n",
              "      <th>171</th>\n",
              "      <td>24</td>\n",
              "      <td>221012</td>\n",
              "      <td>2</td>\n",
              "      <td>1</td>\n",
              "      <td>0</td>\n",
              "      <td>0</td>\n",
              "      <td>0</td>\n",
              "      <td>0</td>\n",
              "      <td>0</td>\n",
              "      <td>0</td>\n",
              "      <td>0</td>\n",
              "      <td>0</td>\n",
              "      <td>0</td>\n",
              "      <td>0</td>\n",
              "      <td>0</td>\n",
              "      <td>0</td>\n",
              "      <td>0</td>\n",
              "      <td>0</td>\n",
              "      <td>0</td>\n",
              "      <td>0</td>\n",
              "      <td>0</td>\n",
              "      <td>0</td>\n",
              "      <td>0</td>\n",
              "      <td>0</td>\n",
              "      <td>0</td>\n",
              "      <td>0</td>\n",
              "      <td>0</td>\n",
              "      <td>0</td>\n",
              "      <td>0</td>\n",
              "      <td>0</td>\n",
              "      <td>0</td>\n",
              "      <td>0</td>\n",
              "      <td>0</td>\n",
              "      <td>0</td>\n",
              "      <td>0</td>\n",
              "      <td>0</td>\n",
              "      <td>0</td>\n",
              "      <td>0</td>\n",
              "      <td>0</td>\n",
              "      <td>0</td>\n",
              "      <td>...</td>\n",
              "      <td>0</td>\n",
              "      <td>0</td>\n",
              "      <td>0</td>\n",
              "      <td>0</td>\n",
              "      <td>0</td>\n",
              "      <td>0</td>\n",
              "      <td>0</td>\n",
              "      <td>0</td>\n",
              "      <td>0</td>\n",
              "      <td>0</td>\n",
              "      <td>0</td>\n",
              "      <td>0</td>\n",
              "      <td>0</td>\n",
              "      <td>0</td>\n",
              "      <td>0</td>\n",
              "      <td>0</td>\n",
              "      <td>0</td>\n",
              "      <td>0</td>\n",
              "      <td>0</td>\n",
              "      <td>0</td>\n",
              "      <td>0</td>\n",
              "      <td>0</td>\n",
              "      <td>0</td>\n",
              "      <td>0</td>\n",
              "      <td>1</td>\n",
              "      <td>0</td>\n",
              "      <td>0</td>\n",
              "      <td>0</td>\n",
              "      <td>0</td>\n",
              "      <td>0</td>\n",
              "      <td>0</td>\n",
              "      <td>0</td>\n",
              "      <td>0</td>\n",
              "      <td>0</td>\n",
              "      <td>0</td>\n",
              "      <td>0</td>\n",
              "      <td>0</td>\n",
              "      <td>1</td>\n",
              "      <td>1</td>\n",
              "      <td>236243</td>\n",
              "    </tr>\n",
              "    <tr>\n",
              "      <th>348</th>\n",
              "      <td>24</td>\n",
              "      <td>221012</td>\n",
              "      <td>2</td>\n",
              "      <td>1</td>\n",
              "      <td>0</td>\n",
              "      <td>0</td>\n",
              "      <td>0</td>\n",
              "      <td>0</td>\n",
              "      <td>0</td>\n",
              "      <td>0</td>\n",
              "      <td>0</td>\n",
              "      <td>0</td>\n",
              "      <td>0</td>\n",
              "      <td>0</td>\n",
              "      <td>0</td>\n",
              "      <td>0</td>\n",
              "      <td>0</td>\n",
              "      <td>0</td>\n",
              "      <td>0</td>\n",
              "      <td>0</td>\n",
              "      <td>0</td>\n",
              "      <td>0</td>\n",
              "      <td>0</td>\n",
              "      <td>0</td>\n",
              "      <td>0</td>\n",
              "      <td>0</td>\n",
              "      <td>0</td>\n",
              "      <td>0</td>\n",
              "      <td>0</td>\n",
              "      <td>0</td>\n",
              "      <td>0</td>\n",
              "      <td>0</td>\n",
              "      <td>0</td>\n",
              "      <td>0</td>\n",
              "      <td>0</td>\n",
              "      <td>0</td>\n",
              "      <td>0</td>\n",
              "      <td>0</td>\n",
              "      <td>0</td>\n",
              "      <td>0</td>\n",
              "      <td>...</td>\n",
              "      <td>0</td>\n",
              "      <td>0</td>\n",
              "      <td>0</td>\n",
              "      <td>0</td>\n",
              "      <td>0</td>\n",
              "      <td>0</td>\n",
              "      <td>0</td>\n",
              "      <td>0</td>\n",
              "      <td>0</td>\n",
              "      <td>0</td>\n",
              "      <td>0</td>\n",
              "      <td>0</td>\n",
              "      <td>0</td>\n",
              "      <td>0</td>\n",
              "      <td>0</td>\n",
              "      <td>0</td>\n",
              "      <td>0</td>\n",
              "      <td>0</td>\n",
              "      <td>0</td>\n",
              "      <td>0</td>\n",
              "      <td>0</td>\n",
              "      <td>0</td>\n",
              "      <td>0</td>\n",
              "      <td>0</td>\n",
              "      <td>1</td>\n",
              "      <td>0</td>\n",
              "      <td>0</td>\n",
              "      <td>0</td>\n",
              "      <td>0</td>\n",
              "      <td>0</td>\n",
              "      <td>0</td>\n",
              "      <td>0</td>\n",
              "      <td>0</td>\n",
              "      <td>0</td>\n",
              "      <td>0</td>\n",
              "      <td>0</td>\n",
              "      <td>0</td>\n",
              "      <td>1</td>\n",
              "      <td>1</td>\n",
              "      <td>11467</td>\n",
              "    </tr>\n",
              "    <tr>\n",
              "      <th>370</th>\n",
              "      <td>24</td>\n",
              "      <td>221012</td>\n",
              "      <td>2</td>\n",
              "      <td>1</td>\n",
              "      <td>0</td>\n",
              "      <td>0</td>\n",
              "      <td>0</td>\n",
              "      <td>0</td>\n",
              "      <td>0</td>\n",
              "      <td>0</td>\n",
              "      <td>0</td>\n",
              "      <td>0</td>\n",
              "      <td>0</td>\n",
              "      <td>0</td>\n",
              "      <td>0</td>\n",
              "      <td>0</td>\n",
              "      <td>0</td>\n",
              "      <td>0</td>\n",
              "      <td>0</td>\n",
              "      <td>0</td>\n",
              "      <td>0</td>\n",
              "      <td>0</td>\n",
              "      <td>0</td>\n",
              "      <td>0</td>\n",
              "      <td>0</td>\n",
              "      <td>0</td>\n",
              "      <td>0</td>\n",
              "      <td>0</td>\n",
              "      <td>0</td>\n",
              "      <td>0</td>\n",
              "      <td>0</td>\n",
              "      <td>0</td>\n",
              "      <td>0</td>\n",
              "      <td>0</td>\n",
              "      <td>0</td>\n",
              "      <td>0</td>\n",
              "      <td>0</td>\n",
              "      <td>0</td>\n",
              "      <td>0</td>\n",
              "      <td>0</td>\n",
              "      <td>...</td>\n",
              "      <td>0</td>\n",
              "      <td>0</td>\n",
              "      <td>0</td>\n",
              "      <td>0</td>\n",
              "      <td>0</td>\n",
              "      <td>0</td>\n",
              "      <td>0</td>\n",
              "      <td>0</td>\n",
              "      <td>0</td>\n",
              "      <td>0</td>\n",
              "      <td>0</td>\n",
              "      <td>0</td>\n",
              "      <td>0</td>\n",
              "      <td>0</td>\n",
              "      <td>0</td>\n",
              "      <td>0</td>\n",
              "      <td>0</td>\n",
              "      <td>0</td>\n",
              "      <td>0</td>\n",
              "      <td>0</td>\n",
              "      <td>0</td>\n",
              "      <td>0</td>\n",
              "      <td>0</td>\n",
              "      <td>0</td>\n",
              "      <td>1</td>\n",
              "      <td>0</td>\n",
              "      <td>0</td>\n",
              "      <td>0</td>\n",
              "      <td>0</td>\n",
              "      <td>0</td>\n",
              "      <td>0</td>\n",
              "      <td>0</td>\n",
              "      <td>0</td>\n",
              "      <td>0</td>\n",
              "      <td>0</td>\n",
              "      <td>0</td>\n",
              "      <td>0</td>\n",
              "      <td>1</td>\n",
              "      <td>1</td>\n",
              "      <td>370733</td>\n",
              "    </tr>\n",
              "  </tbody>\n",
              "</table>\n",
              "<p>5 rows × 200 columns</p>\n",
              "</div>"
            ],
            "text/plain": [
              "     age  playcount  playlists  ...  subscribertype  User_ID  Author_ID_Recommended\n",
              "0     24     221012          2  ...               1        1                 303270\n",
              "2     24     221012          2  ...               1        1                 448432\n",
              "171   24     221012          2  ...               1        1                 236243\n",
              "348   24     221012          2  ...               1        1                  11467\n",
              "370   24     221012          2  ...               1        1                 370733\n",
              "\n",
              "[5 rows x 200 columns]"
            ]
          },
          "metadata": {
            "tags": []
          },
          "execution_count": 15
        }
      ]
    },
    {
      "cell_type": "markdown",
      "metadata": {
        "id": "zSyk_W68mKfT",
        "colab_type": "text"
      },
      "source": [
        "Дополнительно выделим тестовый датасет\n",
        "\n"
      ]
    },
    {
      "cell_type": "code",
      "metadata": {
        "id": "7DysVlLimNnz",
        "colab_type": "code",
        "colab": {}
      },
      "source": [
        "#2904846*0.2=580969\n",
        "#2904846-580969=2323877\n",
        "#dataset for prediction\n",
        "user_test_positive = users_positive[2323877:]"
      ],
      "execution_count": null,
      "outputs": []
    },
    {
      "cell_type": "markdown",
      "metadata": {
        "id": "suG31S2p9BrQ",
        "colab_type": "text"
      },
      "source": [
        "### Baseline модель для дополнительных данных"
      ]
    },
    {
      "cell_type": "markdown",
      "metadata": {
        "id": "rMx0HzjG3DOY",
        "colab_type": "text"
      },
      "source": [
        "Оцениваем вероятности подписки для пользователей. **Логика:** Предсказываем значения по параметрам в каждой строке, соединяем вероятности предсказаний и тестовые данные, по которым были совершенны предсказания. \n",
        "\n",
        "В данном случае значения вероятностей, по строкам с повторяющимися пользователями складываются и делятся на количество, чтобы узнать среднее вероятности положительных предсказаний. В результате, получаем данные *Пользователь - Вывод*.\n",
        "\n",
        "**Как может применяться:** Допустим, у нас есть пользователи с разным диапазоном вероятности, покупки подписки. Анализируя данные, можно предлагать большие скидки, при уменьшении вероятности покупки для увеличения количество покупателей подписки.\n"
      ]
    },
    {
      "cell_type": "markdown",
      "metadata": {
        "id": "2agC7feD2dx_",
        "colab_type": "text"
      },
      "source": [
        "Для позитивных случаев"
      ]
    },
    {
      "cell_type": "markdown",
      "metadata": {
        "id": "Wd3l5buY8nZD",
        "colab_type": "text"
      },
      "source": [
        "#### Модель Ансамблей для положительных вариантов"
      ]
    },
    {
      "cell_type": "code",
      "metadata": {
        "id": "FjDwEtLjkBc8",
        "colab_type": "code",
        "colab": {}
      },
      "source": [
        "X_train, X_test, y_train, y_test = train_test_split(users_positive.drop(columns=['User_ID','subscribertype']),\n",
        "                                                    users_positive['subscribertype'], test_size=0.2, random_state=54)"
      ],
      "execution_count": null,
      "outputs": []
    },
    {
      "cell_type": "code",
      "metadata": {
        "id": "ta0XZJ2Sdprq",
        "colab_type": "code",
        "colab": {}
      },
      "source": [
        "#from sklearn.multiclass import OneVsRestClassifier\n",
        "#from sklearn.ensemble import RandomForestClassifier"
      ],
      "execution_count": null,
      "outputs": []
    },
    {
      "cell_type": "code",
      "metadata": {
        "id": "B2sB4zu8dr9A",
        "colab_type": "code",
        "colab": {}
      },
      "source": [
        "#Обучаем модель:\n",
        "ensemble = RandomForestClassifier(criterion='gini', min_samples_leaf=10, max_depth=20, n_estimators=10, random_state=54)\n",
        "clf_forest = OneVsRestClassifier(ensemble).fit(X_train, y_train)"
      ],
      "execution_count": null,
      "outputs": []
    },
    {
      "cell_type": "code",
      "metadata": {
        "id": "oJDP0K29dtU8",
        "colab_type": "code",
        "colab": {}
      },
      "source": [
        "y_pred = clf_forest.predict(X_test)"
      ],
      "execution_count": null,
      "outputs": []
    },
    {
      "cell_type": "code",
      "metadata": {
        "id": "3DzgP06idu0n",
        "colab_type": "code",
        "colab": {
          "base_uri": "https://localhost:8080/",
          "height": 51
        },
        "outputId": "40698b89-50d7-477a-9f1a-558f7b451191"
      },
      "source": [
        "#Выполняем оценку:\n",
        "#from sklearn.metrics import confusion_matrix\n",
        "confusion_matrix(y_test, y_pred)"
      ],
      "execution_count": null,
      "outputs": [
        {
          "output_type": "execute_result",
          "data": {
            "text/plain": [
              "array([[  5391,  14283],\n",
              "       [     0, 561296]])"
            ]
          },
          "metadata": {
            "tags": []
          },
          "execution_count": 21
        }
      ]
    },
    {
      "cell_type": "code",
      "metadata": {
        "id": "eQXkRUZidwPK",
        "colab_type": "code",
        "colab": {
          "base_uri": "https://localhost:8080/",
          "height": 34
        },
        "outputId": "fa74a280-96e5-4cad-cdc3-464a4c348884"
      },
      "source": [
        "#result for index 0\n",
        "clf_forest.predict_proba(user_test_positive.drop(columns=['User_ID','subscribertype']))[0]"
      ],
      "execution_count": null,
      "outputs": [
        {
          "output_type": "execute_result",
          "data": {
            "text/plain": [
              "array([0.00862972, 0.99137028])"
            ]
          },
          "metadata": {
            "tags": []
          },
          "execution_count": 44
        }
      ]
    },
    {
      "cell_type": "markdown",
      "metadata": {
        "id": "mplThmPg8xWS",
        "colab_type": "text"
      },
      "source": [
        "##### Анализируем данные по модели Ансамбли для положительных вариантов"
      ]
    },
    {
      "cell_type": "code",
      "metadata": {
        "id": "W7HEAhIssmjc",
        "colab_type": "code",
        "colab": {}
      },
      "source": [
        "data_positive = clf_forest.predict_proba(user_test_positive.drop(columns=['User_ID','subscribertype']))"
      ],
      "execution_count": null,
      "outputs": []
    },
    {
      "cell_type": "code",
      "metadata": {
        "id": "s8xHCA9Jyki8",
        "colab_type": "code",
        "colab": {}
      },
      "source": [
        "data_positive = pd.concat([pd.DataFrame(data_positive, columns=['base','premium']),user_test_positive.reset_index()], axis = 1)"
      ],
      "execution_count": null,
      "outputs": []
    },
    {
      "cell_type": "code",
      "metadata": {
        "id": "50lePvYB2BLy",
        "colab_type": "code",
        "colab": {
          "base_uri": "https://localhost:8080/",
          "height": 34
        },
        "outputId": "bc0f1d84-2471-4e5e-9a2a-c7034ca7ca3e"
      },
      "source": [
        "#found out mean group by one user id to check further values\n",
        "data_positive[data_positive['User_ID'] == 37505]['base'].mean()"
      ],
      "execution_count": null,
      "outputs": [
        {
          "output_type": "execute_result",
          "data": {
            "text/plain": [
              "0.009300300481955206"
            ]
          },
          "metadata": {
            "tags": []
          },
          "execution_count": 25
        }
      ]
    },
    {
      "cell_type": "code",
      "metadata": {
        "id": "NhuO2OwM-MDG",
        "colab_type": "code",
        "colab": {}
      },
      "source": [
        "data_positive.drop(data_positive.columns.difference(['base','premium','User_ID']), 1, inplace=True)"
      ],
      "execution_count": null,
      "outputs": []
    },
    {
      "cell_type": "code",
      "metadata": {
        "id": "WvOSCuXdsSPZ",
        "colab_type": "code",
        "colab": {
          "base_uri": "https://localhost:8080/",
          "height": 71
        },
        "outputId": "c9e68fef-cbfb-4f18-854a-69d8331053b4"
      },
      "source": [
        "data_positive = data_positive.groupby('User_ID')['base','premium'].mean()"
      ],
      "execution_count": null,
      "outputs": [
        {
          "output_type": "stream",
          "text": [
            "/usr/local/lib/python3.6/dist-packages/ipykernel_launcher.py:1: FutureWarning: Indexing with multiple keys (implicitly converted to a tuple of keys) will be deprecated, use a list instead.\n",
            "  \"\"\"Entry point for launching an IPython kernel.\n"
          ],
          "name": "stderr"
        }
      ]
    },
    {
      "cell_type": "code",
      "metadata": {
        "id": "9ZHh0qRn-OL4",
        "colab_type": "code",
        "colab": {
          "base_uri": "https://localhost:8080/",
          "height": 235
        },
        "outputId": "7aaa2b72-0fff-421e-92e8-50d9c31284b7"
      },
      "source": [
        "#Вероятности покупки для по положительным рекомендациям\n",
        "data_positive.head()"
      ],
      "execution_count": null,
      "outputs": [
        {
          "output_type": "execute_result",
          "data": {
            "text/html": [
              "<div>\n",
              "<style scoped>\n",
              "    .dataframe tbody tr th:only-of-type {\n",
              "        vertical-align: middle;\n",
              "    }\n",
              "\n",
              "    .dataframe tbody tr th {\n",
              "        vertical-align: top;\n",
              "    }\n",
              "\n",
              "    .dataframe thead th {\n",
              "        text-align: right;\n",
              "    }\n",
              "</style>\n",
              "<table border=\"1\" class=\"dataframe\">\n",
              "  <thead>\n",
              "    <tr style=\"text-align: right;\">\n",
              "      <th></th>\n",
              "      <th>base</th>\n",
              "      <th>premium</th>\n",
              "    </tr>\n",
              "    <tr>\n",
              "      <th>User_ID</th>\n",
              "      <th></th>\n",
              "      <th></th>\n",
              "    </tr>\n",
              "  </thead>\n",
              "  <tbody>\n",
              "    <tr>\n",
              "      <th>37505</th>\n",
              "      <td>0.009300</td>\n",
              "      <td>0.990700</td>\n",
              "    </tr>\n",
              "    <tr>\n",
              "      <th>37508</th>\n",
              "      <td>0.014781</td>\n",
              "      <td>0.985219</td>\n",
              "    </tr>\n",
              "    <tr>\n",
              "      <th>37510</th>\n",
              "      <td>0.003720</td>\n",
              "      <td>0.996280</td>\n",
              "    </tr>\n",
              "    <tr>\n",
              "      <th>37511</th>\n",
              "      <td>0.015209</td>\n",
              "      <td>0.984791</td>\n",
              "    </tr>\n",
              "    <tr>\n",
              "      <th>37512</th>\n",
              "      <td>0.006134</td>\n",
              "      <td>0.993866</td>\n",
              "    </tr>\n",
              "  </tbody>\n",
              "</table>\n",
              "</div>"
            ],
            "text/plain": [
              "             base   premium\n",
              "User_ID                    \n",
              "37505    0.009300  0.990700\n",
              "37508    0.014781  0.985219\n",
              "37510    0.003720  0.996280\n",
              "37511    0.015209  0.984791\n",
              "37512    0.006134  0.993866"
            ]
          },
          "metadata": {
            "tags": []
          },
          "execution_count": 28
        }
      ]
    },
    {
      "cell_type": "code",
      "metadata": {
        "id": "WKay_yyoFPKG",
        "colab_type": "code",
        "colab": {}
      },
      "source": [
        "data_positive = data_positive.reset_index()"
      ],
      "execution_count": null,
      "outputs": []
    },
    {
      "cell_type": "markdown",
      "metadata": {
        "id": "a0_ycwTXHPEh",
        "colab_type": "text"
      },
      "source": [
        "Оценим точность модели"
      ]
    },
    {
      "cell_type": "code",
      "metadata": {
        "id": "b2Q-n9bd9mJx",
        "colab_type": "code",
        "colab": {
          "base_uri": "https://localhost:8080/",
          "height": 34
        },
        "outputId": "6a37808d-40f5-45cf-f529-c6c0ea57c989"
      },
      "source": [
        "#from sklearn.metrics import accuracy_score\n",
        "accuracy_score(list(y_test), clf_forest.predict(X_test))"
      ],
      "execution_count": null,
      "outputs": [
        {
          "output_type": "execute_result",
          "data": {
            "text/plain": [
              "0.9754152537996799"
            ]
          },
          "metadata": {
            "tags": []
          },
          "execution_count": 29
        }
      ]
    },
    {
      "cell_type": "code",
      "metadata": {
        "id": "SvVBsOQdBusa",
        "colab_type": "code",
        "colab": {}
      },
      "source": [
        "data_positive.to_csv('subscribertype_positive', index = False)"
      ],
      "execution_count": null,
      "outputs": []
    },
    {
      "cell_type": "markdown",
      "metadata": {
        "id": "weHuBmjHAeRn",
        "colab_type": "text"
      },
      "source": [
        "####  Модель Ансамблей для отрицательных вариантов"
      ]
    },
    {
      "cell_type": "markdown",
      "metadata": {
        "id": "zzHjOaMnAVm3",
        "colab_type": "text"
      },
      "source": [
        "Преобразуем данные"
      ]
    },
    {
      "cell_type": "code",
      "metadata": {
        "id": "cfFBAjwvATZg",
        "colab_type": "code",
        "colab": {}
      },
      "source": [
        "#combine information from users to artist \n",
        "users_negative = pd.merge(users,authors_negative, left_on='ID', right_on='User_ID')"
      ],
      "execution_count": null,
      "outputs": []
    },
    {
      "cell_type": "code",
      "metadata": {
        "id": "yJlt-jgbAh2u",
        "colab_type": "code",
        "colab": {}
      },
      "source": [
        "#split dublicate rows by User_ID and Author_ID\n",
        "users_negative = users_negative.drop_duplicates(subset=['User_ID', 'Author_ID_Non_Recommended'])"
      ],
      "execution_count": null,
      "outputs": []
    },
    {
      "cell_type": "code",
      "metadata": {
        "id": "FZQ1k0-gAl7C",
        "colab_type": "code",
        "colab": {
          "base_uri": "https://localhost:8080/",
          "height": 34
        },
        "outputId": "14e38bf6-4cb2-4b01-e5d2-d31e582adba9"
      },
      "source": [
        "#number rows\n",
        "len(users_negative)"
      ],
      "execution_count": null,
      "outputs": [
        {
          "output_type": "execute_result",
          "data": {
            "text/plain": [
              "2628315"
            ]
          },
          "metadata": {
            "tags": []
          },
          "execution_count": 33
        }
      ]
    },
    {
      "cell_type": "code",
      "metadata": {
        "id": "rY1RP3rDAmXb",
        "colab_type": "code",
        "colab": {}
      },
      "source": [
        "#drop id\n",
        "users_negative = users_negative.drop('ID', axis = 1)"
      ],
      "execution_count": null,
      "outputs": []
    },
    {
      "cell_type": "code",
      "metadata": {
        "id": "c7lUTmg-Aob5",
        "colab_type": "code",
        "colab": {
          "base_uri": "https://localhost:8080/",
          "height": 253
        },
        "outputId": "952607fa-3177-48ae-94fd-15eb2793da47"
      },
      "source": [
        "#result\n",
        "users_negative.head()"
      ],
      "execution_count": null,
      "outputs": [
        {
          "output_type": "execute_result",
          "data": {
            "text/html": [
              "<div>\n",
              "<style scoped>\n",
              "    .dataframe tbody tr th:only-of-type {\n",
              "        vertical-align: middle;\n",
              "    }\n",
              "\n",
              "    .dataframe tbody tr th {\n",
              "        vertical-align: top;\n",
              "    }\n",
              "\n",
              "    .dataframe thead th {\n",
              "        text-align: right;\n",
              "    }\n",
              "</style>\n",
              "<table border=\"1\" class=\"dataframe\">\n",
              "  <thead>\n",
              "    <tr style=\"text-align: right;\">\n",
              "      <th></th>\n",
              "      <th>age</th>\n",
              "      <th>playcount</th>\n",
              "      <th>playlists</th>\n",
              "      <th>gender</th>\n",
              "      <th>country_\"AD\"</th>\n",
              "      <th>country_\"AE\"</th>\n",
              "      <th>country_\"AF\"</th>\n",
              "      <th>country_\"AL\"</th>\n",
              "      <th>country_\"AM\"</th>\n",
              "      <th>country_\"AN\"</th>\n",
              "      <th>country_\"AO\"</th>\n",
              "      <th>country_\"AQ\"</th>\n",
              "      <th>country_\"AR\"</th>\n",
              "      <th>country_\"AT\"</th>\n",
              "      <th>country_\"AU\"</th>\n",
              "      <th>country_\"AW\"</th>\n",
              "      <th>country_\"AZ\"</th>\n",
              "      <th>country_\"BA\"</th>\n",
              "      <th>country_\"BB\"</th>\n",
              "      <th>country_\"BD\"</th>\n",
              "      <th>country_\"BE\"</th>\n",
              "      <th>country_\"BF\"</th>\n",
              "      <th>country_\"BG\"</th>\n",
              "      <th>country_\"BH\"</th>\n",
              "      <th>country_\"BI\"</th>\n",
              "      <th>country_\"BM\"</th>\n",
              "      <th>country_\"BN\"</th>\n",
              "      <th>country_\"BO\"</th>\n",
              "      <th>country_\"BR\"</th>\n",
              "      <th>country_\"BS\"</th>\n",
              "      <th>country_\"BT\"</th>\n",
              "      <th>country_\"BV\"</th>\n",
              "      <th>country_\"BY\"</th>\n",
              "      <th>country_\"CA\"</th>\n",
              "      <th>country_\"CC\"</th>\n",
              "      <th>country_\"CD\"</th>\n",
              "      <th>country_\"CG\"</th>\n",
              "      <th>country_\"CH\"</th>\n",
              "      <th>country_\"CI\"</th>\n",
              "      <th>country_\"CK\"</th>\n",
              "      <th>...</th>\n",
              "      <th>country_\"SG\"</th>\n",
              "      <th>country_\"SH\"</th>\n",
              "      <th>country_\"SI\"</th>\n",
              "      <th>country_\"SJ\"</th>\n",
              "      <th>country_\"SK\"</th>\n",
              "      <th>country_\"SL\"</th>\n",
              "      <th>country_\"SN\"</th>\n",
              "      <th>country_\"ST\"</th>\n",
              "      <th>country_\"SV\"</th>\n",
              "      <th>country_\"SY\"</th>\n",
              "      <th>country_\"SZ\"</th>\n",
              "      <th>country_\"TF\"</th>\n",
              "      <th>country_\"TG\"</th>\n",
              "      <th>country_\"TH\"</th>\n",
              "      <th>country_\"TK\"</th>\n",
              "      <th>country_\"TN\"</th>\n",
              "      <th>country_\"TR\"</th>\n",
              "      <th>country_\"TT\"</th>\n",
              "      <th>country_\"TV\"</th>\n",
              "      <th>country_\"TW\"</th>\n",
              "      <th>country_\"UA\"</th>\n",
              "      <th>country_\"UG\"</th>\n",
              "      <th>country_\"UK\"</th>\n",
              "      <th>country_\"UM\"</th>\n",
              "      <th>country_\"US\"</th>\n",
              "      <th>country_\"UY\"</th>\n",
              "      <th>country_\"UZ\"</th>\n",
              "      <th>country_\"VA\"</th>\n",
              "      <th>country_\"VE\"</th>\n",
              "      <th>country_\"VG\"</th>\n",
              "      <th>country_\"VI\"</th>\n",
              "      <th>country_\"VN\"</th>\n",
              "      <th>country_\"VU\"</th>\n",
              "      <th>country_\"WF\"</th>\n",
              "      <th>country_\"YE\"</th>\n",
              "      <th>country_\"ZA\"</th>\n",
              "      <th>country_\"ZW\"</th>\n",
              "      <th>subscribertype</th>\n",
              "      <th>User_ID</th>\n",
              "      <th>Author_ID_Non_Recommended</th>\n",
              "    </tr>\n",
              "  </thead>\n",
              "  <tbody>\n",
              "    <tr>\n",
              "      <th>0</th>\n",
              "      <td>24</td>\n",
              "      <td>221012</td>\n",
              "      <td>2</td>\n",
              "      <td>1</td>\n",
              "      <td>0</td>\n",
              "      <td>0</td>\n",
              "      <td>0</td>\n",
              "      <td>0</td>\n",
              "      <td>0</td>\n",
              "      <td>0</td>\n",
              "      <td>0</td>\n",
              "      <td>0</td>\n",
              "      <td>0</td>\n",
              "      <td>0</td>\n",
              "      <td>0</td>\n",
              "      <td>0</td>\n",
              "      <td>0</td>\n",
              "      <td>0</td>\n",
              "      <td>0</td>\n",
              "      <td>0</td>\n",
              "      <td>0</td>\n",
              "      <td>0</td>\n",
              "      <td>0</td>\n",
              "      <td>0</td>\n",
              "      <td>0</td>\n",
              "      <td>0</td>\n",
              "      <td>0</td>\n",
              "      <td>0</td>\n",
              "      <td>0</td>\n",
              "      <td>0</td>\n",
              "      <td>0</td>\n",
              "      <td>0</td>\n",
              "      <td>0</td>\n",
              "      <td>0</td>\n",
              "      <td>0</td>\n",
              "      <td>0</td>\n",
              "      <td>0</td>\n",
              "      <td>0</td>\n",
              "      <td>0</td>\n",
              "      <td>0</td>\n",
              "      <td>...</td>\n",
              "      <td>0</td>\n",
              "      <td>0</td>\n",
              "      <td>0</td>\n",
              "      <td>0</td>\n",
              "      <td>0</td>\n",
              "      <td>0</td>\n",
              "      <td>0</td>\n",
              "      <td>0</td>\n",
              "      <td>0</td>\n",
              "      <td>0</td>\n",
              "      <td>0</td>\n",
              "      <td>0</td>\n",
              "      <td>0</td>\n",
              "      <td>0</td>\n",
              "      <td>0</td>\n",
              "      <td>0</td>\n",
              "      <td>0</td>\n",
              "      <td>0</td>\n",
              "      <td>0</td>\n",
              "      <td>0</td>\n",
              "      <td>0</td>\n",
              "      <td>0</td>\n",
              "      <td>0</td>\n",
              "      <td>0</td>\n",
              "      <td>1</td>\n",
              "      <td>0</td>\n",
              "      <td>0</td>\n",
              "      <td>0</td>\n",
              "      <td>0</td>\n",
              "      <td>0</td>\n",
              "      <td>0</td>\n",
              "      <td>0</td>\n",
              "      <td>0</td>\n",
              "      <td>0</td>\n",
              "      <td>0</td>\n",
              "      <td>0</td>\n",
              "      <td>0</td>\n",
              "      <td>1</td>\n",
              "      <td>1</td>\n",
              "      <td>370733</td>\n",
              "    </tr>\n",
              "    <tr>\n",
              "      <th>5</th>\n",
              "      <td>24</td>\n",
              "      <td>221012</td>\n",
              "      <td>2</td>\n",
              "      <td>1</td>\n",
              "      <td>0</td>\n",
              "      <td>0</td>\n",
              "      <td>0</td>\n",
              "      <td>0</td>\n",
              "      <td>0</td>\n",
              "      <td>0</td>\n",
              "      <td>0</td>\n",
              "      <td>0</td>\n",
              "      <td>0</td>\n",
              "      <td>0</td>\n",
              "      <td>0</td>\n",
              "      <td>0</td>\n",
              "      <td>0</td>\n",
              "      <td>0</td>\n",
              "      <td>0</td>\n",
              "      <td>0</td>\n",
              "      <td>0</td>\n",
              "      <td>0</td>\n",
              "      <td>0</td>\n",
              "      <td>0</td>\n",
              "      <td>0</td>\n",
              "      <td>0</td>\n",
              "      <td>0</td>\n",
              "      <td>0</td>\n",
              "      <td>0</td>\n",
              "      <td>0</td>\n",
              "      <td>0</td>\n",
              "      <td>0</td>\n",
              "      <td>0</td>\n",
              "      <td>0</td>\n",
              "      <td>0</td>\n",
              "      <td>0</td>\n",
              "      <td>0</td>\n",
              "      <td>0</td>\n",
              "      <td>0</td>\n",
              "      <td>0</td>\n",
              "      <td>...</td>\n",
              "      <td>0</td>\n",
              "      <td>0</td>\n",
              "      <td>0</td>\n",
              "      <td>0</td>\n",
              "      <td>0</td>\n",
              "      <td>0</td>\n",
              "      <td>0</td>\n",
              "      <td>0</td>\n",
              "      <td>0</td>\n",
              "      <td>0</td>\n",
              "      <td>0</td>\n",
              "      <td>0</td>\n",
              "      <td>0</td>\n",
              "      <td>0</td>\n",
              "      <td>0</td>\n",
              "      <td>0</td>\n",
              "      <td>0</td>\n",
              "      <td>0</td>\n",
              "      <td>0</td>\n",
              "      <td>0</td>\n",
              "      <td>0</td>\n",
              "      <td>0</td>\n",
              "      <td>0</td>\n",
              "      <td>0</td>\n",
              "      <td>1</td>\n",
              "      <td>0</td>\n",
              "      <td>0</td>\n",
              "      <td>0</td>\n",
              "      <td>0</td>\n",
              "      <td>0</td>\n",
              "      <td>0</td>\n",
              "      <td>0</td>\n",
              "      <td>0</td>\n",
              "      <td>0</td>\n",
              "      <td>0</td>\n",
              "      <td>0</td>\n",
              "      <td>0</td>\n",
              "      <td>1</td>\n",
              "      <td>1</td>\n",
              "      <td>303270</td>\n",
              "    </tr>\n",
              "    <tr>\n",
              "      <th>13</th>\n",
              "      <td>24</td>\n",
              "      <td>221012</td>\n",
              "      <td>2</td>\n",
              "      <td>1</td>\n",
              "      <td>0</td>\n",
              "      <td>0</td>\n",
              "      <td>0</td>\n",
              "      <td>0</td>\n",
              "      <td>0</td>\n",
              "      <td>0</td>\n",
              "      <td>0</td>\n",
              "      <td>0</td>\n",
              "      <td>0</td>\n",
              "      <td>0</td>\n",
              "      <td>0</td>\n",
              "      <td>0</td>\n",
              "      <td>0</td>\n",
              "      <td>0</td>\n",
              "      <td>0</td>\n",
              "      <td>0</td>\n",
              "      <td>0</td>\n",
              "      <td>0</td>\n",
              "      <td>0</td>\n",
              "      <td>0</td>\n",
              "      <td>0</td>\n",
              "      <td>0</td>\n",
              "      <td>0</td>\n",
              "      <td>0</td>\n",
              "      <td>0</td>\n",
              "      <td>0</td>\n",
              "      <td>0</td>\n",
              "      <td>0</td>\n",
              "      <td>0</td>\n",
              "      <td>0</td>\n",
              "      <td>0</td>\n",
              "      <td>0</td>\n",
              "      <td>0</td>\n",
              "      <td>0</td>\n",
              "      <td>0</td>\n",
              "      <td>0</td>\n",
              "      <td>...</td>\n",
              "      <td>0</td>\n",
              "      <td>0</td>\n",
              "      <td>0</td>\n",
              "      <td>0</td>\n",
              "      <td>0</td>\n",
              "      <td>0</td>\n",
              "      <td>0</td>\n",
              "      <td>0</td>\n",
              "      <td>0</td>\n",
              "      <td>0</td>\n",
              "      <td>0</td>\n",
              "      <td>0</td>\n",
              "      <td>0</td>\n",
              "      <td>0</td>\n",
              "      <td>0</td>\n",
              "      <td>0</td>\n",
              "      <td>0</td>\n",
              "      <td>0</td>\n",
              "      <td>0</td>\n",
              "      <td>0</td>\n",
              "      <td>0</td>\n",
              "      <td>0</td>\n",
              "      <td>0</td>\n",
              "      <td>0</td>\n",
              "      <td>1</td>\n",
              "      <td>0</td>\n",
              "      <td>0</td>\n",
              "      <td>0</td>\n",
              "      <td>0</td>\n",
              "      <td>0</td>\n",
              "      <td>0</td>\n",
              "      <td>0</td>\n",
              "      <td>0</td>\n",
              "      <td>0</td>\n",
              "      <td>0</td>\n",
              "      <td>0</td>\n",
              "      <td>0</td>\n",
              "      <td>1</td>\n",
              "      <td>1</td>\n",
              "      <td>448432</td>\n",
              "    </tr>\n",
              "    <tr>\n",
              "      <th>21</th>\n",
              "      <td>24</td>\n",
              "      <td>221012</td>\n",
              "      <td>2</td>\n",
              "      <td>1</td>\n",
              "      <td>0</td>\n",
              "      <td>0</td>\n",
              "      <td>0</td>\n",
              "      <td>0</td>\n",
              "      <td>0</td>\n",
              "      <td>0</td>\n",
              "      <td>0</td>\n",
              "      <td>0</td>\n",
              "      <td>0</td>\n",
              "      <td>0</td>\n",
              "      <td>0</td>\n",
              "      <td>0</td>\n",
              "      <td>0</td>\n",
              "      <td>0</td>\n",
              "      <td>0</td>\n",
              "      <td>0</td>\n",
              "      <td>0</td>\n",
              "      <td>0</td>\n",
              "      <td>0</td>\n",
              "      <td>0</td>\n",
              "      <td>0</td>\n",
              "      <td>0</td>\n",
              "      <td>0</td>\n",
              "      <td>0</td>\n",
              "      <td>0</td>\n",
              "      <td>0</td>\n",
              "      <td>0</td>\n",
              "      <td>0</td>\n",
              "      <td>0</td>\n",
              "      <td>0</td>\n",
              "      <td>0</td>\n",
              "      <td>0</td>\n",
              "      <td>0</td>\n",
              "      <td>0</td>\n",
              "      <td>0</td>\n",
              "      <td>0</td>\n",
              "      <td>...</td>\n",
              "      <td>0</td>\n",
              "      <td>0</td>\n",
              "      <td>0</td>\n",
              "      <td>0</td>\n",
              "      <td>0</td>\n",
              "      <td>0</td>\n",
              "      <td>0</td>\n",
              "      <td>0</td>\n",
              "      <td>0</td>\n",
              "      <td>0</td>\n",
              "      <td>0</td>\n",
              "      <td>0</td>\n",
              "      <td>0</td>\n",
              "      <td>0</td>\n",
              "      <td>0</td>\n",
              "      <td>0</td>\n",
              "      <td>0</td>\n",
              "      <td>0</td>\n",
              "      <td>0</td>\n",
              "      <td>0</td>\n",
              "      <td>0</td>\n",
              "      <td>0</td>\n",
              "      <td>0</td>\n",
              "      <td>0</td>\n",
              "      <td>1</td>\n",
              "      <td>0</td>\n",
              "      <td>0</td>\n",
              "      <td>0</td>\n",
              "      <td>0</td>\n",
              "      <td>0</td>\n",
              "      <td>0</td>\n",
              "      <td>0</td>\n",
              "      <td>0</td>\n",
              "      <td>0</td>\n",
              "      <td>0</td>\n",
              "      <td>0</td>\n",
              "      <td>0</td>\n",
              "      <td>1</td>\n",
              "      <td>1</td>\n",
              "      <td>195697</td>\n",
              "    </tr>\n",
              "    <tr>\n",
              "      <th>50</th>\n",
              "      <td>24</td>\n",
              "      <td>221012</td>\n",
              "      <td>2</td>\n",
              "      <td>1</td>\n",
              "      <td>0</td>\n",
              "      <td>0</td>\n",
              "      <td>0</td>\n",
              "      <td>0</td>\n",
              "      <td>0</td>\n",
              "      <td>0</td>\n",
              "      <td>0</td>\n",
              "      <td>0</td>\n",
              "      <td>0</td>\n",
              "      <td>0</td>\n",
              "      <td>0</td>\n",
              "      <td>0</td>\n",
              "      <td>0</td>\n",
              "      <td>0</td>\n",
              "      <td>0</td>\n",
              "      <td>0</td>\n",
              "      <td>0</td>\n",
              "      <td>0</td>\n",
              "      <td>0</td>\n",
              "      <td>0</td>\n",
              "      <td>0</td>\n",
              "      <td>0</td>\n",
              "      <td>0</td>\n",
              "      <td>0</td>\n",
              "      <td>0</td>\n",
              "      <td>0</td>\n",
              "      <td>0</td>\n",
              "      <td>0</td>\n",
              "      <td>0</td>\n",
              "      <td>0</td>\n",
              "      <td>0</td>\n",
              "      <td>0</td>\n",
              "      <td>0</td>\n",
              "      <td>0</td>\n",
              "      <td>0</td>\n",
              "      <td>0</td>\n",
              "      <td>...</td>\n",
              "      <td>0</td>\n",
              "      <td>0</td>\n",
              "      <td>0</td>\n",
              "      <td>0</td>\n",
              "      <td>0</td>\n",
              "      <td>0</td>\n",
              "      <td>0</td>\n",
              "      <td>0</td>\n",
              "      <td>0</td>\n",
              "      <td>0</td>\n",
              "      <td>0</td>\n",
              "      <td>0</td>\n",
              "      <td>0</td>\n",
              "      <td>0</td>\n",
              "      <td>0</td>\n",
              "      <td>0</td>\n",
              "      <td>0</td>\n",
              "      <td>0</td>\n",
              "      <td>0</td>\n",
              "      <td>0</td>\n",
              "      <td>0</td>\n",
              "      <td>0</td>\n",
              "      <td>0</td>\n",
              "      <td>0</td>\n",
              "      <td>1</td>\n",
              "      <td>0</td>\n",
              "      <td>0</td>\n",
              "      <td>0</td>\n",
              "      <td>0</td>\n",
              "      <td>0</td>\n",
              "      <td>0</td>\n",
              "      <td>0</td>\n",
              "      <td>0</td>\n",
              "      <td>0</td>\n",
              "      <td>0</td>\n",
              "      <td>0</td>\n",
              "      <td>0</td>\n",
              "      <td>1</td>\n",
              "      <td>1</td>\n",
              "      <td>191173</td>\n",
              "    </tr>\n",
              "  </tbody>\n",
              "</table>\n",
              "<p>5 rows × 200 columns</p>\n",
              "</div>"
            ],
            "text/plain": [
              "    age  playcount  ...  User_ID  Author_ID_Non_Recommended\n",
              "0    24     221012  ...        1                     370733\n",
              "5    24     221012  ...        1                     303270\n",
              "13   24     221012  ...        1                     448432\n",
              "21   24     221012  ...        1                     195697\n",
              "50   24     221012  ...        1                     191173\n",
              "\n",
              "[5 rows x 200 columns]"
            ]
          },
          "metadata": {
            "tags": []
          },
          "execution_count": 35
        }
      ]
    },
    {
      "cell_type": "code",
      "metadata": {
        "id": "duXakCj1AqTC",
        "colab_type": "code",
        "colab": {}
      },
      "source": [
        "#2628315*0.2=525663\n",
        "#2628315-525663=2102652\n",
        "#dataset for prediction\n",
        "user_test_negative = users_negative[2102652:]"
      ],
      "execution_count": null,
      "outputs": []
    },
    {
      "cell_type": "markdown",
      "metadata": {
        "id": "lXjNg_c0Gy7U",
        "colab_type": "text"
      },
      "source": [
        "Делим на train/test"
      ]
    },
    {
      "cell_type": "code",
      "metadata": {
        "id": "s8ANui5DCvyW",
        "colab_type": "code",
        "colab": {}
      },
      "source": [
        "X_train, X_test, y_train, y_test = train_test_split(users_negative.drop(columns=['User_ID','subscribertype']),\n",
        "                                                    users_negative['subscribertype'], test_size=0.2, random_state=54)"
      ],
      "execution_count": null,
      "outputs": []
    },
    {
      "cell_type": "code",
      "metadata": {
        "id": "RDqbb9fzC6aD",
        "colab_type": "code",
        "colab": {}
      },
      "source": [
        "#Обучаем модель:\n",
        "ensemble = RandomForestClassifier(criterion='gini', min_samples_leaf=10, max_depth=20, n_estimators=10, random_state=54)\n",
        "clf_nforest = OneVsRestClassifier(ensemble).fit(X_train, y_train)"
      ],
      "execution_count": null,
      "outputs": []
    },
    {
      "cell_type": "code",
      "metadata": {
        "id": "t2uvgiWxDbTZ",
        "colab_type": "code",
        "colab": {}
      },
      "source": [
        "y_npred = clf_nforest.predict(X_test)"
      ],
      "execution_count": null,
      "outputs": []
    },
    {
      "cell_type": "code",
      "metadata": {
        "id": "WNG5VfYCDeb8",
        "colab_type": "code",
        "colab": {
          "base_uri": "https://localhost:8080/",
          "height": 51
        },
        "outputId": "ca3111d2-7940-4597-efa4-1223b60be6a2"
      },
      "source": [
        "#Выполняем оценку:\n",
        "confusion_matrix(y_test, y_npred)"
      ],
      "execution_count": null,
      "outputs": [
        {
          "output_type": "execute_result",
          "data": {
            "text/plain": [
              "array([[  5265,  13864],\n",
              "       [     1, 506533]])"
            ]
          },
          "metadata": {
            "tags": []
          },
          "execution_count": 42
        }
      ]
    },
    {
      "cell_type": "code",
      "metadata": {
        "id": "_r_EKGw9DUhe",
        "colab_type": "code",
        "colab": {
          "base_uri": "https://localhost:8080/",
          "height": 34
        },
        "outputId": "12bb2725-894a-4b14-c1a1-ef6ad97849dd"
      },
      "source": [
        "#result for index 0\n",
        "clf_nforest.predict_proba(user_test_negative.drop(columns=['User_ID','subscribertype']))[0]"
      ],
      "execution_count": null,
      "outputs": [
        {
          "output_type": "execute_result",
          "data": {
            "text/plain": [
              "array([0.01575328, 0.98424672])"
            ]
          },
          "metadata": {
            "tags": []
          },
          "execution_count": 43
        }
      ]
    },
    {
      "cell_type": "markdown",
      "metadata": {
        "id": "CzzIGRXyGduf",
        "colab_type": "text"
      },
      "source": [
        "##### Анализируем данные по модели Ансамбли для отрицательных вариантов"
      ]
    },
    {
      "cell_type": "code",
      "metadata": {
        "id": "w48sHXG0Dm17",
        "colab_type": "code",
        "colab": {}
      },
      "source": [
        "data_negative = clf_nforest.predict_proba(user_test_negative.drop(columns=['User_ID','subscribertype']))"
      ],
      "execution_count": null,
      "outputs": []
    },
    {
      "cell_type": "code",
      "metadata": {
        "id": "Sloey2hfDx4i",
        "colab_type": "code",
        "colab": {}
      },
      "source": [
        "data_negative = pd.concat([pd.DataFrame(data_negative, columns=['base','premium']),user_test_negative.reset_index()], axis = 1)"
      ],
      "execution_count": null,
      "outputs": []
    },
    {
      "cell_type": "code",
      "metadata": {
        "id": "gqmOutzZEAjU",
        "colab_type": "code",
        "colab": {
          "base_uri": "https://localhost:8080/",
          "height": 34
        },
        "outputId": "01188b90-f50c-4e84-9616-56b8e7ab7b94"
      },
      "source": [
        "#found out mean group by one user id to check further values\n",
        "data_negative[data_negative['User_ID'] == 37505]['base'].mean()"
      ],
      "execution_count": null,
      "outputs": [
        {
          "output_type": "execute_result",
          "data": {
            "text/plain": [
              "0.04172610130914368"
            ]
          },
          "metadata": {
            "tags": []
          },
          "execution_count": 52
        }
      ]
    },
    {
      "cell_type": "code",
      "metadata": {
        "id": "4_AB1yIrEG3w",
        "colab_type": "code",
        "colab": {}
      },
      "source": [
        "data_negative.drop(data_negative.columns.difference(['base','premium','User_ID']), 1, inplace=True)"
      ],
      "execution_count": null,
      "outputs": []
    },
    {
      "cell_type": "code",
      "metadata": {
        "id": "OE1exCVPEhDV",
        "colab_type": "code",
        "colab": {
          "base_uri": "https://localhost:8080/",
          "height": 71
        },
        "outputId": "a2bea6c1-d316-4adb-f5ee-147fdf3dd5d9"
      },
      "source": [
        "data_negative = data_negative.groupby('User_ID')['base','premium'].mean()"
      ],
      "execution_count": null,
      "outputs": [
        {
          "output_type": "stream",
          "text": [
            "/usr/local/lib/python3.6/dist-packages/ipykernel_launcher.py:1: FutureWarning: Indexing with multiple keys (implicitly converted to a tuple of keys) will be deprecated, use a list instead.\n",
            "  \"\"\"Entry point for launching an IPython kernel.\n"
          ],
          "name": "stderr"
        }
      ]
    },
    {
      "cell_type": "code",
      "metadata": {
        "id": "uBlSwBOIFYmC",
        "colab_type": "code",
        "colab": {}
      },
      "source": [
        "data_negative = data_negative.reset_index()"
      ],
      "execution_count": null,
      "outputs": []
    },
    {
      "cell_type": "code",
      "metadata": {
        "id": "kvnJ_8ESElsl",
        "colab_type": "code",
        "colab": {
          "base_uri": "https://localhost:8080/",
          "height": 80
        },
        "outputId": "7ab2bb69-1637-4727-864b-6341f8b4b1df"
      },
      "source": [
        "data_negative[data_negative['User_ID'] == 37505]"
      ],
      "execution_count": null,
      "outputs": [
        {
          "output_type": "execute_result",
          "data": {
            "text/html": [
              "<div>\n",
              "<style scoped>\n",
              "    .dataframe tbody tr th:only-of-type {\n",
              "        vertical-align: middle;\n",
              "    }\n",
              "\n",
              "    .dataframe tbody tr th {\n",
              "        vertical-align: top;\n",
              "    }\n",
              "\n",
              "    .dataframe thead th {\n",
              "        text-align: right;\n",
              "    }\n",
              "</style>\n",
              "<table border=\"1\" class=\"dataframe\">\n",
              "  <thead>\n",
              "    <tr style=\"text-align: right;\">\n",
              "      <th></th>\n",
              "      <th>User_ID</th>\n",
              "      <th>base</th>\n",
              "      <th>premium</th>\n",
              "    </tr>\n",
              "  </thead>\n",
              "  <tbody>\n",
              "    <tr>\n",
              "      <th>343</th>\n",
              "      <td>37505</td>\n",
              "      <td>0.041726</td>\n",
              "      <td>0.958274</td>\n",
              "    </tr>\n",
              "  </tbody>\n",
              "</table>\n",
              "</div>"
            ],
            "text/plain": [
              "     User_ID      base   premium\n",
              "343    37505  0.041726  0.958274"
            ]
          },
          "metadata": {
            "tags": []
          },
          "execution_count": 67
        }
      ]
    },
    {
      "cell_type": "markdown",
      "metadata": {
        "id": "EkHXyTCsHMZi",
        "colab_type": "text"
      },
      "source": [
        "Оценим точность модели"
      ]
    },
    {
      "cell_type": "code",
      "metadata": {
        "id": "FT0NV-zRFKH1",
        "colab_type": "code",
        "colab": {
          "base_uri": "https://localhost:8080/",
          "height": 34
        },
        "outputId": "fe6c6d5d-4030-4bc2-b62f-007c8a008a2b"
      },
      "source": [
        "accuracy_score(list(y_test), clf_nforest.predict(X_test))"
      ],
      "execution_count": null,
      "outputs": [
        {
          "output_type": "execute_result",
          "data": {
            "text/plain": [
              "0.9736237855812564"
            ]
          },
          "metadata": {
            "tags": []
          },
          "execution_count": 68
        }
      ]
    },
    {
      "cell_type": "code",
      "metadata": {
        "id": "m0j_iF-jFkl9",
        "colab_type": "code",
        "colab": {}
      },
      "source": [
        "data_negative.to_csv('subscribertype_negative', index = False)"
      ],
      "execution_count": null,
      "outputs": []
    },
    {
      "cell_type": "markdown",
      "metadata": {
        "id": "0lhjb3cuG9Dm",
        "colab_type": "text"
      },
      "source": [
        "####   Результат"
      ]
    },
    {
      "cell_type": "markdown",
      "metadata": {
        "id": "hb0n3OgAFpmY",
        "colab_type": "text"
      },
      "source": [
        "Соединяем данные по вероятности подписки из обоих моделей"
      ]
    },
    {
      "cell_type": "code",
      "metadata": {
        "id": "g_nLWYR1Fp0N",
        "colab_type": "code",
        "colab": {}
      },
      "source": [
        "subscribertype_prorability = data_positive.append(data_negative)"
      ],
      "execution_count": null,
      "outputs": []
    },
    {
      "cell_type": "code",
      "metadata": {
        "id": "D6GLlLcUGBQJ",
        "colab_type": "code",
        "colab": {
          "base_uri": "https://localhost:8080/",
          "height": 71
        },
        "outputId": "903afe69-d52a-40de-c9f0-5b45a5da582a"
      },
      "source": [
        "subscribertype_prorability = subscribertype_prorability.groupby('User_ID')['base','premium'].mean()"
      ],
      "execution_count": null,
      "outputs": [
        {
          "output_type": "stream",
          "text": [
            "/usr/local/lib/python3.6/dist-packages/ipykernel_launcher.py:1: FutureWarning: Indexing with multiple keys (implicitly converted to a tuple of keys) will be deprecated, use a list instead.\n",
            "  \"\"\"Entry point for launching an IPython kernel.\n"
          ],
          "name": "stderr"
        }
      ]
    },
    {
      "cell_type": "code",
      "metadata": {
        "id": "lf20z4d0GIXT",
        "colab_type": "code",
        "colab": {}
      },
      "source": [
        "subscribertype_prorability = subscribertype_prorability.reset_index()"
      ],
      "execution_count": null,
      "outputs": []
    },
    {
      "cell_type": "markdown",
      "metadata": {
        "id": "YNyX-iZkL2XO",
        "colab_type": "text"
      },
      "source": [
        "**Пример применения:** Результат можно отсортировать для предоставления скидок, покупателям, которые с вероятностью >50% могут совершить покупку подписки, при этом диапазон [50%:100%, step = 5%] может быть разбит для уменьшения предоставляемой скидки (чем больше вероятность покупки, тем меньше скидка)."
      ]
    },
    {
      "cell_type": "code",
      "metadata": {
        "id": "aQY9z-WOHXtn",
        "colab_type": "code",
        "colab": {
          "base_uri": "https://localhost:8080/",
          "height": 204
        },
        "outputId": "f6813130-6537-4369-bd34-ec87a3cab690"
      },
      "source": [
        "subscribertype_prorability.head()"
      ],
      "execution_count": null,
      "outputs": [
        {
          "output_type": "execute_result",
          "data": {
            "text/html": [
              "<div>\n",
              "<style scoped>\n",
              "    .dataframe tbody tr th:only-of-type {\n",
              "        vertical-align: middle;\n",
              "    }\n",
              "\n",
              "    .dataframe tbody tr th {\n",
              "        vertical-align: top;\n",
              "    }\n",
              "\n",
              "    .dataframe thead th {\n",
              "        text-align: right;\n",
              "    }\n",
              "</style>\n",
              "<table border=\"1\" class=\"dataframe\">\n",
              "  <thead>\n",
              "    <tr style=\"text-align: right;\">\n",
              "      <th></th>\n",
              "      <th>User_ID</th>\n",
              "      <th>base</th>\n",
              "      <th>premium</th>\n",
              "    </tr>\n",
              "  </thead>\n",
              "  <tbody>\n",
              "    <tr>\n",
              "      <th>0</th>\n",
              "      <td>36986</td>\n",
              "      <td>0.015753</td>\n",
              "      <td>0.984247</td>\n",
              "    </tr>\n",
              "    <tr>\n",
              "      <th>1</th>\n",
              "      <td>36987</td>\n",
              "      <td>0.006972</td>\n",
              "      <td>0.993028</td>\n",
              "    </tr>\n",
              "    <tr>\n",
              "      <th>2</th>\n",
              "      <td>36988</td>\n",
              "      <td>0.016043</td>\n",
              "      <td>0.983957</td>\n",
              "    </tr>\n",
              "    <tr>\n",
              "      <th>3</th>\n",
              "      <td>36989</td>\n",
              "      <td>0.017566</td>\n",
              "      <td>0.982434</td>\n",
              "    </tr>\n",
              "    <tr>\n",
              "      <th>4</th>\n",
              "      <td>36990</td>\n",
              "      <td>0.024257</td>\n",
              "      <td>0.975743</td>\n",
              "    </tr>\n",
              "  </tbody>\n",
              "</table>\n",
              "</div>"
            ],
            "text/plain": [
              "   User_ID      base   premium\n",
              "0    36986  0.015753  0.984247\n",
              "1    36987  0.006972  0.993028\n",
              "2    36988  0.016043  0.983957\n",
              "3    36989  0.017566  0.982434\n",
              "4    36990  0.024257  0.975743"
            ]
          },
          "metadata": {
            "tags": []
          },
          "execution_count": 77
        }
      ]
    },
    {
      "cell_type": "markdown",
      "metadata": {
        "id": "NpE3czcDLmNy",
        "colab_type": "text"
      },
      "source": [
        "Предсказания base - premium"
      ]
    },
    {
      "cell_type": "code",
      "metadata": {
        "id": "GBLvJmrPHn71",
        "colab_type": "code",
        "colab": {}
      },
      "source": [
        "subscribertype = subscribertype_prorability.drop('base', axis = 1)"
      ],
      "execution_count": null,
      "outputs": []
    },
    {
      "cell_type": "code",
      "metadata": {
        "id": "v_-GcJGvHvVx",
        "colab_type": "code",
        "colab": {}
      },
      "source": [
        "subscribertype['premium'] = round(subscribertype_prorability['premium']).astype(int)"
      ],
      "execution_count": null,
      "outputs": []
    },
    {
      "cell_type": "code",
      "metadata": {
        "id": "-OJH9VrjID5E",
        "colab_type": "code",
        "colab": {}
      },
      "source": [
        "subscribertype['premium'] = subscribertype['premium'].replace([1],'premium', regex=False).replace([0],'base', regex=False)"
      ],
      "execution_count": null,
      "outputs": []
    },
    {
      "cell_type": "code",
      "metadata": {
        "id": "5_7q6MWVI637",
        "colab_type": "code",
        "colab": {}
      },
      "source": [
        "subscribertype = subscribertype.rename(columns = {'premium':'subscribertype'})"
      ],
      "execution_count": null,
      "outputs": []
    },
    {
      "cell_type": "code",
      "metadata": {
        "id": "Iwwr88V9KNMn",
        "colab_type": "code",
        "colab": {
          "base_uri": "https://localhost:8080/",
          "height": 333
        },
        "outputId": "1b17202f-6db0-4ba5-f47f-b28d4264890e"
      },
      "source": [
        "#visualization subscribertype - user_id\n",
        "#blue is base\n",
        "#orange is premium\n",
        "subscribertype.groupby('subscribertype').User_ID.plot(kind='kde')"
      ],
      "execution_count": null,
      "outputs": [
        {
          "output_type": "execute_result",
          "data": {
            "text/plain": [
              "subscribertype\n",
              "base       AxesSubplot(0.125,0.125;0.775x0.755)\n",
              "premium    AxesSubplot(0.125,0.125;0.775x0.755)\n",
              "Name: User_ID, dtype: object"
            ]
          },
          "metadata": {
            "tags": []
          },
          "execution_count": 112
        },
        {
          "output_type": "display_data",
          "data": {
            "image/png": "[encoded data removed]",
            "text/plain": [
              "<Figure size 432x288 with 1 Axes>"
            ]
          },
          "metadata": {
            "tags": [],
            "needs_background": "light"
          }
        }
      ]
    },
    {
      "cell_type": "markdown",
      "metadata": {
        "id": "5QDsNuDSJmhC",
        "colab_type": "text"
      },
      "source": [
        "# Методы для построения векторных представлений "
      ]
    },
    {
      "cell_type": "markdown",
      "metadata": {
        "id": "4hh0lYMbIxUc",
        "colab_type": "text"
      },
      "source": [
        "Импортируем датасет для этого пункта"
      ]
    },
    {
      "cell_type": "code",
      "metadata": {
        "id": "3tYHlV0DvGT0",
        "colab_type": "code",
        "colab": {}
      },
      "source": [
        "#Для удаление не нужных символов в названиях трека\n",
        "def _convert_to_unicode(text):\n",
        "    if '%' in text:\n",
        "        text = urllib.parse.unquote(text)\n",
        "    return text.replace('+',' ')"
      ],
      "execution_count": 8,
      "outputs": []
    },
    {
      "cell_type": "markdown",
      "metadata": {
        "id": "B1OWVaecI2RB",
        "colab_type": "text"
      },
      "source": [
        "Датасет позитивных и негативных *Пользователь - Слушает - Автор*"
      ]
    },
    {
      "cell_type": "code",
      "metadata": {
        "id": "gzY6iwxFbcDN",
        "colab_type": "code",
        "colab": {}
      },
      "source": [
        "author_positive = pd.read_csv('/content/id_recomended.csv')\n",
        "author_negative = pd.read_csv('/content/id_non_recomended.csv')"
      ],
      "execution_count": 11,
      "outputs": []
    },
    {
      "cell_type": "markdown",
      "metadata": {
        "id": "24-MbclDJFRH",
        "colab_type": "text"
      },
      "source": [
        "Датасет *Автор - Имя*"
      ]
    },
    {
      "cell_type": "code",
      "metadata": {
        "id": "VmUySH_XvAK7",
        "colab_type": "code",
        "colab": {}
      },
      "source": [
        "persons = pd.read_csv('/content/persons.csv')"
      ],
      "execution_count": 12,
      "outputs": []
    },
    {
      "cell_type": "code",
      "metadata": {
        "id": "SN87U8i10OK1",
        "colab_type": "code",
        "colab": {}
      },
      "source": [
        "persons['Track_Name'] = persons['Track_Name'].astype(str)\n",
        "persons['Track_Name'] = persons['Track_Name'].apply(lambda x: _convert_to_unicode(x))\n",
        "persons = persons.rename(columns={'1':'Author_ID'})\n",
        "persons['Author_ID'] = persons['Author_ID'].astype(str)"
      ],
      "execution_count": 13,
      "outputs": []
    },
    {
      "cell_type": "code",
      "metadata": {
        "id": "E7OHzN3LwWMw",
        "colab_type": "code",
        "colab": {}
      },
      "source": [
        "#Удаляем дубликаты колонки - Автор, т.к. по этим данным будет осуществляться оценка похожих авторов, а не названия треков\n",
        "persons = persons.drop_duplicates(subset=['Author_ID'])"
      ],
      "execution_count": 14,
      "outputs": []
    },
    {
      "cell_type": "code",
      "metadata": {
        "id": "qHY4oOE5woqV",
        "colab_type": "code",
        "colab": {}
      },
      "source": [
        "#Создаем листы Автор - Имя и Имя - Автор.\n",
        "author_track = dict(zip(persons.Author_ID.values, persons.Track_Name.values))\n",
        "track_author = dict(zip(persons.Track_Name.values, persons.Author_ID.values))"
      ],
      "execution_count": 15,
      "outputs": []
    },
    {
      "cell_type": "markdown",
      "metadata": {
        "id": "ltLbMRF5L9Mn",
        "colab_type": "text"
      },
      "source": [
        "## Подготовка тренировочных и тестовых данных"
      ]
    },
    {
      "cell_type": "code",
      "metadata": {
        "id": "SqHLUVH94J1s",
        "colab_type": "code",
        "colab": {}
      },
      "source": [
        "#Добавляем рейтинг равный 1 для позитивных данных\n",
        "author_positive = author_positive.rename(columns={'Author_ID_Recommended':'Author_ID'})\n",
        "author_positive.insert(2, 'Rating', 1)"
      ],
      "execution_count": null,
      "outputs": []
    },
    {
      "cell_type": "code",
      "metadata": {
        "id": "Mb4bENXH4V8s",
        "colab_type": "code",
        "colab": {}
      },
      "source": [
        "#Добавляем рейтинг равный 0 для негативных данных\n",
        "author_negative = author_negative.rename(columns={'Author_ID_Non_Recommended':'Author_ID'})\n",
        "author_negative.insert(2, 'Rating', 0)"
      ],
      "execution_count": null,
      "outputs": []
    },
    {
      "cell_type": "code",
      "metadata": {
        "id": "KJ3RsR0qZcP2",
        "colab_type": "code",
        "colab": {}
      },
      "source": [
        "#Создаем общий датасет\n",
        "authors=author_positive.append(author_negative)"
      ],
      "execution_count": null,
      "outputs": []
    },
    {
      "cell_type": "code",
      "metadata": {
        "id": "C0IpkKu0wd7e",
        "colab_type": "code",
        "colab": {
          "base_uri": "https://localhost:8080/",
          "height": 34
        },
        "outputId": "bdd8d54c-d1db-435a-f587-22be73870596"
      },
      "source": [
        "#Проверяем размер\n",
        "len(authors)"
      ],
      "execution_count": null,
      "outputs": [
        {
          "output_type": "execute_result",
          "data": {
            "text/plain": [
              "58173106"
            ]
          },
          "metadata": {
            "tags": []
          },
          "execution_count": 15
        }
      ]
    },
    {
      "cell_type": "code",
      "metadata": {
        "id": "3VdM1TPngl3R",
        "colab_type": "code",
        "colab": {}
      },
      "source": [
        "#Удаляем нулевые данные\n",
        "authors = authors[authors['Author_ID'] != 0]"
      ],
      "execution_count": null,
      "outputs": []
    },
    {
      "cell_type": "code",
      "metadata": {
        "id": "f-9CATkshZYp",
        "colab_type": "code",
        "colab": {}
      },
      "source": [
        "#Значения в int\n",
        "authors['User_ID'] = authors['User_ID'].astype(int)"
      ],
      "execution_count": null,
      "outputs": []
    },
    {
      "cell_type": "code",
      "metadata": {
        "id": "8IVpIDpDeUOf",
        "colab_type": "code",
        "colab": {
          "base_uri": "https://localhost:8080/",
          "height": 34
        },
        "outputId": "86445570-4628-4f74-d4db-d8236fdf8bb6"
      },
      "source": [
        "#Проверяем размер\n",
        "len(authors)"
      ],
      "execution_count": null,
      "outputs": [
        {
          "output_type": "execute_result",
          "data": {
            "text/plain": [
              "57883353"
            ]
          },
          "metadata": {
            "tags": []
          },
          "execution_count": 18
        }
      ]
    },
    {
      "cell_type": "code",
      "metadata": {
        "id": "b3u4mGYP4GFG",
        "colab_type": "code",
        "colab": {}
      },
      "source": [
        "#Удаляем переменные\n",
        "del author_positive, author_negative"
      ],
      "execution_count": null,
      "outputs": []
    },
    {
      "cell_type": "code",
      "metadata": {
        "id": "g66ojMue6vTp",
        "colab_type": "code",
        "colab": {
          "base_uri": "https://localhost:8080/",
          "height": 425
        },
        "outputId": "12a60893-fad5-4ef5-f7f4-cf15c9549061"
      },
      "source": [
        "# Рандомный вывод 5 записей датасета\n",
        "for df in list((persons, authors)):\n",
        "    rand_idx = np.random.choice(len(df), 5, replace=False)\n",
        "    display(df.iloc[rand_idx,:])\n",
        "    print(\"Displaying 5 of the total \"+str(len(df))+\" data points\")"
      ],
      "execution_count": null,
      "outputs": [
        {
          "output_type": "display_data",
          "data": {
            "text/html": [
              "<div>\n",
              "<style scoped>\n",
              "    .dataframe tbody tr th:only-of-type {\n",
              "        vertical-align: middle;\n",
              "    }\n",
              "\n",
              "    .dataframe tbody tr th {\n",
              "        vertical-align: top;\n",
              "    }\n",
              "\n",
              "    .dataframe thead th {\n",
              "        text-align: right;\n",
              "    }\n",
              "</style>\n",
              "<table border=\"1\" class=\"dataframe\">\n",
              "  <thead>\n",
              "    <tr style=\"text-align: right;\">\n",
              "      <th></th>\n",
              "      <th>Author_ID</th>\n",
              "      <th>Track_Name</th>\n",
              "    </tr>\n",
              "  </thead>\n",
              "  <tbody>\n",
              "    <tr>\n",
              "      <th>232707</th>\n",
              "      <td>297437</td>\n",
              "      <td>Roberto Conrado</td>\n",
              "    </tr>\n",
              "    <tr>\n",
              "      <th>383867</th>\n",
              "      <td>52936</td>\n",
              "      <td>Blues Creation</td>\n",
              "    </tr>\n",
              "    <tr>\n",
              "      <th>586840</th>\n",
              "      <td>6168</td>\n",
              "      <td>78424325</td>\n",
              "    </tr>\n",
              "    <tr>\n",
              "      <th>463608</th>\n",
              "      <td>467182</td>\n",
              "      <td>Kate Royal</td>\n",
              "    </tr>\n",
              "    <tr>\n",
              "      <th>273346</th>\n",
              "      <td>318688</td>\n",
              "      <td>Sidonie</td>\n",
              "    </tr>\n",
              "  </tbody>\n",
              "</table>\n",
              "</div>"
            ],
            "text/plain": [
              "       Author_ID       Track_Name\n",
              "232707    297437  Roberto Conrado\n",
              "383867     52936   Blues Creation\n",
              "586840      6168         78424325\n",
              "463608    467182       Kate Royal\n",
              "273346    318688          Sidonie"
            ]
          },
          "metadata": {
            "tags": []
          }
        },
        {
          "output_type": "stream",
          "text": [
            "Displaying 5 of the total 560927 data points\n"
          ],
          "name": "stdout"
        },
        {
          "output_type": "display_data",
          "data": {
            "text/html": [
              "<div>\n",
              "<style scoped>\n",
              "    .dataframe tbody tr th:only-of-type {\n",
              "        vertical-align: middle;\n",
              "    }\n",
              "\n",
              "    .dataframe tbody tr th {\n",
              "        vertical-align: top;\n",
              "    }\n",
              "\n",
              "    .dataframe thead th {\n",
              "        text-align: right;\n",
              "    }\n",
              "</style>\n",
              "<table border=\"1\" class=\"dataframe\">\n",
              "  <thead>\n",
              "    <tr style=\"text-align: right;\">\n",
              "      <th></th>\n",
              "      <th>User_ID</th>\n",
              "      <th>Author_ID</th>\n",
              "      <th>Rating</th>\n",
              "    </tr>\n",
              "  </thead>\n",
              "  <tbody>\n",
              "    <tr>\n",
              "      <th>29227074</th>\n",
              "      <td>31208</td>\n",
              "      <td>509046</td>\n",
              "      <td>1</td>\n",
              "    </tr>\n",
              "    <tr>\n",
              "      <th>18176215</th>\n",
              "      <td>41793</td>\n",
              "      <td>508741</td>\n",
              "      <td>1</td>\n",
              "    </tr>\n",
              "    <tr>\n",
              "      <th>8311274</th>\n",
              "      <td>40136</td>\n",
              "      <td>88074</td>\n",
              "      <td>1</td>\n",
              "    </tr>\n",
              "    <tr>\n",
              "      <th>1118771</th>\n",
              "      <td>43250</td>\n",
              "      <td>165636</td>\n",
              "      <td>0</td>\n",
              "    </tr>\n",
              "    <tr>\n",
              "      <th>3175118</th>\n",
              "      <td>36464</td>\n",
              "      <td>512890</td>\n",
              "      <td>1</td>\n",
              "    </tr>\n",
              "  </tbody>\n",
              "</table>\n",
              "</div>"
            ],
            "text/plain": [
              "          User_ID  Author_ID  Rating\n",
              "29227074    31208     509046       1\n",
              "18176215    41793     508741       1\n",
              "8311274     40136      88074       1\n",
              "1118771     43250     165636       0\n",
              "3175118     36464     512890       1"
            ]
          },
          "metadata": {
            "tags": []
          }
        },
        {
          "output_type": "stream",
          "text": [
            "Displaying 5 of the total 57883353 data points\n"
          ],
          "name": "stdout"
        }
      ]
    },
    {
      "cell_type": "markdown",
      "metadata": {
        "id": "uKUq8Yw4orvL",
        "colab_type": "text"
      },
      "source": [
        "В этом пункте необходимо, реализовать несколько методов (простой baseline и более сложную модель) для построения векторных представлений.\n",
        "\n",
        "**P.S.** Будет плюсом, если вы придумаете, как использовать дополнительную информацию из датасета. Это дополнение реализовано в п. \"Протокол оценки качества\".\n"
      ]
    },
    {
      "cell_type": "markdown",
      "metadata": {
        "id": "p9Wk3uWrYbbi",
        "colab_type": "text"
      },
      "source": [
        "## Тренировочные и тестовые данные"
      ]
    },
    {
      "cell_type": "markdown",
      "metadata": {
        "id": "SO2FUKDBNBUX",
        "colab_type": "text"
      },
      "source": [
        "Разделяем данные на тестовые 20% и тренировочные 80%."
      ]
    },
    {
      "cell_type": "code",
      "metadata": {
        "id": "734df2vX2tnc",
        "colab_type": "code",
        "colab": {}
      },
      "source": [
        "df_ratings_train, df_ratings_test= train_test_split(authors,\n",
        "                                                    stratify=authors['User_ID'],\n",
        "                                                    random_state = 4256,\n",
        "                                                    test_size=0.2)"
      ],
      "execution_count": null,
      "outputs": []
    },
    {
      "cell_type": "markdown",
      "metadata": {
        "id": "HzqZFfUoNKdD",
        "colab_type": "text"
      },
      "source": [
        "Количество данных"
      ]
    },
    {
      "cell_type": "code",
      "metadata": {
        "id": "dKMdKan45tfS",
        "colab_type": "code",
        "colab": {
          "base_uri": "https://localhost:8080/",
          "height": 51
        },
        "outputId": "0c3a4a67-d7f6-4b6e-8b93-afd256a6bca8"
      },
      "source": [
        "print(\"Number of training data: \"+str(len(df_ratings_train)))\n",
        "print(\"Number of test data: \"+str(len(df_ratings_test)))"
      ],
      "execution_count": null,
      "outputs": [
        {
          "output_type": "stream",
          "text": [
            "Number of training data: 46306682\n",
            "Number of test data: 11576671\n"
          ],
          "name": "stdout"
        }
      ]
    },
    {
      "cell_type": "markdown",
      "metadata": {
        "id": "71gtOUpgNN__",
        "colab_type": "text"
      },
      "source": [
        "Удаляем дубликаты"
      ]
    },
    {
      "cell_type": "code",
      "metadata": {
        "id": "D6p9Wl4NZ3Ul",
        "colab_type": "code",
        "colab": {}
      },
      "source": [
        "df_ratings_train = df_ratings_train.drop_duplicates(subset=['Author_ID','User_ID'])\n",
        "df_ratings_test = df_ratings_test.drop_duplicates(subset=['Author_ID','User_ID'])"
      ],
      "execution_count": null,
      "outputs": []
    },
    {
      "cell_type": "markdown",
      "metadata": {
        "id": "CL4hHV2ZNRlM",
        "colab_type": "text"
      },
      "source": [
        "Проверяем количество данных"
      ]
    },
    {
      "cell_type": "code",
      "metadata": {
        "id": "ZjmJKaPiaEDI",
        "colab_type": "code",
        "colab": {
          "base_uri": "https://localhost:8080/",
          "height": 51
        },
        "outputId": "01eff283-e260-4c71-de46-8de8d4fcf01b"
      },
      "source": [
        "print(\"Number of training data: \"+str(len(df_ratings_train)))\n",
        "print(\"Number of test data: \"+str(len(df_ratings_test)))"
      ],
      "execution_count": null,
      "outputs": [
        {
          "output_type": "stream",
          "text": [
            "Number of training data: 5593023\n",
            "Number of test data: 2718834\n"
          ],
          "name": "stdout"
        }
      ]
    },
    {
      "cell_type": "markdown",
      "metadata": {
        "id": "L1Ads6KlYe_c",
        "colab_type": "text"
      },
      "source": [
        "## Baseline модель"
      ]
    },
    {
      "cell_type": "markdown",
      "metadata": {
        "id": "MxX55hX7Ymox",
        "colab_type": "text"
      },
      "source": [
        "Применим метод к-ближайших соседей. Метод выбран, по причине того, что алгоритм может быть применим к выборкам с большим количеством атрибутов (многомерным), при взвешанном способе. При взвешенном способе во внимание принимается не только количество попавших в область определённых классов, но и их удалённость от нового значения. С помощью метода можно вычислять значение одного из атрибутов классифицируемого объекта на основании дистанций от попавших в область объектов и соответствующих значений этого же атрибута у объектов.\n",
        "\n",
        "**Примечания:** Для реализации задачи, нахождения ближайших авторов, подсознательно первое приходи на ум, метод к-ближайших соседей."
      ]
    },
    {
      "cell_type": "code",
      "metadata": {
        "id": "G4ybRazZ9I6b",
        "colab_type": "code",
        "colab": {}
      },
      "source": [
        "#Переведем значение индекса второв в int\n",
        "persons['Author_ID'] = persons['Author_ID'].astype(int)"
      ],
      "execution_count": null,
      "outputs": []
    },
    {
      "cell_type": "markdown",
      "metadata": {
        "id": "2PMF8nipIKZY",
        "colab_type": "text"
      },
      "source": [
        "### Подготовка данных"
      ]
    },
    {
      "cell_type": "markdown",
      "metadata": {
        "id": "_BgcCxU9ITnY",
        "colab_type": "text"
      },
      "source": [
        "Из-за ограничения RAM, принято несколько решений для подготовки данных, т.к. задуманно перевести для каждого пользователя значения в прослушанных авторов в 1, для применения метода ближайших соседей.\n",
        "\n",
        "1.\tМожно обучить модель на первой части тренировочных данных *5593023/2 = 2796511* и второй части. При этом сохранить лучший результат. (Проделано)\n",
        "2.\tПодготовить данные перед ресурсоемкой операцией, сохранить, сбросить память, и выполнит ресурскоемкую операцию. (Проделано)\n",
        "3.\tСократить данные. (Нет необходимости)\n",
        "\n",
        "**Примечание:** Ниже решение для п.2, т.к. вариант наиболее желательный для реализации.\n"
      ]
    },
    {
      "cell_type": "code",
      "metadata": {
        "id": "TntHf9ni7cte",
        "colab_type": "code",
        "colab": {
          "base_uri": "https://localhost:8080/",
          "height": 204
        },
        "outputId": "8250d2b4-bba7-4fa6-d152-6d301f9c64c0"
      },
      "source": [
        "#Объединим данные Автор-Пользователь с Названием трека\n",
        "df = pd.merge(df_ratings_train,persons,on='Author_ID')\n",
        "df.head()"
      ],
      "execution_count": null,
      "outputs": [
        {
          "output_type": "execute_result",
          "data": {
            "text/html": [
              "<div>\n",
              "<style scoped>\n",
              "    .dataframe tbody tr th:only-of-type {\n",
              "        vertical-align: middle;\n",
              "    }\n",
              "\n",
              "    .dataframe tbody tr th {\n",
              "        vertical-align: top;\n",
              "    }\n",
              "\n",
              "    .dataframe thead th {\n",
              "        text-align: right;\n",
              "    }\n",
              "</style>\n",
              "<table border=\"1\" class=\"dataframe\">\n",
              "  <thead>\n",
              "    <tr style=\"text-align: right;\">\n",
              "      <th></th>\n",
              "      <th>User_ID</th>\n",
              "      <th>Author_ID</th>\n",
              "      <th>Rating</th>\n",
              "      <th>Track_Name</th>\n",
              "    </tr>\n",
              "  </thead>\n",
              "  <tbody>\n",
              "    <tr>\n",
              "      <th>0</th>\n",
              "      <td>21819</td>\n",
              "      <td>287606</td>\n",
              "      <td>1</td>\n",
              "      <td>The Ramones</td>\n",
              "    </tr>\n",
              "    <tr>\n",
              "      <th>1</th>\n",
              "      <td>33399</td>\n",
              "      <td>287606</td>\n",
              "      <td>0</td>\n",
              "      <td>The Ramones</td>\n",
              "    </tr>\n",
              "    <tr>\n",
              "      <th>2</th>\n",
              "      <td>22368</td>\n",
              "      <td>287606</td>\n",
              "      <td>1</td>\n",
              "      <td>The Ramones</td>\n",
              "    </tr>\n",
              "    <tr>\n",
              "      <th>3</th>\n",
              "      <td>40011</td>\n",
              "      <td>287606</td>\n",
              "      <td>1</td>\n",
              "      <td>The Ramones</td>\n",
              "    </tr>\n",
              "    <tr>\n",
              "      <th>4</th>\n",
              "      <td>15495</td>\n",
              "      <td>287606</td>\n",
              "      <td>1</td>\n",
              "      <td>The Ramones</td>\n",
              "    </tr>\n",
              "  </tbody>\n",
              "</table>\n",
              "</div>"
            ],
            "text/plain": [
              "   User_ID  Author_ID  Rating   Track_Name\n",
              "0    21819     287606       1  The Ramones\n",
              "1    33399     287606       0  The Ramones\n",
              "2    22368     287606       1  The Ramones\n",
              "3    40011     287606       1  The Ramones\n",
              "4    15495     287606       1  The Ramones"
            ]
          },
          "metadata": {
            "tags": []
          },
          "execution_count": 25
        }
      ]
    },
    {
      "cell_type": "code",
      "metadata": {
        "id": "YxOuaL_-76-O",
        "colab_type": "code",
        "colab": {
          "base_uri": "https://localhost:8080/",
          "height": 204
        },
        "outputId": "f011ecb1-823c-4c8c-cf3a-ec2752ce99a4"
      },
      "source": [
        "#Сложим рейтинг для Авторов\n",
        "combine_artist_rating = df.dropna(axis = 0, subset = ['Track_Name'])\n",
        "artist_ratingCount = (combine_artist_rating.\n",
        "     groupby(by = ['Track_Name'])['Rating'].\n",
        "     count().\n",
        "     reset_index().\n",
        "     rename(columns = {'Rating': 'Total_Rating_Count'})\n",
        "     [['Track_Name', 'Total_Rating_Count']]\n",
        "    )\n",
        "artist_ratingCount.head()"
      ],
      "execution_count": null,
      "outputs": [
        {
          "output_type": "execute_result",
          "data": {
            "text/html": [
              "<div>\n",
              "<style scoped>\n",
              "    .dataframe tbody tr th:only-of-type {\n",
              "        vertical-align: middle;\n",
              "    }\n",
              "\n",
              "    .dataframe tbody tr th {\n",
              "        vertical-align: top;\n",
              "    }\n",
              "\n",
              "    .dataframe thead th {\n",
              "        text-align: right;\n",
              "    }\n",
              "</style>\n",
              "<table border=\"1\" class=\"dataframe\">\n",
              "  <thead>\n",
              "    <tr style=\"text-align: right;\">\n",
              "      <th></th>\n",
              "      <th>Track_Name</th>\n",
              "      <th>Total_Rating_Count</th>\n",
              "    </tr>\n",
              "  </thead>\n",
              "  <tbody>\n",
              "    <tr>\n",
              "      <th>0</th>\n",
              "      <td>! H</td>\n",
              "      <td>1</td>\n",
              "    </tr>\n",
              "    <tr>\n",
              "      <th>1</th>\n",
              "      <td>! WWW.POLSKIE-MP3.TK ! czerwono-czarni</td>\n",
              "      <td>1</td>\n",
              "    </tr>\n",
              "    <tr>\n",
              "      <th>2</th>\n",
              "      <td>! WWW.POLSKIE-MP3.TK ! lista przebojow program...</td>\n",
              "      <td>1</td>\n",
              "    </tr>\n",
              "    <tr>\n",
              "      <th>3</th>\n",
              "      <td>! WWW.POLSKIE-MP3.TK ! niebiesko-czarni</td>\n",
              "      <td>1</td>\n",
              "    </tr>\n",
              "    <tr>\n",
              "      <th>4</th>\n",
              "      <td>! WWW.POLSKIE-MP3.TK ! proleta</td>\n",
              "      <td>1</td>\n",
              "    </tr>\n",
              "  </tbody>\n",
              "</table>\n",
              "</div>"
            ],
            "text/plain": [
              "                                          Track_Name  Total_Rating_Count\n",
              "0                                                ! H                   1\n",
              "1             ! WWW.POLSKIE-MP3.TK ! czerwono-czarni                   1\n",
              "2  ! WWW.POLSKIE-MP3.TK ! lista przebojow program...                   1\n",
              "3            ! WWW.POLSKIE-MP3.TK ! niebiesko-czarni                   1\n",
              "4                     ! WWW.POLSKIE-MP3.TK ! proleta                   1"
            ]
          },
          "metadata": {
            "tags": []
          },
          "execution_count": 26
        }
      ]
    },
    {
      "cell_type": "code",
      "metadata": {
        "id": "cUj4dZba7-Xu",
        "colab_type": "code",
        "colab": {
          "base_uri": "https://localhost:8080/",
          "height": 204
        },
        "outputId": "3bb27a13-727b-4248-f466-0d6e81f51418"
      },
      "source": [
        "#Добавим столбец с общим рейтингом Автора\n",
        "rating_with_totalRatingCount = combine_artist_rating.merge(artist_ratingCount, left_on = 'Track_Name', right_on = 'Track_Name', how = 'left')\n",
        "rating_with_totalRatingCount.head()"
      ],
      "execution_count": null,
      "outputs": [
        {
          "output_type": "execute_result",
          "data": {
            "text/html": [
              "<div>\n",
              "<style scoped>\n",
              "    .dataframe tbody tr th:only-of-type {\n",
              "        vertical-align: middle;\n",
              "    }\n",
              "\n",
              "    .dataframe tbody tr th {\n",
              "        vertical-align: top;\n",
              "    }\n",
              "\n",
              "    .dataframe thead th {\n",
              "        text-align: right;\n",
              "    }\n",
              "</style>\n",
              "<table border=\"1\" class=\"dataframe\">\n",
              "  <thead>\n",
              "    <tr style=\"text-align: right;\">\n",
              "      <th></th>\n",
              "      <th>User_ID</th>\n",
              "      <th>Author_ID</th>\n",
              "      <th>Rating</th>\n",
              "      <th>Track_Name</th>\n",
              "      <th>Total_Rating_Count</th>\n",
              "    </tr>\n",
              "  </thead>\n",
              "  <tbody>\n",
              "    <tr>\n",
              "      <th>0</th>\n",
              "      <td>21819</td>\n",
              "      <td>287606</td>\n",
              "      <td>1</td>\n",
              "      <td>The Ramones</td>\n",
              "      <td>2334</td>\n",
              "    </tr>\n",
              "    <tr>\n",
              "      <th>1</th>\n",
              "      <td>33399</td>\n",
              "      <td>287606</td>\n",
              "      <td>0</td>\n",
              "      <td>The Ramones</td>\n",
              "      <td>2334</td>\n",
              "    </tr>\n",
              "    <tr>\n",
              "      <th>2</th>\n",
              "      <td>22368</td>\n",
              "      <td>287606</td>\n",
              "      <td>1</td>\n",
              "      <td>The Ramones</td>\n",
              "      <td>2334</td>\n",
              "    </tr>\n",
              "    <tr>\n",
              "      <th>3</th>\n",
              "      <td>40011</td>\n",
              "      <td>287606</td>\n",
              "      <td>1</td>\n",
              "      <td>The Ramones</td>\n",
              "      <td>2334</td>\n",
              "    </tr>\n",
              "    <tr>\n",
              "      <th>4</th>\n",
              "      <td>15495</td>\n",
              "      <td>287606</td>\n",
              "      <td>1</td>\n",
              "      <td>The Ramones</td>\n",
              "      <td>2334</td>\n",
              "    </tr>\n",
              "  </tbody>\n",
              "</table>\n",
              "</div>"
            ],
            "text/plain": [
              "   User_ID  Author_ID  Rating   Track_Name  Total_Rating_Count\n",
              "0    21819     287606       1  The Ramones                2334\n",
              "1    33399     287606       0  The Ramones                2334\n",
              "2    22368     287606       1  The Ramones                2334\n",
              "3    40011     287606       1  The Ramones                2334\n",
              "4    15495     287606       1  The Ramones                2334"
            ]
          },
          "metadata": {
            "tags": []
          },
          "execution_count": 27
        }
      ]
    },
    {
      "cell_type": "code",
      "metadata": {
        "id": "OQAnHJDI8Bcn",
        "colab_type": "code",
        "colab": {
          "base_uri": "https://localhost:8080/",
          "height": 170
        },
        "outputId": "2148ae62-29d8-4295-ab6e-e1dab314563b"
      },
      "source": [
        "#Оценим датасет\n",
        "pd.set_option('display.float_format', lambda x: '%.3f' % x)\n",
        "print(artist_ratingCount['Total_Rating_Count'].describe())"
      ],
      "execution_count": null,
      "outputs": [
        {
          "output_type": "stream",
          "text": [
            "count   499258.000\n",
            "mean        11.203\n",
            "std        100.667\n",
            "min          1.000\n",
            "25%          1.000\n",
            "50%          1.000\n",
            "75%          3.000\n",
            "max       8473.000\n",
            "Name: Total_Rating_Count, dtype: float64\n"
          ],
          "name": "stdout"
        }
      ]
    },
    {
      "cell_type": "code",
      "metadata": {
        "id": "j1Ux_xas8EbN",
        "colab_type": "code",
        "colab": {
          "base_uri": "https://localhost:8080/",
          "height": 204
        },
        "outputId": "343781f4-0130-48a3-f1b2-b37204cd2d96"
      },
      "source": [
        "#Добавим порог популярности, чтобы откинуть совсем не прослушиваемых Авторов\n",
        "popularity_threshold = 50\n",
        "rating_popular_artist= rating_with_totalRatingCount.query('Total_Rating_Count >= @popularity_threshold')\n",
        "rating_popular_artist.head()"
      ],
      "execution_count": null,
      "outputs": [
        {
          "output_type": "execute_result",
          "data": {
            "text/html": [
              "<div>\n",
              "<style scoped>\n",
              "    .dataframe tbody tr th:only-of-type {\n",
              "        vertical-align: middle;\n",
              "    }\n",
              "\n",
              "    .dataframe tbody tr th {\n",
              "        vertical-align: top;\n",
              "    }\n",
              "\n",
              "    .dataframe thead th {\n",
              "        text-align: right;\n",
              "    }\n",
              "</style>\n",
              "<table border=\"1\" class=\"dataframe\">\n",
              "  <thead>\n",
              "    <tr style=\"text-align: right;\">\n",
              "      <th></th>\n",
              "      <th>User_ID</th>\n",
              "      <th>Author_ID</th>\n",
              "      <th>Rating</th>\n",
              "      <th>Track_Name</th>\n",
              "      <th>Total_Rating_Count</th>\n",
              "    </tr>\n",
              "  </thead>\n",
              "  <tbody>\n",
              "    <tr>\n",
              "      <th>0</th>\n",
              "      <td>21819</td>\n",
              "      <td>287606</td>\n",
              "      <td>1</td>\n",
              "      <td>The Ramones</td>\n",
              "      <td>2334</td>\n",
              "    </tr>\n",
              "    <tr>\n",
              "      <th>1</th>\n",
              "      <td>33399</td>\n",
              "      <td>287606</td>\n",
              "      <td>0</td>\n",
              "      <td>The Ramones</td>\n",
              "      <td>2334</td>\n",
              "    </tr>\n",
              "    <tr>\n",
              "      <th>2</th>\n",
              "      <td>22368</td>\n",
              "      <td>287606</td>\n",
              "      <td>1</td>\n",
              "      <td>The Ramones</td>\n",
              "      <td>2334</td>\n",
              "    </tr>\n",
              "    <tr>\n",
              "      <th>3</th>\n",
              "      <td>40011</td>\n",
              "      <td>287606</td>\n",
              "      <td>1</td>\n",
              "      <td>The Ramones</td>\n",
              "      <td>2334</td>\n",
              "    </tr>\n",
              "    <tr>\n",
              "      <th>4</th>\n",
              "      <td>15495</td>\n",
              "      <td>287606</td>\n",
              "      <td>1</td>\n",
              "      <td>The Ramones</td>\n",
              "      <td>2334</td>\n",
              "    </tr>\n",
              "  </tbody>\n",
              "</table>\n",
              "</div>"
            ],
            "text/plain": [
              "   User_ID  Author_ID  Rating   Track_Name  Total_Rating_Count\n",
              "0    21819     287606       1  The Ramones                2334\n",
              "1    33399     287606       0  The Ramones                2334\n",
              "2    22368     287606       1  The Ramones                2334\n",
              "3    40011     287606       1  The Ramones                2334\n",
              "4    15495     287606       1  The Ramones                2334"
            ]
          },
          "metadata": {
            "tags": []
          },
          "execution_count": 29
        }
      ]
    },
    {
      "cell_type": "code",
      "metadata": {
        "id": "6ghzNkq18IcZ",
        "colab_type": "code",
        "colab": {
          "base_uri": "https://localhost:8080/",
          "height": 34
        },
        "outputId": "642d1272-97b2-4ab5-da9f-bdd7b267b52e"
      },
      "source": [
        "#Оценим размер\n",
        "rating_popular_artist.shape"
      ],
      "execution_count": null,
      "outputs": [
        {
          "output_type": "execute_result",
          "data": {
            "text/plain": [
              "(4042667, 5)"
            ]
          },
          "metadata": {
            "tags": []
          },
          "execution_count": 30
        }
      ]
    },
    {
      "cell_type": "code",
      "metadata": {
        "id": "QqfqFQWEFdGd",
        "colab_type": "code",
        "colab": {}
      },
      "source": [
        "#Сохраняем данные перед ресурсоемкой операции, и сбрасываем память \n",
        "rating_popular_artist.to_csv('rating_popular_artist')"
      ],
      "execution_count": null,
      "outputs": []
    },
    {
      "cell_type": "code",
      "metadata": {
        "id": "FUdBer26FyAN",
        "colab_type": "code",
        "colab": {}
      },
      "source": [
        "#Импортируем данные\n",
        "rating_popular_artist = pd.read_csv('/content/rating_popular_artist')"
      ],
      "execution_count": null,
      "outputs": []
    },
    {
      "cell_type": "code",
      "metadata": {
        "id": "Dz7i94ytGOoO",
        "colab_type": "code",
        "colab": {}
      },
      "source": [
        "#Удаляем не нужный столбец\n",
        "rating_popular_artist = rating_popular_artist.drop(columns=['Unnamed: 0'])"
      ],
      "execution_count": null,
      "outputs": []
    },
    {
      "cell_type": "code",
      "metadata": {
        "id": "tIkyxssw8OKP",
        "colab_type": "code",
        "colab": {}
      },
      "source": [
        "#Создаем Pivot Мatrix для пользователей\n",
        "\n",
        "artist_features_df=rating_popular_artist.pivot_table(index='Track_Name',columns='User_ID',values='Rating').fillna(0)"
      ],
      "execution_count": null,
      "outputs": []
    },
    {
      "cell_type": "code",
      "metadata": {
        "id": "RO8Q_Yn2Hrz8",
        "colab_type": "code",
        "colab": {
          "base_uri": "https://localhost:8080/",
          "height": 335
        },
        "outputId": "6593ecd7-e536-4053-c8b3-ae439aa391b1"
      },
      "source": [
        "artist_features_df.head()"
      ],
      "execution_count": null,
      "outputs": [
        {
          "output_type": "execute_result",
          "data": {
            "text/html": [
              "<div>\n",
              "<style scoped>\n",
              "    .dataframe tbody tr th:only-of-type {\n",
              "        vertical-align: middle;\n",
              "    }\n",
              "\n",
              "    .dataframe tbody tr th {\n",
              "        vertical-align: top;\n",
              "    }\n",
              "\n",
              "    .dataframe thead th {\n",
              "        text-align: right;\n",
              "    }\n",
              "</style>\n",
              "<table border=\"1\" class=\"dataframe\">\n",
              "  <thead>\n",
              "    <tr style=\"text-align: right;\">\n",
              "      <th>User_ID</th>\n",
              "      <th>1</th>\n",
              "      <th>2</th>\n",
              "      <th>3</th>\n",
              "      <th>4</th>\n",
              "      <th>5</th>\n",
              "      <th>6</th>\n",
              "      <th>7</th>\n",
              "      <th>8</th>\n",
              "      <th>9</th>\n",
              "      <th>11</th>\n",
              "      <th>12</th>\n",
              "      <th>13</th>\n",
              "      <th>14</th>\n",
              "      <th>15</th>\n",
              "      <th>16</th>\n",
              "      <th>17</th>\n",
              "      <th>18</th>\n",
              "      <th>19</th>\n",
              "      <th>20</th>\n",
              "      <th>21</th>\n",
              "      <th>23</th>\n",
              "      <th>24</th>\n",
              "      <th>25</th>\n",
              "      <th>26</th>\n",
              "      <th>27</th>\n",
              "      <th>28</th>\n",
              "      <th>29</th>\n",
              "      <th>30</th>\n",
              "      <th>31</th>\n",
              "      <th>32</th>\n",
              "      <th>33</th>\n",
              "      <th>34</th>\n",
              "      <th>35</th>\n",
              "      <th>36</th>\n",
              "      <th>37</th>\n",
              "      <th>38</th>\n",
              "      <th>39</th>\n",
              "      <th>41</th>\n",
              "      <th>42</th>\n",
              "      <th>43</th>\n",
              "      <th>...</th>\n",
              "      <th>45135</th>\n",
              "      <th>45136</th>\n",
              "      <th>45137</th>\n",
              "      <th>45138</th>\n",
              "      <th>45139</th>\n",
              "      <th>45140</th>\n",
              "      <th>45141</th>\n",
              "      <th>45142</th>\n",
              "      <th>45143</th>\n",
              "      <th>45144</th>\n",
              "      <th>45145</th>\n",
              "      <th>45146</th>\n",
              "      <th>45147</th>\n",
              "      <th>45148</th>\n",
              "      <th>45149</th>\n",
              "      <th>45150</th>\n",
              "      <th>45151</th>\n",
              "      <th>45152</th>\n",
              "      <th>45153</th>\n",
              "      <th>45154</th>\n",
              "      <th>45155</th>\n",
              "      <th>45156</th>\n",
              "      <th>45157</th>\n",
              "      <th>45158</th>\n",
              "      <th>45160</th>\n",
              "      <th>45161</th>\n",
              "      <th>45162</th>\n",
              "      <th>45163</th>\n",
              "      <th>45164</th>\n",
              "      <th>45165</th>\n",
              "      <th>45166</th>\n",
              "      <th>45167</th>\n",
              "      <th>45168</th>\n",
              "      <th>45169</th>\n",
              "      <th>45170</th>\n",
              "      <th>45171</th>\n",
              "      <th>45172</th>\n",
              "      <th>45173</th>\n",
              "      <th>45174</th>\n",
              "      <th>45175</th>\n",
              "    </tr>\n",
              "    <tr>\n",
              "      <th>Track_Name</th>\n",
              "      <th></th>\n",
              "      <th></th>\n",
              "      <th></th>\n",
              "      <th></th>\n",
              "      <th></th>\n",
              "      <th></th>\n",
              "      <th></th>\n",
              "      <th></th>\n",
              "      <th></th>\n",
              "      <th></th>\n",
              "      <th></th>\n",
              "      <th></th>\n",
              "      <th></th>\n",
              "      <th></th>\n",
              "      <th></th>\n",
              "      <th></th>\n",
              "      <th></th>\n",
              "      <th></th>\n",
              "      <th></th>\n",
              "      <th></th>\n",
              "      <th></th>\n",
              "      <th></th>\n",
              "      <th></th>\n",
              "      <th></th>\n",
              "      <th></th>\n",
              "      <th></th>\n",
              "      <th></th>\n",
              "      <th></th>\n",
              "      <th></th>\n",
              "      <th></th>\n",
              "      <th></th>\n",
              "      <th></th>\n",
              "      <th></th>\n",
              "      <th></th>\n",
              "      <th></th>\n",
              "      <th></th>\n",
              "      <th></th>\n",
              "      <th></th>\n",
              "      <th></th>\n",
              "      <th></th>\n",
              "      <th></th>\n",
              "      <th></th>\n",
              "      <th></th>\n",
              "      <th></th>\n",
              "      <th></th>\n",
              "      <th></th>\n",
              "      <th></th>\n",
              "      <th></th>\n",
              "      <th></th>\n",
              "      <th></th>\n",
              "      <th></th>\n",
              "      <th></th>\n",
              "      <th></th>\n",
              "      <th></th>\n",
              "      <th></th>\n",
              "      <th></th>\n",
              "      <th></th>\n",
              "      <th></th>\n",
              "      <th></th>\n",
              "      <th></th>\n",
              "      <th></th>\n",
              "      <th></th>\n",
              "      <th></th>\n",
              "      <th></th>\n",
              "      <th></th>\n",
              "      <th></th>\n",
              "      <th></th>\n",
              "      <th></th>\n",
              "      <th></th>\n",
              "      <th></th>\n",
              "      <th></th>\n",
              "      <th></th>\n",
              "      <th></th>\n",
              "      <th></th>\n",
              "      <th></th>\n",
              "      <th></th>\n",
              "      <th></th>\n",
              "      <th></th>\n",
              "      <th></th>\n",
              "      <th></th>\n",
              "      <th></th>\n",
              "    </tr>\n",
              "  </thead>\n",
              "  <tbody>\n",
              "    <tr>\n",
              "      <th>!!!</th>\n",
              "      <td>0.0</td>\n",
              "      <td>0.0</td>\n",
              "      <td>0.0</td>\n",
              "      <td>0.0</td>\n",
              "      <td>0.0</td>\n",
              "      <td>0.0</td>\n",
              "      <td>0.0</td>\n",
              "      <td>0.0</td>\n",
              "      <td>0.0</td>\n",
              "      <td>0.0</td>\n",
              "      <td>0.0</td>\n",
              "      <td>0.0</td>\n",
              "      <td>0.0</td>\n",
              "      <td>0.0</td>\n",
              "      <td>0.0</td>\n",
              "      <td>0.0</td>\n",
              "      <td>0.0</td>\n",
              "      <td>0.0</td>\n",
              "      <td>0.0</td>\n",
              "      <td>0.0</td>\n",
              "      <td>0.0</td>\n",
              "      <td>0.0</td>\n",
              "      <td>0.0</td>\n",
              "      <td>0.0</td>\n",
              "      <td>0.0</td>\n",
              "      <td>0.0</td>\n",
              "      <td>0.0</td>\n",
              "      <td>0.0</td>\n",
              "      <td>0.0</td>\n",
              "      <td>0.0</td>\n",
              "      <td>0.0</td>\n",
              "      <td>0.0</td>\n",
              "      <td>0.0</td>\n",
              "      <td>0.0</td>\n",
              "      <td>0.0</td>\n",
              "      <td>0.0</td>\n",
              "      <td>0.0</td>\n",
              "      <td>0.0</td>\n",
              "      <td>0.0</td>\n",
              "      <td>0.0</td>\n",
              "      <td>...</td>\n",
              "      <td>1.0</td>\n",
              "      <td>0.0</td>\n",
              "      <td>0.0</td>\n",
              "      <td>0.0</td>\n",
              "      <td>0.0</td>\n",
              "      <td>0.0</td>\n",
              "      <td>0.0</td>\n",
              "      <td>0.0</td>\n",
              "      <td>0.0</td>\n",
              "      <td>0.0</td>\n",
              "      <td>0.0</td>\n",
              "      <td>0.0</td>\n",
              "      <td>0.0</td>\n",
              "      <td>0.0</td>\n",
              "      <td>0.0</td>\n",
              "      <td>0.0</td>\n",
              "      <td>0.0</td>\n",
              "      <td>0.0</td>\n",
              "      <td>0.0</td>\n",
              "      <td>0.0</td>\n",
              "      <td>0.0</td>\n",
              "      <td>0.0</td>\n",
              "      <td>0.0</td>\n",
              "      <td>0.0</td>\n",
              "      <td>0.0</td>\n",
              "      <td>0.0</td>\n",
              "      <td>0.0</td>\n",
              "      <td>0.0</td>\n",
              "      <td>0.0</td>\n",
              "      <td>0.0</td>\n",
              "      <td>0.0</td>\n",
              "      <td>0.0</td>\n",
              "      <td>0.0</td>\n",
              "      <td>0.0</td>\n",
              "      <td>0.0</td>\n",
              "      <td>0.0</td>\n",
              "      <td>0.0</td>\n",
              "      <td>0.0</td>\n",
              "      <td>0.0</td>\n",
              "      <td>0.0</td>\n",
              "    </tr>\n",
              "    <tr>\n",
              "      <th>\"Weird Al\" Yankovic &amp; Wendy Carlos</th>\n",
              "      <td>0.0</td>\n",
              "      <td>0.0</td>\n",
              "      <td>0.0</td>\n",
              "      <td>0.0</td>\n",
              "      <td>0.0</td>\n",
              "      <td>0.0</td>\n",
              "      <td>0.0</td>\n",
              "      <td>0.0</td>\n",
              "      <td>0.0</td>\n",
              "      <td>0.0</td>\n",
              "      <td>0.0</td>\n",
              "      <td>0.0</td>\n",
              "      <td>0.0</td>\n",
              "      <td>0.0</td>\n",
              "      <td>0.0</td>\n",
              "      <td>0.0</td>\n",
              "      <td>0.0</td>\n",
              "      <td>0.0</td>\n",
              "      <td>0.0</td>\n",
              "      <td>0.0</td>\n",
              "      <td>0.0</td>\n",
              "      <td>0.0</td>\n",
              "      <td>0.0</td>\n",
              "      <td>0.0</td>\n",
              "      <td>0.0</td>\n",
              "      <td>0.0</td>\n",
              "      <td>0.0</td>\n",
              "      <td>0.0</td>\n",
              "      <td>0.0</td>\n",
              "      <td>0.0</td>\n",
              "      <td>0.0</td>\n",
              "      <td>0.0</td>\n",
              "      <td>0.0</td>\n",
              "      <td>0.0</td>\n",
              "      <td>0.0</td>\n",
              "      <td>0.0</td>\n",
              "      <td>0.0</td>\n",
              "      <td>0.0</td>\n",
              "      <td>0.0</td>\n",
              "      <td>0.0</td>\n",
              "      <td>...</td>\n",
              "      <td>0.0</td>\n",
              "      <td>0.0</td>\n",
              "      <td>0.0</td>\n",
              "      <td>0.0</td>\n",
              "      <td>0.0</td>\n",
              "      <td>0.0</td>\n",
              "      <td>0.0</td>\n",
              "      <td>0.0</td>\n",
              "      <td>0.0</td>\n",
              "      <td>0.0</td>\n",
              "      <td>0.0</td>\n",
              "      <td>0.0</td>\n",
              "      <td>0.0</td>\n",
              "      <td>0.0</td>\n",
              "      <td>0.0</td>\n",
              "      <td>0.0</td>\n",
              "      <td>0.0</td>\n",
              "      <td>0.0</td>\n",
              "      <td>0.0</td>\n",
              "      <td>0.0</td>\n",
              "      <td>0.0</td>\n",
              "      <td>0.0</td>\n",
              "      <td>0.0</td>\n",
              "      <td>0.0</td>\n",
              "      <td>0.0</td>\n",
              "      <td>0.0</td>\n",
              "      <td>0.0</td>\n",
              "      <td>0.0</td>\n",
              "      <td>0.0</td>\n",
              "      <td>0.0</td>\n",
              "      <td>0.0</td>\n",
              "      <td>0.0</td>\n",
              "      <td>0.0</td>\n",
              "      <td>0.0</td>\n",
              "      <td>0.0</td>\n",
              "      <td>0.0</td>\n",
              "      <td>0.0</td>\n",
              "      <td>0.0</td>\n",
              "      <td>0.0</td>\n",
              "      <td>0.0</td>\n",
              "    </tr>\n",
              "    <tr>\n",
              "      <th>#1 Dads</th>\n",
              "      <td>0.0</td>\n",
              "      <td>0.0</td>\n",
              "      <td>0.0</td>\n",
              "      <td>0.0</td>\n",
              "      <td>0.0</td>\n",
              "      <td>0.0</td>\n",
              "      <td>0.0</td>\n",
              "      <td>0.0</td>\n",
              "      <td>0.0</td>\n",
              "      <td>0.0</td>\n",
              "      <td>0.0</td>\n",
              "      <td>0.0</td>\n",
              "      <td>0.0</td>\n",
              "      <td>0.0</td>\n",
              "      <td>0.0</td>\n",
              "      <td>0.0</td>\n",
              "      <td>0.0</td>\n",
              "      <td>0.0</td>\n",
              "      <td>0.0</td>\n",
              "      <td>0.0</td>\n",
              "      <td>0.0</td>\n",
              "      <td>0.0</td>\n",
              "      <td>0.0</td>\n",
              "      <td>0.0</td>\n",
              "      <td>0.0</td>\n",
              "      <td>0.0</td>\n",
              "      <td>0.0</td>\n",
              "      <td>0.0</td>\n",
              "      <td>0.0</td>\n",
              "      <td>0.0</td>\n",
              "      <td>0.0</td>\n",
              "      <td>0.0</td>\n",
              "      <td>0.0</td>\n",
              "      <td>0.0</td>\n",
              "      <td>0.0</td>\n",
              "      <td>0.0</td>\n",
              "      <td>0.0</td>\n",
              "      <td>0.0</td>\n",
              "      <td>0.0</td>\n",
              "      <td>0.0</td>\n",
              "      <td>...</td>\n",
              "      <td>0.0</td>\n",
              "      <td>0.0</td>\n",
              "      <td>0.0</td>\n",
              "      <td>0.0</td>\n",
              "      <td>0.0</td>\n",
              "      <td>0.0</td>\n",
              "      <td>0.0</td>\n",
              "      <td>0.0</td>\n",
              "      <td>0.0</td>\n",
              "      <td>0.0</td>\n",
              "      <td>0.0</td>\n",
              "      <td>0.0</td>\n",
              "      <td>0.0</td>\n",
              "      <td>0.0</td>\n",
              "      <td>0.0</td>\n",
              "      <td>0.0</td>\n",
              "      <td>0.0</td>\n",
              "      <td>0.0</td>\n",
              "      <td>0.0</td>\n",
              "      <td>0.0</td>\n",
              "      <td>0.0</td>\n",
              "      <td>0.0</td>\n",
              "      <td>0.0</td>\n",
              "      <td>0.0</td>\n",
              "      <td>0.0</td>\n",
              "      <td>0.0</td>\n",
              "      <td>0.0</td>\n",
              "      <td>0.0</td>\n",
              "      <td>0.0</td>\n",
              "      <td>0.0</td>\n",
              "      <td>0.0</td>\n",
              "      <td>0.0</td>\n",
              "      <td>0.0</td>\n",
              "      <td>0.0</td>\n",
              "      <td>0.0</td>\n",
              "      <td>0.0</td>\n",
              "      <td>0.0</td>\n",
              "      <td>0.0</td>\n",
              "      <td>0.0</td>\n",
              "      <td>0.0</td>\n",
              "    </tr>\n",
              "    <tr>\n",
              "      <th>%2B/-</th>\n",
              "      <td>0.0</td>\n",
              "      <td>0.0</td>\n",
              "      <td>0.0</td>\n",
              "      <td>0.0</td>\n",
              "      <td>0.0</td>\n",
              "      <td>0.0</td>\n",
              "      <td>0.0</td>\n",
              "      <td>0.0</td>\n",
              "      <td>0.0</td>\n",
              "      <td>0.0</td>\n",
              "      <td>0.0</td>\n",
              "      <td>0.0</td>\n",
              "      <td>0.0</td>\n",
              "      <td>0.0</td>\n",
              "      <td>0.0</td>\n",
              "      <td>0.0</td>\n",
              "      <td>0.0</td>\n",
              "      <td>0.0</td>\n",
              "      <td>0.0</td>\n",
              "      <td>0.0</td>\n",
              "      <td>0.0</td>\n",
              "      <td>0.0</td>\n",
              "      <td>0.0</td>\n",
              "      <td>0.0</td>\n",
              "      <td>0.0</td>\n",
              "      <td>0.0</td>\n",
              "      <td>0.0</td>\n",
              "      <td>0.0</td>\n",
              "      <td>0.0</td>\n",
              "      <td>0.0</td>\n",
              "      <td>0.0</td>\n",
              "      <td>0.0</td>\n",
              "      <td>0.0</td>\n",
              "      <td>0.0</td>\n",
              "      <td>0.0</td>\n",
              "      <td>0.0</td>\n",
              "      <td>0.0</td>\n",
              "      <td>0.0</td>\n",
              "      <td>0.0</td>\n",
              "      <td>0.0</td>\n",
              "      <td>...</td>\n",
              "      <td>0.0</td>\n",
              "      <td>0.0</td>\n",
              "      <td>0.0</td>\n",
              "      <td>0.0</td>\n",
              "      <td>0.0</td>\n",
              "      <td>0.0</td>\n",
              "      <td>0.0</td>\n",
              "      <td>0.0</td>\n",
              "      <td>0.0</td>\n",
              "      <td>0.0</td>\n",
              "      <td>0.0</td>\n",
              "      <td>0.0</td>\n",
              "      <td>0.0</td>\n",
              "      <td>0.0</td>\n",
              "      <td>0.0</td>\n",
              "      <td>0.0</td>\n",
              "      <td>0.0</td>\n",
              "      <td>0.0</td>\n",
              "      <td>0.0</td>\n",
              "      <td>0.0</td>\n",
              "      <td>0.0</td>\n",
              "      <td>0.0</td>\n",
              "      <td>0.0</td>\n",
              "      <td>0.0</td>\n",
              "      <td>0.0</td>\n",
              "      <td>0.0</td>\n",
              "      <td>0.0</td>\n",
              "      <td>0.0</td>\n",
              "      <td>0.0</td>\n",
              "      <td>0.0</td>\n",
              "      <td>0.0</td>\n",
              "      <td>0.0</td>\n",
              "      <td>0.0</td>\n",
              "      <td>0.0</td>\n",
              "      <td>0.0</td>\n",
              "      <td>0.0</td>\n",
              "      <td>0.0</td>\n",
              "      <td>0.0</td>\n",
              "      <td>0.0</td>\n",
              "      <td>0.0</td>\n",
              "    </tr>\n",
              "    <tr>\n",
              "      <th>%2B44</th>\n",
              "      <td>0.0</td>\n",
              "      <td>0.0</td>\n",
              "      <td>0.0</td>\n",
              "      <td>0.0</td>\n",
              "      <td>0.0</td>\n",
              "      <td>0.0</td>\n",
              "      <td>0.0</td>\n",
              "      <td>0.0</td>\n",
              "      <td>0.0</td>\n",
              "      <td>0.0</td>\n",
              "      <td>0.0</td>\n",
              "      <td>0.0</td>\n",
              "      <td>0.0</td>\n",
              "      <td>0.0</td>\n",
              "      <td>0.0</td>\n",
              "      <td>0.0</td>\n",
              "      <td>0.0</td>\n",
              "      <td>0.0</td>\n",
              "      <td>0.0</td>\n",
              "      <td>0.0</td>\n",
              "      <td>0.0</td>\n",
              "      <td>0.0</td>\n",
              "      <td>0.0</td>\n",
              "      <td>0.0</td>\n",
              "      <td>0.0</td>\n",
              "      <td>0.0</td>\n",
              "      <td>0.0</td>\n",
              "      <td>0.0</td>\n",
              "      <td>0.0</td>\n",
              "      <td>0.0</td>\n",
              "      <td>0.0</td>\n",
              "      <td>0.0</td>\n",
              "      <td>0.0</td>\n",
              "      <td>0.0</td>\n",
              "      <td>0.0</td>\n",
              "      <td>0.0</td>\n",
              "      <td>0.0</td>\n",
              "      <td>0.0</td>\n",
              "      <td>0.0</td>\n",
              "      <td>0.0</td>\n",
              "      <td>...</td>\n",
              "      <td>0.0</td>\n",
              "      <td>0.0</td>\n",
              "      <td>0.0</td>\n",
              "      <td>0.0</td>\n",
              "      <td>0.0</td>\n",
              "      <td>0.0</td>\n",
              "      <td>0.0</td>\n",
              "      <td>0.0</td>\n",
              "      <td>0.0</td>\n",
              "      <td>0.0</td>\n",
              "      <td>0.0</td>\n",
              "      <td>0.0</td>\n",
              "      <td>0.0</td>\n",
              "      <td>0.0</td>\n",
              "      <td>0.0</td>\n",
              "      <td>0.0</td>\n",
              "      <td>0.0</td>\n",
              "      <td>0.0</td>\n",
              "      <td>0.0</td>\n",
              "      <td>0.0</td>\n",
              "      <td>0.0</td>\n",
              "      <td>0.0</td>\n",
              "      <td>0.0</td>\n",
              "      <td>0.0</td>\n",
              "      <td>0.0</td>\n",
              "      <td>0.0</td>\n",
              "      <td>0.0</td>\n",
              "      <td>0.0</td>\n",
              "      <td>0.0</td>\n",
              "      <td>0.0</td>\n",
              "      <td>0.0</td>\n",
              "      <td>0.0</td>\n",
              "      <td>0.0</td>\n",
              "      <td>0.0</td>\n",
              "      <td>0.0</td>\n",
              "      <td>0.0</td>\n",
              "      <td>0.0</td>\n",
              "      <td>0.0</td>\n",
              "      <td>0.0</td>\n",
              "      <td>0.0</td>\n",
              "    </tr>\n",
              "  </tbody>\n",
              "</table>\n",
              "<p>5 rows × 44552 columns</p>\n",
              "</div>"
            ],
            "text/plain": [
              "User_ID                             1      2      3      ...  45173  45174  45175\n",
              "Track_Name                                               ...                     \n",
              "!!!                                   0.0    0.0    0.0  ...    0.0    0.0    0.0\n",
              "\"Weird Al\" Yankovic & Wendy Carlos    0.0    0.0    0.0  ...    0.0    0.0    0.0\n",
              "#1 Dads                               0.0    0.0    0.0  ...    0.0    0.0    0.0\n",
              "%2B/-                                 0.0    0.0    0.0  ...    0.0    0.0    0.0\n",
              "%2B44                                 0.0    0.0    0.0  ...    0.0    0.0    0.0\n",
              "\n",
              "[5 rows x 44552 columns]"
            ]
          },
          "metadata": {
            "tags": []
          },
          "execution_count": 12
        }
      ]
    },
    {
      "cell_type": "markdown",
      "metadata": {
        "id": "k-qyutYoK4ah",
        "colab_type": "text"
      },
      "source": [
        "### Обучение модели KNN"
      ]
    },
    {
      "cell_type": "code",
      "metadata": {
        "id": "uEjWKNEJ8Tek",
        "colab_type": "code",
        "colab": {
          "base_uri": "https://localhost:8080/",
          "height": 68
        },
        "outputId": "2074f4b5-ec36-460f-b26f-03b2d353a813"
      },
      "source": [
        "#from scipy.sparse import csr_matrix\n",
        "\n",
        "artist_features_df_matrix = csr_matrix(artist_features_df.values)\n",
        "\n",
        "#from sklearn.neighbors import NearestNeighbors\n",
        "\n",
        "\n",
        "model_knn = NearestNeighbors(metric = 'cosine', algorithm = 'brute')\n",
        "model_knn.fit(artist_features_df_matrix)"
      ],
      "execution_count": null,
      "outputs": [
        {
          "output_type": "execute_result",
          "data": {
            "text/plain": [
              "NearestNeighbors(algorithm='brute', leaf_size=30, metric='cosine',\n",
              "                 metric_params=None, n_jobs=None, n_neighbors=5, p=2,\n",
              "                 radius=1.0)"
            ]
          },
          "metadata": {
            "tags": []
          },
          "execution_count": 8
        }
      ]
    },
    {
      "cell_type": "code",
      "metadata": {
        "id": "ZPkMTfDd8W8M",
        "colab_type": "code",
        "colab": {
          "base_uri": "https://localhost:8080/",
          "height": 34
        },
        "outputId": "62db3a27-02c1-4de3-884c-d522a774dd0c"
      },
      "source": [
        "#Сохраняем модель\n",
        "joblib.dump(model_knn, 'model_knn')"
      ],
      "execution_count": null,
      "outputs": [
        {
          "output_type": "execute_result",
          "data": {
            "text/plain": [
              "['model_knn']"
            ]
          },
          "metadata": {
            "tags": []
          },
          "execution_count": 12
        }
      ]
    },
    {
      "cell_type": "code",
      "metadata": {
        "id": "DGf3Gw7R8ot0",
        "colab_type": "code",
        "colab": {}
      },
      "source": [
        "#Импортируем модель\n",
        "model_knn = joblib.load('/content/model_knn')"
      ],
      "execution_count": null,
      "outputs": []
    },
    {
      "cell_type": "code",
      "metadata": {
        "id": "f3-ANhf9EiUq",
        "colab_type": "code",
        "colab": {
          "base_uri": "https://localhost:8080/",
          "height": 34
        },
        "outputId": "3894bcd1-d62b-4146-ca40-e9b41bed5f50"
      },
      "source": [
        "#Индексируемая строка\n",
        "query_index = np.random.choice(artist_features_df.shape[0])\n",
        "print(query_index)"
      ],
      "execution_count": null,
      "outputs": [
        {
          "output_type": "stream",
          "text": [
            "7786\n"
          ],
          "name": "stdout"
        }
      ]
    },
    {
      "cell_type": "code",
      "metadata": {
        "id": "AcOkTIfcLbGV",
        "colab_type": "code",
        "colab": {}
      },
      "source": [
        "#Индекс- Имя автора\n",
        "name_index = artist_features_df.reset_index()"
      ],
      "execution_count": null,
      "outputs": []
    },
    {
      "cell_type": "code",
      "metadata": {
        "id": "TkPXV85YLe7A",
        "colab_type": "code",
        "colab": {
          "base_uri": "https://localhost:8080/",
          "height": 34
        },
        "outputId": "17e418e8-2396-451e-c5c0-34ea02ebfcc5"
      },
      "source": [
        "#Выбираем автора, для нахождение топ 20 похожиш авторов\n",
        "query_index = name_index[name_index['Track_Name'] == 'Lenny Kravitz & Asa'].index.item()\n",
        "print(query_index)"
      ],
      "execution_count": null,
      "outputs": [
        {
          "output_type": "stream",
          "text": [
            "7341\n"
          ],
          "name": "stdout"
        }
      ]
    },
    {
      "cell_type": "code",
      "metadata": {
        "id": "34Ge_wTCLfZy",
        "colab_type": "code",
        "colab": {}
      },
      "source": [
        "#Определяем дистанцию между авторами\n",
        "distances, indices = model_knn.kneighbors(artist_features_df.iloc[query_index,:].values.reshape(1, -1), n_neighbors = 21)"
      ],
      "execution_count": null,
      "outputs": []
    },
    {
      "cell_type": "code",
      "metadata": {
        "id": "hVCoiJk9Lu2f",
        "colab_type": "code",
        "colab": {
          "base_uri": "https://localhost:8080/",
          "height": 391
        },
        "outputId": "db9c815b-64db-4c54-90d1-b0cf95a415ae"
      },
      "source": [
        "#Вывод топ 20 похожих авторов\n",
        "b_cell = []\n",
        "bas_list = []\n",
        "for i in range(0, len(distances.flatten())):\n",
        "  authorID = persons['Author_ID'][persons['Track_Name'] == artist_features_df.index[indices.flatten()[i]]].values.tolist()\n",
        "  b_cell = authorID, artist_features_df.index[indices.flatten()[i]], distances.flatten()[i]\n",
        "  bas_list.append(b_cell)\n",
        "print('Recommendations for {0}:\\n'.format(artist_features_df.index[query_index]), pd.DataFrame(bas_list, columns=['Author_ID', 'Track_Name', 'Distance']).drop([0]))"
      ],
      "execution_count": null,
      "outputs": [
        {
          "output_type": "stream",
          "text": [
            "Recommendations for Lenny Kravitz & Asa:\n",
            "    Author_ID                        Track_Name  Distance\n",
            "1   [290797]           Red Hot Chili Peppers -  0.821974\n",
            "2   [154295]                      Foo Figthers  0.834427\n",
            "3    [82955]          Coldplay & Kylie Minogue  0.836140\n",
            "4   [386379]                    U2 & Bob Dylan  0.838085\n",
            "5   [124222]               Queen & The Muppets  0.844453\n",
            "6    [11423]                         Aerosmith  0.845939\n",
            "7   [252849]                  Nirvana-in utero  0.846021\n",
            "8   [184540]                     Kings of Leon  0.847885\n",
            "9    [53169]                  Blur & Offspring  0.852981\n",
            "10  [171499]                         Green Day  0.853068\n",
            "11  [257088]                             Oasis  0.853298\n",
            "12  [371194]                             Verve  0.853936\n",
            "13  [292035]                            R.E.M.  0.853939\n",
            "14  [219254]              Maroon 5 Ft. Rihanna  0.855664\n",
            "15  [286091]                     RadioheadNCON  0.859707\n",
            "16  [229444]  Michael Jackson & Siedah Garrett  0.861409\n",
            "17   [85734]                       Cranberries  0.861547\n",
            "18  [253647]               No Doubt f/Lady Saw  0.862316\n",
            "19  [258165]                         Offspring  0.863962\n",
            "20  [242522]                 Muse - Absolution  0.864362\n"
          ],
          "name": "stdout"
        }
      ]
    },
    {
      "cell_type": "markdown",
      "metadata": {
        "id": "Z4wZ7SxGMy3a",
        "colab_type": "text"
      },
      "source": [
        "### Экспериментальная часть"
      ]
    },
    {
      "cell_type": "markdown",
      "metadata": {
        "id": "At92sk7Mxyy0",
        "colab_type": "text"
      },
      "source": [
        "#### Подготовка строки данных"
      ]
    },
    {
      "cell_type": "markdown",
      "metadata": {
        "id": "wRKQWlKd7e6u",
        "colab_type": "text"
      },
      "source": [
        "В это части мне бы хотелось совершить поиск похожести для одного **нового** автора из тестового датасета"
      ]
    },
    {
      "cell_type": "code",
      "metadata": {
        "id": "oI1Tq5GlP3Sa",
        "colab_type": "code",
        "colab": {}
      },
      "source": [
        "#Для сравнения наличия всех столбцов из обученной модели, одна строка из artist_features_df (датасет на котором обучалась модель)\n",
        "artist_features_df[1000:1001].to_csv('baseline_prediction_row')"
      ],
      "execution_count": null,
      "outputs": []
    },
    {
      "cell_type": "markdown",
      "metadata": {
        "id": "WF1j5rzGRMnG",
        "colab_type": "text"
      },
      "source": [
        "Берем данные для предсказаний"
      ]
    },
    {
      "cell_type": "code",
      "metadata": {
        "id": "WQHX19JvZuMR",
        "colab_type": "code",
        "colab": {}
      },
      "source": [
        "#Рандомный выбор индекса автора из тестового датасета\n",
        "authorID = df_ratings_test.iloc[np.random.choice(df_ratings_test.shape[0])]['Author_ID']"
      ],
      "execution_count": null,
      "outputs": []
    },
    {
      "cell_type": "code",
      "metadata": {
        "id": "6AX4YIOyNSZ9",
        "colab_type": "code",
        "colab": {
          "base_uri": "https://localhost:8080/",
          "height": 204
        },
        "outputId": "8a826fd2-d802-421a-9337-42650c2b4c8d"
      },
      "source": [
        "#Данные из тестового датасета от рандомного автора\n",
        "prediction = df_ratings_test[df_ratings_test['Author_ID'] == authorID]\n",
        "prediction.head()"
      ],
      "execution_count": null,
      "outputs": [
        {
          "output_type": "execute_result",
          "data": {
            "text/html": [
              "<div>\n",
              "<style scoped>\n",
              "    .dataframe tbody tr th:only-of-type {\n",
              "        vertical-align: middle;\n",
              "    }\n",
              "\n",
              "    .dataframe tbody tr th {\n",
              "        vertical-align: top;\n",
              "    }\n",
              "\n",
              "    .dataframe thead th {\n",
              "        text-align: right;\n",
              "    }\n",
              "</style>\n",
              "<table border=\"1\" class=\"dataframe\">\n",
              "  <thead>\n",
              "    <tr style=\"text-align: right;\">\n",
              "      <th></th>\n",
              "      <th>User_ID</th>\n",
              "      <th>Author_ID</th>\n",
              "      <th>Rating</th>\n",
              "    </tr>\n",
              "  </thead>\n",
              "  <tbody>\n",
              "    <tr>\n",
              "      <th>26878935</th>\n",
              "      <td>26908</td>\n",
              "      <td>375121</td>\n",
              "      <td>1</td>\n",
              "    </tr>\n",
              "    <tr>\n",
              "      <th>14460917</th>\n",
              "      <td>16615</td>\n",
              "      <td>375121</td>\n",
              "      <td>0</td>\n",
              "    </tr>\n",
              "    <tr>\n",
              "      <th>2636260</th>\n",
              "      <td>3561</td>\n",
              "      <td>375121</td>\n",
              "      <td>0</td>\n",
              "    </tr>\n",
              "    <tr>\n",
              "      <th>12501844</th>\n",
              "      <td>39176</td>\n",
              "      <td>375121</td>\n",
              "      <td>0</td>\n",
              "    </tr>\n",
              "    <tr>\n",
              "      <th>16614054</th>\n",
              "      <td>41700</td>\n",
              "      <td>375121</td>\n",
              "      <td>0</td>\n",
              "    </tr>\n",
              "  </tbody>\n",
              "</table>\n",
              "</div>"
            ],
            "text/plain": [
              "          User_ID  Author_ID  Rating\n",
              "26878935    26908     375121       1\n",
              "14460917    16615     375121       0\n",
              "2636260      3561     375121       0\n",
              "12501844    39176     375121       0\n",
              "16614054    41700     375121       0"
            ]
          },
          "metadata": {
            "tags": []
          },
          "execution_count": 78
        }
      ]
    },
    {
      "cell_type": "code",
      "metadata": {
        "id": "46XMqk0dNS2U",
        "colab_type": "code",
        "colab": {
          "base_uri": "https://localhost:8080/",
          "height": 34
        },
        "outputId": "7d0c69c5-2424-4d17-d52c-c5e8822cdea2"
      },
      "source": [
        "#Установим название Автора\n",
        "persons['Track_Name'][persons['Author_ID'] == authorID].item()"
      ],
      "execution_count": null,
      "outputs": [
        {
          "output_type": "execute_result",
          "data": {
            "text/plain": [
              "'Till Von Sein'"
            ]
          },
          "metadata": {
            "tags": []
          },
          "execution_count": 79
        }
      ]
    },
    {
      "cell_type": "code",
      "metadata": {
        "id": "tobx2TMxNi9m",
        "colab_type": "code",
        "colab": {}
      },
      "source": [
        "#Объеденим в один датасет\n",
        "prediction.insert(2, 'Track', persons['Track_Name'][persons['Author_ID'] == authorID].item())"
      ],
      "execution_count": null,
      "outputs": []
    },
    {
      "cell_type": "code",
      "metadata": {
        "id": "FY2fq_Z8Nm6H",
        "colab_type": "code",
        "colab": {
          "base_uri": "https://localhost:8080/",
          "height": 204
        },
        "outputId": "88a86d43-c679-46c1-946d-a4f26f406796"
      },
      "source": [
        "prediction.head()"
      ],
      "execution_count": null,
      "outputs": [
        {
          "output_type": "execute_result",
          "data": {
            "text/html": [
              "<div>\n",
              "<style scoped>\n",
              "    .dataframe tbody tr th:only-of-type {\n",
              "        vertical-align: middle;\n",
              "    }\n",
              "\n",
              "    .dataframe tbody tr th {\n",
              "        vertical-align: top;\n",
              "    }\n",
              "\n",
              "    .dataframe thead th {\n",
              "        text-align: right;\n",
              "    }\n",
              "</style>\n",
              "<table border=\"1\" class=\"dataframe\">\n",
              "  <thead>\n",
              "    <tr style=\"text-align: right;\">\n",
              "      <th></th>\n",
              "      <th>User_ID</th>\n",
              "      <th>Author_ID</th>\n",
              "      <th>Track</th>\n",
              "      <th>Rating</th>\n",
              "    </tr>\n",
              "  </thead>\n",
              "  <tbody>\n",
              "    <tr>\n",
              "      <th>26878935</th>\n",
              "      <td>26908</td>\n",
              "      <td>375121</td>\n",
              "      <td>Till Von Sein</td>\n",
              "      <td>1</td>\n",
              "    </tr>\n",
              "    <tr>\n",
              "      <th>14460917</th>\n",
              "      <td>16615</td>\n",
              "      <td>375121</td>\n",
              "      <td>Till Von Sein</td>\n",
              "      <td>0</td>\n",
              "    </tr>\n",
              "    <tr>\n",
              "      <th>2636260</th>\n",
              "      <td>3561</td>\n",
              "      <td>375121</td>\n",
              "      <td>Till Von Sein</td>\n",
              "      <td>0</td>\n",
              "    </tr>\n",
              "    <tr>\n",
              "      <th>12501844</th>\n",
              "      <td>39176</td>\n",
              "      <td>375121</td>\n",
              "      <td>Till Von Sein</td>\n",
              "      <td>0</td>\n",
              "    </tr>\n",
              "    <tr>\n",
              "      <th>16614054</th>\n",
              "      <td>41700</td>\n",
              "      <td>375121</td>\n",
              "      <td>Till Von Sein</td>\n",
              "      <td>0</td>\n",
              "    </tr>\n",
              "  </tbody>\n",
              "</table>\n",
              "</div>"
            ],
            "text/plain": [
              "          User_ID  Author_ID          Track  Rating\n",
              "26878935    26908     375121  Till Von Sein       1\n",
              "14460917    16615     375121  Till Von Sein       0\n",
              "2636260      3561     375121  Till Von Sein       0\n",
              "12501844    39176     375121  Till Von Sein       0\n",
              "16614054    41700     375121  Till Von Sein       0"
            ]
          },
          "metadata": {
            "tags": []
          },
          "execution_count": 81
        }
      ]
    },
    {
      "cell_type": "code",
      "metadata": {
        "id": "PQeYEIMBNpik",
        "colab_type": "code",
        "colab": {
          "base_uri": "https://localhost:8080/",
          "height": 148
        },
        "outputId": "f4c4e82a-bfb0-486e-cab2-26974e1255de"
      },
      "source": [
        "#Создаем Pivot Мatrix\n",
        "prediction_df=prediction.pivot_table(index='Track',columns='User_ID',values='Rating').fillna(0)\n",
        "prediction_df.head()"
      ],
      "execution_count": null,
      "outputs": [
        {
          "output_type": "execute_result",
          "data": {
            "text/html": [
              "<div>\n",
              "<style scoped>\n",
              "    .dataframe tbody tr th:only-of-type {\n",
              "        vertical-align: middle;\n",
              "    }\n",
              "\n",
              "    .dataframe tbody tr th {\n",
              "        vertical-align: top;\n",
              "    }\n",
              "\n",
              "    .dataframe thead th {\n",
              "        text-align: right;\n",
              "    }\n",
              "</style>\n",
              "<table border=\"1\" class=\"dataframe\">\n",
              "  <thead>\n",
              "    <tr style=\"text-align: right;\">\n",
              "      <th>User_ID</th>\n",
              "      <th>2959</th>\n",
              "      <th>3561</th>\n",
              "      <th>6548</th>\n",
              "      <th>6669</th>\n",
              "      <th>7367</th>\n",
              "      <th>7405</th>\n",
              "      <th>9940</th>\n",
              "      <th>14641</th>\n",
              "      <th>16615</th>\n",
              "      <th>17302</th>\n",
              "      <th>17638</th>\n",
              "      <th>17987</th>\n",
              "      <th>18250</th>\n",
              "      <th>25782</th>\n",
              "      <th>26047</th>\n",
              "      <th>26054</th>\n",
              "      <th>26908</th>\n",
              "      <th>27742</th>\n",
              "      <th>28643</th>\n",
              "      <th>30543</th>\n",
              "      <th>31455</th>\n",
              "      <th>31626</th>\n",
              "      <th>32003</th>\n",
              "      <th>33895</th>\n",
              "      <th>34570</th>\n",
              "      <th>36317</th>\n",
              "      <th>39176</th>\n",
              "      <th>41700</th>\n",
              "    </tr>\n",
              "    <tr>\n",
              "      <th>Track</th>\n",
              "      <th></th>\n",
              "      <th></th>\n",
              "      <th></th>\n",
              "      <th></th>\n",
              "      <th></th>\n",
              "      <th></th>\n",
              "      <th></th>\n",
              "      <th></th>\n",
              "      <th></th>\n",
              "      <th></th>\n",
              "      <th></th>\n",
              "      <th></th>\n",
              "      <th></th>\n",
              "      <th></th>\n",
              "      <th></th>\n",
              "      <th></th>\n",
              "      <th></th>\n",
              "      <th></th>\n",
              "      <th></th>\n",
              "      <th></th>\n",
              "      <th></th>\n",
              "      <th></th>\n",
              "      <th></th>\n",
              "      <th></th>\n",
              "      <th></th>\n",
              "      <th></th>\n",
              "      <th></th>\n",
              "      <th></th>\n",
              "    </tr>\n",
              "  </thead>\n",
              "  <tbody>\n",
              "    <tr>\n",
              "      <th>Till Von Sein</th>\n",
              "      <td>0</td>\n",
              "      <td>0</td>\n",
              "      <td>0</td>\n",
              "      <td>0</td>\n",
              "      <td>0</td>\n",
              "      <td>0</td>\n",
              "      <td>0</td>\n",
              "      <td>0</td>\n",
              "      <td>0</td>\n",
              "      <td>0</td>\n",
              "      <td>0</td>\n",
              "      <td>0</td>\n",
              "      <td>0</td>\n",
              "      <td>0</td>\n",
              "      <td>0</td>\n",
              "      <td>0</td>\n",
              "      <td>1</td>\n",
              "      <td>0</td>\n",
              "      <td>0</td>\n",
              "      <td>1</td>\n",
              "      <td>0</td>\n",
              "      <td>0</td>\n",
              "      <td>0</td>\n",
              "      <td>0</td>\n",
              "      <td>1</td>\n",
              "      <td>0</td>\n",
              "      <td>0</td>\n",
              "      <td>0</td>\n",
              "    </tr>\n",
              "  </tbody>\n",
              "</table>\n",
              "</div>"
            ],
            "text/plain": [
              "User_ID        2959   3561   6548   6669   ...  34570  36317  39176  41700\n",
              "Track                                      ...                            \n",
              "Till Von Sein      0      0      0      0  ...      1      0      0      0\n",
              "\n",
              "[1 rows x 28 columns]"
            ]
          },
          "metadata": {
            "tags": []
          },
          "execution_count": 82
        }
      ]
    },
    {
      "cell_type": "code",
      "metadata": {
        "id": "zJsFrYVPbRjw",
        "colab_type": "code",
        "colab": {}
      },
      "source": [
        "#Сохраним данные для дальнейшего исследования\n",
        "prediction_df.to_csv('prediction_df_row')"
      ],
      "execution_count": null,
      "outputs": []
    },
    {
      "cell_type": "markdown",
      "metadata": {
        "id": "X0WUabz-x5FQ",
        "colab_type": "text"
      },
      "source": [
        "#### Предсказание"
      ]
    },
    {
      "cell_type": "code",
      "metadata": {
        "id": "IU_Jg2FlQpaV",
        "colab_type": "code",
        "colab": {}
      },
      "source": [
        "#Импортируем\n",
        "baseline_prediction_row = pd.read_csv('/content/baseline_prediction_row')\n",
        "prediction_df = pd.read_csv('/content/prediction_df_row')"
      ],
      "execution_count": null,
      "outputs": []
    },
    {
      "cell_type": "code",
      "metadata": {
        "id": "UYkqB7SSaavM",
        "colab_type": "code",
        "colab": {}
      },
      "source": [
        "#Назовем столбец\n",
        "prediction_df = prediction_df.append(baseline_prediction_row.rename(columns={'Track_Name':'Track'}))"
      ],
      "execution_count": null,
      "outputs": []
    },
    {
      "cell_type": "code",
      "metadata": {
        "id": "ItIQPHQggW7H",
        "colab_type": "code",
        "colab": {}
      },
      "source": [
        "#Имя автора как индекс\n",
        "prediction_df = prediction_df.set_index('Track')"
      ],
      "execution_count": null,
      "outputs": []
    },
    {
      "cell_type": "markdown",
      "metadata": {
        "id": "Th29_z7yyjPR",
        "colab_type": "text"
      },
      "source": [
        "Проверяем, присутствие в обученной модели всех столбцов из датасета в случае, если данные из тестового датасета, будут содержать столбцы, которых нет в обученной модели, эти столбцы нужно удалить."
      ]
    },
    {
      "cell_type": "code",
      "metadata": {
        "id": "g84XzXZ_hiBE",
        "colab_type": "code",
        "colab": {
          "base_uri": "https://localhost:8080/",
          "height": 34
        },
        "outputId": "42bcda5d-9a7a-4f9b-bf78-5a5eea0a4374"
      },
      "source": [
        "test[1:2].columns[test[1:2].isnull().any()].tolist()"
      ],
      "execution_count": null,
      "outputs": [
        {
          "output_type": "execute_result",
          "data": {
            "text/plain": [
              "[]"
            ]
          },
          "metadata": {
            "tags": []
          },
          "execution_count": 147
        }
      ]
    },
    {
      "cell_type": "code",
      "metadata": {
        "id": "qBN5OOkzhyKx",
        "colab_type": "code",
        "colab": {}
      },
      "source": [
        "#Nan в 0\n",
        "prediction_df[prediction_df.isnull()] = 0"
      ],
      "execution_count": null,
      "outputs": []
    },
    {
      "cell_type": "code",
      "metadata": {
        "id": "tk1N9ul6imm9",
        "colab_type": "code",
        "colab": {}
      },
      "source": [
        "#Совершаем предсказание\n",
        "distance = model_knn.kneighbors(prediction_df.iloc[0:1].values.reshape(1, -1), n_neighbors = 21)"
      ],
      "execution_count": null,
      "outputs": []
    },
    {
      "cell_type": "code",
      "metadata": {
        "id": "4Awi4tPotz3r",
        "colab_type": "code",
        "colab": {
          "base_uri": "https://localhost:8080/",
          "height": 391
        },
        "outputId": "00f8a036-1f69-4fc6-d87c-2650588eb0b7"
      },
      "source": [
        "#Создадим список топ 20 похожих авторов\n",
        "b_cell = []\n",
        "bas_list = []\n",
        "for i in range(0,21):\n",
        "  authorID = persons[persons['Author_ID'] == distance[1][0][i]]['Track_Name'].values.tolist()\n",
        "  b_cell = distance[1][0][i], authorID, distance[0][0][i]                        \n",
        "  bas_list.append(b_cell) \n",
        "print('Recommendations for {0}:\\n'.format(prediction_df.iloc[0].name), pd.DataFrame(bas_list, columns=['Author_ID', 'Track_Name', 'Distance']).drop([0]))"
      ],
      "execution_count": null,
      "outputs": [
        {
          "output_type": "stream",
          "text": [
            "Recommendations for Till Von Sein:\n",
            "     Author_ID                                 Track_Name  Distance\n",
            "1          70                                      [(01]  0.888889\n",
            "2        8710                             [Accelerators]  0.890891\n",
            "3        3768                    [311 (The Clash cover)]  0.890891\n",
            "4        3502                    [2Pac f. Deadly Threat]  0.892789\n",
            "5         300                              [02. Roxanne]  0.892789\n",
            "6       10026                    [Adam Shaw & Tim Weeks]  0.899496\n",
            "7         196                [01. When The Children Cry]  0.902410\n",
            "8        8337                                  [Abstain]  0.903775\n",
            "9        9712                              [Adam Bohman]  0.905084\n",
            "10       7374            [Aasha Bhosle f. Apache Indian]  0.907550\n",
            "11       8935  [Ach ich hab in meinem Herzen da drinnen]  0.909833\n",
            "12      10955         [Adriano Mattioli and Elias Funes]  0.910913\n",
            "13      11929                                 [Afrokats]  0.911955\n",
            "14       7603                                [ABC Books]  0.912961\n",
            "15       7587                           [Abby Bernstein]  0.913934\n",
            "16       2472                  [\"Allen, I hate myself\".]  0.914874\n",
            "17       3452                           [2 Pac & Dr Dre]  0.915785\n",
            "18       9259                          [Acoustic Guitar]  0.916667\n",
            "19       6152         [764-Hero/Modest Mouse / 764-HERO]  0.918350\n",
            "20       5376           [[Massive Attack ] - Heligoland]  0.919155\n"
          ],
          "name": "stdout"
        }
      ]
    },
    {
      "cell_type": "markdown",
      "metadata": {
        "id": "DJ8ayWWYNdHl",
        "colab_type": "text"
      },
      "source": [
        "## Сложная модель word2vec (item2vec)"
      ]
    },
    {
      "cell_type": "markdown",
      "metadata": {
        "id": "bOyyVKCh5_4H",
        "colab_type": "text"
      },
      "source": [
        "Чтобы наша модель выучила встраивание, нам нужно получить эквиваленты «слова» и «предложения» из данных. Здесь вы можете представить, что каждое имя автора - это слово, а авторы, получившие положительные оценки от пользователя, находятся в одном и том же «предложении».\n",
        "В частности, «предложения» генерируются с помощью процесса, описанного ниже: Для каждого пользователя сгенерируйте 2 списка, в которых соответственно хранятся авторы «Понравилось» и «Не понравилось» пользователем. Первый список содержит всех авторов с оценкой 1. Второй список содержит остальных. \n",
        "\n",
        "Эти списки являются входными данными для обучения модели **Gensim Word2Vec.**\n",
        "Следующий код делает то, что было сказано выше:"
      ]
    },
    {
      "cell_type": "code",
      "metadata": {
        "id": "UlI08qGQ546h",
        "colab_type": "code",
        "colab": {}
      },
      "source": [
        "def rating_splitter(df):\n",
        "    \n",
        "    df['Liked'] = np.where(df['Rating'] == 1, 1, 0) #Понравилось == 1\n",
        "    df['Author_ID'] = df['Author_ID'].astype('str')\n",
        "    gp_user_like = df.groupby(['Liked', 'User_ID'])\n",
        "\n",
        "    return ([gp_user_like.get_group(gp)['Author_ID'].tolist() for gp in gp_user_like.groups])"
      ],
      "execution_count": null,
      "outputs": []
    },
    {
      "cell_type": "code",
      "metadata": {
        "id": "IZebJW0n7BAJ",
        "colab_type": "code",
        "colab": {}
      },
      "source": [
        "#Генерируем списки\n",
        "pd.options.mode.chained_assignment = None\n",
        "splitted_track = rating_splitter(df_ratings_train)"
      ],
      "execution_count": null,
      "outputs": []
    },
    {
      "cell_type": "markdown",
      "metadata": {
        "id": "0mgZ5Bj37qv3",
        "colab_type": "text"
      },
      "source": [
        "**Обучение модели с Gensim**\n",
        "\n",
        "В этом разделе мы введем данные обучения в  **Gensim Word2Vec.** \n",
        "\n",
        "Для оригинального Word2Vec размер окна влияет на область, которую мы искали для «контекстов», чтобы определить значение данного слова. Как это определено, окно имеет фиксированный размер. Однако в нашей реализации Item2Vec «значение» автора должно быть зафиксировано всеми его соседями в одном списке. Другими словами, мы должны рассмотреть всех авторов, «понравившиеся» пользователю. Это относится и ко всем авторам, которые не нравятся пользователю. Размер окна необходимо изменить в соответствии с размером каждого списка авторов.\n",
        "Чтобы решить эту проблему, не изменяя базовый код модели **Gensim**, мы сначала указываем очень очень большой размер окна, который намного больше, чем длина любых списков автора. Затем мы перетасовываем наши тренировочные данные перед подачей их в модель, потому что порядок авторов не имеет смысла при определении «значения» автора с использованием его соседей.\n",
        "Параметр окна в модели **Gensim** фактически является случайной динамикой. Мы указываем максимальный размер окна вместо фактического используемого размера окна. Хотя обходной путь выше не идеален, он достигает приемлемой производительности. Наилучшим подходом может быть непосредственное изменение базового кода в **Gensim**, но это выходит за рамки данного задания.\n",
        "\n",
        "Последнее, что нужно сделать перед тем, как приступить к обучению этому режиму, - убедиться, что **Gensim** использует компилятор C, для проверки этого запустите приведенный ниже код:"
      ]
    },
    {
      "cell_type": "code",
      "metadata": {
        "id": "Y0RkEZwt7nLS",
        "colab_type": "code",
        "colab": {}
      },
      "source": [
        "#import warnings\n",
        "warnings.filterwarnings(action='ignore', category=UserWarning, module='gensim')\n",
        "\n",
        "import gensim\n",
        "assert gensim.models.word2vec.FAST_VERSION > -1"
      ],
      "execution_count": null,
      "outputs": []
    },
    {
      "cell_type": "markdown",
      "metadata": {
        "id": "07kDYLOh_d2d",
        "colab_type": "text"
      },
      "source": [
        "Приведенный ниже код перемешивает данные обучения:"
      ]
    },
    {
      "cell_type": "code",
      "metadata": {
        "id": "gPNUNBxr_aR-",
        "colab_type": "code",
        "colab": {}
      },
      "source": [
        "#import random\n",
        "\n",
        "for track_list in splitted_track:\n",
        "    random.shuffle(track_list)"
      ],
      "execution_count": null,
      "outputs": []
    },
    {
      "cell_type": "markdown",
      "metadata": {
        "id": "IA6LPPgNP1L8",
        "colab_type": "text"
      },
      "source": [
        "### Обучение модели по гипермараметрам"
      ]
    },
    {
      "cell_type": "markdown",
      "metadata": {
        "id": "M2npGAsqABH3",
        "colab_type": "text"
      },
      "source": [
        "Код ниже обучает модель с выбранными гиперпараметрами. Обучение модели может занять некоторое время. "
      ]
    },
    {
      "cell_type": "code",
      "metadata": {
        "id": "uUaMCrzi_ppC",
        "colab_type": "code",
        "colab": {
          "base_uri": "https://localhost:8080/",
          "height": 34
        },
        "outputId": "cd9b7b1d-0213-488d-91ee-faa69bedd948"
      },
      "source": [
        "#from gensim.models import Word2Vec\n",
        "#import datetime\n",
        "start = datetime.datetime.now()\n",
        "\n",
        "model = Word2Vec(sentences = splitted_track, #Мы предоставим предварительно обработанный список автора для этого параметра.\n",
        "                 iter = 5, #Повторений\n",
        "                 min_count = 10, #Автор должен появляться более 10 раз, чтобы его сохранить\n",
        "                 size = 200, #Размер скрытого слоя\n",
        "                 workers = 4, #Количество потоков, которые будут использоваться для обучения\n",
        "                 sg = 1, #Определяет алгоритм обучения. Мы будем использовать скип-грамм, поэтому выбрано 1.\n",
        "                 hs = 0, #Установите в 0, так как мы применяем отрицательную выборку.\n",
        "                 negative = 5, #Если> 0, будет использоваться отрицательная выборка. Мы будем использовать значение 5.\n",
        "                 window = 9999999) #Размер окна\n",
        "\n",
        "print(\"Time passed: \" + str(datetime.datetime.now()-start))"
      ],
      "execution_count": null,
      "outputs": [
        {
          "output_type": "stream",
          "text": [
            "Time passed: 1:21:31.270480\n"
          ],
          "name": "stdout"
        }
      ]
    },
    {
      "cell_type": "code",
      "metadata": {
        "id": "cknNaVjM2EN9",
        "colab_type": "code",
        "colab": {
          "base_uri": "https://localhost:8080/",
          "height": 71
        },
        "outputId": "d2335776-224b-43d0-daa7-d35911c476b3"
      },
      "source": [
        "model.save('item2vec_202006_1') #Сохраняем обученную модель"
      ],
      "execution_count": null,
      "outputs": [
        {
          "output_type": "stream",
          "text": [
            "/usr/local/lib/python3.6/dist-packages/smart_open/smart_open_lib.py:253: UserWarning: This function is deprecated, use smart_open.open instead. See the migration notes for details: https://github.com/RaRe-Technologies/smart_open/blob/master/README.rst#migrating-to-the-new-open-function\n",
            "  'See the migration notes for details: %s' % _MIGRATION_NOTES_URL\n"
          ],
          "name": "stderr"
        }
      ]
    },
    {
      "cell_type": "markdown",
      "metadata": {
        "id": "ggxFRPp5Ab7G",
        "colab_type": "text"
      },
      "source": [
        "После обучения модель сохраняется для дальнейшего применения. Обратите внимание, что **Gensim** сохранил всю информацию о модели, включая скрытые веса, частоту словарного запаса и двоичное дерево модели, поэтому можно продолжить обучение после загрузки файла. Однако это происходит за счет памяти при запуске модели. Если все, что вам нужно, это скрытый вес, его можно извлечь из модели отдельно. \n",
        "\n",
        "Следующий код демонстрирует, как сохранить, загрузить модель и извлечь векторы слов."
      ]
    },
    {
      "cell_type": "code",
      "metadata": {
        "id": "zBjQ30uWAj2w",
        "colab_type": "code",
        "colab": {
          "base_uri": "https://localhost:8080/",
          "height": 71
        },
        "outputId": "ddd6dbc0-9f20-46ef-af75-e6f17bf355a7"
      },
      "source": [
        "#import warnings\n",
        "warnings.filterwarnings(action='ignore', category=UserWarning, module='gensim')\n",
        "\n",
        "#from gensim.models import Word2Vec\n",
        "model = Word2Vec.load('item2vec_202006_1')\n",
        "word_vectors = model.wv\n",
        "#del model #Удалим модель"
      ],
      "execution_count": null,
      "outputs": [
        {
          "output_type": "stream",
          "text": [
            "/usr/local/lib/python3.6/dist-packages/smart_open/smart_open_lib.py:253: UserWarning: This function is deprecated, use smart_open.open instead. See the migration notes for details: https://github.com/RaRe-Technologies/smart_open/blob/master/README.rst#migrating-to-the-new-open-function\n",
            "  'See the migration notes for details: %s' % _MIGRATION_NOTES_URL\n"
          ],
          "name": "stderr"
        }
      ]
    },
    {
      "cell_type": "code",
      "metadata": {
        "id": "EYxPKD_JTxgm",
        "colab_type": "code",
        "colab": {}
      },
      "source": [
        "#Имя артиста в вид ['Индекс автора 1','Индекс автора 2'...'Индекс автора n']\n",
        "def artist_name(name):\n",
        "  a_cell = []\n",
        "  artist_list=[]\n",
        "  for i in range(len(name)):\n",
        "    a_cell = track_author[name[i]]\n",
        "    artist_list.append(a_cell)\n",
        "  return(artist_list)"
      ],
      "execution_count": null,
      "outputs": []
    },
    {
      "cell_type": "code",
      "metadata": {
        "id": "kHmPItGdSf_U",
        "colab_type": "code",
        "colab": {}
      },
      "source": [
        "#Создаем топ лист для 20 похожих авторов\n",
        "def toplist(test):\n",
        "  t_cell = []\n",
        "  top_list = []\n",
        "  for i in range(len(test)):\n",
        "    t_cell = persons[persons[\"Author_ID\"].isin(test[i])]\n",
        "    top_list.append(t_cell)\n",
        "  top = pd.concat(top_list)\n",
        "  return(top)"
      ],
      "execution_count": null,
      "outputs": []
    },
    {
      "cell_type": "code",
      "metadata": {
        "id": "HB_yuvHOSeZe",
        "colab_type": "code",
        "colab": {
          "base_uri": "https://localhost:8080/",
          "height": 723
        },
        "outputId": "56480c16-85d0-42d7-b65e-6dd7e9013bc9"
      },
      "source": [
        "w1 = 'Lenny Kravitz & Asa', 'Nicole Kidman/Robbie Williams'\n",
        "w2 = 'Dido & Enya', #Если одно название автора, необходимо поставить в конце ',' чтобы длина = 1 (колличество авторов), иначе длина = длине слова\n",
        "print('Top 20 list')\n",
        "toplist(test = model.wv.most_similar (positive = artist_name(w1), negative = artist_name(w2), topn = 20))"
      ],
      "execution_count": null,
      "outputs": [
        {
          "output_type": "stream",
          "text": [
            "/usr/local/lib/python3.6/dist-packages/gensim/matutils.py:737: FutureWarning: Conversion of the second argument of issubdtype from `int` to `np.signedinteger` is deprecated. In future, it will be treated as `np.int64 == np.dtype(int).type`.\n",
            "  if np.issubdtype(vec.dtype, np.int):\n"
          ],
          "name": "stderr"
        },
        {
          "output_type": "execute_result",
          "data": {
            "text/html": [
              "<div>\n",
              "<style scoped>\n",
              "    .dataframe tbody tr th:only-of-type {\n",
              "        vertical-align: middle;\n",
              "    }\n",
              "\n",
              "    .dataframe tbody tr th {\n",
              "        vertical-align: top;\n",
              "    }\n",
              "\n",
              "    .dataframe thead th {\n",
              "        text-align: right;\n",
              "    }\n",
              "</style>\n",
              "<table border=\"1\" class=\"dataframe\">\n",
              "  <thead>\n",
              "    <tr style=\"text-align: right;\">\n",
              "      <th></th>\n",
              "      <th>Author_ID</th>\n",
              "      <th>Track_Name</th>\n",
              "    </tr>\n",
              "  </thead>\n",
              "  <tbody>\n",
              "    <tr>\n",
              "      <th>50834</th>\n",
              "      <td>386379</td>\n",
              "      <td>U2 &amp; Bob Dylan</td>\n",
              "    </tr>\n",
              "    <tr>\n",
              "      <th>489323</th>\n",
              "      <td>53169</td>\n",
              "      <td>Blur &amp; Offspring</td>\n",
              "    </tr>\n",
              "    <tr>\n",
              "      <th>29413</th>\n",
              "      <td>124222</td>\n",
              "      <td>Queen &amp; The Muppets</td>\n",
              "    </tr>\n",
              "    <tr>\n",
              "      <th>205143</th>\n",
              "      <td>11423</td>\n",
              "      <td>Aerosmith</td>\n",
              "    </tr>\n",
              "    <tr>\n",
              "      <th>305273</th>\n",
              "      <td>464493</td>\n",
              "      <td>Kaiser Chiefs</td>\n",
              "    </tr>\n",
              "    <tr>\n",
              "      <th>105140</th>\n",
              "      <td>290797</td>\n",
              "      <td>Red Hot Chili Peppers -</td>\n",
              "    </tr>\n",
              "    <tr>\n",
              "      <th>69606</th>\n",
              "      <td>174126</td>\n",
              "      <td>Guns 'N' Roses</td>\n",
              "    </tr>\n",
              "    <tr>\n",
              "      <th>38574</th>\n",
              "      <td>299571</td>\n",
              "      <td>Rolling Stones</td>\n",
              "    </tr>\n",
              "    <tr>\n",
              "      <th>132062</th>\n",
              "      <td>60190</td>\n",
              "      <td>Bruce Springsteen &amp; The E Street Band with Tom...</td>\n",
              "    </tr>\n",
              "    <tr>\n",
              "      <th>50779</th>\n",
              "      <td>29427</td>\n",
              "      <td>Arctic Monekys</td>\n",
              "    </tr>\n",
              "    <tr>\n",
              "      <th>173912</th>\n",
              "      <td>360406</td>\n",
              "      <td>The Kooks</td>\n",
              "    </tr>\n",
              "    <tr>\n",
              "      <th>290919</th>\n",
              "      <td>460815</td>\n",
              "      <td>Journey</td>\n",
              "    </tr>\n",
              "    <tr>\n",
              "      <th>32678</th>\n",
              "      <td>257088</td>\n",
              "      <td>Oasis</td>\n",
              "    </tr>\n",
              "    <tr>\n",
              "      <th>399813</th>\n",
              "      <td>360208</td>\n",
              "      <td>The Killers Feat. Elton John &amp; Neil Tennant</td>\n",
              "    </tr>\n",
              "    <tr>\n",
              "      <th>6636</th>\n",
              "      <td>43031</td>\n",
              "      <td>Beegees</td>\n",
              "    </tr>\n",
              "    <tr>\n",
              "      <th>363958</th>\n",
              "      <td>466633</td>\n",
              "      <td>Kasabian</td>\n",
              "    </tr>\n",
              "    <tr>\n",
              "      <th>57716</th>\n",
              "      <td>298991</td>\n",
              "      <td>Rod Stewart &amp; PP Arnold</td>\n",
              "    </tr>\n",
              "    <tr>\n",
              "      <th>352932</th>\n",
              "      <td>55340</td>\n",
              "      <td>Bon Jovi</td>\n",
              "    </tr>\n",
              "    <tr>\n",
              "      <th>39410</th>\n",
              "      <td>289130</td>\n",
              "      <td>Ray Charles &amp; George Michael</td>\n",
              "    </tr>\n",
              "    <tr>\n",
              "      <th>76939</th>\n",
              "      <td>72509</td>\n",
              "      <td>Santana &amp; Wyclef feat. Avicii &amp; Alexandre Pires</td>\n",
              "    </tr>\n",
              "  </tbody>\n",
              "</table>\n",
              "</div>"
            ],
            "text/plain": [
              "       Author_ID                                         Track_Name\n",
              "50834     386379                                     U2 & Bob Dylan\n",
              "489323     53169                                   Blur & Offspring\n",
              "29413     124222                                Queen & The Muppets\n",
              "205143     11423                                          Aerosmith\n",
              "305273    464493                                      Kaiser Chiefs\n",
              "105140    290797                            Red Hot Chili Peppers -\n",
              "69606     174126                                     Guns 'N' Roses\n",
              "38574     299571                                     Rolling Stones\n",
              "132062     60190  Bruce Springsteen & The E Street Band with Tom...\n",
              "50779      29427                                     Arctic Monekys\n",
              "173912    360406                                          The Kooks\n",
              "290919    460815                                            Journey\n",
              "32678     257088                                              Oasis\n",
              "399813    360208        The Killers Feat. Elton John & Neil Tennant\n",
              "6636       43031                                            Beegees\n",
              "363958    466633                                           Kasabian\n",
              "57716     298991                            Rod Stewart & PP Arnold\n",
              "352932     55340                                           Bon Jovi\n",
              "39410     289130                       Ray Charles & George Michael\n",
              "76939      72509    Santana & Wyclef feat. Avicii & Alexandre Pires"
            ]
          },
          "metadata": {
            "tags": []
          },
          "execution_count": 505
        }
      ]
    },
    {
      "cell_type": "markdown",
      "metadata": {
        "id": "_Yivu-8mYo6F",
        "colab_type": "text"
      },
      "source": [
        "## Экспрементальная часть"
      ]
    },
    {
      "cell_type": "markdown",
      "metadata": {
        "id": "_wXmj8l2SIxC",
        "colab_type": "text"
      },
      "source": [
        "В экспериментальной части, я решил преобразовать датасет позитивных рекомендаций, таким образом, чтобы, если один пользователь слушал \"Автор 1\" - 5 раз, а \"Автор 2\" - 2 раза, рейтинг у них был бы не равносильный, а равен 5 и 2 соответственно. При этом рейтинг негативных рекомендаций, равен также 0. \n",
        "\n",
        "*Таким образом, учитывался бы рейтинг качества треков автора, помимо часто-встречаемости.*\n"
      ]
    },
    {
      "cell_type": "markdown",
      "metadata": {
        "id": "TPx6SEdiRtgw",
        "colab_type": "text"
      },
      "source": [
        "Заново выполнить запуск **пункта** *Методы для построения векторыных представлений*, в частности с **импортирование датасетов** до создания листа **Автор - Имя**"
      ]
    },
    {
      "cell_type": "code",
      "metadata": {
        "id": "D3KwooUyZAXm",
        "colab_type": "code",
        "colab": {}
      },
      "source": [
        "#Добавление колонки с рейтингом 1 для позитивных рекомендаций\n",
        "author_positive = author_positive.rename(columns={'Author_ID_Recommended':'Author_ID'})\n",
        "author_positive.insert(2, 'Rating', 1)"
      ],
      "execution_count": 16,
      "outputs": []
    },
    {
      "cell_type": "code",
      "metadata": {
        "id": "SCPye9zQZJui",
        "colab_type": "code",
        "colab": {}
      },
      "source": [
        "#Если строка: Пользователь - Автор, повторяется, тогда колонка \"Рейтинг\" складывается.\n",
        "author_positive = author_positive.groupby(['Author_ID','User_ID']).agg({'Rating': 'sum'})"
      ],
      "execution_count": 17,
      "outputs": []
    },
    {
      "cell_type": "code",
      "metadata": {
        "id": "ObmbHh9gZZ7d",
        "colab_type": "code",
        "colab": {}
      },
      "source": [
        "#Вернуть колонки Пользователь - Автор\n",
        "author_positive = author_positive.reset_index()"
      ],
      "execution_count": 18,
      "outputs": []
    },
    {
      "cell_type": "code",
      "metadata": {
        "id": "0HECEn_IbQll",
        "colab_type": "code",
        "colab": {
          "base_uri": "https://localhost:8080/",
          "height": 204
        },
        "outputId": "ecfa2eda-fdf6-4623-c93e-d3991907cbda"
      },
      "source": [
        "#Результат\n",
        "author_positive.head()"
      ],
      "execution_count": 19,
      "outputs": [
        {
          "output_type": "execute_result",
          "data": {
            "text/html": [
              "<div>\n",
              "<style scoped>\n",
              "    .dataframe tbody tr th:only-of-type {\n",
              "        vertical-align: middle;\n",
              "    }\n",
              "\n",
              "    .dataframe tbody tr th {\n",
              "        vertical-align: top;\n",
              "    }\n",
              "\n",
              "    .dataframe thead th {\n",
              "        text-align: right;\n",
              "    }\n",
              "</style>\n",
              "<table border=\"1\" class=\"dataframe\">\n",
              "  <thead>\n",
              "    <tr style=\"text-align: right;\">\n",
              "      <th></th>\n",
              "      <th>Author_ID</th>\n",
              "      <th>User_ID</th>\n",
              "      <th>Rating</th>\n",
              "    </tr>\n",
              "  </thead>\n",
              "  <tbody>\n",
              "    <tr>\n",
              "      <th>0</th>\n",
              "      <td>0</td>\n",
              "      <td>1</td>\n",
              "      <td>1</td>\n",
              "    </tr>\n",
              "    <tr>\n",
              "      <th>1</th>\n",
              "      <td>0</td>\n",
              "      <td>2</td>\n",
              "      <td>14</td>\n",
              "    </tr>\n",
              "    <tr>\n",
              "      <th>2</th>\n",
              "      <td>0</td>\n",
              "      <td>3</td>\n",
              "      <td>3</td>\n",
              "    </tr>\n",
              "    <tr>\n",
              "      <th>3</th>\n",
              "      <td>0</td>\n",
              "      <td>4</td>\n",
              "      <td>1</td>\n",
              "    </tr>\n",
              "    <tr>\n",
              "      <th>4</th>\n",
              "      <td>0</td>\n",
              "      <td>5</td>\n",
              "      <td>8</td>\n",
              "    </tr>\n",
              "  </tbody>\n",
              "</table>\n",
              "</div>"
            ],
            "text/plain": [
              "   Author_ID  User_ID  Rating\n",
              "0          0        1       1\n",
              "1          0        2      14\n",
              "2          0        3       3\n",
              "3          0        4       1\n",
              "4          0        5       8"
            ]
          },
          "metadata": {
            "tags": []
          },
          "execution_count": 19
        }
      ]
    },
    {
      "cell_type": "code",
      "metadata": {
        "id": "oOKaKGufZFCd",
        "colab_type": "code",
        "colab": {}
      },
      "source": [
        "#Добавим рейтинг 0 для негативных рекомендаций\n",
        "author_negative = author_negative.rename(columns={'Author_ID_Non_Recommended':'Author_ID'})\n",
        "author_negative.insert(2, 'Rating', 0)"
      ],
      "execution_count": 20,
      "outputs": []
    },
    {
      "cell_type": "code",
      "metadata": {
        "id": "jvVvKWhyZl_R",
        "colab_type": "code",
        "colab": {}
      },
      "source": [
        "#Создаем общий датасет\n",
        "authors=author_positive.append(author_negative)"
      ],
      "execution_count": 21,
      "outputs": []
    },
    {
      "cell_type": "code",
      "metadata": {
        "id": "NsjRlBGGZqEf",
        "colab_type": "code",
        "colab": {}
      },
      "source": [
        "#Удаляем нулевые строки\n",
        "authors = authors[authors['Author_ID'] != 0]"
      ],
      "execution_count": 22,
      "outputs": []
    },
    {
      "cell_type": "code",
      "metadata": {
        "id": "QSVWVSJNZuj7",
        "colab_type": "code",
        "colab": {}
      },
      "source": [
        "#Значения в int\n",
        "authors['User_ID'] = authors['User_ID'].astype(int)"
      ],
      "execution_count": 23,
      "outputs": []
    },
    {
      "cell_type": "code",
      "metadata": {
        "id": "byDpVjb5Zqrj",
        "colab_type": "code",
        "colab": {}
      },
      "source": [
        "#Удаляем не нужные пермененные\n",
        "del author_positive, author_negative"
      ],
      "execution_count": 24,
      "outputs": []
    },
    {
      "cell_type": "code",
      "metadata": {
        "id": "8M3eMJ5nZzvz",
        "colab_type": "code",
        "colab": {
          "base_uri": "https://localhost:8080/",
          "height": 425
        },
        "outputId": "2ab1d31f-5a8f-4ae4-cebf-7ab49f619a87"
      },
      "source": [
        "#Рандомный вывод 5 строк\n",
        "for df in list((persons, authors)):\n",
        "    rand_idx = np.random.choice(len(df), 5, replace=False)\n",
        "    display(df.iloc[rand_idx,:])\n",
        "    print(\"Displaying 5 of the total \"+str(len(df))+\" data points\")"
      ],
      "execution_count": 26,
      "outputs": [
        {
          "output_type": "display_data",
          "data": {
            "text/html": [
              "<div>\n",
              "<style scoped>\n",
              "    .dataframe tbody tr th:only-of-type {\n",
              "        vertical-align: middle;\n",
              "    }\n",
              "\n",
              "    .dataframe tbody tr th {\n",
              "        vertical-align: top;\n",
              "    }\n",
              "\n",
              "    .dataframe thead th {\n",
              "        text-align: right;\n",
              "    }\n",
              "</style>\n",
              "<table border=\"1\" class=\"dataframe\">\n",
              "  <thead>\n",
              "    <tr style=\"text-align: right;\">\n",
              "      <th></th>\n",
              "      <th>Author_ID</th>\n",
              "      <th>Track_Name</th>\n",
              "    </tr>\n",
              "  </thead>\n",
              "  <tbody>\n",
              "    <tr>\n",
              "      <th>529911</th>\n",
              "      <td>358335</td>\n",
              "      <td>The Heavy Hearts</td>\n",
              "    </tr>\n",
              "    <tr>\n",
              "      <th>558240</th>\n",
              "      <td>434249</td>\n",
              "      <td>Honey is Cool</td>\n",
              "    </tr>\n",
              "    <tr>\n",
              "      <th>349876</th>\n",
              "      <td>531738</td>\n",
              "      <td>K Camp ft PeeWee Longway</td>\n",
              "    </tr>\n",
              "    <tr>\n",
              "      <th>575234</th>\n",
              "      <td>102041</td>\n",
              "      <td>Daniel Caesar</td>\n",
              "    </tr>\n",
              "    <tr>\n",
              "      <th>265959</th>\n",
              "      <td>225917</td>\n",
              "      <td>Megafaun with Adam Heathcott (Reactable Mobile)</td>\n",
              "    </tr>\n",
              "  </tbody>\n",
              "</table>\n",
              "</div>"
            ],
            "text/plain": [
              "       Author_ID                                       Track_Name\n",
              "529911    358335                                 The Heavy Hearts\n",
              "558240    434249                                    Honey is Cool\n",
              "349876    531738                         K Camp ft PeeWee Longway\n",
              "575234    102041                                    Daniel Caesar\n",
              "265959    225917  Megafaun with Adam Heathcott (Reactable Mobile)"
            ]
          },
          "metadata": {
            "tags": []
          }
        },
        {
          "output_type": "stream",
          "text": [
            "Displaying 5 of the total 560927 data points\n"
          ],
          "name": "stdout"
        },
        {
          "output_type": "display_data",
          "data": {
            "text/html": [
              "<div>\n",
              "<style scoped>\n",
              "    .dataframe tbody tr th:only-of-type {\n",
              "        vertical-align: middle;\n",
              "    }\n",
              "\n",
              "    .dataframe tbody tr th {\n",
              "        vertical-align: top;\n",
              "    }\n",
              "\n",
              "    .dataframe thead th {\n",
              "        text-align: right;\n",
              "    }\n",
              "</style>\n",
              "<table border=\"1\" class=\"dataframe\">\n",
              "  <thead>\n",
              "    <tr style=\"text-align: right;\">\n",
              "      <th></th>\n",
              "      <th>Author_ID</th>\n",
              "      <th>User_ID</th>\n",
              "      <th>Rating</th>\n",
              "    </tr>\n",
              "  </thead>\n",
              "  <tbody>\n",
              "    <tr>\n",
              "      <th>18424694</th>\n",
              "      <td>467679</td>\n",
              "      <td>7860</td>\n",
              "      <td>0</td>\n",
              "    </tr>\n",
              "    <tr>\n",
              "      <th>3263412</th>\n",
              "      <td>428974</td>\n",
              "      <td>34013</td>\n",
              "      <td>0</td>\n",
              "    </tr>\n",
              "    <tr>\n",
              "      <th>452022</th>\n",
              "      <td>44182</td>\n",
              "      <td>14799</td>\n",
              "      <td>19</td>\n",
              "    </tr>\n",
              "    <tr>\n",
              "      <th>8493016</th>\n",
              "      <td>111129</td>\n",
              "      <td>17550</td>\n",
              "      <td>0</td>\n",
              "    </tr>\n",
              "    <tr>\n",
              "      <th>6249898</th>\n",
              "      <td>401676</td>\n",
              "      <td>22958</td>\n",
              "      <td>0</td>\n",
              "    </tr>\n",
              "  </tbody>\n",
              "</table>\n",
              "</div>"
            ],
            "text/plain": [
              "          Author_ID  User_ID  Rating\n",
              "18424694     467679     7860       0\n",
              "3263412      428974    34013       0\n",
              "452022        44182    14799      19\n",
              "8493016      111129    17550       0\n",
              "6249898      401676    22958       0"
            ]
          },
          "metadata": {
            "tags": []
          }
        },
        {
          "output_type": "stream",
          "text": [
            "Displaying 5 of the total 28109806 data points\n"
          ],
          "name": "stdout"
        }
      ]
    },
    {
      "cell_type": "markdown",
      "metadata": {
        "id": "VRUDunf3T16b",
        "colab_type": "text"
      },
      "source": [
        "### Тренировочные и тестовые данные"
      ]
    },
    {
      "cell_type": "markdown",
      "metadata": {
        "id": "AUP5jGlhUBAi",
        "colab_type": "text"
      },
      "source": [
        "Разделяем данные на тестовые 20% и тренировочные 80%."
      ]
    },
    {
      "cell_type": "code",
      "metadata": {
        "id": "4RspgV0mZ4sG",
        "colab_type": "code",
        "colab": {}
      },
      "source": [
        "df_ratings_train, df_ratings_test= train_test_split(authors,\n",
        "                                                    stratify=authors['User_ID'],\n",
        "                                                    random_state = 4256,\n",
        "                                                    test_size=0.2)"
      ],
      "execution_count": 27,
      "outputs": []
    },
    {
      "cell_type": "markdown",
      "metadata": {
        "id": "vQczym5-UCm1",
        "colab_type": "text"
      },
      "source": [
        "Количество данных"
      ]
    },
    {
      "cell_type": "code",
      "metadata": {
        "id": "Rjdtu5o9bePQ",
        "colab_type": "code",
        "colab": {
          "base_uri": "https://localhost:8080/",
          "height": 51
        },
        "outputId": "242abca8-1201-43ee-9d02-e6bf4f1542f5"
      },
      "source": [
        "print(\"Number of training data: \"+str(len(df_ratings_train)))\n",
        "print(\"Number of test data: \"+str(len(df_ratings_test)))"
      ],
      "execution_count": 28,
      "outputs": [
        {
          "output_type": "stream",
          "text": [
            "Number of training data: 22487844\n",
            "Number of test data: 5621962\n"
          ],
          "name": "stdout"
        }
      ]
    },
    {
      "cell_type": "markdown",
      "metadata": {
        "id": "fiFksMtzUHa7",
        "colab_type": "text"
      },
      "source": [
        "Удаляем дубликаты"
      ]
    },
    {
      "cell_type": "code",
      "metadata": {
        "id": "hVgJh-Kzbm5p",
        "colab_type": "code",
        "colab": {}
      },
      "source": [
        "df_ratings_train = df_ratings_train.drop_duplicates(subset=['Author_ID','User_ID'])\n",
        "df_ratings_test = df_ratings_test.drop_duplicates(subset=['Author_ID','User_ID'])"
      ],
      "execution_count": 29,
      "outputs": []
    },
    {
      "cell_type": "markdown",
      "metadata": {
        "id": "wazVJln3UJj6",
        "colab_type": "text"
      },
      "source": [
        "Количество данных"
      ]
    },
    {
      "cell_type": "code",
      "metadata": {
        "id": "HK0j4ekobsdc",
        "colab_type": "code",
        "colab": {
          "base_uri": "https://localhost:8080/",
          "height": 51
        },
        "outputId": "e1bee6b6-2cf8-455a-8151-6d49406d6e45"
      },
      "source": [
        "print(\"Number of training data: \"+str(len(df_ratings_train)))\n",
        "print(\"Number of test data: \"+str(len(df_ratings_test)))"
      ],
      "execution_count": 30,
      "outputs": [
        {
          "output_type": "stream",
          "text": [
            "Number of training data: 5411812\n",
            "Number of test data: 2211256\n"
          ],
          "name": "stdout"
        }
      ]
    },
    {
      "cell_type": "code",
      "metadata": {
        "id": "lph8uW1qbwAM",
        "colab_type": "code",
        "colab": {}
      },
      "source": [
        "def rating_splitter(df):\n",
        "    \n",
        "    df['Liked'] = np.where(df['Rating'] >= 1, 1, 0) #Важно, чтобы рейтинг был >= 1\n",
        "    df['Author_ID'] = df['Author_ID'].astype('str')\n",
        "    gp_user_like = df.groupby(['Liked', 'User_ID'])\n",
        "\n",
        "    return ([gp_user_like.get_group(gp)['Author_ID'].tolist() for gp in gp_user_like.groups])"
      ],
      "execution_count": null,
      "outputs": []
    },
    {
      "cell_type": "code",
      "metadata": {
        "id": "g7qbXaQQb30N",
        "colab_type": "code",
        "colab": {}
      },
      "source": [
        "#Генерируем списки\n",
        "pd.options.mode.chained_assignment = None\n",
        "splitted_track = rating_splitter(df_ratings_train)"
      ],
      "execution_count": null,
      "outputs": []
    },
    {
      "cell_type": "markdown",
      "metadata": {
        "id": "c7FErK6zVDu4",
        "colab_type": "text"
      },
      "source": [
        "Убедимся, что **Gensim** использует компилятор "
      ]
    },
    {
      "cell_type": "code",
      "metadata": {
        "id": "XMmbCvoeb-gB",
        "colab_type": "code",
        "colab": {}
      },
      "source": [
        "#import warnings\n",
        "warnings.filterwarnings(action='ignore', category=UserWarning, module='gensim')\n",
        "\n",
        "#import gensim\n",
        "assert gensim.models.word2vec.FAST_VERSION > -1"
      ],
      "execution_count": null,
      "outputs": []
    },
    {
      "cell_type": "markdown",
      "metadata": {
        "id": "nGEIfV4WVEtY",
        "colab_type": "text"
      },
      "source": [
        "Перемешиваем данные для обучения"
      ]
    },
    {
      "cell_type": "code",
      "metadata": {
        "id": "lD6HkKPGcDtL",
        "colab_type": "code",
        "colab": {}
      },
      "source": [
        "#import random\n",
        "\n",
        "for track_list in splitted_track:\n",
        "    random.shuffle(track_list)"
      ],
      "execution_count": null,
      "outputs": []
    },
    {
      "cell_type": "markdown",
      "metadata": {
        "id": "Lov_jA1HUah4",
        "colab_type": "text"
      },
      "source": [
        "### Обучение модели по гипермараметрам"
      ]
    },
    {
      "cell_type": "code",
      "metadata": {
        "id": "jfWOjdkRcIck",
        "colab_type": "code",
        "colab": {}
      },
      "source": [
        "#from gensim.models import Word2Vec\n",
        "#import datetime\n",
        "start = datetime.datetime.now()\n",
        "\n",
        "model = Word2Vec(sentences = splitted_track, #Мы предоставим предварительно обработанный список автора для этого параметра.\n",
        "                 iter = 5, # Повторений\n",
        "                 min_count = 10, #Автор должен появляться более 10 раз, чтобы его сохранить\n",
        "                 size = 200, #Размер скрытого слоя\n",
        "                 workers = 4, #Количество потоков, которые будут использоваться для обучения\n",
        "                 sg = 1, #Определяет алгоритм обучения. Мы будем использовать скип-грамм, поэтому выбрано 1.\n",
        "                 hs = 0, #Установите в 0, так как мы применяем отрицательную выборку.\n",
        "                 negative = 5, #Если> 0, будет использоваться отрицательная выборка. Мы будем использовать значение 5.\n",
        "                 window = 9999999) #Размер окна\n",
        "\n",
        "print(\"Time passed: \" + str(datetime.datetime.now()-start))"
      ],
      "execution_count": null,
      "outputs": []
    },
    {
      "cell_type": "code",
      "metadata": {
        "id": "JpCbfOegcPqS",
        "colab_type": "code",
        "colab": {
          "base_uri": "https://localhost:8080/",
          "height": 71
        },
        "outputId": "ae942ef4-98d3-49cd-9203-bfb96e488585"
      },
      "source": [
        "model.save('item2vec_202006_2') #Сохраняем модель"
      ],
      "execution_count": null,
      "outputs": [
        {
          "output_type": "stream",
          "text": [
            "/usr/local/lib/python3.6/dist-packages/smart_open/smart_open_lib.py:253: UserWarning: This function is deprecated, use smart_open.open instead. See the migration notes for details: https://github.com/RaRe-Technologies/smart_open/blob/master/README.rst#migrating-to-the-new-open-function\n",
            "  'See the migration notes for details: %s' % _MIGRATION_NOTES_URL\n"
          ],
          "name": "stderr"
        }
      ]
    },
    {
      "cell_type": "markdown",
      "metadata": {
        "id": "6yX3um5XVZyk",
        "colab_type": "text"
      },
      "source": [
        "Импортируем обученную модель"
      ]
    },
    {
      "cell_type": "code",
      "metadata": {
        "id": "E98sNm-FvHXc",
        "colab_type": "code",
        "colab": {
          "base_uri": "https://localhost:8080/",
          "height": 71
        },
        "outputId": "e519dac0-6e5f-4691-92b4-48fc91660f15"
      },
      "source": [
        "#import warnings\n",
        "warnings.filterwarnings(action='ignore', category=UserWarning, module='gensim')\n",
        "\n",
        "#from gensim.models import Word2Vec\n",
        "model = Word2Vec.load('item2vec_202006_2')\n",
        "word_vectors = model.wv\n",
        "# del model #Удаление импортированной модели"
      ],
      "execution_count": null,
      "outputs": [
        {
          "output_type": "stream",
          "text": [
            "/usr/local/lib/python3.6/dist-packages/smart_open/smart_open_lib.py:253: UserWarning: This function is deprecated, use smart_open.open instead. See the migration notes for details: https://github.com/RaRe-Technologies/smart_open/blob/master/README.rst#migrating-to-the-new-open-function\n",
            "  'See the migration notes for details: %s' % _MIGRATION_NOTES_URL\n"
          ],
          "name": "stderr"
        }
      ]
    },
    {
      "cell_type": "markdown",
      "metadata": {
        "id": "4vZ-xiApVo6O",
        "colab_type": "text"
      },
      "source": [
        "Приведем список 20 похожих авторов, по поведению пользователя, при этом необходимо запустить парсеры artist_name и toplist из предыдущей модели"
      ]
    },
    {
      "cell_type": "code",
      "metadata": {
        "id": "KxfFBtrCu_6N",
        "colab_type": "code",
        "colab": {
          "base_uri": "https://localhost:8080/",
          "height": 723
        },
        "outputId": "61fe7de8-1783-429d-da2a-ac439840b4e2"
      },
      "source": [
        "w1 = 'Lenny Kravitz & Asa', 'Nicole Kidman/Robbie Williams'\n",
        "w2 = 'Dido & Enya', #must to set ',' to len(name) = 1, else len(name) = len phrase\n",
        "toplist(test = model.wv.most_similar (positive = artist_name(w1), negative = artist_name(w2), topn = 20))"
      ],
      "execution_count": null,
      "outputs": [
        {
          "output_type": "stream",
          "text": [
            "/usr/local/lib/python3.6/dist-packages/gensim/matutils.py:737: FutureWarning: Conversion of the second argument of issubdtype from `int` to `np.signedinteger` is deprecated. In future, it will be treated as `np.int64 == np.dtype(int).type`.\n",
            "  if np.issubdtype(vec.dtype, np.int):\n"
          ],
          "name": "stderr"
        },
        {
          "output_type": "execute_result",
          "data": {
            "text/html": [
              "<div>\n",
              "<style scoped>\n",
              "    .dataframe tbody tr th:only-of-type {\n",
              "        vertical-align: middle;\n",
              "    }\n",
              "\n",
              "    .dataframe tbody tr th {\n",
              "        vertical-align: top;\n",
              "    }\n",
              "\n",
              "    .dataframe thead th {\n",
              "        text-align: right;\n",
              "    }\n",
              "</style>\n",
              "<table border=\"1\" class=\"dataframe\">\n",
              "  <thead>\n",
              "    <tr style=\"text-align: right;\">\n",
              "      <th></th>\n",
              "      <th>Author_ID</th>\n",
              "      <th>Track_Name</th>\n",
              "    </tr>\n",
              "  </thead>\n",
              "  <tbody>\n",
              "    <tr>\n",
              "      <th>32678</th>\n",
              "      <td>257088</td>\n",
              "      <td>Oasis</td>\n",
              "    </tr>\n",
              "    <tr>\n",
              "      <th>96872</th>\n",
              "      <td>154295</td>\n",
              "      <td>Foo Figthers</td>\n",
              "    </tr>\n",
              "    <tr>\n",
              "      <th>363958</th>\n",
              "      <td>466633</td>\n",
              "      <td>Kasabian</td>\n",
              "    </tr>\n",
              "    <tr>\n",
              "      <th>99514</th>\n",
              "      <td>452151</td>\n",
              "      <td>Jet</td>\n",
              "    </tr>\n",
              "    <tr>\n",
              "      <th>205143</th>\n",
              "      <td>11423</td>\n",
              "      <td>Aerosmith</td>\n",
              "    </tr>\n",
              "    <tr>\n",
              "      <th>290919</th>\n",
              "      <td>460815</td>\n",
              "      <td>Journey</td>\n",
              "    </tr>\n",
              "    <tr>\n",
              "      <th>105140</th>\n",
              "      <td>290797</td>\n",
              "      <td>Red Hot Chili Peppers -</td>\n",
              "    </tr>\n",
              "    <tr>\n",
              "      <th>29413</th>\n",
              "      <td>124222</td>\n",
              "      <td>Queen &amp; The Muppets</td>\n",
              "    </tr>\n",
              "    <tr>\n",
              "      <th>489323</th>\n",
              "      <td>53169</td>\n",
              "      <td>Blur &amp; Offspring</td>\n",
              "    </tr>\n",
              "    <tr>\n",
              "      <th>50834</th>\n",
              "      <td>386379</td>\n",
              "      <td>U2 &amp; Bob Dylan</td>\n",
              "    </tr>\n",
              "    <tr>\n",
              "      <th>194162</th>\n",
              "      <td>70915</td>\n",
              "      <td>Creedence Clearwater Revival</td>\n",
              "    </tr>\n",
              "    <tr>\n",
              "      <th>8109</th>\n",
              "      <td>425607</td>\n",
              "      <td>Eagle Eye Cherry</td>\n",
              "    </tr>\n",
              "    <tr>\n",
              "      <th>3544</th>\n",
              "      <td>228054</td>\n",
              "      <td>Metallica, Michael Kamen &amp; San Francisco Symphony</td>\n",
              "    </tr>\n",
              "    <tr>\n",
              "      <th>182600</th>\n",
              "      <td>399353</td>\n",
              "      <td>Weezer &amp; Hayley Williams</td>\n",
              "    </tr>\n",
              "    <tr>\n",
              "      <th>38574</th>\n",
              "      <td>299571</td>\n",
              "      <td>Rolling Stones</td>\n",
              "    </tr>\n",
              "    <tr>\n",
              "      <th>238164</th>\n",
              "      <td>445940</td>\n",
              "      <td>Jake Bugg</td>\n",
              "    </tr>\n",
              "    <tr>\n",
              "      <th>79702</th>\n",
              "      <td>184540</td>\n",
              "      <td>Kings of Leon</td>\n",
              "    </tr>\n",
              "    <tr>\n",
              "      <th>109147</th>\n",
              "      <td>82955</td>\n",
              "      <td>Coldplay &amp; Kylie Minogue</td>\n",
              "    </tr>\n",
              "    <tr>\n",
              "      <th>99946</th>\n",
              "      <td>114685</td>\n",
              "      <td>Dire Straights</td>\n",
              "    </tr>\n",
              "    <tr>\n",
              "      <th>111794</th>\n",
              "      <td>371925</td>\n",
              "      <td>White Stripes</td>\n",
              "    </tr>\n",
              "  </tbody>\n",
              "</table>\n",
              "</div>"
            ],
            "text/plain": [
              "       Author_ID                                         Track_Name\n",
              "32678     257088                                              Oasis\n",
              "96872     154295                                       Foo Figthers\n",
              "363958    466633                                           Kasabian\n",
              "99514     452151                                                Jet\n",
              "205143     11423                                          Aerosmith\n",
              "290919    460815                                            Journey\n",
              "105140    290797                            Red Hot Chili Peppers -\n",
              "29413     124222                                Queen & The Muppets\n",
              "489323     53169                                   Blur & Offspring\n",
              "50834     386379                                     U2 & Bob Dylan\n",
              "194162     70915                       Creedence Clearwater Revival\n",
              "8109      425607                                   Eagle Eye Cherry\n",
              "3544      228054  Metallica, Michael Kamen & San Francisco Symphony\n",
              "182600    399353                           Weezer & Hayley Williams\n",
              "38574     299571                                     Rolling Stones\n",
              "238164    445940                                          Jake Bugg\n",
              "79702     184540                                      Kings of Leon\n",
              "109147     82955                           Coldplay & Kylie Minogue\n",
              "99946     114685                                     Dire Straights\n",
              "111794    371925                                      White Stripes"
            ]
          },
          "metadata": {
            "tags": []
          },
          "execution_count": 536
        }
      ]
    },
    {
      "cell_type": "markdown",
      "metadata": {
        "id": "U6BJAJQxw0FH",
        "colab_type": "text"
      },
      "source": [
        "В сравнении с моделю рейтинг 1 и 0, совпадений 9 из 20."
      ]
    },
    {
      "cell_type": "markdown",
      "metadata": {
        "id": "uEAsNWqAWKkc",
        "colab_type": "text"
      },
      "source": [
        "Снова обучим модель, но с другими гиперпараметрами"
      ]
    },
    {
      "cell_type": "code",
      "metadata": {
        "id": "LeYh_o6u-zJ-",
        "colab_type": "code",
        "colab": {
          "base_uri": "https://localhost:8080/",
          "height": 34
        },
        "outputId": "e41d1fae-16b0-4642-d4b6-4130e641189a"
      },
      "source": [
        "#from gensim.models import Word2Vec\n",
        "#import datetime\n",
        "start = datetime.datetime.now()\n",
        "\n",
        "model = Word2Vec(sentences = splitted_track, #Мы предоставим предварительно обработанный список автора для этого параметра.\n",
        "                 iter = 10, #Повторений\n",
        "                 min_count = 10, #Автор должен появляться более 10 раз, чтобы его сохранить\n",
        "                 size = 300, #Размер скрытого слоя\n",
        "                 workers = 4, #Количество потоков, которые будут использоваться для обучения\n",
        "                 sg = 1, #Определяет алгоритм обучения. Мы будем использовать скип-грамм, поэтому выбрано 1.\n",
        "                 hs = 0, #Установите в 0, так как мы применяем отрицательную выборку.\n",
        "                 negative = 5, #Если> 0, будет использоваться отрицательная выборка. Мы будем использовать значение 5.\n",
        "                 window = 9999999) #Размер окна\n",
        "\n",
        "print(\"Time passed: \" + str(datetime.datetime.now()-start))"
      ],
      "execution_count": null,
      "outputs": [
        {
          "output_type": "stream",
          "text": [
            "Time passed: 3:33:26.231159\n"
          ],
          "name": "stdout"
        }
      ]
    },
    {
      "cell_type": "code",
      "metadata": {
        "id": "5Y0UdY6A-56n",
        "colab_type": "code",
        "colab": {
          "base_uri": "https://localhost:8080/",
          "height": 71
        },
        "outputId": "acc40fb9-2312-495c-c042-cb56ce2a9c07"
      },
      "source": [
        "model.save('item2vec_202006_3') #Сохраняем модель"
      ],
      "execution_count": null,
      "outputs": [
        {
          "output_type": "stream",
          "text": [
            "/usr/local/lib/python3.6/dist-packages/smart_open/smart_open_lib.py:253: UserWarning: This function is deprecated, use smart_open.open instead. See the migration notes for details: https://github.com/RaRe-Technologies/smart_open/blob/master/README.rst#migrating-to-the-new-open-function\n",
            "  'See the migration notes for details: %s' % _MIGRATION_NOTES_URL\n"
          ],
          "name": "stderr"
        }
      ]
    },
    {
      "cell_type": "markdown",
      "metadata": {
        "id": "Kb66tFDfWuIc",
        "colab_type": "text"
      },
      "source": [
        "Импортируем модель"
      ]
    },
    {
      "cell_type": "code",
      "metadata": {
        "id": "7ek-pEi-FRuL",
        "colab_type": "code",
        "colab": {
          "base_uri": "https://localhost:8080/",
          "height": 71
        },
        "outputId": "7e1a8de6-cab2-491b-bdf3-979977fe761c"
      },
      "source": [
        "#import warnings\n",
        "warnings.filterwarnings(action='ignore', category=UserWarning, module='gensim')\n",
        "\n",
        "#from gensim.models import Word2Vec\n",
        "model = Word2Vec.load('item2vec_202006_3')\n",
        "word_vectors = model.wv\n",
        "# del model #Удаление модели"
      ],
      "execution_count": null,
      "outputs": [
        {
          "output_type": "stream",
          "text": [
            "/usr/local/lib/python3.6/dist-packages/smart_open/smart_open_lib.py:253: UserWarning: This function is deprecated, use smart_open.open instead. See the migration notes for details: https://github.com/RaRe-Technologies/smart_open/blob/master/README.rst#migrating-to-the-new-open-function\n",
            "  'See the migration notes for details: %s' % _MIGRATION_NOTES_URL\n"
          ],
          "name": "stderr"
        }
      ]
    },
    {
      "cell_type": "markdown",
      "metadata": {
        "id": "F4PvGkmXWzR8",
        "colab_type": "text"
      },
      "source": [
        "Приведем список 20 похожих авторов, по поведению пользователя, при этом необходимо запустить парсеры artist_name и toplist из предыдущей модели"
      ]
    },
    {
      "cell_type": "code",
      "metadata": {
        "id": "ss78ImXzFZdB",
        "colab_type": "code",
        "colab": {
          "base_uri": "https://localhost:8080/",
          "height": 723
        },
        "outputId": "9bb4f7bc-4534-4dc4-bf9f-71692809a7c5"
      },
      "source": [
        "w1 = 'Lenny Kravitz & Asa', 'Nicole Kidman/Robbie Williams'\n",
        "w2 = 'Dido & Enya', #must to set ',' to len(name) = 1, else len(name) = len phrase\n",
        "toplist(test = model.wv.most_similar (positive = artist_name(w1), negative = artist_name(w2), topn = 20))"
      ],
      "execution_count": null,
      "outputs": [
        {
          "output_type": "stream",
          "text": [
            "/usr/local/lib/python3.6/dist-packages/gensim/matutils.py:737: FutureWarning: Conversion of the second argument of issubdtype from `int` to `np.signedinteger` is deprecated. In future, it will be treated as `np.int64 == np.dtype(int).type`.\n",
            "  if np.issubdtype(vec.dtype, np.int):\n"
          ],
          "name": "stderr"
        },
        {
          "output_type": "execute_result",
          "data": {
            "text/html": [
              "<div>\n",
              "<style scoped>\n",
              "    .dataframe tbody tr th:only-of-type {\n",
              "        vertical-align: middle;\n",
              "    }\n",
              "\n",
              "    .dataframe tbody tr th {\n",
              "        vertical-align: top;\n",
              "    }\n",
              "\n",
              "    .dataframe thead th {\n",
              "        text-align: right;\n",
              "    }\n",
              "</style>\n",
              "<table border=\"1\" class=\"dataframe\">\n",
              "  <thead>\n",
              "    <tr style=\"text-align: right;\">\n",
              "      <th></th>\n",
              "      <th>Author_ID</th>\n",
              "      <th>Track_Name</th>\n",
              "    </tr>\n",
              "  </thead>\n",
              "  <tbody>\n",
              "    <tr>\n",
              "      <th>50834</th>\n",
              "      <td>386379</td>\n",
              "      <td>U2 &amp; Bob Dylan</td>\n",
              "    </tr>\n",
              "    <tr>\n",
              "      <th>32678</th>\n",
              "      <td>257088</td>\n",
              "      <td>Oasis</td>\n",
              "    </tr>\n",
              "    <tr>\n",
              "      <th>205143</th>\n",
              "      <td>11423</td>\n",
              "      <td>Aerosmith</td>\n",
              "    </tr>\n",
              "    <tr>\n",
              "      <th>96872</th>\n",
              "      <td>154295</td>\n",
              "      <td>Foo Figthers</td>\n",
              "    </tr>\n",
              "    <tr>\n",
              "      <th>489323</th>\n",
              "      <td>53169</td>\n",
              "      <td>Blur &amp; Offspring</td>\n",
              "    </tr>\n",
              "    <tr>\n",
              "      <th>105140</th>\n",
              "      <td>290797</td>\n",
              "      <td>Red Hot Chili Peppers -</td>\n",
              "    </tr>\n",
              "    <tr>\n",
              "      <th>194162</th>\n",
              "      <td>70915</td>\n",
              "      <td>Creedence Clearwater Revival</td>\n",
              "    </tr>\n",
              "    <tr>\n",
              "      <th>290919</th>\n",
              "      <td>460815</td>\n",
              "      <td>Journey</td>\n",
              "    </tr>\n",
              "    <tr>\n",
              "      <th>29413</th>\n",
              "      <td>124222</td>\n",
              "      <td>Queen &amp; The Muppets</td>\n",
              "    </tr>\n",
              "    <tr>\n",
              "      <th>363958</th>\n",
              "      <td>466633</td>\n",
              "      <td>Kasabian</td>\n",
              "    </tr>\n",
              "    <tr>\n",
              "      <th>99514</th>\n",
              "      <td>452151</td>\n",
              "      <td>Jet</td>\n",
              "    </tr>\n",
              "    <tr>\n",
              "      <th>182600</th>\n",
              "      <td>399353</td>\n",
              "      <td>Weezer &amp; Hayley Williams</td>\n",
              "    </tr>\n",
              "    <tr>\n",
              "      <th>399098</th>\n",
              "      <td>266521</td>\n",
              "      <td>Paolo Nutini</td>\n",
              "    </tr>\n",
              "    <tr>\n",
              "      <th>162109</th>\n",
              "      <td>371194</td>\n",
              "      <td>Verve</td>\n",
              "    </tr>\n",
              "    <tr>\n",
              "      <th>38574</th>\n",
              "      <td>299571</td>\n",
              "      <td>Rolling Stones</td>\n",
              "    </tr>\n",
              "    <tr>\n",
              "      <th>242359</th>\n",
              "      <td>440825</td>\n",
              "      <td>Incubus</td>\n",
              "    </tr>\n",
              "    <tr>\n",
              "      <th>24459</th>\n",
              "      <td>229444</td>\n",
              "      <td>Michael Jackson &amp; Siedah Garrett</td>\n",
              "    </tr>\n",
              "    <tr>\n",
              "      <th>323358</th>\n",
              "      <td>156962</td>\n",
              "      <td>Franz Ferdinand &amp; Jane Birkin</td>\n",
              "    </tr>\n",
              "    <tr>\n",
              "      <th>40199</th>\n",
              "      <td>371939</td>\n",
              "      <td>The Who &amp; David Gilmour</td>\n",
              "    </tr>\n",
              "    <tr>\n",
              "      <th>346135</th>\n",
              "      <td>252849</td>\n",
              "      <td>Nirvana-in utero</td>\n",
              "    </tr>\n",
              "  </tbody>\n",
              "</table>\n",
              "</div>"
            ],
            "text/plain": [
              "       Author_ID                        Track_Name\n",
              "50834     386379                    U2 & Bob Dylan\n",
              "32678     257088                             Oasis\n",
              "205143     11423                         Aerosmith\n",
              "96872     154295                      Foo Figthers\n",
              "489323     53169                  Blur & Offspring\n",
              "105140    290797           Red Hot Chili Peppers -\n",
              "194162     70915      Creedence Clearwater Revival\n",
              "290919    460815                           Journey\n",
              "29413     124222               Queen & The Muppets\n",
              "363958    466633                          Kasabian\n",
              "99514     452151                               Jet\n",
              "182600    399353          Weezer & Hayley Williams\n",
              "399098    266521                      Paolo Nutini\n",
              "162109    371194                             Verve\n",
              "38574     299571                    Rolling Stones\n",
              "242359    440825                           Incubus\n",
              "24459     229444  Michael Jackson & Siedah Garrett\n",
              "323358    156962     Franz Ferdinand & Jane Birkin\n",
              "40199     371939           The Who & David Gilmour\n",
              "346135    252849                  Nirvana-in utero"
            ]
          },
          "metadata": {
            "tags": []
          },
          "execution_count": 16
        }
      ]
    },
    {
      "cell_type": "markdown",
      "metadata": {
        "id": "Gwzo3QS_X5-e",
        "colab_type": "text"
      },
      "source": [
        "В сравнении с моделю этого же датасета, но с другими гиперпараметрами, совпадений 13 из 20."
      ]
    },
    {
      "cell_type": "markdown",
      "metadata": {
        "id": "Kz-ofgpcW7DD",
        "colab_type": "text"
      },
      "source": [
        "# Оценка моделей"
      ]
    },
    {
      "cell_type": "markdown",
      "metadata": {
        "id": "_VzFLXNoreDA",
        "colab_type": "text"
      },
      "source": [
        "Статистически сравнить модели item2vec."
      ]
    },
    {
      "cell_type": "markdown",
      "metadata": {
        "id": "Wxu1asC6LUsn",
        "colab_type": "text"
      },
      "source": [
        "## Статистическая оценка"
      ]
    },
    {
      "cell_type": "markdown",
      "metadata": {
        "id": "nDT7lpfzPxFY",
        "colab_type": "text"
      },
      "source": [
        "Статистическая оценка модели item2vec (1).\n",
        "\n",
        "Данные с рейтингом 0 и 1.\n",
        "\n",
        "Гиперпараметры: \n",
        "1. Повторений 5 (iter = 5).\n",
        "2. Автор должен появляться более 10 раз, чтобы его сохранить (min_count = 10).\n",
        "3. Размер скрытого слоя 200 (size = 200).\n",
        "4. Количество потоков 4, которые  использовали для обучения (workers = 4)\n",
        "5. Определяет алгоритм обучения. Мы  использовали скип-грамм, поэтому выбрано 1, (sg = 1).\n",
        "6. Поставили в 0, так как мы применяем отрицательную выборку, (hs = 0).\n",
        "7. Применялась отрицательная выборка. Мы использовали значение 5, (negative = 5).\n",
        "8. Размер окна, максимальный, чтобы не подбирать его (window = 9999999).\n",
        "  \n",
        "**Примечание:** df_ratings_train и df_ratings_test необходимо получить по шагам из п.\"Тренировочные и тестовые данные\"."
      ]
    },
    {
      "cell_type": "code",
      "metadata": {
        "id": "OFCuev8-D8Bl",
        "colab_type": "code",
        "colab": {}
      },
      "source": [
        "def user_likes_author(model, df, for_prediction=False):\n",
        "    df['Liked'] = np.where(df['Rating']==1, 1, 0)\n",
        "    df['Author_ID'] = df['Author_ID'].astype('str')\n",
        "    df_liked = df[df['Liked']==1]\n",
        "    if for_prediction:\n",
        "        df_liked = df[df['Author_ID'].isin(model.wv.vocab.keys())]\n",
        "        \n",
        "    user_liked = df_liked.groupby('User_ID').agg({'Author_ID': lambda x: x.tolist()})['Author_ID'].to_dict()\n",
        "    \n",
        "    return user_liked\n",
        "\n",
        "def scores_at_m (model, user_liked_test, user_liked_training, topn=20):\n",
        "    sum_liked = 0\n",
        "    sum_correct = 0\n",
        "    sum_total = 0\n",
        "    common_users = set(user_liked_test.keys()).intersection(set(user_liked_training.keys()))\n",
        "\n",
        "    for userid in common_users:\n",
        "        current_test_set = set(user_liked_test[userid])\n",
        "        pred = [pred_result[0] for pred_result in model.wv.most_similar_cosmul(positive = user_liked_training[userid], topn=topn)]\n",
        "        sum_correct += len(set(pred).intersection(current_test_set))\n",
        "        sum_liked += len(current_test_set)\n",
        "    precision_at_m = sum_correct/(topn*len(common_users))\n",
        "    recall_at_m = sum_correct/sum_liked\n",
        "    f1 = 2/((1/precision_at_m)+(1/recall_at_m))\n",
        "    return [precision_at_m, recall_at_m, f1]"
      ],
      "execution_count": null,
      "outputs": []
    },
    {
      "cell_type": "code",
      "metadata": {
        "id": "MefgXYq0D8zL",
        "colab_type": "code",
        "colab": {
          "base_uri": "https://localhost:8080/",
          "height": 71
        },
        "outputId": "3568f073-7224-442e-caad-e9c4572ef266"
      },
      "source": [
        "#import warnings\n",
        "warnings.filterwarnings(action='ignore', category=UserWarning, module='gensim')\n",
        "\n",
        "#from gensim.models import Word2Vec\n",
        "model = Word2Vec.load('item2vec_202006_1')\n",
        "word_vectors = model.wv"
      ],
      "execution_count": null,
      "outputs": [
        {
          "output_type": "stream",
          "text": [
            "/usr/local/lib/python3.6/dist-packages/smart_open/smart_open_lib.py:253: UserWarning: This function is deprecated, use smart_open.open instead. See the migration notes for details: https://github.com/RaRe-Technologies/smart_open/blob/master/README.rst#migrating-to-the-new-open-function\n",
            "  'See the migration notes for details: %s' % _MIGRATION_NOTES_URL\n"
          ],
          "name": "stderr"
        }
      ]
    },
    {
      "cell_type": "markdown",
      "metadata": {
        "id": "2t1sqKYyKyam",
        "colab_type": "text"
      },
      "source": [
        "Определим precision, recall, F-1 score для 20 похожих."
      ]
    },
    {
      "cell_type": "code",
      "metadata": {
        "id": "iwt2Hq9kD9ee",
        "colab_type": "code",
        "colab": {
          "base_uri": "https://localhost:8080/",
          "height": 139
        },
        "outputId": "d7ed2522-a360-460b-d4d3-b0ea2c2002af"
      },
      "source": [
        "#import datetime\n",
        "start = datetime.datetime.now()\n",
        "\n",
        "pd.options.mode.chained_assignment = None\n",
        "user_liked_train = user_likes_author(model, df_ratings_train, for_prediction=True)\n",
        "user_liked_test = user_likes_author(model, df_ratings_test)\n",
        "\n",
        "model = Word2Vec.load('item2vec_202006_1')\n",
        "model_score_sg1 = scores_at_m(model, user_liked_test, user_liked_train)\n",
        "del model\n",
        "\n",
        "print(\"Time passed: \" + str(datetime.datetime.now()-start))"
      ],
      "execution_count": null,
      "outputs": [
        {
          "output_type": "stream",
          "text": [
            "/usr/local/lib/python3.6/dist-packages/smart_open/smart_open_lib.py:253: UserWarning: This function is deprecated, use smart_open.open instead. See the migration notes for details: https://github.com/RaRe-Technologies/smart_open/blob/master/README.rst#migrating-to-the-new-open-function\n",
            "  'See the migration notes for details: %s' % _MIGRATION_NOTES_URL\n",
            "/usr/local/lib/python3.6/dist-packages/smart_open/smart_open_lib.py:253: UserWarning: This function is deprecated, use smart_open.open instead. See the migration notes for details: https://github.com/RaRe-Technologies/smart_open/blob/master/README.rst#migrating-to-the-new-open-function\n",
            "  'See the migration notes for details: %s' % _MIGRATION_NOTES_URL\n"
          ],
          "name": "stderr"
        },
        {
          "output_type": "stream",
          "text": [
            "Time passed: 3:02:29.437395\n",
            "Time passed: 3:02:29.437395\n"
          ],
          "name": "stdout"
        }
      ]
    },
    {
      "cell_type": "code",
      "metadata": {
        "id": "E2m8ufUwD9yu",
        "colab_type": "code",
        "colab": {
          "base_uri": "https://localhost:8080/",
          "height": 119
        },
        "outputId": "36bad290-8106-4915-97c2-d36935c9cb58"
      },
      "source": [
        "print(\"Respectively, the [precision, recall, F-1 score] at 20 for our model are:\")\n",
        "print(model_score_sg1)"
      ],
      "execution_count": null,
      "outputs": [
        {
          "output_type": "stream",
          "text": [
            "Respectively, the [precision, recall, F-1 score] at 20 for our model are:\n",
            "[0.012984031014907462, 0.007581984885889544, 0.009573534065889192]\n",
            "Respectively, the [precision, recall, F-1 score] at 20 for our model are:\n",
            "[0.012984031014907462, 0.007581984885889544, 0.009573534065889192]\n",
            "Respectively, the [precision, recall, F-1 score] at 20 for our model are:\n",
            "[0.012984031014907462, 0.007581984885889544, 0.009573534065889192]\n"
          ],
          "name": "stdout"
        }
      ]
    },
    {
      "cell_type": "markdown",
      "metadata": {
        "id": "A9GZNKUgP6IS",
        "colab_type": "text"
      },
      "source": [
        "Статистическая оценка модели item2vec (2).\n",
        "\n",
        "Данные с рейтингом 0 и >1 (суммарный рейтинг).\n",
        "\n",
        "Гиперпараметры: \n",
        "1. Повторений 5 (iter = 5).\n",
        "2. Автор должен появляться более 10 раз, чтобы его сохранить (min_count = 10).\n",
        "3. Размер скрытого слоя 200 (size = 200).\n",
        "4. Количество потоков 4, которые  использовали для обучения (workers = 4)\n",
        "5. Определяет алгоритм обучения. Мы  использовали скип-грамм, поэтому выбрано 1, (sg = 1).\n",
        "6. Поставили в 0, так как мы применяем отрицательную выборку, (hs = 0).\n",
        "7. Применялась отрицательная выборка. Мы использовали значение 5, (negative = 5).\n",
        "8. Размер окна, максимальный, чтобы не подбирать его (window = 9999999).\n",
        "  \n",
        "**Примечание:** df_ratings_train и df_ratings_test необходимо получить по шагам из п.\"Эксперементальная часть/Обучение по гиперпараметрам\"."
      ]
    },
    {
      "cell_type": "code",
      "metadata": {
        "id": "dbxTNO1CP5f1",
        "colab_type": "code",
        "colab": {}
      },
      "source": [
        "def user_likes_author(model, df, for_prediction=False):\n",
        "    df['Liked'] = np.where(df['Rating']>=1, 1, 0)\n",
        "    df['Author_ID'] = df['Author_ID'].astype('str')\n",
        "    df_liked = df[df['Liked']==1]\n",
        "    if for_prediction:\n",
        "        df_liked = df[df['Author_ID'].isin(model.wv.vocab.keys())]\n",
        "        \n",
        "    user_liked = df_liked.groupby('User_ID').agg({'Author_ID': lambda x: x.tolist()})['Author_ID'].to_dict()\n",
        "    \n",
        "    return user_liked\n",
        "\n",
        "def scores_at_m (model, user_liked_test, user_liked_training, topn=20):\n",
        "    sum_liked = 0\n",
        "    sum_correct = 0\n",
        "    sum_total = 0\n",
        "    common_users = set(user_liked_test.keys()).intersection(set(user_liked_training.keys()))\n",
        "\n",
        "    for userid in common_users:\n",
        "        current_test_set = set(user_liked_test[userid])\n",
        "        pred = [pred_result[0] for pred_result in model.wv.most_similar_cosmul(positive = user_liked_training[userid], topn=topn)]\n",
        "        sum_correct += len(set(pred).intersection(current_test_set))\n",
        "        sum_liked += len(current_test_set)\n",
        "    precision_at_m = sum_correct/(topn*len(common_users))\n",
        "    recall_at_m = sum_correct/sum_liked\n",
        "    f1 = 2/((1/precision_at_m)+(1/recall_at_m))\n",
        "    return [precision_at_m, recall_at_m, f1]"
      ],
      "execution_count": 31,
      "outputs": []
    },
    {
      "cell_type": "code",
      "metadata": {
        "id": "yU9K-hbn2pQo",
        "colab_type": "code",
        "colab": {
          "base_uri": "https://localhost:8080/",
          "height": 71
        },
        "outputId": "2e19bb8b-97cd-4877-9e95-8ae126446cc9"
      },
      "source": [
        "#import warnings\n",
        "warnings.filterwarnings(action='ignore', category=UserWarning, module='gensim')\n",
        "\n",
        "#from gensim.models import Word2Vec\n",
        "model = Word2Vec.load('item2vec_202006_2')\n",
        "word_vectors = model.wv"
      ],
      "execution_count": null,
      "outputs": [
        {
          "output_type": "stream",
          "text": [
            "/usr/local/lib/python3.6/dist-packages/smart_open/smart_open_lib.py:253: UserWarning: This function is deprecated, use smart_open.open instead. See the migration notes for details: https://github.com/RaRe-Technologies/smart_open/blob/master/README.rst#migrating-to-the-new-open-function\n",
            "  'See the migration notes for details: %s' % _MIGRATION_NOTES_URL\n"
          ],
          "name": "stderr"
        }
      ]
    },
    {
      "cell_type": "markdown",
      "metadata": {
        "id": "LEbyTre8LA2Y",
        "colab_type": "text"
      },
      "source": [
        "Определим precision, recall, F-1 score для 20 похожих."
      ]
    },
    {
      "cell_type": "code",
      "metadata": {
        "id": "I1kj0LVOP-Qz",
        "colab_type": "code",
        "colab": {}
      },
      "source": [
        "pd.options.mode.chained_assignment = None\n",
        "user_liked_train = user_likes_author(model, df_ratings_train, for_prediction=True)\n",
        "user_liked_test = user_likes_author(model, df_ratings_test)\n",
        "\n",
        "model = Word2Vec.load('item2vec_202006_2')\n",
        "model_score_sg1 = scores_at_m(model, user_liked_test, user_liked_train)\n",
        "del model"
      ],
      "execution_count": null,
      "outputs": []
    },
    {
      "cell_type": "code",
      "metadata": {
        "id": "kiomgTobRVct",
        "colab_type": "code",
        "colab": {
          "base_uri": "https://localhost:8080/",
          "height": 51
        },
        "outputId": "6d07c57e-625b-49eb-fae6-97d669368f33"
      },
      "source": [
        "print(\"Respectively, the [precision, recall, F-1 score] at 20 for our model are:\")\n",
        "print(model_score_sg1)"
      ],
      "execution_count": null,
      "outputs": [
        {
          "output_type": "stream",
          "text": [
            "Respectively, the [precision, recall, F-1 score] at 20 for our model are:\n",
            "[0.025951735553050113, 0.030297811085719408, 0.027956875321406515]\n"
          ],
          "name": "stdout"
        }
      ]
    },
    {
      "cell_type": "markdown",
      "metadata": {
        "id": "oXHt4-rVq_S-",
        "colab_type": "text"
      },
      "source": [
        "Статистическая оценка модели item2vec (3).\n",
        "\n",
        "Данные с рейтингом 0 и >1 (суммарный рейтинг).\n",
        "\n",
        "Гиперпараметры: \n",
        "1. Повторений 10 (iter = 10).\n",
        "2. Автор должен появляться более 10 раз, чтобы его сохранить (min_count = 10).\n",
        "3. Размер скрытого слоя 300 (size = 300).\n",
        "4. Количество потоков 4, которые  использовали для обучения (workers = 4)\n",
        "5. Определяет алгоритм обучения. Мы  использовали скип-грамм, поэтому выбрано 1, (sg = 1).\n",
        "6. Поставили в 0, так как мы применяем отрицательную выборку, (hs = 0).\n",
        "7. Применялась отрицательная выборка. Мы использовали значение 5, (negative = 5).\n",
        "8. Размер окна, максимальный, чтобы не подбирать его (window = 9999999).\n",
        "  \n",
        "**Примечание:** df_ratings_train и df_ratings_test необходимо получить по шагам из п.\"Эксперементальная часть/Обучение по гиперпараметрам\"."
      ]
    },
    {
      "cell_type": "code",
      "metadata": {
        "id": "v0fBuHwn21Ua",
        "colab_type": "code",
        "colab": {
          "base_uri": "https://localhost:8080/",
          "height": 71
        },
        "outputId": "be3155f3-963f-40d9-b65a-8efa505593ef"
      },
      "source": [
        "#import warnings\n",
        "warnings.filterwarnings(action='ignore', category=UserWarning, module='gensim')\n",
        "\n",
        "#from gensim.models import Word2Vec\n",
        "model = Word2Vec.load('item2vec_202006_3')\n",
        "word_vectors = model.wv"
      ],
      "execution_count": 32,
      "outputs": [
        {
          "output_type": "stream",
          "text": [
            "/usr/local/lib/python3.6/dist-packages/smart_open/smart_open_lib.py:253: UserWarning: This function is deprecated, use smart_open.open instead. See the migration notes for details: https://github.com/RaRe-Technologies/smart_open/blob/master/README.rst#migrating-to-the-new-open-function\n",
            "  'See the migration notes for details: %s' % _MIGRATION_NOTES_URL\n"
          ],
          "name": "stderr"
        }
      ]
    },
    {
      "cell_type": "markdown",
      "metadata": {
        "id": "Od66kMI3LHyF",
        "colab_type": "text"
      },
      "source": [
        "Определим precision, recall, F-1 score для 20 похожих."
      ]
    },
    {
      "cell_type": "code",
      "metadata": {
        "id": "4ir53ZMyrCJP",
        "colab_type": "code",
        "colab": {}
      },
      "source": [
        "import datetime\n",
        "start = datetime.datetime.now()\n",
        "\n",
        "pd.options.mode.chained_assignment = None\n",
        "user_liked_train = user_likes_author(model, df_ratings_train, for_prediction=True)\n",
        "user_liked_test = user_likes_author(model, df_ratings_test)\n",
        "\n",
        "model = Word2Vec.load('item2vec_202006_3')\n",
        "model_score_sg1 = scores_at_m(model, user_liked_test, user_liked_train)\n",
        "del model\n",
        "\n",
        "print(\"Time passed: \" + str(datetime.datetime.now()-start))"
      ],
      "execution_count": null,
      "outputs": []
    },
    {
      "cell_type": "code",
      "metadata": {
        "id": "RLGhVllAGZmh",
        "colab_type": "code",
        "colab": {
          "base_uri": "https://localhost:8080/"
        },
        "outputId": "a489fa67-d3f3-4369-a911-5211720e5f4f"
      },
      "source": [
        "print(\"Respectively, the [precision, recall, F-1 score] at 20 for our model are:\")\n",
        "print(model_score_sg1)"
      ],
      "execution_count": null,
      "outputs": [
        {
          "output_type": "stream",
          "text": [
            "Respectively, the [precision, recall, F-1 score] at 20 for our model are:\n",
            "[0.026630604265118624, 0.03109036832907649, 0.028688196273105735]\n"
          ],
          "name": "stdout"
        }
      ]
    },
    {
      "cell_type": "markdown",
      "metadata": {
        "id": "hMKBsWoNvnE9",
        "colab_type": "text"
      },
      "source": [
        "Сравнивая модели item2vec (1) и (2) по recall, pression, f1 score, выявлено, что модель item2vec (2), более точная, т.к. рейтинг авторов в датасета, на котором обучалась модель равнялся >1, что уменьшало процент похожести для большинства авторов. \n",
        "\n",
        "**Можно судить, что точность item2vec(2) > точности item2vec (1) в 2 раза.**\n",
        "\n",
        "**Можно судить, что чувствительность item2vec(2) > чувствительности item2vec (1) в 4 раза.**\n",
        "\n",
        "**Можно судить, что оценка f1 item2vec(2) > оценки f1 item2vec (1) в 2.92 раза.**\n",
        "\n",
        "Сравнивая модели item2vec (2) и (3) по recall, pression, f1 score, выявлено, что модель item2vec (3), более точная, т.к. как и предполагалось ранее, ведь размер внутреннего слоя внушительно больше, size 300 и повторений inter 10. \n",
        "\n",
        "**Можно судить, что точность item2vec(3) > точности item2vec (2) на 2.6%.**\n",
        "\n",
        "**Можно судить, что чувствительность item2vec(2) > чувствительности item2vec (1) на 2,6%.**\n",
        "\n",
        "**Можно судить, что оценка f1 item2vec(2) > оценки f1 item2vec (1) на 2,6%.**\n",
        "\n"
      ]
    },
    {
      "cell_type": "markdown",
      "metadata": {
        "id": "v4hxvfxyLbJd",
        "colab_type": "text"
      },
      "source": [
        "## Результативная оценка"
      ]
    },
    {
      "cell_type": "markdown",
      "metadata": {
        "id": "tgK1AYessb-o",
        "colab_type": "text"
      },
      "source": [
        "Сравним результаты выдачи, всех моделей для Lenny Kravitz & Asa. \n",
        "\n",
        "Примечание: Характеристики моделей item2vec (number), можно посмотреть в п. (Статистическая оценка), под тем же (number)."
      ]
    },
    {
      "cell_type": "code",
      "metadata": {
        "id": "zg-DR71kl4vy",
        "colab_type": "code",
        "colab": {}
      },
      "source": [
        "w1 = 'Lenny Kravitz & Asa', "
      ],
      "execution_count": null,
      "outputs": []
    },
    {
      "cell_type": "markdown",
      "metadata": {
        "id": "qHa2QuIil6sF",
        "colab_type": "text"
      },
      "source": [
        "Результат item2vec (1) модели только для Lenny Kravitz & Asa."
      ]
    },
    {
      "cell_type": "code",
      "metadata": {
        "id": "n51otABZl7gm",
        "colab_type": "code",
        "colab": {
          "base_uri": "https://localhost:8080/",
          "height": 71
        },
        "outputId": "4c658426-c9a4-41f9-c36a-748214041816"
      },
      "source": [
        "warnings.filterwarnings(action='ignore', category=UserWarning, module='gensim')\n",
        "\n",
        "model = Word2Vec.load('item2vec_202006_1')\n",
        "word_vectors = model.wv"
      ],
      "execution_count": null,
      "outputs": [
        {
          "output_type": "stream",
          "text": [
            "/usr/local/lib/python3.6/dist-packages/smart_open/smart_open_lib.py:253: UserWarning: This function is deprecated, use smart_open.open instead. See the migration notes for details: https://github.com/RaRe-Technologies/smart_open/blob/master/README.rst#migrating-to-the-new-open-function\n",
            "  'See the migration notes for details: %s' % _MIGRATION_NOTES_URL\n"
          ],
          "name": "stderr"
        }
      ]
    },
    {
      "cell_type": "code",
      "metadata": {
        "id": "rvLM_Cq4l8Th",
        "colab_type": "code",
        "colab": {
          "base_uri": "https://localhost:8080/",
          "height": 71
        },
        "outputId": "a8d77a44-a2c3-4350-9101-6faa8d7cd080"
      },
      "source": [
        "item2veck_1 = toplist(test = model.wv.most_similar (positive = artist_name(w1), topn = 20))\n",
        "item2veck_1 = item2veck_1.reset_index().drop(columns=['index','Author_ID']).rename(columns={'Track_Name':'item2vec_1'})"
      ],
      "execution_count": null,
      "outputs": [
        {
          "output_type": "stream",
          "text": [
            "/usr/local/lib/python3.6/dist-packages/gensim/matutils.py:737: FutureWarning: Conversion of the second argument of issubdtype from `int` to `np.signedinteger` is deprecated. In future, it will be treated as `np.int64 == np.dtype(int).type`.\n",
            "  if np.issubdtype(vec.dtype, np.int):\n"
          ],
          "name": "stderr"
        }
      ]
    },
    {
      "cell_type": "markdown",
      "metadata": {
        "id": "FDRCaGtPge5r",
        "colab_type": "text"
      },
      "source": [
        "Результат item2vec (2) модели только для Lenny Kravitz & Asa."
      ]
    },
    {
      "cell_type": "code",
      "metadata": {
        "id": "QDo6BoKWg383",
        "colab_type": "code",
        "colab": {
          "base_uri": "https://localhost:8080/",
          "height": 71
        },
        "outputId": "fef0f0f6-7c93-4c59-fcf3-8080f2c979ce"
      },
      "source": [
        "warnings.filterwarnings(action='ignore', category=UserWarning, module='gensim')\n",
        "\n",
        "model = Word2Vec.load('item2vec_202006_2')\n",
        "word_vectors = model.wv"
      ],
      "execution_count": null,
      "outputs": [
        {
          "output_type": "stream",
          "text": [
            "/usr/local/lib/python3.6/dist-packages/smart_open/smart_open_lib.py:253: UserWarning: This function is deprecated, use smart_open.open instead. See the migration notes for details: https://github.com/RaRe-Technologies/smart_open/blob/master/README.rst#migrating-to-the-new-open-function\n",
            "  'See the migration notes for details: %s' % _MIGRATION_NOTES_URL\n"
          ],
          "name": "stderr"
        }
      ]
    },
    {
      "cell_type": "code",
      "metadata": {
        "id": "zr45AVeHgnWV",
        "colab_type": "code",
        "colab": {
          "base_uri": "https://localhost:8080/",
          "height": 71
        },
        "outputId": "52b2461e-42a7-40e4-b346-1c6010b17449"
      },
      "source": [
        "item2veck_2 = toplist(test = model.wv.most_similar (positive = artist_name(w1), topn = 20))\n",
        "item2veck_2 = item2veck_2.reset_index().drop(columns=['index','Author_ID']).rename(columns={'Track_Name':'item2vec_2'})"
      ],
      "execution_count": null,
      "outputs": [
        {
          "output_type": "stream",
          "text": [
            "/usr/local/lib/python3.6/dist-packages/gensim/matutils.py:737: FutureWarning: Conversion of the second argument of issubdtype from `int` to `np.signedinteger` is deprecated. In future, it will be treated as `np.int64 == np.dtype(int).type`.\n",
            "  if np.issubdtype(vec.dtype, np.int):\n"
          ],
          "name": "stderr"
        }
      ]
    },
    {
      "cell_type": "markdown",
      "metadata": {
        "id": "vNcPWXeNldnB",
        "colab_type": "text"
      },
      "source": [
        "Результат item2vec (3) модели только для Lenny Kravitz & Asa."
      ]
    },
    {
      "cell_type": "code",
      "metadata": {
        "id": "9x8Q5hgFg2fS",
        "colab_type": "code",
        "colab": {
          "base_uri": "https://localhost:8080/",
          "height": 71
        },
        "outputId": "4031563a-587d-421f-aa96-01b4c670db97"
      },
      "source": [
        "warnings.filterwarnings(action='ignore', category=UserWarning, module='gensim')\n",
        "\n",
        "model = Word2Vec.load('item2vec_rating_pro')\n",
        "word_vectors = model.wv"
      ],
      "execution_count": null,
      "outputs": [
        {
          "output_type": "stream",
          "text": [
            "/usr/local/lib/python3.6/dist-packages/smart_open/smart_open_lib.py:253: UserWarning: This function is deprecated, use smart_open.open instead. See the migration notes for details: https://github.com/RaRe-Technologies/smart_open/blob/master/README.rst#migrating-to-the-new-open-function\n",
            "  'See the migration notes for details: %s' % _MIGRATION_NOTES_URL\n"
          ],
          "name": "stderr"
        }
      ]
    },
    {
      "cell_type": "code",
      "metadata": {
        "id": "pkDCXeoRgzAU",
        "colab_type": "code",
        "colab": {}
      },
      "source": [
        "item2veck_3 = toplist(test = model.wv.most_similar (positive = artist_name(w1), topn = 20))\n",
        "item2veck_3 = item2veck_3.reset_index().drop(columns=['index','Author_ID']).rename(columns={'Track_Name':'item2vec_3'})"
      ],
      "execution_count": null,
      "outputs": []
    },
    {
      "cell_type": "markdown",
      "metadata": {
        "id": "npfJO2AytaPS",
        "colab_type": "text"
      },
      "source": [
        "Результаты model knn взяты из п.(Baseline модель/Обучение модели KNN) для Lenny Kravitz & Asa."
      ]
    },
    {
      "cell_type": "code",
      "metadata": {
        "id": "-YzpEMqWLkUS",
        "colab_type": "code",
        "colab": {}
      },
      "source": [
        "baseline_knn = np.array([['Red Hot Chili Peppers -','Foo Figthers','Coldplay & Kylie Minogue','U2 & Bob Dylan','Queen & The Muppets','Aerosmith','Nirvana-in utero','Kings of Leon','Blur & Offspring','Green Day','Oasis','Verve','R.E.M.','Maroon 5 Ft. Rihanna','RadioheadNCON','Michael Jackson & Siedah Garrett','Cranberries','No Doubt f/Lady Saw',' Offspring','Muse - Absolution']])"
      ],
      "execution_count": null,
      "outputs": []
    },
    {
      "cell_type": "code",
      "metadata": {
        "id": "D6Whx0KEkffP",
        "colab_type": "code",
        "colab": {}
      },
      "source": [
        "baseline_knn = pd.DataFrame(baseline_knn).transpose().rename(columns={0:'KNN'})"
      ],
      "execution_count": null,
      "outputs": []
    },
    {
      "cell_type": "markdown",
      "metadata": {
        "id": "IZ42XzD7LeF3",
        "colab_type": "text"
      },
      "source": [
        "Приведем полученные результаты из предыдущих разделов на основе рекомендации Lenny Kravitz & Asa."
      ]
    },
    {
      "cell_type": "code",
      "metadata": {
        "id": "DVO0YWF7mTE_",
        "colab_type": "code",
        "colab": {
          "base_uri": "https://localhost:8080/",
          "height": 839
        },
        "outputId": "be802bbc-33c7-4a64-bd38-6f9fd2b35c4e"
      },
      "source": [
        "pd.concat([baseline_knn, item2veck_1, item2veck_2,item2veck_3], axis=1, sort=False)"
      ],
      "execution_count": null,
      "outputs": [
        {
          "output_type": "execute_result",
          "data": {
            "text/html": [
              "<div>\n",
              "<style scoped>\n",
              "    .dataframe tbody tr th:only-of-type {\n",
              "        vertical-align: middle;\n",
              "    }\n",
              "\n",
              "    .dataframe tbody tr th {\n",
              "        vertical-align: top;\n",
              "    }\n",
              "\n",
              "    .dataframe thead th {\n",
              "        text-align: right;\n",
              "    }\n",
              "</style>\n",
              "<table border=\"1\" class=\"dataframe\">\n",
              "  <thead>\n",
              "    <tr style=\"text-align: right;\">\n",
              "      <th></th>\n",
              "      <th>KNN</th>\n",
              "      <th>item2vec_1</th>\n",
              "      <th>item2vec_2</th>\n",
              "      <th>item2vec_3</th>\n",
              "    </tr>\n",
              "  </thead>\n",
              "  <tbody>\n",
              "    <tr>\n",
              "      <th>0</th>\n",
              "      <td>Red Hot Chili Peppers -</td>\n",
              "      <td>U2 &amp; Bob Dylan</td>\n",
              "      <td>Oasis</td>\n",
              "      <td>Oasis</td>\n",
              "    </tr>\n",
              "    <tr>\n",
              "      <th>1</th>\n",
              "      <td>Foo Figthers</td>\n",
              "      <td>Santana &amp; Wyclef feat. Avicii &amp; Alexandre Pires</td>\n",
              "      <td>Eagle Eye Cherry</td>\n",
              "      <td>U2 &amp; Bob Dylan</td>\n",
              "    </tr>\n",
              "    <tr>\n",
              "      <th>2</th>\n",
              "      <td>Coldplay &amp; Kylie Minogue</td>\n",
              "      <td>Aerosmith</td>\n",
              "      <td>Cranberries</td>\n",
              "      <td>Blur &amp; Offspring</td>\n",
              "    </tr>\n",
              "    <tr>\n",
              "      <th>3</th>\n",
              "      <td>U2 &amp; Bob Dylan</td>\n",
              "      <td>Oasis</td>\n",
              "      <td>Alanis Morrisette</td>\n",
              "      <td>Aerosmith</td>\n",
              "    </tr>\n",
              "    <tr>\n",
              "      <th>4</th>\n",
              "      <td>Queen &amp; The Muppets</td>\n",
              "      <td>Verve</td>\n",
              "      <td>Foo Figthers</td>\n",
              "      <td>Incubus</td>\n",
              "    </tr>\n",
              "    <tr>\n",
              "      <th>5</th>\n",
              "      <td>Aerosmith</td>\n",
              "      <td>Nicole Kidman/Robbie Williams</td>\n",
              "      <td>Verve</td>\n",
              "      <td>R.E.M.</td>\n",
              "    </tr>\n",
              "    <tr>\n",
              "      <th>6</th>\n",
              "      <td>Nirvana-in utero</td>\n",
              "      <td>Red Hot Chili Peppers -</td>\n",
              "      <td>Dire Straights</td>\n",
              "      <td>Foo Figthers</td>\n",
              "    </tr>\n",
              "    <tr>\n",
              "      <th>7</th>\n",
              "      <td>Kings of Leon</td>\n",
              "      <td>Michael Jackson &amp; Siedah Garrett</td>\n",
              "      <td>Jet</td>\n",
              "      <td>Cranberries</td>\n",
              "    </tr>\n",
              "    <tr>\n",
              "      <th>8</th>\n",
              "      <td>Blur &amp; Offspring</td>\n",
              "      <td>Jet</td>\n",
              "      <td>Blur &amp; Offspring</td>\n",
              "      <td>Red Hot Chili Peppers -</td>\n",
              "    </tr>\n",
              "    <tr>\n",
              "      <th>9</th>\n",
              "      <td>Green Day</td>\n",
              "      <td>Blur &amp; Offspring</td>\n",
              "      <td>U2 &amp; Bob Dylan</td>\n",
              "      <td>Verve</td>\n",
              "    </tr>\n",
              "    <tr>\n",
              "      <th>10</th>\n",
              "      <td>Oasis</td>\n",
              "      <td>Cranberries</td>\n",
              "      <td>Aerosmith</td>\n",
              "      <td>The Cardigans</td>\n",
              "    </tr>\n",
              "    <tr>\n",
              "      <th>11</th>\n",
              "      <td>Verve</td>\n",
              "      <td>The Cardigans</td>\n",
              "      <td>Smash Mouth &amp; Me</td>\n",
              "      <td>Michael Jackson &amp; Siedah Garrett</td>\n",
              "    </tr>\n",
              "    <tr>\n",
              "      <th>12</th>\n",
              "      <td>R.E.M.</td>\n",
              "      <td>Eagle Eye Cherry</td>\n",
              "      <td>Tom Petty and The Heartbreakers</td>\n",
              "      <td>Nicole Kidman/Robbie Williams</td>\n",
              "    </tr>\n",
              "    <tr>\n",
              "      <th>13</th>\n",
              "      <td>Maroon 5 Ft. Rihanna</td>\n",
              "      <td>Paolo Nutini</td>\n",
              "      <td>Counting Crows</td>\n",
              "      <td>Jet</td>\n",
              "    </tr>\n",
              "    <tr>\n",
              "      <th>14</th>\n",
              "      <td>RadioheadNCON</td>\n",
              "      <td>Kaiser Chiefs</td>\n",
              "      <td>Beegees</td>\n",
              "      <td>Counting Crows</td>\n",
              "    </tr>\n",
              "    <tr>\n",
              "      <th>15</th>\n",
              "      <td>Michael Jackson &amp; Siedah Garrett</td>\n",
              "      <td>Counting Crows</td>\n",
              "      <td>Kasabian</td>\n",
              "      <td>Offspring</td>\n",
              "    </tr>\n",
              "    <tr>\n",
              "      <th>16</th>\n",
              "      <td>Cranberries</td>\n",
              "      <td>The Goo Goo Dolls</td>\n",
              "      <td>Nicole Kidman/Robbie Williams</td>\n",
              "      <td>Kings of Leon</td>\n",
              "    </tr>\n",
              "    <tr>\n",
              "      <th>17</th>\n",
              "      <td>No Doubt f/Lady Saw</td>\n",
              "      <td>Beegees</td>\n",
              "      <td>R.E.M.</td>\n",
              "      <td>Eric Clapton, Jeff Beck &amp; Jimmy Page</td>\n",
              "    </tr>\n",
              "    <tr>\n",
              "      <th>18</th>\n",
              "      <td>Offspring</td>\n",
              "      <td>Queen &amp; The Muppets</td>\n",
              "      <td>Red Hot Chili Peppers -</td>\n",
              "      <td>Paolo Nutini</td>\n",
              "    </tr>\n",
              "    <tr>\n",
              "      <th>19</th>\n",
              "      <td>Muse - Absolution</td>\n",
              "      <td>R.E.M.</td>\n",
              "      <td>Incubus</td>\n",
              "      <td>No Doubt f/Lady Saw</td>\n",
              "    </tr>\n",
              "  </tbody>\n",
              "</table>\n",
              "</div>"
            ],
            "text/plain": [
              "                                 KNN  ...                            item2vec_3\n",
              "0            Red Hot Chili Peppers -  ...                                 Oasis\n",
              "1                       Foo Figthers  ...                        U2 & Bob Dylan\n",
              "2           Coldplay & Kylie Minogue  ...                      Blur & Offspring\n",
              "3                     U2 & Bob Dylan  ...                             Aerosmith\n",
              "4                Queen & The Muppets  ...                               Incubus\n",
              "5                          Aerosmith  ...                                R.E.M.\n",
              "6                   Nirvana-in utero  ...                          Foo Figthers\n",
              "7                      Kings of Leon  ...                           Cranberries\n",
              "8                   Blur & Offspring  ...               Red Hot Chili Peppers -\n",
              "9                          Green Day  ...                                 Verve\n",
              "10                             Oasis  ...                         The Cardigans\n",
              "11                             Verve  ...      Michael Jackson & Siedah Garrett\n",
              "12                            R.E.M.  ...         Nicole Kidman/Robbie Williams\n",
              "13              Maroon 5 Ft. Rihanna  ...                                   Jet\n",
              "14                     RadioheadNCON  ...                        Counting Crows\n",
              "15  Michael Jackson & Siedah Garrett  ...                             Offspring\n",
              "16                       Cranberries  ...                         Kings of Leon\n",
              "17               No Doubt f/Lady Saw  ...  Eric Clapton, Jeff Beck & Jimmy Page\n",
              "18                         Offspring  ...                          Paolo Nutini\n",
              "19                 Muse - Absolution  ...                   No Doubt f/Lady Saw\n",
              "\n",
              "[20 rows x 4 columns]"
            ]
          },
          "metadata": {
            "tags": []
          },
          "execution_count": 66
        }
      ]
    },
    {
      "cell_type": "markdown",
      "metadata": {
        "id": "vWrTytPyuBMB",
        "colab_type": "text"
      },
      "source": [
        "Количество совпадений \"Топ 20 Авторов\" между KNN и item2vec(1) = 10."
      ]
    },
    {
      "cell_type": "code",
      "metadata": {
        "id": "7D2QsgKTnmUc",
        "colab_type": "code",
        "colab": {
          "base_uri": "https://localhost:8080/",
          "height": 359
        },
        "outputId": "e5747e84-bff9-4f99-d181-2afab3c80c65"
      },
      "source": [
        "pd.merge(baseline_knn, item2veck_1, how='left', left_on='KNN', right_on='item2vec_1').drop(columns = ['KNN']).dropna()"
      ],
      "execution_count": null,
      "outputs": [
        {
          "output_type": "execute_result",
          "data": {
            "text/html": [
              "<div>\n",
              "<style scoped>\n",
              "    .dataframe tbody tr th:only-of-type {\n",
              "        vertical-align: middle;\n",
              "    }\n",
              "\n",
              "    .dataframe tbody tr th {\n",
              "        vertical-align: top;\n",
              "    }\n",
              "\n",
              "    .dataframe thead th {\n",
              "        text-align: right;\n",
              "    }\n",
              "</style>\n",
              "<table border=\"1\" class=\"dataframe\">\n",
              "  <thead>\n",
              "    <tr style=\"text-align: right;\">\n",
              "      <th></th>\n",
              "      <th>item2vec_1</th>\n",
              "    </tr>\n",
              "  </thead>\n",
              "  <tbody>\n",
              "    <tr>\n",
              "      <th>0</th>\n",
              "      <td>Red Hot Chili Peppers -</td>\n",
              "    </tr>\n",
              "    <tr>\n",
              "      <th>3</th>\n",
              "      <td>U2 &amp; Bob Dylan</td>\n",
              "    </tr>\n",
              "    <tr>\n",
              "      <th>4</th>\n",
              "      <td>Queen &amp; The Muppets</td>\n",
              "    </tr>\n",
              "    <tr>\n",
              "      <th>5</th>\n",
              "      <td>Aerosmith</td>\n",
              "    </tr>\n",
              "    <tr>\n",
              "      <th>8</th>\n",
              "      <td>Blur &amp; Offspring</td>\n",
              "    </tr>\n",
              "    <tr>\n",
              "      <th>10</th>\n",
              "      <td>Oasis</td>\n",
              "    </tr>\n",
              "    <tr>\n",
              "      <th>11</th>\n",
              "      <td>Verve</td>\n",
              "    </tr>\n",
              "    <tr>\n",
              "      <th>12</th>\n",
              "      <td>R.E.M.</td>\n",
              "    </tr>\n",
              "    <tr>\n",
              "      <th>15</th>\n",
              "      <td>Michael Jackson &amp; Siedah Garrett</td>\n",
              "    </tr>\n",
              "    <tr>\n",
              "      <th>16</th>\n",
              "      <td>Cranberries</td>\n",
              "    </tr>\n",
              "  </tbody>\n",
              "</table>\n",
              "</div>"
            ],
            "text/plain": [
              "                          item2vec_1\n",
              "0            Red Hot Chili Peppers -\n",
              "3                     U2 & Bob Dylan\n",
              "4                Queen & The Muppets\n",
              "5                          Aerosmith\n",
              "8                   Blur & Offspring\n",
              "10                             Oasis\n",
              "11                             Verve\n",
              "12                            R.E.M.\n",
              "15  Michael Jackson & Siedah Garrett\n",
              "16                       Cranberries"
            ]
          },
          "metadata": {
            "tags": []
          },
          "execution_count": 76
        }
      ]
    },
    {
      "cell_type": "markdown",
      "metadata": {
        "id": "MRTin122uh3T",
        "colab_type": "text"
      },
      "source": [
        "Количество совпадений \"Топ 20 Авторов\" между KNN и item2vec(2) = 9."
      ]
    },
    {
      "cell_type": "code",
      "metadata": {
        "id": "ui4NXrArp3mV",
        "colab_type": "code",
        "colab": {
          "base_uri": "https://localhost:8080/",
          "height": 328
        },
        "outputId": "8cfae972-5464-4034-8e8c-c8c21db7e6e9"
      },
      "source": [
        "pd.merge(baseline_knn, item2veck_2, how='left', left_on='KNN', right_on='item2vec_2').drop(columns = ['KNN']).dropna()"
      ],
      "execution_count": null,
      "outputs": [
        {
          "output_type": "execute_result",
          "data": {
            "text/html": [
              "<div>\n",
              "<style scoped>\n",
              "    .dataframe tbody tr th:only-of-type {\n",
              "        vertical-align: middle;\n",
              "    }\n",
              "\n",
              "    .dataframe tbody tr th {\n",
              "        vertical-align: top;\n",
              "    }\n",
              "\n",
              "    .dataframe thead th {\n",
              "        text-align: right;\n",
              "    }\n",
              "</style>\n",
              "<table border=\"1\" class=\"dataframe\">\n",
              "  <thead>\n",
              "    <tr style=\"text-align: right;\">\n",
              "      <th></th>\n",
              "      <th>item2vec_2</th>\n",
              "    </tr>\n",
              "  </thead>\n",
              "  <tbody>\n",
              "    <tr>\n",
              "      <th>0</th>\n",
              "      <td>Red Hot Chili Peppers -</td>\n",
              "    </tr>\n",
              "    <tr>\n",
              "      <th>1</th>\n",
              "      <td>Foo Figthers</td>\n",
              "    </tr>\n",
              "    <tr>\n",
              "      <th>3</th>\n",
              "      <td>U2 &amp; Bob Dylan</td>\n",
              "    </tr>\n",
              "    <tr>\n",
              "      <th>5</th>\n",
              "      <td>Aerosmith</td>\n",
              "    </tr>\n",
              "    <tr>\n",
              "      <th>8</th>\n",
              "      <td>Blur &amp; Offspring</td>\n",
              "    </tr>\n",
              "    <tr>\n",
              "      <th>10</th>\n",
              "      <td>Oasis</td>\n",
              "    </tr>\n",
              "    <tr>\n",
              "      <th>11</th>\n",
              "      <td>Verve</td>\n",
              "    </tr>\n",
              "    <tr>\n",
              "      <th>12</th>\n",
              "      <td>R.E.M.</td>\n",
              "    </tr>\n",
              "    <tr>\n",
              "      <th>16</th>\n",
              "      <td>Cranberries</td>\n",
              "    </tr>\n",
              "  </tbody>\n",
              "</table>\n",
              "</div>"
            ],
            "text/plain": [
              "                 item2vec_2\n",
              "0   Red Hot Chili Peppers -\n",
              "1              Foo Figthers\n",
              "3            U2 & Bob Dylan\n",
              "5                 Aerosmith\n",
              "8          Blur & Offspring\n",
              "10                    Oasis\n",
              "11                    Verve\n",
              "12                   R.E.M.\n",
              "16              Cranberries"
            ]
          },
          "metadata": {
            "tags": []
          },
          "execution_count": 77
        }
      ]
    },
    {
      "cell_type": "markdown",
      "metadata": {
        "id": "67s52Qd4umds",
        "colab_type": "text"
      },
      "source": [
        "Количество совпадений \"Топ 20 Авторов\" между KNN и item2vec(3) = 12."
      ]
    },
    {
      "cell_type": "code",
      "metadata": {
        "id": "BCLEpbv0p73b",
        "colab_type": "code",
        "colab": {
          "base_uri": "https://localhost:8080/",
          "height": 421
        },
        "outputId": "e7e6697a-e7b1-4b75-f446-1a078e8b85e4"
      },
      "source": [
        "pd.merge(baseline_knn, item2veck_3, how='left', left_on='KNN', right_on='item2vec_3').drop(columns = ['KNN']).dropna()"
      ],
      "execution_count": null,
      "outputs": [
        {
          "output_type": "execute_result",
          "data": {
            "text/html": [
              "<div>\n",
              "<style scoped>\n",
              "    .dataframe tbody tr th:only-of-type {\n",
              "        vertical-align: middle;\n",
              "    }\n",
              "\n",
              "    .dataframe tbody tr th {\n",
              "        vertical-align: top;\n",
              "    }\n",
              "\n",
              "    .dataframe thead th {\n",
              "        text-align: right;\n",
              "    }\n",
              "</style>\n",
              "<table border=\"1\" class=\"dataframe\">\n",
              "  <thead>\n",
              "    <tr style=\"text-align: right;\">\n",
              "      <th></th>\n",
              "      <th>item2vec_3</th>\n",
              "    </tr>\n",
              "  </thead>\n",
              "  <tbody>\n",
              "    <tr>\n",
              "      <th>0</th>\n",
              "      <td>Red Hot Chili Peppers -</td>\n",
              "    </tr>\n",
              "    <tr>\n",
              "      <th>1</th>\n",
              "      <td>Foo Figthers</td>\n",
              "    </tr>\n",
              "    <tr>\n",
              "      <th>3</th>\n",
              "      <td>U2 &amp; Bob Dylan</td>\n",
              "    </tr>\n",
              "    <tr>\n",
              "      <th>5</th>\n",
              "      <td>Aerosmith</td>\n",
              "    </tr>\n",
              "    <tr>\n",
              "      <th>7</th>\n",
              "      <td>Kings of Leon</td>\n",
              "    </tr>\n",
              "    <tr>\n",
              "      <th>8</th>\n",
              "      <td>Blur &amp; Offspring</td>\n",
              "    </tr>\n",
              "    <tr>\n",
              "      <th>10</th>\n",
              "      <td>Oasis</td>\n",
              "    </tr>\n",
              "    <tr>\n",
              "      <th>11</th>\n",
              "      <td>Verve</td>\n",
              "    </tr>\n",
              "    <tr>\n",
              "      <th>12</th>\n",
              "      <td>R.E.M.</td>\n",
              "    </tr>\n",
              "    <tr>\n",
              "      <th>15</th>\n",
              "      <td>Michael Jackson &amp; Siedah Garrett</td>\n",
              "    </tr>\n",
              "    <tr>\n",
              "      <th>16</th>\n",
              "      <td>Cranberries</td>\n",
              "    </tr>\n",
              "    <tr>\n",
              "      <th>17</th>\n",
              "      <td>No Doubt f/Lady Saw</td>\n",
              "    </tr>\n",
              "  </tbody>\n",
              "</table>\n",
              "</div>"
            ],
            "text/plain": [
              "                          item2vec_3\n",
              "0            Red Hot Chili Peppers -\n",
              "1                       Foo Figthers\n",
              "3                     U2 & Bob Dylan\n",
              "5                          Aerosmith\n",
              "7                      Kings of Leon\n",
              "8                   Blur & Offspring\n",
              "10                             Oasis\n",
              "11                             Verve\n",
              "12                            R.E.M.\n",
              "15  Michael Jackson & Siedah Garrett\n",
              "16                       Cranberries\n",
              "17               No Doubt f/Lady Saw"
            ]
          },
          "metadata": {
            "tags": []
          },
          "execution_count": 78
        }
      ]
    },
    {
      "cell_type": "markdown",
      "metadata": {
        "id": "DZBUCvvuur8U",
        "colab_type": "text"
      },
      "source": [
        "Количество совпадений \"Топ 20 Авторов\" между item2vec(1) и item2vec(2) = 13."
      ]
    },
    {
      "cell_type": "code",
      "metadata": {
        "id": "7Ctequlrp9Eo",
        "colab_type": "code",
        "colab": {
          "base_uri": "https://localhost:8080/",
          "height": 452
        },
        "outputId": "a3fef97b-6006-4a65-ea5a-b0bc3147b46e"
      },
      "source": [
        "pd.merge(item2veck_1, item2veck_2, how='left', left_on='item2vec_1', right_on='item2vec_2').drop(columns = ['item2vec_1']).dropna()"
      ],
      "execution_count": null,
      "outputs": [
        {
          "output_type": "execute_result",
          "data": {
            "text/html": [
              "<div>\n",
              "<style scoped>\n",
              "    .dataframe tbody tr th:only-of-type {\n",
              "        vertical-align: middle;\n",
              "    }\n",
              "\n",
              "    .dataframe tbody tr th {\n",
              "        vertical-align: top;\n",
              "    }\n",
              "\n",
              "    .dataframe thead th {\n",
              "        text-align: right;\n",
              "    }\n",
              "</style>\n",
              "<table border=\"1\" class=\"dataframe\">\n",
              "  <thead>\n",
              "    <tr style=\"text-align: right;\">\n",
              "      <th></th>\n",
              "      <th>item2vec_2</th>\n",
              "    </tr>\n",
              "  </thead>\n",
              "  <tbody>\n",
              "    <tr>\n",
              "      <th>0</th>\n",
              "      <td>U2 &amp; Bob Dylan</td>\n",
              "    </tr>\n",
              "    <tr>\n",
              "      <th>2</th>\n",
              "      <td>Aerosmith</td>\n",
              "    </tr>\n",
              "    <tr>\n",
              "      <th>3</th>\n",
              "      <td>Oasis</td>\n",
              "    </tr>\n",
              "    <tr>\n",
              "      <th>4</th>\n",
              "      <td>Verve</td>\n",
              "    </tr>\n",
              "    <tr>\n",
              "      <th>5</th>\n",
              "      <td>Nicole Kidman/Robbie Williams</td>\n",
              "    </tr>\n",
              "    <tr>\n",
              "      <th>6</th>\n",
              "      <td>Red Hot Chili Peppers -</td>\n",
              "    </tr>\n",
              "    <tr>\n",
              "      <th>8</th>\n",
              "      <td>Jet</td>\n",
              "    </tr>\n",
              "    <tr>\n",
              "      <th>9</th>\n",
              "      <td>Blur &amp; Offspring</td>\n",
              "    </tr>\n",
              "    <tr>\n",
              "      <th>10</th>\n",
              "      <td>Cranberries</td>\n",
              "    </tr>\n",
              "    <tr>\n",
              "      <th>12</th>\n",
              "      <td>Eagle Eye Cherry</td>\n",
              "    </tr>\n",
              "    <tr>\n",
              "      <th>15</th>\n",
              "      <td>Counting Crows</td>\n",
              "    </tr>\n",
              "    <tr>\n",
              "      <th>17</th>\n",
              "      <td>Beegees</td>\n",
              "    </tr>\n",
              "    <tr>\n",
              "      <th>19</th>\n",
              "      <td>R.E.M.</td>\n",
              "    </tr>\n",
              "  </tbody>\n",
              "</table>\n",
              "</div>"
            ],
            "text/plain": [
              "                       item2vec_2\n",
              "0                  U2 & Bob Dylan\n",
              "2                       Aerosmith\n",
              "3                           Oasis\n",
              "4                           Verve\n",
              "5   Nicole Kidman/Robbie Williams\n",
              "6         Red Hot Chili Peppers -\n",
              "8                             Jet\n",
              "9                Blur & Offspring\n",
              "10                    Cranberries\n",
              "12               Eagle Eye Cherry\n",
              "15                 Counting Crows\n",
              "17                        Beegees\n",
              "19                         R.E.M."
            ]
          },
          "metadata": {
            "tags": []
          },
          "execution_count": 84
        }
      ]
    },
    {
      "cell_type": "markdown",
      "metadata": {
        "id": "uo0U9U3suyyx",
        "colab_type": "text"
      },
      "source": [
        "Количество совпадений \"Топ 20 Авторов\" между item2vec(1) и item2vec(3) = 14."
      ]
    },
    {
      "cell_type": "code",
      "metadata": {
        "id": "FmJFGz5UqZUX",
        "colab_type": "code",
        "colab": {
          "base_uri": "https://localhost:8080/",
          "height": 483
        },
        "outputId": "d3838927-6e30-4f3c-acb2-195ab69493c3"
      },
      "source": [
        "pd.merge(item2veck_1, item2veck_3, how='left', left_on='item2vec_1', right_on='item2vec_3').drop(columns = ['item2vec_1']).dropna()"
      ],
      "execution_count": null,
      "outputs": [
        {
          "output_type": "execute_result",
          "data": {
            "text/html": [
              "<div>\n",
              "<style scoped>\n",
              "    .dataframe tbody tr th:only-of-type {\n",
              "        vertical-align: middle;\n",
              "    }\n",
              "\n",
              "    .dataframe tbody tr th {\n",
              "        vertical-align: top;\n",
              "    }\n",
              "\n",
              "    .dataframe thead th {\n",
              "        text-align: right;\n",
              "    }\n",
              "</style>\n",
              "<table border=\"1\" class=\"dataframe\">\n",
              "  <thead>\n",
              "    <tr style=\"text-align: right;\">\n",
              "      <th></th>\n",
              "      <th>item2vec_3</th>\n",
              "    </tr>\n",
              "  </thead>\n",
              "  <tbody>\n",
              "    <tr>\n",
              "      <th>0</th>\n",
              "      <td>U2 &amp; Bob Dylan</td>\n",
              "    </tr>\n",
              "    <tr>\n",
              "      <th>2</th>\n",
              "      <td>Aerosmith</td>\n",
              "    </tr>\n",
              "    <tr>\n",
              "      <th>3</th>\n",
              "      <td>Oasis</td>\n",
              "    </tr>\n",
              "    <tr>\n",
              "      <th>4</th>\n",
              "      <td>Verve</td>\n",
              "    </tr>\n",
              "    <tr>\n",
              "      <th>5</th>\n",
              "      <td>Nicole Kidman/Robbie Williams</td>\n",
              "    </tr>\n",
              "    <tr>\n",
              "      <th>6</th>\n",
              "      <td>Red Hot Chili Peppers -</td>\n",
              "    </tr>\n",
              "    <tr>\n",
              "      <th>7</th>\n",
              "      <td>Michael Jackson &amp; Siedah Garrett</td>\n",
              "    </tr>\n",
              "    <tr>\n",
              "      <th>8</th>\n",
              "      <td>Jet</td>\n",
              "    </tr>\n",
              "    <tr>\n",
              "      <th>9</th>\n",
              "      <td>Blur &amp; Offspring</td>\n",
              "    </tr>\n",
              "    <tr>\n",
              "      <th>10</th>\n",
              "      <td>Cranberries</td>\n",
              "    </tr>\n",
              "    <tr>\n",
              "      <th>11</th>\n",
              "      <td>The Cardigans</td>\n",
              "    </tr>\n",
              "    <tr>\n",
              "      <th>13</th>\n",
              "      <td>Paolo Nutini</td>\n",
              "    </tr>\n",
              "    <tr>\n",
              "      <th>15</th>\n",
              "      <td>Counting Crows</td>\n",
              "    </tr>\n",
              "    <tr>\n",
              "      <th>19</th>\n",
              "      <td>R.E.M.</td>\n",
              "    </tr>\n",
              "  </tbody>\n",
              "</table>\n",
              "</div>"
            ],
            "text/plain": [
              "                          item2vec_3\n",
              "0                     U2 & Bob Dylan\n",
              "2                          Aerosmith\n",
              "3                              Oasis\n",
              "4                              Verve\n",
              "5      Nicole Kidman/Robbie Williams\n",
              "6            Red Hot Chili Peppers -\n",
              "7   Michael Jackson & Siedah Garrett\n",
              "8                                Jet\n",
              "9                   Blur & Offspring\n",
              "10                       Cranberries\n",
              "11                     The Cardigans\n",
              "13                      Paolo Nutini\n",
              "15                    Counting Crows\n",
              "19                            R.E.M."
            ]
          },
          "metadata": {
            "tags": []
          },
          "execution_count": 85
        }
      ]
    },
    {
      "cell_type": "markdown",
      "metadata": {
        "id": "MFb80tq8u5M7",
        "colab_type": "text"
      },
      "source": [
        "Количество совпадений \"Топ 20 Авторов\" между item2vec(2) и item2vec(3) = 13."
      ]
    },
    {
      "cell_type": "code",
      "metadata": {
        "id": "AKvqdms7qead",
        "colab_type": "code",
        "colab": {
          "base_uri": "https://localhost:8080/",
          "height": 452
        },
        "outputId": "4c776f2f-f3f6-4e35-f6e2-a8ea3aeafccb"
      },
      "source": [
        "pd.merge(item2veck_2, item2veck_3, how='left', left_on='item2vec_2', right_on='item2vec_3').drop(columns = ['item2vec_2']).dropna()"
      ],
      "execution_count": null,
      "outputs": [
        {
          "output_type": "execute_result",
          "data": {
            "text/html": [
              "<div>\n",
              "<style scoped>\n",
              "    .dataframe tbody tr th:only-of-type {\n",
              "        vertical-align: middle;\n",
              "    }\n",
              "\n",
              "    .dataframe tbody tr th {\n",
              "        vertical-align: top;\n",
              "    }\n",
              "\n",
              "    .dataframe thead th {\n",
              "        text-align: right;\n",
              "    }\n",
              "</style>\n",
              "<table border=\"1\" class=\"dataframe\">\n",
              "  <thead>\n",
              "    <tr style=\"text-align: right;\">\n",
              "      <th></th>\n",
              "      <th>item2vec_3</th>\n",
              "    </tr>\n",
              "  </thead>\n",
              "  <tbody>\n",
              "    <tr>\n",
              "      <th>0</th>\n",
              "      <td>Oasis</td>\n",
              "    </tr>\n",
              "    <tr>\n",
              "      <th>2</th>\n",
              "      <td>Cranberries</td>\n",
              "    </tr>\n",
              "    <tr>\n",
              "      <th>4</th>\n",
              "      <td>Foo Figthers</td>\n",
              "    </tr>\n",
              "    <tr>\n",
              "      <th>5</th>\n",
              "      <td>Verve</td>\n",
              "    </tr>\n",
              "    <tr>\n",
              "      <th>7</th>\n",
              "      <td>Jet</td>\n",
              "    </tr>\n",
              "    <tr>\n",
              "      <th>8</th>\n",
              "      <td>Blur &amp; Offspring</td>\n",
              "    </tr>\n",
              "    <tr>\n",
              "      <th>9</th>\n",
              "      <td>U2 &amp; Bob Dylan</td>\n",
              "    </tr>\n",
              "    <tr>\n",
              "      <th>10</th>\n",
              "      <td>Aerosmith</td>\n",
              "    </tr>\n",
              "    <tr>\n",
              "      <th>13</th>\n",
              "      <td>Counting Crows</td>\n",
              "    </tr>\n",
              "    <tr>\n",
              "      <th>16</th>\n",
              "      <td>Nicole Kidman/Robbie Williams</td>\n",
              "    </tr>\n",
              "    <tr>\n",
              "      <th>17</th>\n",
              "      <td>R.E.M.</td>\n",
              "    </tr>\n",
              "    <tr>\n",
              "      <th>18</th>\n",
              "      <td>Red Hot Chili Peppers -</td>\n",
              "    </tr>\n",
              "    <tr>\n",
              "      <th>19</th>\n",
              "      <td>Incubus</td>\n",
              "    </tr>\n",
              "  </tbody>\n",
              "</table>\n",
              "</div>"
            ],
            "text/plain": [
              "                       item2vec_3\n",
              "0                           Oasis\n",
              "2                     Cranberries\n",
              "4                    Foo Figthers\n",
              "5                           Verve\n",
              "7                             Jet\n",
              "8                Blur & Offspring\n",
              "9                  U2 & Bob Dylan\n",
              "10                      Aerosmith\n",
              "13                 Counting Crows\n",
              "16  Nicole Kidman/Robbie Williams\n",
              "17                         R.E.M.\n",
              "18        Red Hot Chili Peppers -\n",
              "19                        Incubus"
            ]
          },
          "metadata": {
            "tags": []
          },
          "execution_count": 86
        }
      ]
    },
    {
      "cell_type": "markdown",
      "metadata": {
        "id": "anew3iS6vfPl",
        "colab_type": "text"
      },
      "source": [
        "**Наибольшее колличество пересечений для одного запроса с baseline у модели item2vec(3).**\n",
        "\n",
        "**Наибольшее колличество пересечений для одного запроса между item2vec(1) и item2vec(3).**"
      ]
    },
    {
      "cell_type": "markdown",
      "metadata": {
        "id": "uZ06z7nHw6oh",
        "colab_type": "text"
      },
      "source": [
        "Приведем полученные результаты из предыдущих разделов item2vec на основе рекомендации Lenny Kravitz & Asa, Nicole Kidman/Robbie Williams, и анти-рекомендации Dido & Enya."
      ]
    },
    {
      "cell_type": "code",
      "metadata": {
        "id": "gR08YXHlMWTy",
        "colab_type": "code",
        "colab": {}
      },
      "source": [
        "item2vec_1 = np.array([[\"U2 & Bob Dylan\", \"Blur & Offspring\", \"Queen & The Muppets\", \"Aerosmith\",  \"Kaiser Chiefs\", \"Red Hot Chili Peppers -\", \"Guns 'N' Roses\", \"Rolling Stones\", \"Bruce Springsteen & The E Street Band with Tom...\", \"Arctic Monekys\", \"The Kooks\", \"Journey\", \"Oasis\", \"The Killers Feat. Elton John & Neil Tennant\", \"Beegees\", \"Kasabian\", \"Rod Stewart & PP Arnold\", \"Bon Jovi\", \"Ray Charles & George Michael\", \"Santana & Wyclef feat. Avicii & Alexandre Pires\"]])\n",
        "item2vec_2 = np.array([[\"Oasis\",\"Foo Figthers\",\"Kasabian\",\"Jet\",\"Aerosmith\",\"Journey\",\"Red Hot Chili Peppers -\",\"Queen & The Muppets\",\"Blur & Offspring\",\"U2 & Bob Dylan\",\"Creedence Clearwater Revival\",\"Eagle Eye Cherry\",\"Metallica, Michael Kamen & San Francisco Symphony\",\"Weezer & Hayley Williams\",\"Rolling Stones\",\"Jake Bugg\",\"Kings of Leon\",\"Coldplay & Kylie Minogue\",\"Dire Straights\",\"White Stripes\"]])\n",
        "item2vec_3 = np.array([[\"U2 & Bob Dylan\", \"Oasis\", \"Aerosmith\", \"Foo Figthers\",\"Blur & Offspring\",\"Red Hot Chili Peppers -\",\"Creedence Clearwater Revival\",\"Journey\",\"Queen & The Muppets\",\"Kasabian\",\"Jet\",\"Weezer & Hayley Williams\",\"Paolo Nutini\",\"Verve\",\"Rolling Stones\",\"Incubus\",\"Michael Jackson & Siedah Garrett\",\"Franz Ferdinand & Jane Birkin\",\"The Who & David Gilmour\",\"Nirvana-in utero\"]])"
      ],
      "execution_count": null,
      "outputs": []
    },
    {
      "cell_type": "code",
      "metadata": {
        "id": "AbWWDXoxqrz7",
        "colab_type": "code",
        "colab": {
          "base_uri": "https://localhost:8080/",
          "height": 822
        },
        "outputId": "dbd9ac14-dbc8-474b-8733-19e4436f8fac"
      },
      "source": [
        "pd.concat([pd.DataFrame(item2vec_1).transpose().rename(columns={0:'item2vec_1'}), pd.DataFrame(item2vec_2).transpose().rename(columns={0:'item2vec_2'}), pd.DataFrame(item2vec_3).transpose().rename(columns={0:'item2vec_3'})], axis=1, sort=False)"
      ],
      "execution_count": null,
      "outputs": [
        {
          "output_type": "execute_result",
          "data": {
            "text/html": [
              "<div>\n",
              "<style scoped>\n",
              "    .dataframe tbody tr th:only-of-type {\n",
              "        vertical-align: middle;\n",
              "    }\n",
              "\n",
              "    .dataframe tbody tr th {\n",
              "        vertical-align: top;\n",
              "    }\n",
              "\n",
              "    .dataframe thead th {\n",
              "        text-align: right;\n",
              "    }\n",
              "</style>\n",
              "<table border=\"1\" class=\"dataframe\">\n",
              "  <thead>\n",
              "    <tr style=\"text-align: right;\">\n",
              "      <th></th>\n",
              "      <th>item2vec_1</th>\n",
              "      <th>item2vec_2</th>\n",
              "      <th>item2vec_3</th>\n",
              "    </tr>\n",
              "  </thead>\n",
              "  <tbody>\n",
              "    <tr>\n",
              "      <th>0</th>\n",
              "      <td>U2 &amp; Bob Dylan</td>\n",
              "      <td>Oasis</td>\n",
              "      <td>U2 &amp; Bob Dylan</td>\n",
              "    </tr>\n",
              "    <tr>\n",
              "      <th>1</th>\n",
              "      <td>Blur &amp; Offspring</td>\n",
              "      <td>Foo Figthers</td>\n",
              "      <td>Oasis</td>\n",
              "    </tr>\n",
              "    <tr>\n",
              "      <th>2</th>\n",
              "      <td>Queen &amp; The Muppets</td>\n",
              "      <td>Kasabian</td>\n",
              "      <td>Aerosmith</td>\n",
              "    </tr>\n",
              "    <tr>\n",
              "      <th>3</th>\n",
              "      <td>Aerosmith</td>\n",
              "      <td>Jet</td>\n",
              "      <td>Foo Figthers</td>\n",
              "    </tr>\n",
              "    <tr>\n",
              "      <th>4</th>\n",
              "      <td>Kaiser Chiefs</td>\n",
              "      <td>Aerosmith</td>\n",
              "      <td>Blur &amp; Offspring</td>\n",
              "    </tr>\n",
              "    <tr>\n",
              "      <th>5</th>\n",
              "      <td>Red Hot Chili Peppers -</td>\n",
              "      <td>Journey</td>\n",
              "      <td>Red Hot Chili Peppers -</td>\n",
              "    </tr>\n",
              "    <tr>\n",
              "      <th>6</th>\n",
              "      <td>Guns 'N' Roses</td>\n",
              "      <td>Red Hot Chili Peppers -</td>\n",
              "      <td>Creedence Clearwater Revival</td>\n",
              "    </tr>\n",
              "    <tr>\n",
              "      <th>7</th>\n",
              "      <td>Rolling Stones</td>\n",
              "      <td>Queen &amp; The Muppets</td>\n",
              "      <td>Journey</td>\n",
              "    </tr>\n",
              "    <tr>\n",
              "      <th>8</th>\n",
              "      <td>Bruce Springsteen &amp; The E Street Band with Tom...</td>\n",
              "      <td>Blur &amp; Offspring</td>\n",
              "      <td>Queen &amp; The Muppets</td>\n",
              "    </tr>\n",
              "    <tr>\n",
              "      <th>9</th>\n",
              "      <td>Arctic Monekys</td>\n",
              "      <td>U2 &amp; Bob Dylan</td>\n",
              "      <td>Kasabian</td>\n",
              "    </tr>\n",
              "    <tr>\n",
              "      <th>10</th>\n",
              "      <td>The Kooks</td>\n",
              "      <td>Creedence Clearwater Revival</td>\n",
              "      <td>Jet</td>\n",
              "    </tr>\n",
              "    <tr>\n",
              "      <th>11</th>\n",
              "      <td>Journey</td>\n",
              "      <td>Eagle Eye Cherry</td>\n",
              "      <td>Weezer &amp; Hayley Williams</td>\n",
              "    </tr>\n",
              "    <tr>\n",
              "      <th>12</th>\n",
              "      <td>Oasis</td>\n",
              "      <td>Metallica, Michael Kamen &amp; San Francisco Symphony</td>\n",
              "      <td>Paolo Nutini</td>\n",
              "    </tr>\n",
              "    <tr>\n",
              "      <th>13</th>\n",
              "      <td>The Killers Feat. Elton John &amp; Neil Tennant</td>\n",
              "      <td>Weezer &amp; Hayley Williams</td>\n",
              "      <td>Verve</td>\n",
              "    </tr>\n",
              "    <tr>\n",
              "      <th>14</th>\n",
              "      <td>Beegees</td>\n",
              "      <td>Rolling Stones</td>\n",
              "      <td>Rolling Stones</td>\n",
              "    </tr>\n",
              "    <tr>\n",
              "      <th>15</th>\n",
              "      <td>Kasabian</td>\n",
              "      <td>Jake Bugg</td>\n",
              "      <td>Incubus</td>\n",
              "    </tr>\n",
              "    <tr>\n",
              "      <th>16</th>\n",
              "      <td>Rod Stewart &amp; PP Arnold</td>\n",
              "      <td>Kings of Leon</td>\n",
              "      <td>Michael Jackson &amp; Siedah Garrett</td>\n",
              "    </tr>\n",
              "    <tr>\n",
              "      <th>17</th>\n",
              "      <td>Bon Jovi</td>\n",
              "      <td>Coldplay &amp; Kylie Minogue</td>\n",
              "      <td>Franz Ferdinand &amp; Jane Birkin</td>\n",
              "    </tr>\n",
              "    <tr>\n",
              "      <th>18</th>\n",
              "      <td>Ray Charles &amp; George Michael</td>\n",
              "      <td>Dire Straights</td>\n",
              "      <td>The Who &amp; David Gilmour</td>\n",
              "    </tr>\n",
              "    <tr>\n",
              "      <th>19</th>\n",
              "      <td>Santana &amp; Wyclef feat. Avicii &amp; Alexandre Pires</td>\n",
              "      <td>White Stripes</td>\n",
              "      <td>Nirvana-in utero</td>\n",
              "    </tr>\n",
              "  </tbody>\n",
              "</table>\n",
              "</div>"
            ],
            "text/plain": [
              "                                           item2vec_1  ...                        item2vec_3\n",
              "0                                      U2 & Bob Dylan  ...                    U2 & Bob Dylan\n",
              "1                                    Blur & Offspring  ...                             Oasis\n",
              "2                                 Queen & The Muppets  ...                         Aerosmith\n",
              "3                                           Aerosmith  ...                      Foo Figthers\n",
              "4                                       Kaiser Chiefs  ...                  Blur & Offspring\n",
              "5                             Red Hot Chili Peppers -  ...           Red Hot Chili Peppers -\n",
              "6                                      Guns 'N' Roses  ...      Creedence Clearwater Revival\n",
              "7                                      Rolling Stones  ...                           Journey\n",
              "8   Bruce Springsteen & The E Street Band with Tom...  ...               Queen & The Muppets\n",
              "9                                      Arctic Monekys  ...                          Kasabian\n",
              "10                                          The Kooks  ...                               Jet\n",
              "11                                            Journey  ...          Weezer & Hayley Williams\n",
              "12                                              Oasis  ...                      Paolo Nutini\n",
              "13        The Killers Feat. Elton John & Neil Tennant  ...                             Verve\n",
              "14                                            Beegees  ...                    Rolling Stones\n",
              "15                                           Kasabian  ...                           Incubus\n",
              "16                            Rod Stewart & PP Arnold  ...  Michael Jackson & Siedah Garrett\n",
              "17                                           Bon Jovi  ...     Franz Ferdinand & Jane Birkin\n",
              "18                       Ray Charles & George Michael  ...           The Who & David Gilmour\n",
              "19    Santana & Wyclef feat. Avicii & Alexandre Pires  ...                  Nirvana-in utero\n",
              "\n",
              "[20 rows x 3 columns]"
            ]
          },
          "metadata": {
            "tags": []
          },
          "execution_count": 90
        }
      ]
    },
    {
      "cell_type": "markdown",
      "metadata": {
        "id": "SbSAW5oIvER0",
        "colab_type": "text"
      },
      "source": [
        "Количество совпадений \"Топ 20 Авторов\" между item2vec(1) и item2vec(2) = 9."
      ]
    },
    {
      "cell_type": "code",
      "metadata": {
        "id": "waee00_3rJX8",
        "colab_type": "code",
        "colab": {
          "base_uri": "https://localhost:8080/",
          "height": 328
        },
        "outputId": "cab914c4-9a0a-478e-ae01-37fb634b8721"
      },
      "source": [
        "pd.merge(pd.DataFrame(item2vec_1).transpose().rename(columns={0:'item2vec_1'}), pd.DataFrame(item2vec_2).transpose().rename(columns={0:'item2vec_2'}), how='left', left_on='item2vec_1', right_on='item2vec_2').drop(columns = ['item2vec_1']).dropna()"
      ],
      "execution_count": null,
      "outputs": [
        {
          "output_type": "execute_result",
          "data": {
            "text/html": [
              "<div>\n",
              "<style scoped>\n",
              "    .dataframe tbody tr th:only-of-type {\n",
              "        vertical-align: middle;\n",
              "    }\n",
              "\n",
              "    .dataframe tbody tr th {\n",
              "        vertical-align: top;\n",
              "    }\n",
              "\n",
              "    .dataframe thead th {\n",
              "        text-align: right;\n",
              "    }\n",
              "</style>\n",
              "<table border=\"1\" class=\"dataframe\">\n",
              "  <thead>\n",
              "    <tr style=\"text-align: right;\">\n",
              "      <th></th>\n",
              "      <th>item2vec_2</th>\n",
              "    </tr>\n",
              "  </thead>\n",
              "  <tbody>\n",
              "    <tr>\n",
              "      <th>0</th>\n",
              "      <td>U2 &amp; Bob Dylan</td>\n",
              "    </tr>\n",
              "    <tr>\n",
              "      <th>1</th>\n",
              "      <td>Blur &amp; Offspring</td>\n",
              "    </tr>\n",
              "    <tr>\n",
              "      <th>2</th>\n",
              "      <td>Queen &amp; The Muppets</td>\n",
              "    </tr>\n",
              "    <tr>\n",
              "      <th>3</th>\n",
              "      <td>Aerosmith</td>\n",
              "    </tr>\n",
              "    <tr>\n",
              "      <th>5</th>\n",
              "      <td>Red Hot Chili Peppers -</td>\n",
              "    </tr>\n",
              "    <tr>\n",
              "      <th>7</th>\n",
              "      <td>Rolling Stones</td>\n",
              "    </tr>\n",
              "    <tr>\n",
              "      <th>11</th>\n",
              "      <td>Journey</td>\n",
              "    </tr>\n",
              "    <tr>\n",
              "      <th>12</th>\n",
              "      <td>Oasis</td>\n",
              "    </tr>\n",
              "    <tr>\n",
              "      <th>15</th>\n",
              "      <td>Kasabian</td>\n",
              "    </tr>\n",
              "  </tbody>\n",
              "</table>\n",
              "</div>"
            ],
            "text/plain": [
              "                 item2vec_2\n",
              "0            U2 & Bob Dylan\n",
              "1          Blur & Offspring\n",
              "2       Queen & The Muppets\n",
              "3                 Aerosmith\n",
              "5   Red Hot Chili Peppers -\n",
              "7            Rolling Stones\n",
              "11                  Journey\n",
              "12                    Oasis\n",
              "15                 Kasabian"
            ]
          },
          "metadata": {
            "tags": []
          },
          "execution_count": 91
        }
      ]
    },
    {
      "cell_type": "markdown",
      "metadata": {
        "id": "uIague6ovI84",
        "colab_type": "text"
      },
      "source": [
        "Количество совпадений \"Топ 20 Авторов\" между item2vec(1) и item2vec(3) = 9."
      ]
    },
    {
      "cell_type": "code",
      "metadata": {
        "id": "T7kVDvHOrZo_",
        "colab_type": "code",
        "colab": {
          "base_uri": "https://localhost:8080/",
          "height": 328
        },
        "outputId": "47c2f413-9042-4d04-fb48-fc4e62af410e"
      },
      "source": [
        "pd.merge(pd.DataFrame(item2vec_1).transpose().rename(columns={0:'item2vec_1'}), pd.DataFrame(item2vec_3).transpose().rename(columns={0:'item2vec_3'}), how='left', left_on='item2vec_1', right_on='item2vec_3').drop(columns = ['item2vec_1']).dropna()"
      ],
      "execution_count": null,
      "outputs": [
        {
          "output_type": "execute_result",
          "data": {
            "text/html": [
              "<div>\n",
              "<style scoped>\n",
              "    .dataframe tbody tr th:only-of-type {\n",
              "        vertical-align: middle;\n",
              "    }\n",
              "\n",
              "    .dataframe tbody tr th {\n",
              "        vertical-align: top;\n",
              "    }\n",
              "\n",
              "    .dataframe thead th {\n",
              "        text-align: right;\n",
              "    }\n",
              "</style>\n",
              "<table border=\"1\" class=\"dataframe\">\n",
              "  <thead>\n",
              "    <tr style=\"text-align: right;\">\n",
              "      <th></th>\n",
              "      <th>item2vec_3</th>\n",
              "    </tr>\n",
              "  </thead>\n",
              "  <tbody>\n",
              "    <tr>\n",
              "      <th>0</th>\n",
              "      <td>U2 &amp; Bob Dylan</td>\n",
              "    </tr>\n",
              "    <tr>\n",
              "      <th>1</th>\n",
              "      <td>Blur &amp; Offspring</td>\n",
              "    </tr>\n",
              "    <tr>\n",
              "      <th>2</th>\n",
              "      <td>Queen &amp; The Muppets</td>\n",
              "    </tr>\n",
              "    <tr>\n",
              "      <th>3</th>\n",
              "      <td>Aerosmith</td>\n",
              "    </tr>\n",
              "    <tr>\n",
              "      <th>5</th>\n",
              "      <td>Red Hot Chili Peppers -</td>\n",
              "    </tr>\n",
              "    <tr>\n",
              "      <th>7</th>\n",
              "      <td>Rolling Stones</td>\n",
              "    </tr>\n",
              "    <tr>\n",
              "      <th>11</th>\n",
              "      <td>Journey</td>\n",
              "    </tr>\n",
              "    <tr>\n",
              "      <th>12</th>\n",
              "      <td>Oasis</td>\n",
              "    </tr>\n",
              "    <tr>\n",
              "      <th>15</th>\n",
              "      <td>Kasabian</td>\n",
              "    </tr>\n",
              "  </tbody>\n",
              "</table>\n",
              "</div>"
            ],
            "text/plain": [
              "                 item2vec_3\n",
              "0            U2 & Bob Dylan\n",
              "1          Blur & Offspring\n",
              "2       Queen & The Muppets\n",
              "3                 Aerosmith\n",
              "5   Red Hot Chili Peppers -\n",
              "7            Rolling Stones\n",
              "11                  Journey\n",
              "12                    Oasis\n",
              "15                 Kasabian"
            ]
          },
          "metadata": {
            "tags": []
          },
          "execution_count": 92
        }
      ]
    },
    {
      "cell_type": "markdown",
      "metadata": {
        "id": "K3rvg8ZnvO6W",
        "colab_type": "text"
      },
      "source": [
        "Количество совпадений \"Топ 20 Авторов\" между item2vec(2) и item2vec(3) = 13."
      ]
    },
    {
      "cell_type": "code",
      "metadata": {
        "id": "NNwL5pi0rk8m",
        "colab_type": "code",
        "colab": {
          "base_uri": "https://localhost:8080/",
          "height": 452
        },
        "outputId": "c29ba343-e477-4182-8d01-8b8c6a78a532"
      },
      "source": [
        "pd.merge(pd.DataFrame(item2vec_2).transpose().rename(columns={0:'item2vec_2'}), pd.DataFrame(item2vec_3).transpose().rename(columns={0:'item2vec_3'}), how='left', left_on='item2vec_2', right_on='item2vec_3').drop(columns = ['item2vec_2']).dropna()"
      ],
      "execution_count": null,
      "outputs": [
        {
          "output_type": "execute_result",
          "data": {
            "text/html": [
              "<div>\n",
              "<style scoped>\n",
              "    .dataframe tbody tr th:only-of-type {\n",
              "        vertical-align: middle;\n",
              "    }\n",
              "\n",
              "    .dataframe tbody tr th {\n",
              "        vertical-align: top;\n",
              "    }\n",
              "\n",
              "    .dataframe thead th {\n",
              "        text-align: right;\n",
              "    }\n",
              "</style>\n",
              "<table border=\"1\" class=\"dataframe\">\n",
              "  <thead>\n",
              "    <tr style=\"text-align: right;\">\n",
              "      <th></th>\n",
              "      <th>item2vec_3</th>\n",
              "    </tr>\n",
              "  </thead>\n",
              "  <tbody>\n",
              "    <tr>\n",
              "      <th>0</th>\n",
              "      <td>Oasis</td>\n",
              "    </tr>\n",
              "    <tr>\n",
              "      <th>1</th>\n",
              "      <td>Foo Figthers</td>\n",
              "    </tr>\n",
              "    <tr>\n",
              "      <th>2</th>\n",
              "      <td>Kasabian</td>\n",
              "    </tr>\n",
              "    <tr>\n",
              "      <th>3</th>\n",
              "      <td>Jet</td>\n",
              "    </tr>\n",
              "    <tr>\n",
              "      <th>4</th>\n",
              "      <td>Aerosmith</td>\n",
              "    </tr>\n",
              "    <tr>\n",
              "      <th>5</th>\n",
              "      <td>Journey</td>\n",
              "    </tr>\n",
              "    <tr>\n",
              "      <th>6</th>\n",
              "      <td>Red Hot Chili Peppers -</td>\n",
              "    </tr>\n",
              "    <tr>\n",
              "      <th>7</th>\n",
              "      <td>Queen &amp; The Muppets</td>\n",
              "    </tr>\n",
              "    <tr>\n",
              "      <th>8</th>\n",
              "      <td>Blur &amp; Offspring</td>\n",
              "    </tr>\n",
              "    <tr>\n",
              "      <th>9</th>\n",
              "      <td>U2 &amp; Bob Dylan</td>\n",
              "    </tr>\n",
              "    <tr>\n",
              "      <th>10</th>\n",
              "      <td>Creedence Clearwater Revival</td>\n",
              "    </tr>\n",
              "    <tr>\n",
              "      <th>13</th>\n",
              "      <td>Weezer &amp; Hayley Williams</td>\n",
              "    </tr>\n",
              "    <tr>\n",
              "      <th>14</th>\n",
              "      <td>Rolling Stones</td>\n",
              "    </tr>\n",
              "  </tbody>\n",
              "</table>\n",
              "</div>"
            ],
            "text/plain": [
              "                      item2vec_3\n",
              "0                          Oasis\n",
              "1                   Foo Figthers\n",
              "2                       Kasabian\n",
              "3                            Jet\n",
              "4                      Aerosmith\n",
              "5                        Journey\n",
              "6        Red Hot Chili Peppers -\n",
              "7            Queen & The Muppets\n",
              "8               Blur & Offspring\n",
              "9                 U2 & Bob Dylan\n",
              "10  Creedence Clearwater Revival\n",
              "13      Weezer & Hayley Williams\n",
              "14                Rolling Stones"
            ]
          },
          "metadata": {
            "tags": []
          },
          "execution_count": 93
        }
      ]
    },
    {
      "cell_type": "markdown",
      "metadata": {
        "id": "69OCPH3ov3Gu",
        "colab_type": "text"
      },
      "source": [
        "**Наибольшее колличество пересечений для многомерного запроса между item2vec(2) и item2vec(3).**"
      ]
    },
    {
      "cell_type": "markdown",
      "metadata": {
        "id": "Lgg-yTV1O6zV",
        "colab_type": "text"
      },
      "source": [
        "**Примечание:** Полученные векторные представления с помощью item2vec подхода получились с более расширенным функционалом, чем в KNN, т.к. есть возможность осуществления поиска не только по понравившимся для пользователя исполнителям, но также и по не понравившимся. \n",
        "\n",
        "Модель коллективной фильтрации учится на прошлом поведении, чтобы делать прогнозы. Зная, что кто-то уже слушал автора, модель предложит других авторов, которые подобны. Метод способен выводить отношения элемент-элемент, даже если информация о пользователе недоступна. Многие алгоритмы Collaborative Filtering (CF) основаны на элементах в том смысле, что они анализируют отношения элемент-элемент для получения сходства элементов. Skip -gram with Negative Sampling (SGNS), также известный как word2vec, предоставляет современные результаты по различным лингвистическим задачам, а метод item2vec, приведен в той же самой структуре, при том, что основан на предмете. Метод item2vec показывают, что он конкурентоспособен с SVD по прямоугольной матрице Пользователь - Артист.\n",
        "\n",
        "Для item2vec подход, основанный на датасете с рейтингом исполнителей >1, получился с большим precision, recall, f1 score, в особенности, у модели с размером внутреннего слоя size 300 и iter 10. Такой подход оказался целесообразнее. \n",
        "\n",
        "Вероятно, хорошим решением для базовой модели, могли бы стать алгоритмы SAGH и CAGH, а не более сложный метод к-ближайших соседей реализованных, в коде, т.к. в методе к-ближайших соседей есть проблема отделения исполнителей, которых еще никто не прослушал, для рекомендации (но по идеи, они и не должны быть рекомендованы, т.к. не известны).\n"
      ]
    }
  ]
}