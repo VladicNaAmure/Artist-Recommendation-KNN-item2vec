{
  "nbformat": 4,
  "nbformat_minor": 0,
  "metadata": {
    "colab": {
      "name": "Converter.ipynb",
      "provenance": [],
      "collapsed_sections": [],
      "toc_visible": true
    },
    "kernelspec": {
      "name": "python3",
      "display_name": "Python 3"
    }
  },
  "cells": [
    {
      "cell_type": "markdown",
      "metadata": {
        "id": "xliaVrmSBeBB",
        "colab_type": "text"
      },
      "source": [
        "# Настройка\n",
        "\n",
        "\n",
        "---\n",
        "\n",
        "**Содержание:**\n",
        "> Конвертация SESSIONS\n",
        "\n",
        ">> Логика выбора условий для SESSIONS\n",
        "\n",
        ">> Обработка столбцов и строк SESSIONS\n",
        "\n",
        "> Конвертация TRACKS\n",
        "\n",
        "> Конвертация PERSONS\n",
        "\n",
        "> Комбинация данных\n",
        "\n",
        ">> Создание связки (Пользователь - Название трека - Индекс трека - Автор)\n",
        "\n",
        ">> Датасет для обучения\n",
        "\n",
        ">> На случай, если понадобятся полные данные\n",
        "\n",
        "> Конвертация USERS\n",
        "\n",
        "\n",
        "\n",
        "---\n",
        "\n",
        "**Примечание:** \n",
        "\n",
        "Данные. 30Music Dataset.\n",
        "\n",
        "Часть 1. Подготовка данных. Конвертация idomaar. \n",
        "\n",
        "Часть 2. Recomdendation Artist. \n",
        "\n",
        "\n",
        "\n",
        "\n",
        "\n",
        "\n",
        "\n",
        "\n",
        "\n",
        "\n",
        "\n",
        "\n",
        "\n",
        "\n",
        "\n",
        "\n"
      ]
    },
    {
      "cell_type": "markdown",
      "metadata": {
        "id": "ppHYeF_vKhpp",
        "colab_type": "text"
      },
      "source": [
        "Подключаем библиотеки"
      ]
    },
    {
      "cell_type": "code",
      "metadata": {
        "id": "kIJyDGEEFcz1",
        "colab_type": "code",
        "colab": {}
      },
      "source": [
        "import os, sys, csv, json, ast\n",
        "import numpy as np\n",
        "import pandas as pd"
      ],
      "execution_count": null,
      "outputs": []
    },
    {
      "cell_type": "code",
      "metadata": {
        "id": "75RBNcxDKfQu",
        "colab_type": "code",
        "colab": {}
      },
      "source": [
        "import matplotlib.pyplot as plt"
      ],
      "execution_count": null,
      "outputs": []
    },
    {
      "cell_type": "code",
      "metadata": {
        "id": "Weg9_YtNdmTl",
        "colab_type": "code",
        "colab": {
          "base_uri": "https://localhost:8080/",
          "height": 139
        },
        "outputId": "6465443e-b8ce-4150-c383-d50d32c84788"
      },
      "source": [
        "#!wget -P /content/download/ https://polimi365-my.sharepoint.com/personal/10322330_polimi_it/_layouts/15/onedrive.aspx?id=%2Fpersonal%2F10322330%5Fpolimi%5Fit%2FDocuments%2FArchivio%20Lavoro%20Repo%20e%20Dati%2FData%20linked%20on%20website%20DEIB%2FThirtyMusic%2Etar%2Egz&parent=%2Fpersonal%2F10322330%5Fpolimi%5Fit%2FDocuments%2FArchivio%20Lavoro%20Repo%20e%20Dati%2FData%20linked%20on%20website%20DEIB&originalPath=aHR0cHM6Ly9wb2xpbWkzNjUtbXkuc2hhcmVwb2ludC5jb20vOnU6L2cvcGVyc29uYWwvMTAzMjIzMzBfcG9saW1pX2l0L0VmYnhfTEw5Q0pOSHExNjI1SnVIZTRVQlFuR2JSZzFGSGpMS1UxRWdtUmhYd0E_cnRpbWU9X1BoVG1GVU8yRWc #add link"
      ],
      "execution_count": null,
      "outputs": [
        {
          "output_type": "stream",
          "text": [
            "--2020-06-11 22:25:34--  https://polimi365-my.sharepoint.com/personal/10322330_polimi_it/_layouts/15/onedrive.aspx?id=%2Fpersonal%2F10322330%5Fpolimi%5Fit%2FDocuments%2FArchivio%20Lavoro%20Repo%20e%20Dati%2FData%20linked%20on%20website%20DEIB%2FThirtyMusic%2Etar%2Egz\n",
            "Resolving polimi365-my.sharepoint.com (polimi365-my.sharepoint.com)... 13.107.136.9\n",
            "Connecting to polimi365-my.sharepoint.com (polimi365-my.sharepoint.com)|13.107.136.9|:443... connected.\n",
            "HTTP request sent, awaiting response... 403 Forbidden\n",
            "2020-06-11 22:25:35 ERROR 403: Forbidden.\n",
            "\n"
          ],
          "name": "stdout"
        }
      ]
    },
    {
      "cell_type": "markdown",
      "metadata": {
        "id": "jFl5q9foOZap",
        "colab_type": "text"
      },
      "source": [
        "Датасет закачивался вручную, но есть идея сделать это кодом + распаковка и удаление исходников."
      ]
    },
    {
      "cell_type": "markdown",
      "metadata": {
        "id": "33n7D1k8L8OX",
        "colab_type": "text"
      },
      "source": [
        "Отсутствуют некоторые значения в изначальном наборе данных."
      ]
    },
    {
      "cell_type": "code",
      "metadata": {
        "id": "5yOTTfrFcRha",
        "colab_type": "code",
        "colab": {}
      },
      "source": [
        "def _column_names(j, columns):\n",
        "    for i in columns:\n",
        "        j[i] = 0"
      ],
      "execution_count": null,
      "outputs": []
    },
    {
      "cell_type": "markdown",
      "metadata": {
        "id": "STWuaqJL_38_",
        "colab_type": "text"
      },
      "source": [
        "# Конвертация SESSIONS"
      ]
    },
    {
      "cell_type": "markdown",
      "metadata": {
        "id": "QYD5LirWtWA-",
        "colab_type": "text"
      },
      "source": [
        "Вот такая информация в данных: \n",
        "\n",
        "`event.session\t287145\t1390241844\t{\"numtracks\":11,\"playtime\":2907} {\"subjects\":[{\"type\":\"user\",\"id\":44361}],\"objects\":[{\"type\":\"track\",\"id\":455834,\"playstart\":0,\"playtime\":239,\"playratio\":1.01,\"action\":\"play\"}`\n",
        "\n",
        "\n",
        "**Playstart откинем, так как для анализа этот параметр не важен. Также для анализа не важен параметр playratio, но перед тем как его откинуть, рассчитаем среднее значение, чтобы убрать не популярные композиции в наборе данных**\n"
      ]
    },
    {
      "cell_type": "markdown",
      "metadata": {
        "id": "7X8ZmmVUmdcR",
        "colab_type": "text"
      },
      "source": [
        "Оценим значения треков, чтобы отклонить не нужное для рекомендации. Коэффициент вопроизведения указывает на популярность трека. Если он слишком низок, то музыка редко прослушивается. Если остуствует, тогда мы не можим судить об этом. Время прослушивания. И действие, как пропуск - значенит музыка не заинтересовала пользователя. Неизвестное действие, не говорит о качестве музыки, его мы оставим. (временно)\n"
      ]
    },
    {
      "cell_type": "markdown",
      "metadata": {
        "id": "Elj1IqES3UdB",
        "colab_type": "text"
      },
      "source": [
        "Чтобы отбросить не популярные данные для рекомендательного алгоритма, воспользуемся значением медианы, потому что:  \n",
        "\n",
        "\"*Предположим, что в одной комнате оказалось 19 бедняков и один миллионер. У каждого бедняка есть 5 ₽, а у миллионера — 1 млн ₽ (106). В сумме получается 1 000 095 ₽. Если мы разделим деньги равными долями на 20 человек, то получим 50 004,75 ₽. Это будет среднее арифметическое значение суммы денег, которая была у всех 20 человек в этой комнате.*\n",
        "\n",
        "*Медиана в этом случае будет равна 5 ₽ (полусумма десятого и одиннадцатого, срединных значений ранжированного ряда). Можно интерпретировать это следующим образом. Разделив всю компанию на две равные группы по 10 человек, мы можем утверждать, что в первой группе у каждого не больше 5 ₽, во второй же — не меньше 5 ₽. В общем случае можно сказать, что медиана — это то, сколько принёс с собой «средний» человек. Наоборот, среднее арифметическое — неподходящая характеристика, так как оно значительно превышает сумму наличных, имеющуюся у среднего человека.\"*"
      ]
    },
    {
      "cell_type": "markdown",
      "metadata": {
        "id": "Yx3PNXoq4Ua7",
        "colab_type": "text"
      },
      "source": [
        "Предварительный анализ показал, что значения Play_Ratio ниже 1 нас не интересуют, т.к значение воспроизведений в этом случае меньше 1 воспроизведения, при этом оставим неизвестные значения."
      ]
    },
    {
      "cell_type": "code",
      "metadata": {
        "id": "R5sK-5ir9ZYS",
        "colab_type": "code",
        "colab": {
          "base_uri": "https://localhost:8080/",
          "height": 68
        },
        "outputId": "08757477-0382-4aa4-fef5-72676614caac"
      },
      "source": [
        "!unzip /content/sessions.idomaar.zip"
      ],
      "execution_count": null,
      "outputs": [
        {
          "output_type": "stream",
          "text": [
            "Archive:  /content/sessions.idomaar.zip\n",
            "  inflating: sessions.idomaar        \n",
            "  inflating: __MACOSX/._sessions.idomaar  \n"
          ],
          "name": "stdout"
        }
      ]
    },
    {
      "cell_type": "code",
      "metadata": {
        "id": "fBdak3kP7e-x",
        "colab_type": "code",
        "colab": {}
      },
      "source": [
        "#Перезаписываем файл во избежания ошибок\n",
        "sessions = pd.read_csv('/content/sessions.idomaar', sep='\t', header=None)"
      ],
      "execution_count": null,
      "outputs": []
    },
    {
      "cell_type": "code",
      "metadata": {
        "id": "JPYT6URP7iUJ",
        "colab_type": "code",
        "colab": {}
      },
      "source": [
        "#Название столбцов\n",
        "ses_col_names = ['Num_Tracks','Play_Time', 'User_ID','Action', 'Play_Ratio','Track_Play_Time', 'Track_Recommend','Track_Non_Recommend']\n",
        "_column_names(sessions, ses_col_names)"
      ],
      "execution_count": null,
      "outputs": []
    },
    {
      "cell_type": "code",
      "metadata": {
        "id": "LMXrRhhL6YoW",
        "colab_type": "code",
        "colab": {}
      },
      "source": [
        "#Без учета данных от playratio\n",
        "#data_sessions = []\n",
        "#for i in sessions[3]:\n",
        "  #i = i.split(' ')\n",
        "  #data_sessions_byte = []\n",
        "  #track_id = []\n",
        "  #bad_track_id = []\n",
        "  #data_sessions_byte.append(ast.literal_eval(i[0])['numtracks'])\n",
        "  #data_sessions_byte.append(ast.literal_eval(i[0])['playtime'])\n",
        "  #data_sessions_byte.append(json.loads(i[1])['subjects'][0]['id'])\n",
        "  #data_sessions_byte.append(json.loads(i[1])['objects'][0]['action'])\n",
        "  #data_sessions_byte.append(json.loads(i[1])['objects'][0]['playratio'])\n",
        "  #data_sessions_byte.append(json.loads(i[1])['objects'][0]['playtime'])\n",
        "  #for track in json.loads(i[1])['objects']:\n",
        "    #if track['action'] == 'skip' or track['playtime'] < 87.0 or track['playtime'] > 363.0:\n",
        "      #bad_track_id.append(track['id']) #non range for playtime track and skip is not recommended expirence for user, none is not bad expirence. \n",
        "    #elif track['playtime'] >= 87.0 and track['playtime'] <= 363.0:\n",
        "      #track_id.append(track['id']) #good expirence to recommend\n",
        "    #elif track['action'] is None:\n",
        "      #track_id.append(track_id.pop())\n",
        "  #data_sessions_byte.append(track_id) \n",
        "  #data_sessions_byte.append(bad_track_id)\n",
        "  #data_sessions.append(data_sessions_byte)\n",
        "\n",
        "#С учетом данных от playratio, разделитель 1, потому что это медиана playratio в общем числе данных\n",
        "data_sessions = []\n",
        "for i in sessions[3]:\n",
        "  i = i.split(' ')\n",
        "  data_sessions_byte = []\n",
        "  track_id = []\n",
        "  bad_track_id = []\n",
        "  data_sessions_byte.append(ast.literal_eval(i[0])['numtracks'])\n",
        "  data_sessions_byte.append(ast.literal_eval(i[0])['playtime'])\n",
        "  data_sessions_byte.append(json.loads(i[1])['subjects'][0]['id'])\n",
        "  data_sessions_byte.append(json.loads(i[1])['objects'][0]['action'])\n",
        "  data_sessions_byte.append(json.loads(i[1])['objects'][0]['playratio'])\n",
        "  data_sessions_byte.append(json.loads(i[1])['objects'][0]['playtime'])\n",
        "  for track in json.loads(i[1])['objects']:\n",
        "    if track['playratio'] is not None:\n",
        "      if track['action'] == 'skip' or track['playtime'] < 87.0 or track['playtime'] > 363.0 or track['playratio'] < 1.0:\n",
        "        bad_track_id.append(track['id']) #non range for playtime track and skip is not recommended expirence for user, none is not bad expirence. play ratio < 1.0 is bad expirence\n",
        "      elif track['playtime'] >= 87.0 and track['playtime'] <= 363.0 and track['playratio'] >= 1.0:\n",
        "        track_id.append(track['id']) #good expirence to recommend\n",
        "      elif track['action'] is None:\n",
        "        track_id.append(track_id.pop())\n",
        "    elif track['playratio'] is None:\n",
        "      if track['action'] == 'skip' or track['playtime'] < 87.0 or track['playtime'] > 363.0:\n",
        "        bad_track_id.append(track['id']) #non range for playtime track and skip is not recommended expirence for user, none is not bad expirence. play ratio < 1.0 is bad expirence\n",
        "      elif track['playtime'] >= 87.0 and track['playtime'] <= 363.0:\n",
        "        track_id.append(track['id']) #good expirence to recommend\n",
        "      elif track['action'] is None:\n",
        "        track_id.append(track_id.pop())\n",
        "  data_sessions_byte.append(track_id) \n",
        "  data_sessions_byte.append(bad_track_id)\n",
        "  data_sessions.append(data_sessions_byte)"
      ],
      "execution_count": null,
      "outputs": []
    },
    {
      "cell_type": "code",
      "metadata": {
        "id": "gcKWjilB7o6r",
        "colab_type": "code",
        "colab": {}
      },
      "source": [
        "sessions[ses_col_names] = data_sessions"
      ],
      "execution_count": null,
      "outputs": []
    },
    {
      "cell_type": "markdown",
      "metadata": {
        "id": "7iDKPgVYnYp2",
        "colab_type": "text"
      },
      "source": [
        "Логика диапазона (87, 363). Посчитали плотность распределения вероятностей и среднеквадратичную дисперсию. Выделили из этого необходимый диапазон, и по нему разбили данные для рекомендованных. Установим верхний диапазон, чтобы отсеять редкие результаты. "
      ]
    },
    {
      "cell_type": "markdown",
      "metadata": {
        "id": "VGRYhI8AAAdF",
        "colab_type": "text"
      },
      "source": [
        "## Логика выбора условий для SESSIONS"
      ]
    },
    {
      "cell_type": "markdown",
      "metadata": {
        "id": "16UsJOq7nAbV",
        "colab_type": "text"
      },
      "source": [
        "![alt text](https://upload.wikimedia.org/wikipedia/commons/thumb/3/37/Standard_deviation_diagram_%28decimal_comma%29.svg/325px-Standard_deviation_diagram_%28decimal_comma%29.svg.png)"
      ]
    },
    {
      "cell_type": "markdown",
      "metadata": {
        "id": "h7Lo_oNAJ_iM",
        "colab_type": "text"
      },
      "source": [
        "Наблюдение `sessions[sessions[\"Play_Time\"] < 0]`, если сессия имеет игровое время < 0, тогда многие данные содержат NaN,а время игры трека -1 эти данные нужно отбросить.\n",
        "\n",
        "\n"
      ]
    },
    {
      "cell_type": "code",
      "metadata": {
        "id": "iWJRb3PW31tz",
        "colab_type": "code",
        "colab": {}
      },
      "source": [
        "#Ход действий получения диапазона."
      ],
      "execution_count": null,
      "outputs": []
    },
    {
      "cell_type": "code",
      "metadata": {
        "id": "qmtHtoM3ntQ4",
        "colab_type": "code",
        "colab": {}
      },
      "source": [
        "#Отфильтруем данные\n",
        "calculation = sessions.loc[sessions['Track_Play_Time'] > 0]"
      ],
      "execution_count": null,
      "outputs": []
    },
    {
      "cell_type": "code",
      "metadata": {
        "id": "mCaG3fDnn9Sa",
        "colab_type": "code",
        "colab": {
          "base_uri": "https://localhost:8080/",
          "height": 360
        },
        "outputId": "c1b11c1b-3773-49a5-e984-6bfdc95429c1"
      },
      "source": [
        "calculation.head()"
      ],
      "execution_count": null,
      "outputs": [
        {
          "output_type": "execute_result",
          "data": {
            "text/html": [
              "<div>\n",
              "<style scoped>\n",
              "    .dataframe tbody tr th:only-of-type {\n",
              "        vertical-align: middle;\n",
              "    }\n",
              "\n",
              "    .dataframe tbody tr th {\n",
              "        vertical-align: top;\n",
              "    }\n",
              "\n",
              "    .dataframe thead th {\n",
              "        text-align: right;\n",
              "    }\n",
              "</style>\n",
              "<table border=\"1\" class=\"dataframe\">\n",
              "  <thead>\n",
              "    <tr style=\"text-align: right;\">\n",
              "      <th></th>\n",
              "      <th>0</th>\n",
              "      <th>1</th>\n",
              "      <th>2</th>\n",
              "      <th>3</th>\n",
              "      <th>Num_Tracks</th>\n",
              "      <th>Play_Time</th>\n",
              "      <th>User_ID</th>\n",
              "      <th>Action</th>\n",
              "      <th>Play_Ratio</th>\n",
              "      <th>Track_Play_Time</th>\n",
              "      <th>Track_Recommend</th>\n",
              "      <th>Track_Non_Recommend</th>\n",
              "    </tr>\n",
              "  </thead>\n",
              "  <tbody>\n",
              "    <tr>\n",
              "      <th>0</th>\n",
              "      <td>event.session</td>\n",
              "      <td>287144</td>\n",
              "      <td>1390231051</td>\n",
              "      <td>{\"numtracks\":23,\"playtime\":4547} {\"subjects\":[...</td>\n",
              "      <td>23</td>\n",
              "      <td>4547</td>\n",
              "      <td>44361</td>\n",
              "      <td>play</td>\n",
              "      <td>NaN</td>\n",
              "      <td>58</td>\n",
              "      <td>[838286, 2746740, 3873988, 1778345, 4698875, 2...</td>\n",
              "      <td>[4698874, 2588097, 808046, 2588498, 2492893, 2...</td>\n",
              "    </tr>\n",
              "    <tr>\n",
              "      <th>1</th>\n",
              "      <td>event.session</td>\n",
              "      <td>287145</td>\n",
              "      <td>1390241844</td>\n",
              "      <td>{\"numtracks\":11,\"playtime\":2907} {\"subjects\":[...</td>\n",
              "      <td>11</td>\n",
              "      <td>2907</td>\n",
              "      <td>44361</td>\n",
              "      <td>play</td>\n",
              "      <td>1.01</td>\n",
              "      <td>239</td>\n",
              "      <td>[2460503, 1999451, 4698882, 2503246]</td>\n",
              "      <td>[455834, 3257000, 2765459, 1311408, 3439451, 3...</td>\n",
              "    </tr>\n",
              "    <tr>\n",
              "      <th>2</th>\n",
              "      <td>event.session</td>\n",
              "      <td>287146</td>\n",
              "      <td>1390303249</td>\n",
              "      <td>{\"numtracks\":16,\"playtime\":3191} {\"subjects\":[...</td>\n",
              "      <td>16</td>\n",
              "      <td>3191</td>\n",
              "      <td>44361</td>\n",
              "      <td>play</td>\n",
              "      <td>NaN</td>\n",
              "      <td>198</td>\n",
              "      <td>[118991, 1083663, 1316202, 1083664]</td>\n",
              "      <td>[4698883, 1299602, 1907900, 1646559, 3776691, ...</td>\n",
              "    </tr>\n",
              "    <tr>\n",
              "      <th>3</th>\n",
              "      <td>event.session</td>\n",
              "      <td>287147</td>\n",
              "      <td>1390481828</td>\n",
              "      <td>{\"numtracks\":5,\"playtime\":1162} {\"subjects\":[{...</td>\n",
              "      <td>5</td>\n",
              "      <td>1162</td>\n",
              "      <td>44361</td>\n",
              "      <td>play</td>\n",
              "      <td>1.00</td>\n",
              "      <td>648</td>\n",
              "      <td>[2503252]</td>\n",
              "      <td>[1329082, 1066876, 4678485, 1876964]</td>\n",
              "    </tr>\n",
              "    <tr>\n",
              "      <th>4</th>\n",
              "      <td>event.session</td>\n",
              "      <td>287140</td>\n",
              "      <td>1421443687</td>\n",
              "      <td>{\"numtracks\":2,\"playtime\":250} {\"subjects\":[{\"...</td>\n",
              "      <td>2</td>\n",
              "      <td>250</td>\n",
              "      <td>42773</td>\n",
              "      <td>play</td>\n",
              "      <td>0.98</td>\n",
              "      <td>251</td>\n",
              "      <td>[3770848]</td>\n",
              "      <td>[375509]</td>\n",
              "    </tr>\n",
              "  </tbody>\n",
              "</table>\n",
              "</div>"
            ],
            "text/plain": [
              "               0  ...                                Track_Non_Recommend\n",
              "0  event.session  ...  [4698874, 2588097, 808046, 2588498, 2492893, 2...\n",
              "1  event.session  ...  [455834, 3257000, 2765459, 1311408, 3439451, 3...\n",
              "2  event.session  ...  [4698883, 1299602, 1907900, 1646559, 3776691, ...\n",
              "3  event.session  ...               [1329082, 1066876, 4678485, 1876964]\n",
              "4  event.session  ...                                           [375509]\n",
              "\n",
              "[5 rows x 12 columns]"
            ]
          },
          "metadata": {
            "tags": []
          },
          "execution_count": 20
        }
      ]
    },
    {
      "cell_type": "code",
      "metadata": {
        "id": "8kVlb60ybGrD",
        "colab_type": "code",
        "colab": {
          "base_uri": "https://localhost:8080/",
          "height": 265
        },
        "outputId": "02b84c07-89aa-4cc7-f255-45ab94fbc597"
      },
      "source": [
        "#Нормальное распределение вероятностей. Возьмем максимальное значение плотности +- среднеквадратичного отклонения\n",
        "ax = calculation['Track_Play_Time'].plot.kde()"
      ],
      "execution_count": null,
      "outputs": [
        {
          "output_type": "display_data",
          "data": {
            "image/png": "[encoded data removed]",
            "text/plain": [
              "<Figure size 432x288 with 1 Axes>"
            ]
          },
          "metadata": {
            "tags": [],
            "needs_background": "light"
          }
        }
      ]
    },
    {
      "cell_type": "code",
      "metadata": {
        "id": "p7UpD3r_qpRn",
        "colab_type": "code",
        "colab": {
          "base_uri": "https://localhost:8080/",
          "height": 34
        },
        "outputId": "9cb556e0-e132-454c-f52a-3768fc85aad4"
      },
      "source": [
        "ax.axis('scaled') #У нас есть четыре значения, это начало и конец диапазона, а также самая высокая и низкая точка"
      ],
      "execution_count": null,
      "outputs": [
        {
          "output_type": "execute_result",
          "data": {
            "text/plain": [
              "(-477.8, 1277.8, -0.00025080146374067307, 0.005266830738554134)"
            ]
          },
          "metadata": {
            "tags": []
          },
          "execution_count": 50
        }
      ]
    },
    {
      "cell_type": "code",
      "metadata": {
        "id": "KuqIeTGHsVQc",
        "colab_type": "code",
        "colab": {}
      },
      "source": [
        "l = ax.get_children()[0].get_path()\n",
        "l = l.vertices"
      ],
      "execution_count": null,
      "outputs": []
    },
    {
      "cell_type": "code",
      "metadata": {
        "id": "cQCg3X1lsVYX",
        "colab_type": "code",
        "colab": {}
      },
      "source": [
        "dfObj = pd.DataFrame(l)"
      ],
      "execution_count": null,
      "outputs": []
    },
    {
      "cell_type": "code",
      "metadata": {
        "id": "47MAP8VyxiCS",
        "colab_type": "code",
        "colab": {
          "base_uri": "https://localhost:8080/",
          "height": 266
        },
        "outputId": "bc097569-517b-4ed2-d582-d4c253b33d87"
      },
      "source": [
        "dfObj.loc[dfObj[1] > 0.005] #225 середина данных +- 138 - это наш диапазон для медианы времени прослушивания"
      ],
      "execution_count": null,
      "outputs": [
        {
          "output_type": "execute_result",
          "data": {
            "text/html": [
              "<div>\n",
              "<style scoped>\n",
              "    .dataframe tbody tr th:only-of-type {\n",
              "        vertical-align: middle;\n",
              "    }\n",
              "\n",
              "    .dataframe tbody tr th {\n",
              "        vertical-align: top;\n",
              "    }\n",
              "\n",
              "    .dataframe thead th {\n",
              "        text-align: right;\n",
              "    }\n",
              "</style>\n",
              "<table border=\"1\" class=\"dataframe\">\n",
              "  <thead>\n",
              "    <tr style=\"text-align: right;\">\n",
              "      <th></th>\n",
              "      <th>0</th>\n",
              "      <th>1</th>\n",
              "    </tr>\n",
              "  </thead>\n",
              "  <tbody>\n",
              "    <tr>\n",
              "      <th>387</th>\n",
              "      <td>220.270270</td>\n",
              "      <td>0.005002</td>\n",
              "    </tr>\n",
              "    <tr>\n",
              "      <th>388</th>\n",
              "      <td>221.867868</td>\n",
              "      <td>0.005011</td>\n",
              "    </tr>\n",
              "    <tr>\n",
              "      <th>389</th>\n",
              "      <td>223.465465</td>\n",
              "      <td>0.005015</td>\n",
              "    </tr>\n",
              "    <tr>\n",
              "      <th>390</th>\n",
              "      <td>225.063063</td>\n",
              "      <td>0.005016</td>\n",
              "    </tr>\n",
              "    <tr>\n",
              "      <th>391</th>\n",
              "      <td>226.660661</td>\n",
              "      <td>0.005014</td>\n",
              "    </tr>\n",
              "    <tr>\n",
              "      <th>392</th>\n",
              "      <td>228.258258</td>\n",
              "      <td>0.005009</td>\n",
              "    </tr>\n",
              "    <tr>\n",
              "      <th>393</th>\n",
              "      <td>229.855856</td>\n",
              "      <td>0.005001</td>\n",
              "    </tr>\n",
              "  </tbody>\n",
              "</table>\n",
              "</div>"
            ],
            "text/plain": [
              "              0         1\n",
              "387  220.270270  0.005002\n",
              "388  221.867868  0.005011\n",
              "389  223.465465  0.005015\n",
              "390  225.063063  0.005016\n",
              "391  226.660661  0.005014\n",
              "392  228.258258  0.005009\n",
              "393  229.855856  0.005001"
            ]
          },
          "metadata": {
            "tags": []
          },
          "execution_count": 76
        }
      ]
    },
    {
      "cell_type": "code",
      "metadata": {
        "id": "zEwSG94tyNG7",
        "colab_type": "code",
        "colab": {}
      },
      "source": [
        "calculation = sessions.loc[sessions['Track_Play_Time'] > 87]\n",
        "calculation = calculation.loc[sessions['Track_Play_Time'] < 363]"
      ],
      "execution_count": null,
      "outputs": []
    },
    {
      "cell_type": "code",
      "metadata": {
        "id": "0Dv9RZ7pmRj1",
        "colab_type": "code",
        "colab": {
          "base_uri": "https://localhost:8080/",
          "height": 153
        },
        "outputId": "ddc92581-d5f1-43fa-ecc7-8643b8e5d410"
      },
      "source": [
        "print(calculation.median()) #233"
      ],
      "execution_count": null,
      "outputs": [
        {
          "output_type": "stream",
          "text": [
            "1                  1.382030e+06\n",
            "2                  1.409541e+09\n",
            "Num_Tracks         8.000000e+00\n",
            "Play_Time          1.760000e+03\n",
            "User_ID            2.430800e+04\n",
            "Play_Ratio         1.000000e+00\n",
            "Track_Play_Time    2.330000e+02\n",
            "dtype: float64\n"
          ],
          "name": "stdout"
        }
      ]
    },
    {
      "cell_type": "code",
      "metadata": {
        "id": "YVaI48s-SCR5",
        "colab_type": "code",
        "colab": {}
      },
      "source": [
        "#Очистим память\n",
        "del calculation, dfObj, l, ax"
      ],
      "execution_count": null,
      "outputs": []
    },
    {
      "cell_type": "markdown",
      "metadata": {
        "id": "2ydzNuP0AU3d",
        "colab_type": "text"
      },
      "source": [
        "## Обработка столбцов и строк SESSIONS"
      ]
    },
    {
      "cell_type": "code",
      "metadata": {
        "id": "cgfiqdse6LBN",
        "colab_type": "code",
        "colab": {
          "base_uri": "https://localhost:8080/",
          "height": 360
        },
        "outputId": "5e883cac-86fa-4bc8-da01-a784585e8c60"
      },
      "source": [
        "sessions.head()"
      ],
      "execution_count": null,
      "outputs": [
        {
          "output_type": "execute_result",
          "data": {
            "text/html": [
              "<div>\n",
              "<style scoped>\n",
              "    .dataframe tbody tr th:only-of-type {\n",
              "        vertical-align: middle;\n",
              "    }\n",
              "\n",
              "    .dataframe tbody tr th {\n",
              "        vertical-align: top;\n",
              "    }\n",
              "\n",
              "    .dataframe thead th {\n",
              "        text-align: right;\n",
              "    }\n",
              "</style>\n",
              "<table border=\"1\" class=\"dataframe\">\n",
              "  <thead>\n",
              "    <tr style=\"text-align: right;\">\n",
              "      <th></th>\n",
              "      <th>0</th>\n",
              "      <th>1</th>\n",
              "      <th>2</th>\n",
              "      <th>3</th>\n",
              "      <th>Num_Tracks</th>\n",
              "      <th>Play_Time</th>\n",
              "      <th>User_ID</th>\n",
              "      <th>Action</th>\n",
              "      <th>Play_Ratio</th>\n",
              "      <th>Track_Play_Time</th>\n",
              "      <th>Track_Recommend</th>\n",
              "      <th>Track_Non_Recommend</th>\n",
              "    </tr>\n",
              "  </thead>\n",
              "  <tbody>\n",
              "    <tr>\n",
              "      <th>0</th>\n",
              "      <td>event.session</td>\n",
              "      <td>287144</td>\n",
              "      <td>1390231051</td>\n",
              "      <td>{\"numtracks\":23,\"playtime\":4547} {\"subjects\":[...</td>\n",
              "      <td>23</td>\n",
              "      <td>4547</td>\n",
              "      <td>44361</td>\n",
              "      <td>play</td>\n",
              "      <td>NaN</td>\n",
              "      <td>58</td>\n",
              "      <td>[838286, 2588097, 2746740, 3873988, 808046, 25...</td>\n",
              "      <td>[4698874, 1778345, 4698881]</td>\n",
              "    </tr>\n",
              "    <tr>\n",
              "      <th>1</th>\n",
              "      <td>event.session</td>\n",
              "      <td>287145</td>\n",
              "      <td>1390241844</td>\n",
              "      <td>{\"numtracks\":11,\"playtime\":2907} {\"subjects\":[...</td>\n",
              "      <td>11</td>\n",
              "      <td>2907</td>\n",
              "      <td>44361</td>\n",
              "      <td>play</td>\n",
              "      <td>1.01</td>\n",
              "      <td>239</td>\n",
              "      <td>[455834, 1999451, 3257000, 2765459, 1311408, 3...</td>\n",
              "      <td>[2460503, 4698882, 2503246, 249947]</td>\n",
              "    </tr>\n",
              "    <tr>\n",
              "      <th>2</th>\n",
              "      <td>event.session</td>\n",
              "      <td>287146</td>\n",
              "      <td>1390303249</td>\n",
              "      <td>{\"numtracks\":16,\"playtime\":3191} {\"subjects\":[...</td>\n",
              "      <td>16</td>\n",
              "      <td>3191</td>\n",
              "      <td>44361</td>\n",
              "      <td>play</td>\n",
              "      <td>NaN</td>\n",
              "      <td>198</td>\n",
              "      <td>[4698883, 1299602, 1907900, 1646559, 118991, 1...</td>\n",
              "      <td>[1316202, 888696, 1083664, 2897013]</td>\n",
              "    </tr>\n",
              "    <tr>\n",
              "      <th>3</th>\n",
              "      <td>event.session</td>\n",
              "      <td>287147</td>\n",
              "      <td>1390481828</td>\n",
              "      <td>{\"numtracks\":5,\"playtime\":1162} {\"subjects\":[{...</td>\n",
              "      <td>5</td>\n",
              "      <td>1162</td>\n",
              "      <td>44361</td>\n",
              "      <td>play</td>\n",
              "      <td>1.00</td>\n",
              "      <td>648</td>\n",
              "      <td>[1329082, 1066876, 4678485]</td>\n",
              "      <td>[2503252, 1876964]</td>\n",
              "    </tr>\n",
              "    <tr>\n",
              "      <th>4</th>\n",
              "      <td>event.session</td>\n",
              "      <td>287140</td>\n",
              "      <td>1421443687</td>\n",
              "      <td>{\"numtracks\":2,\"playtime\":250} {\"subjects\":[{\"...</td>\n",
              "      <td>2</td>\n",
              "      <td>250</td>\n",
              "      <td>42773</td>\n",
              "      <td>play</td>\n",
              "      <td>0.98</td>\n",
              "      <td>251</td>\n",
              "      <td>[3770848]</td>\n",
              "      <td>[375509]</td>\n",
              "    </tr>\n",
              "  </tbody>\n",
              "</table>\n",
              "</div>"
            ],
            "text/plain": [
              "               0  ...                  Track_Non_Recommend\n",
              "0  event.session  ...          [4698874, 1778345, 4698881]\n",
              "1  event.session  ...  [2460503, 4698882, 2503246, 249947]\n",
              "2  event.session  ...  [1316202, 888696, 1083664, 2897013]\n",
              "3  event.session  ...                   [2503252, 1876964]\n",
              "4  event.session  ...                             [375509]\n",
              "\n",
              "[5 rows x 12 columns]"
            ]
          },
          "metadata": {
            "tags": []
          },
          "execution_count": 10
        }
      ]
    },
    {
      "cell_type": "markdown",
      "metadata": {
        "id": "AZKps40z9ddC",
        "colab_type": "text"
      },
      "source": [
        "Удалим не нужные столбцы и строки"
      ]
    },
    {
      "cell_type": "code",
      "metadata": {
        "id": "MCiYxyv5EeLC",
        "colab_type": "code",
        "colab": {}
      },
      "source": [
        "#Сессии в которых не прослушали ни одну песню \n",
        "sessions = sessions[sessions['Play_Time'] > 0]\n",
        "#Колличество прослушанных треков на этом этапе не фильтруем"
      ],
      "execution_count": null,
      "outputs": []
    },
    {
      "cell_type": "code",
      "metadata": {
        "id": "TaUbtNmu7VCE",
        "colab_type": "code",
        "colab": {}
      },
      "source": [
        "sessions = sessions[[1,2,'Num_Tracks','Play_Time', 'User_ID', 'Track_Recommend','Track_Non_Recommend']]"
      ],
      "execution_count": null,
      "outputs": []
    },
    {
      "cell_type": "markdown",
      "metadata": {
        "id": "gvVRlMwX9yJL",
        "colab_type": "text"
      },
      "source": [
        "Переименуем столбцы, когда получим все данные"
      ]
    },
    {
      "cell_type": "code",
      "metadata": {
        "id": "MsVVgUxH8Qgb",
        "colab_type": "code",
        "colab": {}
      },
      "source": [
        "sessions.to_csv('sessions.csv', index = False)"
      ],
      "execution_count": null,
      "outputs": []
    },
    {
      "cell_type": "code",
      "metadata": {
        "id": "zvto_AXiJUh4",
        "colab_type": "code",
        "colab": {}
      },
      "source": [
        "#Очистим память\n",
        "del sessions"
      ],
      "execution_count": null,
      "outputs": []
    },
    {
      "cell_type": "markdown",
      "metadata": {
        "id": "Vq6bJrOvAm0G",
        "colab_type": "text"
      },
      "source": [
        "# Конвертация TRACKS"
      ]
    },
    {
      "cell_type": "markdown",
      "metadata": {
        "id": "44fuhP8WcoJ4",
        "colab_type": "text"
      },
      "source": [
        "Вот такая информация в данных: \n",
        "\n",
        "`track\t0\t-1\t{\"duration\":-1,\"playcount\":4,\"MBID\":null,\"name\":\"000003+Music+Instructor/_/Dj%27s+Rock+Da+House+%C3%82%E2%89%88%C3%86%E2%89%88%C3%8A01+-+Dj+Max-Pulemet+Vs.+Bomfunk+Mc%27s+-+Electro+Breakdance+party+1+%5B2000%5D+=+CD+ONE%C3%82%E2%89%88%C3%86%E2%89%88%C3%8A\"}\t{\"artists\":[{\"type\":\"person\",\"id\":0}],\"albums\":[],\"tags\":[]}`\n",
        "\n",
        "\n",
        "**tags, albums откинем, так как для анализа этот параметр не содержит важных данных.**"
      ]
    },
    {
      "cell_type": "code",
      "metadata": {
        "id": "197kVqc4ej3y",
        "colab_type": "code",
        "colab": {
          "base_uri": "https://localhost:8080/",
          "height": 68
        },
        "outputId": "524bb6f0-f81e-43cd-ca58-bde4330f403b"
      },
      "source": [
        "!unzip /content/tracks.idomaar.zip"
      ],
      "execution_count": null,
      "outputs": [
        {
          "output_type": "stream",
          "text": [
            "Archive:  /content/tracks.idomaar.zip\n",
            "  inflating: tracks.idomaar          \n",
            "  inflating: __MACOSX/._tracks.idomaar  \n"
          ],
          "name": "stdout"
        }
      ]
    },
    {
      "cell_type": "code",
      "metadata": {
        "id": "39dNKYAjenGV",
        "colab_type": "code",
        "colab": {}
      },
      "source": [
        "#Перезаписываем файл\n",
        "tracks = pd.read_csv('/content/tracks.idomaar', sep='\t', header=None)[[1,3,4]] #1, 3, 4 столбец (исключили 2 столбец)"
      ],
      "execution_count": null,
      "outputs": []
    },
    {
      "cell_type": "markdown",
      "metadata": {
        "id": "o1PFib89xl30",
        "colab_type": "text"
      },
      "source": [
        "Очистим столбец с именами треков и назовем его"
      ]
    },
    {
      "cell_type": "code",
      "metadata": {
        "id": "Kc0yYXm_qGS2",
        "colab_type": "code",
        "colab": {}
      },
      "source": [
        "Track_Name = tracks[3].str.split(':', 8, expand=True)[4].str.split('\"', 8, expand=True).drop([0,2], axis = 1).rename(columns={1:\"Track_Name\"})"
      ],
      "execution_count": null,
      "outputs": []
    },
    {
      "cell_type": "markdown",
      "metadata": {
        "id": "pe2SYoXqx6xd",
        "colab_type": "text"
      },
      "source": [
        "Очистим столбец с продолжительностью трека и назовем его"
      ]
    },
    {
      "cell_type": "code",
      "metadata": {
        "id": "cXx064sTqI5z",
        "colab_type": "code",
        "colab": {}
      },
      "source": [
        "Duration = tracks[3].str.split(':', 8, expand=True)[1].str.split(',', 2, expand=True).drop([1], axis = 1).rename(columns={0:\"Duration\"})"
      ],
      "execution_count": null,
      "outputs": []
    },
    {
      "cell_type": "markdown",
      "metadata": {
        "id": "O2Yozl2TyAUl",
        "colab_type": "text"
      },
      "source": [
        "Очистим столбец с Play_Count и назовем его"
      ]
    },
    {
      "cell_type": "code",
      "metadata": {
        "id": "Wb54sGGsqTuM",
        "colab_type": "code",
        "colab": {}
      },
      "source": [
        "Play_Count = tracks[3].str.split(':', 8, expand=True)[2].str.split(',', 2, expand=True).drop([1], axis = 1).rename(columns={0:\"Play_Count\"})"
      ],
      "execution_count": null,
      "outputs": []
    },
    {
      "cell_type": "markdown",
      "metadata": {
        "id": "YYvX56DFyE1N",
        "colab_type": "text"
      },
      "source": [
        "Очистим столбец с MBID и назовем его"
      ]
    },
    {
      "cell_type": "code",
      "metadata": {
        "id": "fQeRPtHawZ-5",
        "colab_type": "code",
        "colab": {}
      },
      "source": [
        "MBID = tracks[3].str.split(':', 8, expand=True)[3].str.split(',', 2, expand=True).drop([1], axis = 1).rename(columns={0:\"MBID\"})"
      ],
      "execution_count": null,
      "outputs": []
    },
    {
      "cell_type": "markdown",
      "metadata": {
        "id": "5L8F-N72yKnQ",
        "colab_type": "text"
      },
      "source": [
        "Вытяним данные для столбца с индексом авторов песен"
      ]
    },
    {
      "cell_type": "code",
      "metadata": {
        "id": "MZ5R5yrHWLBb",
        "colab_type": "code",
        "colab": {}
      },
      "source": [
        "tracks['Author_ID'] = tracks.apply(lambda x: [author['id'] for author in ast.literal_eval(x[4].split('\"albums\"')[0]+'}')['artists']], axis=1)"
      ],
      "execution_count": null,
      "outputs": []
    },
    {
      "cell_type": "markdown",
      "metadata": {
        "id": "7XxfmAsHyTbP",
        "colab_type": "text"
      },
      "source": [
        "Столбцы снова склеиваются, в том же порядке строк"
      ]
    },
    {
      "cell_type": "code",
      "metadata": {
        "id": "QiHJXTvms1Ou",
        "colab_type": "code",
        "colab": {}
      },
      "source": [
        "tracks_filter = pd.concat([tracks[1], Track_Name, Duration, Play_Count, tracks['Author_ID']], axis=1, sort=False).rename(columns={1:\"Track_ID\"})"
      ],
      "execution_count": null,
      "outputs": []
    },
    {
      "cell_type": "code",
      "metadata": {
        "id": "2Zu4cu7exAzz",
        "colab_type": "code",
        "colab": {}
      },
      "source": [
        "#Может стоит сделать флитрацию для Duration tracks_filter = tracks_filter[tracks_filter['Duration'] > 0]"
      ],
      "execution_count": null,
      "outputs": []
    },
    {
      "cell_type": "code",
      "metadata": {
        "id": "ZAjesnkVxVYl",
        "colab_type": "code",
        "colab": {}
      },
      "source": [
        "tracks_filter.to_csv('tracks.csv', index=False)"
      ],
      "execution_count": null,
      "outputs": []
    },
    {
      "cell_type": "code",
      "metadata": {
        "id": "rPO3jC7KAvqV",
        "colab_type": "code",
        "colab": {}
      },
      "source": [
        "#Очистим память\n",
        "del tracks, tracks_filter, MBID, Play_Count, Duration, Track_Name"
      ],
      "execution_count": null,
      "outputs": []
    },
    {
      "cell_type": "markdown",
      "metadata": {
        "id": "QK7-NEG-BJBR",
        "colab_type": "text"
      },
      "source": [
        "# Конвертация PERSONS "
      ]
    },
    {
      "cell_type": "code",
      "metadata": {
        "id": "7M2XK36wzBX2",
        "colab_type": "code",
        "colab": {
          "base_uri": "https://localhost:8080/",
          "height": 68
        },
        "outputId": "b87e03b6-7eca-460c-8805-64c94dba1338"
      },
      "source": [
        "!unzip /content/persons.idomaar.zip"
      ],
      "execution_count": null,
      "outputs": [
        {
          "output_type": "stream",
          "text": [
            "Archive:  /content/persons.idomaar.zip\n",
            "  inflating: persons.idomaar         \n",
            "  inflating: __MACOSX/._persons.idomaar  \n"
          ],
          "name": "stdout"
        }
      ]
    },
    {
      "cell_type": "code",
      "metadata": {
        "id": "L7cnnrPfzDh-",
        "colab_type": "code",
        "colab": {}
      },
      "source": [
        "#Перезаписываем файл\n",
        "persons = pd.read_csv('/content/persons.idomaar', sep='\t', header=None)[[1,3]]"
      ],
      "execution_count": null,
      "outputs": []
    },
    {
      "cell_type": "code",
      "metadata": {
        "id": "AW0ad4M1zLiO",
        "colab_type": "code",
        "colab": {}
      },
      "source": [
        "persons['Name'] = persons.apply(lambda x: x[3].split('\"name\":')[1][:-1], axis=1)"
      ],
      "execution_count": null,
      "outputs": []
    },
    {
      "cell_type": "code",
      "metadata": {
        "id": "NQyMmbZP394Z",
        "colab_type": "code",
        "colab": {}
      },
      "source": [
        "persons_filter = persons['Name'].str.split('\"', 3, expand=True).drop([0,2], axis = 1).rename(columns={1:\"Track_Name\"})"
      ],
      "execution_count": null,
      "outputs": []
    },
    {
      "cell_type": "code",
      "metadata": {
        "id": "e3ocC-vwzlec",
        "colab_type": "code",
        "colab": {}
      },
      "source": [
        "persons = pd.concat([persons[1], persons_filter], axis=1, sort=False)"
      ],
      "execution_count": null,
      "outputs": []
    },
    {
      "cell_type": "code",
      "metadata": {
        "id": "34S2epKCz_W7",
        "colab_type": "code",
        "colab": {}
      },
      "source": [
        "persons.to_csv('persons.csv', index=False)"
      ],
      "execution_count": null,
      "outputs": []
    },
    {
      "cell_type": "code",
      "metadata": {
        "id": "9oB82IWG9Nq8",
        "colab_type": "code",
        "colab": {
          "base_uri": "https://localhost:8080/",
          "height": 80
        },
        "outputId": "393abfe3-2dd0-45f2-dcb5-efe75956dbe3"
      },
      "source": [
        "#Проверка! Оказалось, что колонка 1 - это имя Автора песни. Эти данные также содержаться и в track. Значит данный сет можно не применять. Либо можно было бы обрезать названия песен в сете треки, а потом востановить, при необходимости этим дата сетом \n",
        "persons.loc[persons[1] == 145148]"
      ],
      "execution_count": null,
      "outputs": [
        {
          "output_type": "execute_result",
          "data": {
            "text/html": [
              "<div>\n",
              "<style scoped>\n",
              "    .dataframe tbody tr th:only-of-type {\n",
              "        vertical-align: middle;\n",
              "    }\n",
              "\n",
              "    .dataframe tbody tr th {\n",
              "        vertical-align: top;\n",
              "    }\n",
              "\n",
              "    .dataframe thead th {\n",
              "        text-align: right;\n",
              "    }\n",
              "</style>\n",
              "<table border=\"1\" class=\"dataframe\">\n",
              "  <thead>\n",
              "    <tr style=\"text-align: right;\">\n",
              "      <th></th>\n",
              "      <th>1</th>\n",
              "      <th>Track_Name</th>\n",
              "    </tr>\n",
              "  </thead>\n",
              "  <tbody>\n",
              "    <tr>\n",
              "      <th>0</th>\n",
              "      <td>145148</td>\n",
              "      <td>Everything+Is+Illuminated</td>\n",
              "    </tr>\n",
              "  </tbody>\n",
              "</table>\n",
              "</div>"
            ],
            "text/plain": [
              "        1                 Track_Name\n",
              "0  145148  Everything+Is+Illuminated"
            ]
          },
          "metadata": {
            "tags": []
          },
          "execution_count": 110
        }
      ]
    },
    {
      "cell_type": "code",
      "metadata": {
        "id": "r7f71rw0BN3K",
        "colab_type": "code",
        "colab": {}
      },
      "source": [
        "#Очистим память\n",
        "del persons, persons_filter"
      ],
      "execution_count": null,
      "outputs": []
    },
    {
      "cell_type": "markdown",
      "metadata": {
        "id": "dPweFddk0pXr",
        "colab_type": "text"
      },
      "source": [
        "# Комбинация данных"
      ]
    },
    {
      "cell_type": "markdown",
      "metadata": {
        "id": "zREOEJ0i0nzl",
        "colab_type": "text"
      },
      "source": [
        "**Пункт 1.** В первую очередь нужно подготовить данные: перейти от истории прослушиваний треков к истории прослушивания исполнителей (полезные файлы: sessions, tracks, persons)."
      ]
    },
    {
      "cell_type": "code",
      "metadata": {
        "id": "D6Mmir-E04_2",
        "colab_type": "code",
        "colab": {
          "base_uri": "https://localhost:8080/",
          "height": 289
        },
        "outputId": "9fa4e31a-0cb4-47b8-de1a-697bb5cb34f2"
      },
      "source": [
        "!unzip /content/ThirtyMusicCSV.zip"
      ],
      "execution_count": null,
      "outputs": [
        {
          "output_type": "stream",
          "text": [
            "Archive:  /content/ThirtyMusicCSV.zip\n",
            "   creating: ThirtyMusicCSV/\n",
            "  inflating: ThirtyMusicCSV/.DS_Store  \n",
            "  inflating: __MACOSX/ThirtyMusicCSV/._.DS_Store  \n",
            "   creating: ThirtyMusicCSV/relations/\n",
            "   creating: ThirtyMusicCSV/entities/\n",
            "  inflating: ThirtyMusicCSV/relations/sessions_is_ratio.csv  \n",
            "  inflating: __MACOSX/ThirtyMusicCSV/relations/._sessions_is_ratio.csv  \n",
            "  inflating: ThirtyMusicCSV/relations/.DS_Store  \n",
            "  inflating: __MACOSX/ThirtyMusicCSV/relations/._.DS_Store  \n",
            "  inflating: ThirtyMusicCSV/entities/tracks.csv  \n",
            "  inflating: __MACOSX/ThirtyMusicCSV/entities/._tracks.csv  \n",
            "  inflating: ThirtyMusicCSV/entities/users.csv  \n",
            "  inflating: __MACOSX/ThirtyMusicCSV/entities/._users.csv  \n",
            "  inflating: ThirtyMusicCSV/entities/persons.csv  \n",
            "  inflating: __MACOSX/ThirtyMusicCSV/entities/._persons.csv  \n"
          ],
          "name": "stdout"
        }
      ]
    },
    {
      "cell_type": "markdown",
      "metadata": {
        "id": "kFIHnvyB1Py9",
        "colab_type": "text"
      },
      "source": [
        "Более общая векторизованная функция, которая будет работать для нескольких обычных и нескольких столбцов списка."
      ]
    },
    {
      "cell_type": "code",
      "metadata": {
        "id": "mFvDR6cg08Is",
        "colab_type": "code",
        "colab": {}
      },
      "source": [
        "def explode(df, lst_cols, fill_value='', preserve_index=False):\n",
        "    # make sure `lst_cols` is list-alike\n",
        "    if (lst_cols is not None\n",
        "        and len(lst_cols) > 0\n",
        "        and not isinstance(lst_cols, (list, tuple, np.ndarray, pd.Series))):\n",
        "        lst_cols = [lst_cols]\n",
        "    # all columns except `lst_cols`\n",
        "    idx_cols = df.columns.difference(lst_cols)\n",
        "    # calculate lengths of lists\n",
        "    lens = df[lst_cols[0]].str.len()\n",
        "    # preserve original index values    \n",
        "    idx = np.repeat(df.index.values, lens)\n",
        "    # create \"exploded\" DF\n",
        "    res = (pd.DataFrame({\n",
        "                col:np.repeat(df[col].values, lens)\n",
        "                for col in idx_cols},\n",
        "                index=idx)\n",
        "             .assign(**{col:np.concatenate(df.loc[lens>0, col].values)\n",
        "                            for col in lst_cols}))\n",
        "    # append those rows that have empty lists\n",
        "    if (lens == 0).any():\n",
        "        # at least one list in cells is empty\n",
        "        res = (res.append(df.loc[lens==0, idx_cols], sort=False)\n",
        "                  .fillna(fill_value))\n",
        "    # revert the original index order\n",
        "    res = res.sort_index()\n",
        "    # reset index if requested\n",
        "    if not preserve_index:        \n",
        "        res = res.reset_index(drop=True)\n",
        "    return res"
      ],
      "execution_count": null,
      "outputs": []
    },
    {
      "cell_type": "markdown",
      "metadata": {
        "id": "GaZCiwuY1X1L",
        "colab_type": "text"
      },
      "source": [
        "Импортируем данные для первичной комбинации"
      ]
    },
    {
      "cell_type": "code",
      "metadata": {
        "id": "HPtqAxIf1Yqk",
        "colab_type": "code",
        "colab": {
          "base_uri": "https://localhost:8080/",
          "height": 71
        },
        "outputId": "fa4b42a3-de88-45aa-d4e4-c344083cea3f"
      },
      "source": [
        "tracks = pd.read_csv('/content/ThirtyMusicCSV/entities/tracks.csv')\n",
        "sessions = pd.read_csv('/content/ThirtyMusicCSV/relations/sessions_is_ratio.csv')"
      ],
      "execution_count": null,
      "outputs": [
        {
          "output_type": "stream",
          "text": [
            "/usr/local/lib/python3.6/dist-packages/IPython/core/interactiveshell.py:2718: DtypeWarning: Columns (2,3) have mixed types.Specify dtype option on import or set low_memory=False.\n",
            "  interactivity=interactivity, compiler=compiler, result=result)\n"
          ],
          "name": "stderr"
        }
      ]
    },
    {
      "cell_type": "code",
      "metadata": {
        "id": "pE3iesgl1cNg",
        "colab_type": "code",
        "colab": {}
      },
      "source": [
        "#Без этого много памяти сжирается, при обработке\n",
        "sessions.Track_Recommend = sessions.Track_Recommend.apply(lambda x: ast.literal_eval(x))\n",
        "sessions.Track_Non_Recommend = sessions.Track_Non_Recommend.apply(lambda x: ast.literal_eval(x))"
      ],
      "execution_count": null,
      "outputs": []
    },
    {
      "cell_type": "markdown",
      "metadata": {
        "id": "QIRuPflY18zf",
        "colab_type": "text"
      },
      "source": [
        "Разделим данные в ячейках стобцов (explode), чтобы соединить данные отдельно с перехом индекса трека в индекс автора для рекомендумой музыки, и для не рекомендуемой (может пригодится, при оценки), при помощи merge. Дополительно, скомбинируем эти данные в один датасет (возможно понадобиться)"
      ]
    },
    {
      "cell_type": "code",
      "metadata": {
        "id": "CS5wSwfs1wJa",
        "colab_type": "code",
        "colab": {}
      },
      "source": [
        "sessions_recommend = sessions.drop('Track_Non_Recommend', axis = 1)\n",
        "sessions_recommend = explode(sessions_recommend, ['Track_Recommend'], fill_value='0').astype(int)"
      ],
      "execution_count": null,
      "outputs": []
    },
    {
      "cell_type": "code",
      "metadata": {
        "id": "wC3JKfBH2vpg",
        "colab_type": "code",
        "colab": {}
      },
      "source": [
        "sessions_non_recommend = sessions.drop('Track_Recommend', axis = 1)\n",
        "sessions_non_recommend = explode(sessions_non_recommend, ['Track_Non_Recommend'], fill_value='0').astype(int)"
      ],
      "execution_count": null,
      "outputs": []
    },
    {
      "cell_type": "code",
      "metadata": {
        "id": "idPobvNG3DI5",
        "colab_type": "code",
        "colab": {}
      },
      "source": [
        "tracks['Track_ID']=tracks['Track_ID'].astype(int)"
      ],
      "execution_count": null,
      "outputs": []
    },
    {
      "cell_type": "code",
      "metadata": {
        "id": "8AS7BVsb25zm",
        "colab_type": "code",
        "colab": {}
      },
      "source": [
        "artist_recommended = pd.merge(sessions_recommend,tracks, left_on='Track_Recommend', right_on='Track_ID', how='left')"
      ],
      "execution_count": null,
      "outputs": []
    },
    {
      "cell_type": "code",
      "metadata": {
        "id": "J9_jxcLw3jsh",
        "colab_type": "code",
        "colab": {}
      },
      "source": [
        "artist_non_recommended = pd.merge(sessions_non_recommend,tracks, left_on='Track_Non_Recommend', right_on='Track_ID', how='left')"
      ],
      "execution_count": null,
      "outputs": []
    },
    {
      "cell_type": "code",
      "metadata": {
        "id": "R-OzAYUBAR9D",
        "colab_type": "code",
        "colab": {
          "base_uri": "https://localhost:8080/",
          "height": 224
        },
        "outputId": "a4f34ff8-7ab8-49d6-ecb0-ce080c8acb14"
      },
      "source": [
        "artist_non_recommended.head()"
      ],
      "execution_count": null,
      "outputs": [
        {
          "output_type": "execute_result",
          "data": {
            "text/html": [
              "<div>\n",
              "<style scoped>\n",
              "    .dataframe tbody tr th:only-of-type {\n",
              "        vertical-align: middle;\n",
              "    }\n",
              "\n",
              "    .dataframe tbody tr th {\n",
              "        vertical-align: top;\n",
              "    }\n",
              "\n",
              "    .dataframe thead th {\n",
              "        text-align: right;\n",
              "    }\n",
              "</style>\n",
              "<table border=\"1\" class=\"dataframe\">\n",
              "  <thead>\n",
              "    <tr style=\"text-align: right;\">\n",
              "      <th></th>\n",
              "      <th>1</th>\n",
              "      <th>2</th>\n",
              "      <th>Num_Tracks</th>\n",
              "      <th>Play_Time</th>\n",
              "      <th>User_ID</th>\n",
              "      <th>Track_Non_Recommend</th>\n",
              "      <th>Track_ID</th>\n",
              "      <th>Track_Name</th>\n",
              "      <th>Duration</th>\n",
              "      <th>Play_Count</th>\n",
              "      <th>Author_ID</th>\n",
              "    </tr>\n",
              "  </thead>\n",
              "  <tbody>\n",
              "    <tr>\n",
              "      <th>0</th>\n",
              "      <td>287144</td>\n",
              "      <td>1390231051</td>\n",
              "      <td>23</td>\n",
              "      <td>4547</td>\n",
              "      <td>44361</td>\n",
              "      <td>4698874</td>\n",
              "      <td>4698874</td>\n",
              "      <td>ZZ+Top/_/She+Loves+My+Automobile</td>\n",
              "      <td>null</td>\n",
              "      <td>null</td>\n",
              "      <td>[142266]</td>\n",
              "    </tr>\n",
              "    <tr>\n",
              "      <th>1</th>\n",
              "      <td>287144</td>\n",
              "      <td>1390231051</td>\n",
              "      <td>23</td>\n",
              "      <td>4547</td>\n",
              "      <td>44361</td>\n",
              "      <td>1778345</td>\n",
              "      <td>1778345</td>\n",
              "      <td>Maurice+Ravel/_/Alborada+del+gracioso</td>\n",
              "      <td>418000</td>\n",
              "      <td>2638</td>\n",
              "      <td>[223118]</td>\n",
              "    </tr>\n",
              "    <tr>\n",
              "      <th>2</th>\n",
              "      <td>287144</td>\n",
              "      <td>1390231051</td>\n",
              "      <td>23</td>\n",
              "      <td>4547</td>\n",
              "      <td>44361</td>\n",
              "      <td>2989691</td>\n",
              "      <td>2989691</td>\n",
              "      <td>The+Thermals/_/How+We+Know</td>\n",
              "      <td>196000</td>\n",
              "      <td>2296</td>\n",
              "      <td>[369980]</td>\n",
              "    </tr>\n",
              "    <tr>\n",
              "      <th>3</th>\n",
              "      <td>287144</td>\n",
              "      <td>1390231051</td>\n",
              "      <td>23</td>\n",
              "      <td>4547</td>\n",
              "      <td>44361</td>\n",
              "      <td>1728736</td>\n",
              "      <td>1728736</td>\n",
              "      <td>Maria+Callas/_/Un+bel+di+vedremo</td>\n",
              "      <td>280000</td>\n",
              "      <td>267</td>\n",
              "      <td>[216834]</td>\n",
              "    </tr>\n",
              "    <tr>\n",
              "      <th>4</th>\n",
              "      <td>287144</td>\n",
              "      <td>1390231051</td>\n",
              "      <td>23</td>\n",
              "      <td>4547</td>\n",
              "      <td>44361</td>\n",
              "      <td>2615446</td>\n",
              "      <td>2615446</td>\n",
              "      <td>Sophie+Hunger/_/1983</td>\n",
              "      <td>185000</td>\n",
              "      <td>48</td>\n",
              "      <td>[327617]</td>\n",
              "    </tr>\n",
              "  </tbody>\n",
              "</table>\n",
              "</div>"
            ],
            "text/plain": [
              "        1           2  Num_Tracks  ...  Duration  Play_Count  Author_ID\n",
              "0  287144  1390231051          23  ...      null        null   [142266]\n",
              "1  287144  1390231051          23  ...    418000        2638   [223118]\n",
              "2  287144  1390231051          23  ...    196000        2296   [369980]\n",
              "3  287144  1390231051          23  ...    280000         267   [216834]\n",
              "4  287144  1390231051          23  ...    185000          48   [327617]\n",
              "\n",
              "[5 rows x 11 columns]"
            ]
          },
          "metadata": {
            "tags": []
          },
          "execution_count": 11
        }
      ]
    },
    {
      "cell_type": "code",
      "metadata": {
        "id": "9GoJ8Y8c-6Vt",
        "colab_type": "code",
        "colab": {}
      },
      "source": [
        "#Clear RAM\n",
        "del sessions, sessions_recommend, sessions_non_recommend, tracks"
      ],
      "execution_count": null,
      "outputs": []
    },
    {
      "cell_type": "markdown",
      "metadata": {
        "id": "9p523oszSMTf",
        "colab_type": "text"
      },
      "source": [
        "## Создание связки (Пользователь - Название трека - Индекс трека - Автор)"
      ]
    },
    {
      "cell_type": "markdown",
      "metadata": {
        "id": "RiQX9-PvAqTb",
        "colab_type": "text"
      },
      "source": [
        "Данные могут понадобиться отдельно, и вместе. Соеденим строки с одним индексом пользователя. "
      ]
    },
    {
      "cell_type": "code",
      "metadata": {
        "id": "Xl9IlatoDtKb",
        "colab_type": "code",
        "colab": {}
      },
      "source": [
        "#Датасет Пользоветль - Рекомендуемые авторы (Удалить повторяющиеся данные)\n",
        "user_artists_id_recomended = artist_recommended.groupby('User_ID')['Author_ID'].agg(' '.join).reset_index()"
      ],
      "execution_count": null,
      "outputs": []
    },
    {
      "cell_type": "code",
      "metadata": {
        "id": "62n8yT8cECW5",
        "colab_type": "code",
        "colab": {}
      },
      "source": [
        "#Датасет Пользоветль - Не рекомендуемые авторы (Удалить повторяющиеся данные)\n",
        "user_artists_id_non_recomended = artist_non_recommended.groupby('User_ID')['Author_ID'].agg(' '.join).reset_index()"
      ],
      "execution_count": null,
      "outputs": []
    },
    {
      "cell_type": "code",
      "metadata": {
        "id": "vgAjZ7OvTmZn",
        "colab_type": "code",
        "colab": {}
      },
      "source": [
        "del artist_recommended, artist_non_recommended"
      ],
      "execution_count": null,
      "outputs": []
    },
    {
      "cell_type": "code",
      "metadata": {
        "id": "E7tJ9d-XaAEP",
        "colab_type": "code",
        "colab": {}
      },
      "source": [
        "#Уберем не нужные символы\n",
        "author_ID_check = user_artists_id_recomended['Author_ID'].str.replace('[','',regex=True).replace(']','',regex=True).apply(lambda s: ', '.join(set(s.split(' '))))"
      ],
      "execution_count": null,
      "outputs": []
    },
    {
      "cell_type": "code",
      "metadata": {
        "id": "cuO0kCMQfrKd",
        "colab_type": "code",
        "colab": {}
      },
      "source": [
        "#Перезапишем\n",
        "id_recomended = pd.concat([user_artists_id_recomended['User_ID'], pd.DataFrame(author_ID_check)], axis=1)"
      ],
      "execution_count": null,
      "outputs": []
    },
    {
      "cell_type": "code",
      "metadata": {
        "id": "oQg00FZxh48_",
        "colab_type": "code",
        "colab": {}
      },
      "source": [
        "del user_artists_id_recomended, author_ID_check"
      ],
      "execution_count": null,
      "outputs": []
    },
    {
      "cell_type": "code",
      "metadata": {
        "id": "2sHWu7VVimOZ",
        "colab_type": "code",
        "colab": {}
      },
      "source": [
        "#Уберем не нужные символы\n",
        "author_ID_check = user_artists_id_non_recomended['Author_ID'].str.replace('[','',regex=True).replace(']','',regex=True).apply(lambda s: ', '.join(set(s.split(' '))))"
      ],
      "execution_count": null,
      "outputs": []
    },
    {
      "cell_type": "code",
      "metadata": {
        "id": "r41NtEIPiroY",
        "colab_type": "code",
        "colab": {}
      },
      "source": [
        "#Перезапишем\n",
        "id_non_recomended = pd.concat([user_artists_id_non_recomended['User_ID'], pd.DataFrame(author_ID_check)], axis=1)"
      ],
      "execution_count": null,
      "outputs": []
    },
    {
      "cell_type": "code",
      "metadata": {
        "id": "4S28WTgHisVW",
        "colab_type": "code",
        "colab": {}
      },
      "source": [
        "id_recomended = id_recomended.rename(columns={'Author_ID': 'Author_ID_Recommended'})\n",
        "id_non_recomended = id_non_recomended.rename(columns={'Author_ID': 'Author_ID_Non_Recommended'})"
      ],
      "execution_count": null,
      "outputs": []
    },
    {
      "cell_type": "code",
      "metadata": {
        "id": "UAtOIMa3jOtY",
        "colab_type": "code",
        "colab": {}
      },
      "source": [
        "#Следующий шаг - переименовать стобцы и соединить данные (Объеденить повторяющиеся индексы слушаетелей)\n",
        "artist_user = pd.merge(id_recomended,id_non_recomended, left_on='User_ID', right_on='User_ID', how='left')"
      ],
      "execution_count": null,
      "outputs": []
    },
    {
      "cell_type": "code",
      "metadata": {
        "id": "0pBgt6dCEMJn",
        "colab_type": "code",
        "colab": {}
      },
      "source": [
        "artist_user.to_csv('artist_user.csv', index=False)"
      ],
      "execution_count": null,
      "outputs": []
    },
    {
      "cell_type": "code",
      "metadata": {
        "id": "cAsIlEUVkBsg",
        "colab_type": "code",
        "colab": {}
      },
      "source": [
        "id_recomended.to_csv('id_recomended.csv', index=False)\n",
        "id_non_recomended.to_csv('id_non_recomended.csv', index=False)"
      ],
      "execution_count": null,
      "outputs": []
    },
    {
      "cell_type": "code",
      "metadata": {
        "id": "ruuiE61-kHxj",
        "colab_type": "code",
        "colab": {}
      },
      "source": [
        "del id_non_recomended, id_recomended, artist_user"
      ],
      "execution_count": null,
      "outputs": []
    },
    {
      "cell_type": "markdown",
      "metadata": {
        "id": "37djnx11uwdW",
        "colab_type": "text"
      },
      "source": [
        "## Датасет для обучения"
      ]
    },
    {
      "cell_type": "markdown",
      "metadata": {
        "id": "mvQzZE_GsPHX",
        "colab_type": "text"
      },
      "source": [
        "С разделением для предсказаний. Создадим такой датасет, где к одной рекомендации будут соеденены все не рекомендованные, под индексом автора, чтобы в дальнейшем обучать на этих данных. Значение 0, означает отсуствие трека"
      ]
    },
    {
      "cell_type": "code",
      "metadata": {
        "id": "D-fhEKg161pI",
        "colab_type": "code",
        "colab": {}
      },
      "source": [
        "artist_recommended = artist_recommended.drop(columns=['1',\t'2',\t'Num_Tracks',\t'Play_Time',\t'Track_Recommend',\t'Track_ID',\t'Track_Name',\t'Duration',\t'Play_Count'], axis = 1).rename(columns={'Author_ID': 'Author_ID_Recommended'})"
      ],
      "execution_count": null,
      "outputs": []
    },
    {
      "cell_type": "code",
      "metadata": {
        "id": "N2rE67GfsQiw",
        "colab_type": "code",
        "colab": {}
      },
      "source": [
        "#Уберем не нужные символы. Не воспроизводть шаги Пользователь - Название трека - Индекс трека - Автор\n",
        "author_rec = artist_recommended['Author_ID_Recommended'].str.replace('[','',regex=True).replace(']','',regex=True).astype(int)"
      ],
      "execution_count": null,
      "outputs": []
    },
    {
      "cell_type": "code",
      "metadata": {
        "id": "EoP3Ca8qsYzE",
        "colab_type": "code",
        "colab": {}
      },
      "source": [
        "#Перезапишем\n",
        "id_recomended = pd.concat([artist_recommended['User_ID'], pd.DataFrame(author_rec)], axis=1)"
      ],
      "execution_count": null,
      "outputs": []
    },
    {
      "cell_type": "code",
      "metadata": {
        "id": "jhg1DgElxh_L",
        "colab_type": "code",
        "colab": {}
      },
      "source": [
        "del artist_recommended, author_rec"
      ],
      "execution_count": null,
      "outputs": []
    },
    {
      "cell_type": "code",
      "metadata": {
        "id": "p41IQg64Fwj2",
        "colab_type": "code",
        "colab": {}
      },
      "source": [
        "author_rec = artist_non_recommended['Author_ID_Non_Recommended'].str.replace('[','',regex=True).replace(']','',regex=True).astype(int)"
      ],
      "execution_count": null,
      "outputs": []
    },
    {
      "cell_type": "code",
      "metadata": {
        "id": "Hto-eNE5Fw0w",
        "colab_type": "code",
        "colab": {}
      },
      "source": [
        "#Перезапишем\n",
        "id_non_recomended = pd.concat([artist_non_recommended['User_ID'], pd.DataFrame(author_rec)], axis=1)"
      ],
      "execution_count": null,
      "outputs": []
    },
    {
      "cell_type": "code",
      "metadata": {
        "id": "hPtj3NJpGP5x",
        "colab_type": "code",
        "colab": {}
      },
      "source": [
        "del artist_non_recommended, author_rec"
      ],
      "execution_count": null,
      "outputs": []
    },
    {
      "cell_type": "code",
      "metadata": {
        "id": "SsFLuAgJG8Gw",
        "colab_type": "code",
        "colab": {
          "base_uri": "https://localhost:8080/",
          "height": 34
        },
        "outputId": "c66a9554-7dcb-4220-895a-4e0d81778e1f"
      },
      "source": [
        "len(id_recomended)"
      ],
      "execution_count": null,
      "outputs": [
        {
          "output_type": "execute_result",
          "data": {
            "text/plain": [
              "34211555"
            ]
          },
          "metadata": {
            "tags": []
          },
          "execution_count": 13
        }
      ]
    },
    {
      "cell_type": "code",
      "metadata": {
        "id": "Xu0FUvynHAGq",
        "colab_type": "code",
        "colab": {
          "base_uri": "https://localhost:8080/",
          "height": 34
        },
        "outputId": "49e353a9-6405-4e90-b17d-f3afbdb4e6c9"
      },
      "source": [
        "len(id_non_recomended)"
      ],
      "execution_count": null,
      "outputs": [
        {
          "output_type": "execute_result",
          "data": {
            "text/plain": [
              "23961551"
            ]
          },
          "metadata": {
            "tags": []
          },
          "execution_count": 14
        }
      ]
    },
    {
      "cell_type": "code",
      "metadata": {
        "id": "dIlKdox8GtGH",
        "colab_type": "code",
        "colab": {}
      },
      "source": [
        "id_recomended = pd.read_csv('/content/id_recomended.csv')\n",
        "id_non_recomended = pd.read_csv('/content/id_non_recomended.csv')"
      ],
      "execution_count": null,
      "outputs": []
    },
    {
      "cell_type": "code",
      "metadata": {
        "id": "-HYjffgA-K_9",
        "colab_type": "code",
        "colab": {}
      },
      "source": [
        "author_full = pd.merge(id_recomended,id_non_recomended, left_on='User_ID', right_on='User_ID', how='left')"
      ],
      "execution_count": null,
      "outputs": []
    },
    {
      "cell_type": "markdown",
      "metadata": {
        "id": "Yg4eyNXcTDYJ",
        "colab_type": "text"
      },
      "source": [
        "## На случай, если понадобятся полные данные"
      ]
    },
    {
      "cell_type": "markdown",
      "metadata": {
        "id": "Ew66VLifDuu_",
        "colab_type": "text"
      },
      "source": [
        "Если мы захотим сохранить все данные"
      ]
    },
    {
      "cell_type": "code",
      "metadata": {
        "id": "-XqIGrUQAdsk",
        "colab_type": "code",
        "colab": {}
      },
      "source": [
        "#test\n",
        "test = artist_recommended[:100000]"
      ],
      "execution_count": null,
      "outputs": []
    },
    {
      "cell_type": "code",
      "metadata": {
        "id": "IBoFk7ZuE2VV",
        "colab_type": "code",
        "colab": {
          "base_uri": "https://localhost:8080/",
          "height": 853
        },
        "outputId": "8849317f-3d37-4dfb-dcab-f98488324ff5"
      },
      "source": [
        "#Переводим значения в строки (При рассчетах перевести обратно). Для такого объема данных понадобиться Apache Spark. Либо сократить колличество данных.\n",
        "test['1'] = test['1'].astype(str)\n",
        "test['2'] = test['2'].astype(str)\n",
        "test['Track_Recommend'] = test['Track_Recommend'].astype(str)\n",
        "test['Num_Tracks'] = test['Num_Tracks'].astype(str)\n",
        "test['Play_Time'] = test['Play_Time'].astype(str)\n",
        "test['Track_Name'] = test['Track_Name'].astype(str)\n",
        "test['Duration'] = test['Duration'].astype(str)\n",
        "test['Play_Count'] = test['Play_Count'].astype(str)"
      ],
      "execution_count": null,
      "outputs": [
        {
          "output_type": "stream",
          "text": [
            "/usr/local/lib/python3.6/dist-packages/ipykernel_launcher.py:1: SettingWithCopyWarning: \n",
            "A value is trying to be set on a copy of a slice from a DataFrame.\n",
            "Try using .loc[row_indexer,col_indexer] = value instead\n",
            "\n",
            "See the caveats in the documentation: https://pandas.pydata.org/pandas-docs/stable/user_guide/indexing.html#returning-a-view-versus-a-copy\n",
            "  \"\"\"Entry point for launching an IPython kernel.\n",
            "/usr/local/lib/python3.6/dist-packages/ipykernel_launcher.py:2: SettingWithCopyWarning: \n",
            "A value is trying to be set on a copy of a slice from a DataFrame.\n",
            "Try using .loc[row_indexer,col_indexer] = value instead\n",
            "\n",
            "See the caveats in the documentation: https://pandas.pydata.org/pandas-docs/stable/user_guide/indexing.html#returning-a-view-versus-a-copy\n",
            "  \n",
            "/usr/local/lib/python3.6/dist-packages/ipykernel_launcher.py:3: SettingWithCopyWarning: \n",
            "A value is trying to be set on a copy of a slice from a DataFrame.\n",
            "Try using .loc[row_indexer,col_indexer] = value instead\n",
            "\n",
            "See the caveats in the documentation: https://pandas.pydata.org/pandas-docs/stable/user_guide/indexing.html#returning-a-view-versus-a-copy\n",
            "  This is separate from the ipykernel package so we can avoid doing imports until\n",
            "/usr/local/lib/python3.6/dist-packages/ipykernel_launcher.py:4: SettingWithCopyWarning: \n",
            "A value is trying to be set on a copy of a slice from a DataFrame.\n",
            "Try using .loc[row_indexer,col_indexer] = value instead\n",
            "\n",
            "See the caveats in the documentation: https://pandas.pydata.org/pandas-docs/stable/user_guide/indexing.html#returning-a-view-versus-a-copy\n",
            "  after removing the cwd from sys.path.\n",
            "/usr/local/lib/python3.6/dist-packages/ipykernel_launcher.py:5: SettingWithCopyWarning: \n",
            "A value is trying to be set on a copy of a slice from a DataFrame.\n",
            "Try using .loc[row_indexer,col_indexer] = value instead\n",
            "\n",
            "See the caveats in the documentation: https://pandas.pydata.org/pandas-docs/stable/user_guide/indexing.html#returning-a-view-versus-a-copy\n",
            "  \"\"\"\n",
            "/usr/local/lib/python3.6/dist-packages/ipykernel_launcher.py:6: SettingWithCopyWarning: \n",
            "A value is trying to be set on a copy of a slice from a DataFrame.\n",
            "Try using .loc[row_indexer,col_indexer] = value instead\n",
            "\n",
            "See the caveats in the documentation: https://pandas.pydata.org/pandas-docs/stable/user_guide/indexing.html#returning-a-view-versus-a-copy\n",
            "  \n",
            "/usr/local/lib/python3.6/dist-packages/ipykernel_launcher.py:7: SettingWithCopyWarning: \n",
            "A value is trying to be set on a copy of a slice from a DataFrame.\n",
            "Try using .loc[row_indexer,col_indexer] = value instead\n",
            "\n",
            "See the caveats in the documentation: https://pandas.pydata.org/pandas-docs/stable/user_guide/indexing.html#returning-a-view-versus-a-copy\n",
            "  import sys\n",
            "/usr/local/lib/python3.6/dist-packages/ipykernel_launcher.py:8: SettingWithCopyWarning: \n",
            "A value is trying to be set on a copy of a slice from a DataFrame.\n",
            "Try using .loc[row_indexer,col_indexer] = value instead\n",
            "\n",
            "See the caveats in the documentation: https://pandas.pydata.org/pandas-docs/stable/user_guide/indexing.html#returning-a-view-versus-a-copy\n",
            "  \n"
          ],
          "name": "stderr"
        }
      ]
    },
    {
      "cell_type": "code",
      "metadata": {
        "id": "lpDkH7-8Bg1d",
        "colab_type": "code",
        "colab": {
          "base_uri": "https://localhost:8080/",
          "height": 71
        },
        "outputId": "0ecf3efe-328a-49a3-bfe3-86075d8374b7"
      },
      "source": [
        "#Оставляем нужные столбцы\n",
        "test = test.groupby('User_ID')['1',\t'2',\t'Num_Tracks',\t'Play_Time',\t'User_ID',\t'Track_Recommend',\t'Track_Name',\t'Duration',\t'Play_Count',\t'Author_ID'].agg(', '.join).reset_index()"
      ],
      "execution_count": null,
      "outputs": [
        {
          "output_type": "stream",
          "text": [
            "/usr/local/lib/python3.6/dist-packages/ipykernel_launcher.py:1: FutureWarning: Indexing with multiple keys (implicitly converted to a tuple of keys) will be deprecated, use a list instead.\n",
            "  \"\"\"Entry point for launching an IPython kernel.\n"
          ],
          "name": "stderr"
        }
      ]
    },
    {
      "cell_type": "code",
      "metadata": {
        "id": "fS2CeAH6PLxv",
        "colab_type": "code",
        "colab": {}
      },
      "source": [
        "#Deleted repeat values in cells\n",
        "test['Num_Tracks'] = test['Num_Tracks'].apply(lambda s: ', '.join(set(s.split(', '))))\n",
        "test['1'] = test['1'].apply(lambda s: ', '.join(set(s.split(', '))))\n",
        "test['2'] = test['2'].apply(lambda s: ', '.join(set(s.split(', '))))\n",
        "test['Play_Time'] = test['Play_Time'].apply(lambda s: ', '.join(set(s.split(', '))))\n",
        "test['Track_Recommend'] = test['Track_Recommend'].apply(lambda s: ', '.join(set(s.split(', '))))\n",
        "test['Duration'] = test['Duration'].apply(lambda s: ', '.join(set(s.split(', '))))\n",
        "test['Play_Count'] = test['Play_Count'].apply(lambda s: ', '.join(set(s.split(', '))))\n",
        "test['Author_ID'] = test['Author_ID'].apply(lambda s: ', '.join(set(s.split(', '))))"
      ],
      "execution_count": null,
      "outputs": []
    },
    {
      "cell_type": "code",
      "metadata": {
        "id": "mWBos8WRPUmh",
        "colab_type": "code",
        "colab": {
          "base_uri": "https://localhost:8080/",
          "height": 615
        },
        "outputId": "f7c9bcb2-f26e-4b3a-d332-e53da0ec7ef2"
      },
      "source": [
        "#result for recommended tracks. maybe we will use duration of sessions or number tracks at the sometimes\n",
        "test.head()"
      ],
      "execution_count": null,
      "outputs": [
        {
          "output_type": "execute_result",
          "data": {
            "text/html": [
              "<div>\n",
              "<style scoped>\n",
              "    .dataframe tbody tr th:only-of-type {\n",
              "        vertical-align: middle;\n",
              "    }\n",
              "\n",
              "    .dataframe tbody tr th {\n",
              "        vertical-align: top;\n",
              "    }\n",
              "\n",
              "    .dataframe thead th {\n",
              "        text-align: right;\n",
              "    }\n",
              "</style>\n",
              "<table border=\"1\" class=\"dataframe\">\n",
              "  <thead>\n",
              "    <tr style=\"text-align: right;\">\n",
              "      <th></th>\n",
              "      <th>User_ID</th>\n",
              "      <th>1</th>\n",
              "      <th>2</th>\n",
              "      <th>Num_Tracks</th>\n",
              "      <th>Play_Time</th>\n",
              "      <th>Track_Recommend</th>\n",
              "      <th>Track_Name</th>\n",
              "      <th>Duration</th>\n",
              "      <th>Play_Count</th>\n",
              "      <th>Author_ID</th>\n",
              "    </tr>\n",
              "  </thead>\n",
              "  <tbody>\n",
              "    <tr>\n",
              "      <th>0</th>\n",
              "      <td>29</td>\n",
              "      <td>2507596, 2507599, 2507592, 2507626</td>\n",
              "      <td>1399444814, 1399650658, 1399661236, 1421160724</td>\n",
              "      <td>6, 18, 11</td>\n",
              "      <td>3591, 1233, 2859, 3418</td>\n",
              "      <td>3426569, 1784354, 394272, 3577397, 902725, 357...</td>\n",
              "      <td>Beck/_/Heart+Is+a+Drum, Beck/_/Don%27t+Let+It+...</td>\n",
              "      <td>189000, 329000, 265000, 218000, 180000, 259000...</td>\n",
              "      <td>981, 891, 478, 2749, 2604, 1437, 13494, 143, 1...</td>\n",
              "      <td>[12464], [435700], [203795], [427962], [197674...</td>\n",
              "    </tr>\n",
              "    <tr>\n",
              "      <th>1</th>\n",
              "      <td>63</td>\n",
              "      <td>1320520, 1320525, 1320522, 1320526, 1320527, 1...</td>\n",
              "      <td>1402293722, 1402291466, 1402362736, 1402322100...</td>\n",
              "      <td>17, 85, 19, 4, 20, 12, 35, 9, 26</td>\n",
              "      <td>4699, 4284, 14179, 7992, 3621, 5437, 3347, 109...</td>\n",
              "      <td>0, 443142, 443377, 443242, 443431, 443192, 443...</td>\n",
              "      <td>Boards+of+Canada/_/A+Is+to+B+as+B+Is+to+C, Boa...</td>\n",
              "      <td>329000, 283000, 306000, 240000, 309000, -1, 32...</td>\n",
              "      <td>18, 5, 40, 1256, 23, 2025, 407, 671, 5597, 581...</td>\n",
              "      <td>[456649], [0], [154644], [53362]</td>\n",
              "    </tr>\n",
              "    <tr>\n",
              "      <th>2</th>\n",
              "      <td>95</td>\n",
              "      <td>1942036</td>\n",
              "      <td>1396295756</td>\n",
              "      <td>21</td>\n",
              "      <td>6043</td>\n",
              "      <td>3506722, 3506705, 3506715, 3506683, 3506975</td>\n",
              "      <td>Iced+Earth/_/Cast+In+Stone, Iced+Earth/_/Brain...</td>\n",
              "      <td>234000, 293000, 359000, 322000, 290000</td>\n",
              "      <td>3956, 268, 6475, 1, 11</td>\n",
              "      <td>[438248]</td>\n",
              "    </tr>\n",
              "    <tr>\n",
              "      <th>3</th>\n",
              "      <td>100</td>\n",
              "      <td>2508178, 2508179, 2508170</td>\n",
              "      <td>1392987499, 1394577426, 1394906666</td>\n",
              "      <td>7, 5, 3</td>\n",
              "      <td>1059, 2812, 502</td>\n",
              "      <td>1400492, 430645, 1400494, 486618, 430652</td>\n",
              "      <td>Hamfer%C3%B0/_/Evst, Hamfer%C3%B0/_/At+jar%C3%...</td>\n",
              "      <td>258000, 244000, 246000, 349000, 177000</td>\n",
              "      <td>529, 631, 3211, 10093</td>\n",
              "      <td>[58041], [175853], [52230]</td>\n",
              "    </tr>\n",
              "    <tr>\n",
              "      <th>4</th>\n",
              "      <td>157</td>\n",
              "      <td>1771251</td>\n",
              "      <td>1421177928</td>\n",
              "      <td>24</td>\n",
              "      <td>6233</td>\n",
              "      <td>3690029, 3638704, 573131, 573023, 1420771, 369...</td>\n",
              "      <td>Carpenters/_/Yesterday+Once+More, Carpenters/_...</td>\n",
              "      <td>219000, 218000, 152000, 244000, 271000, 231000...</td>\n",
              "      <td>1111, 5851, 993, 881, 89, 29, 3, 1028, 412, 66...</td>\n",
              "      <td>[178595], [454340], [69123], [458950], [46151]</td>\n",
              "    </tr>\n",
              "  </tbody>\n",
              "</table>\n",
              "</div>"
            ],
            "text/plain": [
              "   User_ID  ...                                          Author_ID\n",
              "0       29  ...  [12464], [435700], [203795], [427962], [197674...\n",
              "1       63  ...                   [456649], [0], [154644], [53362]\n",
              "2       95  ...                                           [438248]\n",
              "3      100  ...                         [58041], [175853], [52230]\n",
              "4      157  ...     [178595], [454340], [69123], [458950], [46151]\n",
              "\n",
              "[5 rows x 10 columns]"
            ]
          },
          "metadata": {
            "tags": []
          },
          "execution_count": 30
        }
      ]
    },
    {
      "cell_type": "markdown",
      "metadata": {
        "id": "9cJ8ULcUk39T",
        "colab_type": "text"
      },
      "source": [
        "# Конвертация USERS"
      ]
    },
    {
      "cell_type": "code",
      "metadata": {
        "id": "F9n9jVeklAJt",
        "colab_type": "code",
        "colab": {}
      },
      "source": [
        "users = pd.read_csv('/content/users.idomaar', sep='\t', header=None)[[1,3]]"
      ],
      "execution_count": null,
      "outputs": []
    },
    {
      "cell_type": "code",
      "metadata": {
        "id": "ZRlioXT9lNfb",
        "colab_type": "code",
        "colab": {}
      },
      "source": [
        "columns = list(ast.literal_eval(users.values[0][1]).keys())"
      ],
      "execution_count": null,
      "outputs": []
    },
    {
      "cell_type": "code",
      "metadata": {
        "id": "CZ2fwOgClzbK",
        "colab_type": "code",
        "colab": {}
      },
      "source": [
        "def _split(dict):\n",
        "    dict = dict[1:-1].split(',')\n",
        "    f = lambda token: np.nan if len(token) < 2 or token[1] in ['','\"\"'] else token[1]   \n",
        "    return [f(i.split(':')) for i in dict]"
      ],
      "execution_count": null,
      "outputs": []
    },
    {
      "cell_type": "code",
      "metadata": {
        "id": "WMnebOsQlcZI",
        "colab_type": "code",
        "colab": {}
      },
      "source": [
        "_column_names(users, columns)\n",
        "users[columns] = np.array(users.apply(lambda x: _split(x[3]), axis=1).values.tolist())\n",
        "users['ID'] = users[1]\n",
        "users.drop([1,3], axis=1, inplace = True)"
      ],
      "execution_count": null,
      "outputs": []
    },
    {
      "cell_type": "code",
      "metadata": {
        "id": "necFaRhNl7li",
        "colab_type": "code",
        "colab": {}
      },
      "source": [
        "users.to_csv('users.csv', index=False)"
      ],
      "execution_count": null,
      "outputs": []
    },
    {
      "cell_type": "code",
      "metadata": {
        "id": "hY1CquTamL92",
        "colab_type": "code",
        "colab": {}
      },
      "source": [
        "del users, columns"
      ],
      "execution_count": null,
      "outputs": []
    }
  ]
}